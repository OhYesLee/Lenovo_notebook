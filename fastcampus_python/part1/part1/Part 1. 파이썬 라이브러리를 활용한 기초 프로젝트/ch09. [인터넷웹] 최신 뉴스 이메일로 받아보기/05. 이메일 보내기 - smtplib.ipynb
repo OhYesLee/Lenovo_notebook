{
 "cells": [
  {
   "cell_type": "markdown",
   "metadata": {
    "pycharm": {
     "name": "#%% md\n"
    }
   },
   "source": [
    "# **Chapter 9. [인터넷/웹] 최신 뉴스 이메일로 받아보기**\n",
    "\n",
    "\n",
    "---\n",
    "### 📝 **학습 목차**\n",
    "> 9-1. 프로젝트 개요 <br>\n",
    "> 9-2. 웹브라우저 실행 및 저장 - webbrowser, urllib <br>\n",
    "> 9-3. 웹페이지에서 원하는 텍스트만 추출- html.parser <br>\n",
    "> 9-4. 이메일 확인하기 - poplib <br>\n",
    "> **9-5. 이메일 보내기 - smtplib** <br>\n",
    "> 9-6. 최신 뉴스 확인하기 - BeautifulSoup <br>\n",
    "> 9-7. 프로젝트 실습"
   ]
  },
  {
   "cell_type": "markdown",
   "metadata": {
    "pycharm": {
     "name": "#%% md\n"
    }
   },
   "source": [
    "## 9-5. 이메일 보내기"
   ]
  },
  {
   "cell_type": "markdown",
   "metadata": {
    "pycharm": {
     "name": "#%% md\n"
    }
   },
   "source": [
    "> ### smtplib\n",
    ">  - `smtplib` 는 이메일을 보낼 때 사용하는 모듈\n",
    ">  - **여러 사람**에게 메일을 보내거나 **첨부파일**을 첨부할 수 있습니다."
   ]
  },
  {
   "cell_type": "markdown",
   "metadata": {},
   "source": [
    "### 이메일 보내기 실습\n",
    "- **SMTP 메일서버 주소** : smtp.gmail.com (Gmail 메일의 SMTP 서버주소)\n",
    "- **보내는 메일 계정** : belief.park705@gmail.com (본인의 메일계정 사용)\n",
    "- **보내는 메일 계정의 비밀번호** : xxxxxxx (본인의 비밀번호 사용)\n",
    "- **받는 사람의 메일 계정** : belief@postech.ac.kr (발송한 메일을 확인할 수 있는 메일계정)\n",
    "- **메일의 제목** : 파일첨부 메일송신 테스트\n",
    "- **메일의 내용** : \"첨부된 파일 2개를 확인해 주세요.\"\n",
    "- **보내는 파일 2개** (임의로 만든 PDF와 JPG 파일)\n",
    "  - test1.pdf\n",
    "  - test2.jpg"
   ]
  },
  {
   "cell_type": "code",
   "execution_count": 3,
   "metadata": {},
   "outputs": [],
   "source": [
    "# 발송할 메세지는 email 모듈을 사용해서 작성\n",
    "import smtplib"
   ]
  },
  {
   "cell_type": "markdown",
   "metadata": {},
   "source": [
    "#### 파일 첨부용 멀티파트 객체"
   ]
  },
  {
   "cell_type": "code",
   "execution_count": 4,
   "metadata": {
    "pycharm": {
     "name": "#%%\n"
    }
   },
   "outputs": [],
   "source": [
    "#  파일 첨부용 멀티파트 객체\n",
    "from email.mime.multipart import MIMEMultipart\n",
    "msg = MIMEMultipart() "
   ]
  },
  {
   "cell_type": "markdown",
   "metadata": {},
   "source": [
    "#### 이메일 송수신자 설정"
   ]
  },
  {
   "cell_type": "code",
   "execution_count": 5,
   "metadata": {
    "pycharm": {
     "name": "#%%\n"
    }
   },
   "outputs": [],
   "source": [
    "# 이메일 송수신자 설정\n",
    "msg['From'] = 'belief.park705@gmail.com'\n",
    "msg['To'] = 'belief@postech.ac.kr'"
   ]
  },
  {
   "cell_type": "markdown",
   "metadata": {},
   "source": [
    "#### 날짜 설정"
   ]
  },
  {
   "cell_type": "code",
   "execution_count": 6,
   "metadata": {
    "pycharm": {
     "name": "#%%\n"
    }
   },
   "outputs": [
    {
     "data": {
      "text/plain": [
       "'Thu, 13 Oct 2022 20:41:28 +0900'"
      ]
     },
     "execution_count": 6,
     "metadata": {},
     "output_type": "execute_result"
    }
   ],
   "source": [
    "# 날짜 설정\n",
    "from email.utils import formatdate\n",
    "msg['Date'] = formatdate(localtime=True)  # 현재 지역에 맞는 날짜\n",
    "msg['Date']"
   ]
  },
  {
   "cell_type": "markdown",
   "metadata": {},
   "source": [
    "#### 이메일 제목/본문 작성"
   ]
  },
  {
   "cell_type": "code",
   "execution_count": 7,
   "metadata": {
    "pycharm": {
     "name": "#%%\n"
    }
   },
   "outputs": [],
   "source": [
    "# 이메일 제목/본문 작성\n",
    "from email.header import Header\n",
    "from email.mime.text import MIMEText\n",
    "msg['Subject'] = Header(s='파일첨부 메일송신 테스트', charset='utf-8')\n",
    "body = MIMEText('첨부된 파일 2개를 확인해 주세요.', _charset='utf-8')"
   ]
  },
  {
   "cell_type": "code",
   "execution_count": 8,
   "metadata": {},
   "outputs": [
    {
     "name": "stdout",
     "output_type": "stream",
     "text": [
      "Content-Type: text/plain; charset=\"utf-8\"\n",
      "MIME-Version: 1.0\n",
      "Content-Transfer-Encoding: base64\n",
      "\n",
      "7LKo67aA65CcIO2MjOydvCAy6rCc66W8IO2ZleyduO2VtCDso7zshLjsmpQu\n",
      "\n"
     ]
    }
   ],
   "source": [
    "print(body)  # 내용 확인 - base64 인코딩"
   ]
  },
  {
   "cell_type": "code",
   "execution_count": 10,
   "metadata": {
    "pycharm": {
     "name": "#%%\n"
    }
   },
   "outputs": [],
   "source": [
    "# 메일 본문 추가\n",
    "msg.attach(body)"
   ]
  },
  {
   "cell_type": "markdown",
   "metadata": {},
   "source": [
    "#### 파일 첨부하기"
   ]
  },
  {
   "cell_type": "code",
   "execution_count": 13,
   "metadata": {
    "pycharm": {
     "name": "#%%\n"
    }
   },
   "outputs": [],
   "source": [
    "files = list()\n",
    "files.append('test1.pdf')\n",
    "files.append('test2.jpg')"
   ]
  },
  {
   "cell_type": "code",
   "execution_count": 14,
   "metadata": {
    "pycharm": {
     "name": "#%%\n"
    }
   },
   "outputs": [],
   "source": [
    "import os\n",
    "from email.mime.base import MIMEBase\n",
    "from email.encoders import encode_base64\n",
    "\n",
    "for f in files:\n",
    "    part = MIMEBase('application', \"octet-stream\")\n",
    "    part.set_payload(open(f, \"rb\").read())\n",
    "    encode_base64(part)                           # 바이너리 파일 base64 인코딩\n",
    "    part.add_header('Content-Disposition', 'attachment; filename=\"%s\"' % os.path.basename(f))\n",
    "    msg.attach(part)                              # 파일 첨부"
   ]
  },
  {
   "cell_type": "markdown",
   "metadata": {},
   "source": [
    "#### 메일 발송하기"
   ]
  },
  {
   "cell_type": "code",
   "execution_count": null,
   "metadata": {
    "pycharm": {
     "name": "#%%\n"
    }
   },
   "outputs": [],
   "source": [
    "import getpass\n",
    "mailServer = smtplib.SMTP_SSL('smtp.gmail.com')           # SMTP 서버를 사용한 메세지 발송\n",
    "mailServer.login('belief.park705@gmail.com', getpass.getpass())  # 본인 계정과 비밀번호 사용 (Gmail : 앱 비밀번호)\n",
    "mailServer.send_message(msg)\n",
    "mailServer.quit()"
   ]
  },
  {
   "cell_type": "code",
   "execution_count": null,
   "metadata": {},
   "outputs": [],
   "source": []
  }
 ],
 "metadata": {
  "kernelspec": {
   "display_name": "fastcampus",
   "language": "python",
   "name": "fastcampus"
  },
  "language_info": {
   "codemirror_mode": {
    "name": "ipython",
    "version": 3
   },
   "file_extension": ".py",
   "mimetype": "text/x-python",
   "name": "python",
   "nbconvert_exporter": "python",
   "pygments_lexer": "ipython3",
   "version": "3.9.13"
  }
 },
 "nbformat": 4,
 "nbformat_minor": 4
}
