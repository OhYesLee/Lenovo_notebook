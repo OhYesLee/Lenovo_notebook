{
 "cells": [
  {
   "cell_type": "markdown",
   "metadata": {
    "pycharm": {
     "name": "#%% md\n"
    }
   },
   "source": [
    "# **Chapter 9. [인터넷/웹] 최신 뉴스 이메일로 받아보기**\n",
    "\n",
    "\n",
    "---\n",
    "### 📝 **학습 목차**\n",
    "> 9-1. 프로젝트 개요 <br>\n",
    "> 9-2. 웹브라우저 실행 및 저장 - webbrowser, urllib <br>\n",
    "> 9-3. 웹페이지에서 원하는 텍스트만 추출- html.parser <br>\n",
    "> **9-4. 이메일 확인하기 - poplib** <br>\n",
    "> 9-5. 이메일 보내기 - smtplib <br>\n",
    "> 9-6. 최신 뉴스 확인하기 - BeautifulSoup <br>\n",
    "> 9-7. 프로젝트 실습"
   ]
  },
  {
   "cell_type": "markdown",
   "metadata": {
    "pycharm": {
     "name": "#%% md\n"
    }
   },
   "source": [
    "## 9-4. 이메일 확인하기"
   ]
  },
  {
   "cell_type": "markdown",
   "metadata": {
    "pycharm": {
     "name": "#%% md\n"
    }
   },
   "source": [
    "> ### poplib\n",
    ">  - `poplib` 는 POP3 서버에 연결하여 받은 메일을 확인하는 데 사용하는 모듈\n",
    ">  - 매번 Gmail 과 같은 웹 메일에 접속해서 새로운 메일 내용 확인이 번거로울 때 이를 자동화할 경우 사용"
   ]
  },
  {
   "cell_type": "code",
   "execution_count": 3,
   "metadata": {
    "pycharm": {
     "name": "#%%\n"
    }
   },
   "outputs": [],
   "source": [
    "import poplib"
   ]
  },
  {
   "cell_type": "markdown",
   "metadata": {
    "pycharm": {
     "name": "#%% md\n"
    }
   },
   "source": [
    "#### 이메일 계정 연결"
   ]
  },
  {
   "cell_type": "code",
   "execution_count": 46,
   "metadata": {
    "pycharm": {
     "name": "#%%\n"
    }
   },
   "outputs": [],
   "source": [
    "# 암호화된 소켓 연결 (기본 995 포트)\n",
    "server = poplib.POP3_SSL('outlook.office365.com', port=995)"
   ]
  },
  {
   "cell_type": "code",
   "execution_count": 47,
   "metadata": {
    "pycharm": {
     "name": "#%%\n"
    }
   },
   "outputs": [
    {
     "data": {
      "text/plain": [
       "b'+OK'"
      ]
     },
     "execution_count": 47,
     "metadata": {},
     "output_type": "execute_result"
    }
   ],
   "source": [
    "# ID 입력\n",
    "server.user('belief@postech.ac.kr')"
   ]
  },
  {
   "cell_type": "code",
   "execution_count": 48,
   "metadata": {
    "pycharm": {
     "name": "#%%\n"
    }
   },
   "outputs": [
    {
     "name": "stdout",
     "output_type": "stream",
     "text": [
      "········\n"
     ]
    },
    {
     "data": {
      "text/plain": [
       "b'+OK User successfully logged on.'"
      ]
     },
     "execution_count": 48,
     "metadata": {},
     "output_type": "execute_result"
    }
   ],
   "source": [
    "# Password 입력\n",
    "import getpass\n",
    "server.pass_(getpass.getpass())"
   ]
  },
  {
   "cell_type": "markdown",
   "metadata": {
    "pycharm": {
     "name": "#%% md\n"
    }
   },
   "source": [
    "> #### Gmail 계정을 사용할 경우\n",
    ">  - 2022년 5월 30일부터 Google은 **사용자 이름**과 **비밀번호**만 사용하여 계정에 로그인하도록 요청하는 서드 파티 앱 또는 기기의 사용을 더 이상 지원하지 않습니다. ([공지문](https://support.google.com/accounts/answer/6010255))\n",
    ">  - 연동 방법\n",
    ">     - ① 2단계 인증 활성화 ([설정절차](https://support.google.com/accounts/answer/185839?hl=ko&co=GENIE.Platform%3DAndroid))\n",
    ">     - ② `Google 계정 관리` > `보안` > `앱 비밀번호` > `메일` 앱 선택 > `기기` (Windows 컴퓨터) > `생성`\n",
    ">     - ③ 생성된 16자리 비밀번호 사용"
   ]
  },
  {
   "cell_type": "code",
   "execution_count": 4,
   "metadata": {},
   "outputs": [
    {
     "data": {
      "text/plain": [
       "b'+OK send PASS'"
      ]
     },
     "execution_count": 4,
     "metadata": {},
     "output_type": "execute_result"
    }
   ],
   "source": [
    "# 암호화된 소켓 연결 (기본 995 포트)\n",
    "server = poplib.POP3_SSL('pop.googlemail.com', port=995)\n",
    "\n",
    "# Google ID 입력\n",
    "server.user('belief.park705')"
   ]
  },
  {
   "cell_type": "code",
   "execution_count": 5,
   "metadata": {},
   "outputs": [
    {
     "name": "stdout",
     "output_type": "stream",
     "text": [
      "········\n"
     ]
    },
    {
     "data": {
      "text/plain": [
       "b'+OK Welcome.'"
      ]
     },
     "execution_count": 5,
     "metadata": {},
     "output_type": "execute_result"
    }
   ],
   "source": [
    "# Password 입력\n",
    "import getpass\n",
    "server.pass_(getpass.getpass())"
   ]
  },
  {
   "cell_type": "code",
   "execution_count": 6,
   "metadata": {
    "pycharm": {
     "name": "#%%\n"
    }
   },
   "outputs": [
    {
     "data": {
      "text/plain": [
       "(283, 71638019)"
      ]
     },
     "execution_count": 6,
     "metadata": {},
     "output_type": "execute_result"
    }
   ],
   "source": [
    "# POP3 에 저장된 메일 개수, 크기(bytes)\n",
    "server.stat()"
   ]
  },
  {
   "cell_type": "code",
   "execution_count": 7,
   "metadata": {
    "pycharm": {
     "name": "#%%\n"
    }
   },
   "outputs": [],
   "source": [
    "# 가장 최근 메세지 번호\n",
    "recent_no = server.stat()[0]"
   ]
  },
  {
   "cell_type": "code",
   "execution_count": 8,
   "metadata": {
    "pycharm": {
     "name": "#%%\n"
    }
   },
   "outputs": [
    {
     "data": {
      "text/plain": [
       "(b'+OK message follows',\n",
       " [b'Delivered-To: belief.park705@gmail.com',\n",
       "  b'Received: by 2002:a1c:da8a:0:0:0:0:0 with SMTP id r132csp72522wmg;',\n",
       "  b'        Tue, 18 Dec 2018 06:36:58 -0800 (PST)',\n",
       "  b'X-Google-Smtp-Source: AFSGD/UVOqDOwNfLtsciiZv1phDRaS8i54nXvQhOpiDiuABOeXDOm6k8jenMtWjS+Sohcrf1izNA',\n",
       "  b'X-Received: by 2002:a24:2104:: with SMTP id e4mr2933905ita.59.1545143818413;',\n",
       "  b'        Tue, 18 Dec 2018 06:36:58 -0800 (PST)',\n",
       "  b'ARC-Seal: i=1; a=rsa-sha256; t=1545143818; cv=none;',\n",
       "  b'        d=google.com; s=arc-20160816;',\n",
       "  b'        b=Yv32Qbi3alQSiKeuUkpvx+93G+A3pwG/OUvaq0q0rsYyXdWB0IfsjbEYRssNzrY4x5',\n",
       "  b'         Tn8i8PpzdgLeADiOGXbzdS2oBZ1s6DfV+HewYk+NSnNvnyFwP0kOQGTsQenwUU2EotXr',\n",
       "  b'         AieWXXLZIf9rY8GSJohB/u1Eij3vbaYpCdq+QIo9inJZtrlzyBk5y3isHOScZBh2XnSe',\n",
       "  b'         u2pVT+w1xppHeHGY5f6/I6b5WHneRuPp8cKsudPONoj92exMBDVzPtD3I3Dk+yB8LbSv',\n",
       "  b'         a27AHT9MqUcGKSMHwFsWDoixrFvvggyS9Iu/4Ao6r1+yycgnhT1glyEoXm9z2HcsGDFd',\n",
       "  b'         dYrA==',\n",
       "  b'ARC-Message-Signature: i=1; a=rsa-sha256; c=relaxed/relaxed; d=google.com; s=arc-20160816;',\n",
       "  b'        h=date:message-id:subject:from:feedback-id:list-unsubscribe:to',\n",
       "  b'         :mime-version:domainkey-signature:dkim-signature;',\n",
       "  b'        bh=YFg2/RS1HS6FnsYXtZRi+qiXMZobix7ixUwj2geDjnk=;',\n",
       "  b'        b=MxzzwF5LKdXX5C4z1Qt5MSrC85T8FPhRtXZhClvVnR7JM7lEw/Nu2B3LRDIYTpB7uf',\n",
       "  b'         G7hTwDj9F44851jlryRPEAdYIvgHOVN0MEAfmaskRKlX3ISWyx/UYPfTZPEG+ZjDk52a',\n",
       "  b'         wujl3sc4dbjDsNTTZdo4NWl1hqoOCW6A4upt0JosGfKfLv6OaQZkxLnwMMF2d3PpiBFQ',\n",
       "  b'         iLCCxhY6Ss+IpM6IsIT1J/sd/H5L8y11WC3BmJF1U316OwGfq1WAgPkvTSy4TP73+6iS',\n",
       "  b'         yv12QaCQkIYeXHjDLzsk06dNXyjaJKno05SHl77+Htoi96KyRaw5+wbQsCR2nr9xMguE',\n",
       "  b'         9XmQ==',\n",
       "  b'ARC-Authentication-Results: i=1; mx.google.com;',\n",
       "  b'       dkim=pass header.i=@researchgatemail.net header.s=rg header.b=SGy1+XKi;',\n",
       "  b'       spf=pass (google.com: domain of oj0mw13gad76pj660zhsvuzkuxpp9cv8vys0@bounce.researchgate.net designates 209.15.247.231 as permitted sender) smtp.mailfrom=Oj0MW13gaD76pj660zHsVuZKUXpp9CV8VYS0@bounce.researchgate.net;',\n",
       "  b'       dmarc=pass (p=NONE sp=NONE dis=NONE) header.from=researchgatemail.net',\n",
       "  b'Return-Path: <Oj0MW13gaD76pj660zHsVuZKUXpp9CV8VYS0@bounce.researchgate.net>',\n",
       "  b'Received: from mr81.researchgate.net (mr81.researchgate.net. [209.15.247.231])',\n",
       "  b'        by mx.google.com with ESMTPS id c1si7805851iot.18.2018.12.18.06.36.57',\n",
       "  b'        for <belief.park705@gmail.com>',\n",
       "  b'        (version=TLS1_2 cipher=ECDHE-RSA-AES128-GCM-SHA256 bits=128/128);',\n",
       "  b'        Tue, 18 Dec 2018 06:36:58 -0800 (PST)',\n",
       "  b'Received-SPF: pass (google.com: domain of oj0mw13gad76pj660zhsvuzkuxpp9cv8vys0@bounce.researchgate.net designates 209.15.247.231 as permitted sender) client-ip=209.15.247.231;',\n",
       "  b'Authentication-Results: mx.google.com;',\n",
       "  b'       dkim=pass header.i=@researchgatemail.net header.s=rg header.b=SGy1+XKi;',\n",
       "  b'       spf=pass (google.com: domain of oj0mw13gad76pj660zhsvuzkuxpp9cv8vys0@bounce.researchgate.net designates 209.15.247.231 as permitted sender) smtp.mailfrom=Oj0MW13gaD76pj660zHsVuZKUXpp9CV8VYS0@bounce.researchgate.net;',\n",
       "  b'       dmarc=pass (p=NONE sp=NONE dis=NONE) header.from=researchgatemail.net',\n",
       "  b'Received: from mr81.researchgate.net (localhost [127.0.0.1])',\n",
       "  b'\\tby mr81.researchgate.net (Postfix) with ESMTP id 725BE2C000252',\n",
       "  b'\\tfor <belief.park705@gmail.com>; Tue, 18 Dec 2018 14:36:57 +0000 (UTC)',\n",
       "  b'DKIM-Signature: v=1; a=rsa-sha1; c=relaxed; d=researchgatemail.net; h=',\n",
       "  b'\\tmime-version:to:list-unsubscribe:from:subject:content-type',\n",
       "  b'\\t:message-id:date; s=rg; bh=PV9iHasZHDCLR69JRY122M1Wd6o=; b=SGy1+',\n",
       "  b'\\tXKiZHe7sn2pVtQSXldPjSUoy1WgFJodAmwxvrJP7Aw3PwICB5TQ4XjQnllKt4SrR',\n",
       "  b'\\tjWLKkbDAZIXx/cuA9tWFqTxpgqoIg3Jj2AIKcbl6uBIGHXsRFS2MKOh5QR+VERn1',\n",
       "  b'\\tZIyOcHNxwMTXyA5WJ7fzkBUCIMi3JNICuaNZx4=',\n",
       "  b'DomainKey-Signature: a=rsa-sha1; c=nofws; d=researchgatemail.net; h=',\n",
       "  b'\\tmime-version:to:list-unsubscribe:from:subject:content-type',\n",
       "  b'\\t:message-id:date; q=dns; s=rg; b=K9b0aoUKAn7pV7i4au7qt/2B+mTXAnI',\n",
       "  b'\\tifABSJWqOu5i7b/UFrt3Ll5R4P21eTZAMa6mC1yEY5OYBRCVdTuOPQBUf38FwrL2',\n",
       "  b'\\tG7tLMqTUXmqo8Fxwp9iPbrjiFL7JJnpiCyyODsATqJex5Olk58J3rv7ftg/FX3nD',\n",
       "  b'\\tRyBj7vTj0i7I=',\n",
       "  b'MIME-Version: 1.0',\n",
       "  b'To: belief.park705@gmail.com',\n",
       "  b'List-Unsubscribe: <https://www.researchgate.net/go.Out.newsletter.html?ch=reg&loginT=iFmrZh_A8gh86srNCIHG-_VU-DN1RMZLbQh8eqzkaZExhbaGdwbE7wLjrmwBNN5Cms-h_IxxPslWF04vzAToBg&cp=re41_x_u3&ev=list-usub>',\n",
       "  b'Feedback-ID: re41:re41|x:rgESP',\n",
       "  b'From: ResearchGate <no-reply@researchgatemail.net>',\n",
       "  b'Subject: Welcome to ResearchGate, Shin-Nyum',\n",
       "  b'Content-Type: multipart/alternative;',\n",
       "  b'\\tboundary=\"=_3f4641cda0d0576af5dd0f48dce1d85a\"',\n",
       "  b'x-rg-mail-id: J5VDATKXGEZWOYKEG43HA2RWGYYHUSDTKZ2VUS2VLBYHAOKDKY4FMWKTGA5WEZLMNFSWMLTQMFZGWNZQGVAGO3LBNFWC4Y3PNU======',\n",
       "  b'x-correlation-id: rgcid-wDrTD0rAGQD7E3DZbVTPrfSwGUObyUS70wLk',\n",
       "  b'Message-Id: <20181218143657.70FA72C0000FB@mr81.researchgate.net>',\n",
       "  b'Date: Tue, 18 Dec 2018 14:36:57 +0000 (UTC)',\n",
       "  b'',\n",
       "  b'--=_3f4641cda0d0576af5dd0f48dce1d85a',\n",
       "  b'Content-Type: text/plain; charset=\"UTF-8\"',\n",
       "  b'Content-Transfer-Encoding: quoted-printable',\n",
       "  b'',\n",
       "  b'Welcome to ResearchGate, the professional network for scientists and rese=',\n",
       "  b'archers.',\n",
       "  b'Get started by adding your publications to your profile to make your work=',\n",
       "  b' visible.',\n",
       "  b'67 publications in our database match your name',\n",
       "  b'View publications:',\n",
       "  b'https://www.researchgate.net/profile/Shin_Nyum_Park/unconfirmed?pli=3D1&l=',\n",
       "  b'oginT=3DiFmrZh_A8gh86srNCIHG-_VU-DN1RMZLbQh8eqzkaZExhbaGdwbE7wLjrmwBNN5Cm=',\n",
       "  b's-h_IxxPslWF04vzAToBg&uid=3DOj0MW13gaD76pj660zHsVuZKUXpp9CV8VYS0&cp=3Dre4=',\n",
       "  b'1_x_p3&ch=3Dreg&utm_medium=3Demail&utm_source=3Dresearchgate&utm_campaign=',\n",
       "  b'=3Dre41&utm_term=3Dre41_x&utm_content=3Dre41_x_p3',\n",
       "  b'-------------------------------------------------------------------------=',\n",
       "  b'------',\n",
       "  b'This message was sent to belief.park705@gmail.com by ResearchGate. To mak=',\n",
       "  b'e sure you receive our updates, add ResearchGate to your address book or =',\n",
       "  b'safe list.',\n",
       "  b'See instructions: https://www.researchgate.net/help/whitelist-email?cp=3D=',\n",
       "  b're41_x_we&mfl=3D1&ch=3Dreg&uid=3DOj0MW13gaD76pj660zHsVuZKUXpp9CV8VYS0',\n",
       "  b'',\n",
       "  b\"If you don't want to receive these emails from ResearchGate in the future=\",\n",
       "  b', please unsubscribe:',\n",
       "  b'https://www.researchgate.net/go.Out.newsletter.html?loginT=3DiFmrZh_A8gh8=',\n",
       "  b'6srNCIHG-_VU-DN1RMZLbQh8eqzkaZExhbaGdwbE7wLjrmwBNN5Cms-h_IxxPslWF04vzAToB=',\n",
       "  b'g&cp=3Dre41_x_u2&mfl=3D1&ch=3Dreg&uid=3DOj0MW13gaD76pj660zHsVuZKUXpp9CV8V=',\n",
       "  b'YS0',\n",
       "  b'',\n",
       "  b'ResearchGate GmbH, Invalidenstr. 115, 10115 Berlin, Germany. Imprint: htt=',\n",
       "  b'ps://www.researchgate.net/imprint?cp=3Dre41_x_im',\n",
       "  b'See our Privacy Policy: https://www.researchgate.net/privacy-policy?cp=3D=',\n",
       "  b're41_x_pp&mfl=3D1&ch=3Dreg&uid=3DOj0MW13gaD76pj660zHsVuZKUXpp9CV8VYS0 and=',\n",
       "  b' Terms of Service: https://www.researchgate.net/terms-of-service?cp=3Dre4=',\n",
       "  b'1_x_tos&mfl=3D1&ch=3Dreg&uid=3DOj0MW13gaD76pj660zHsVuZKUXpp9CV8VYS0',\n",
       "  b'--=_3f4641cda0d0576af5dd0f48dce1d85a',\n",
       "  b'Content-Transfer-Encoding: quoted-printable',\n",
       "  b'Content-Type: text/html; charset=\"UTF-8\"',\n",
       "  b'',\n",
       "  b'<!DOCTYPE HTML PUBLIC \"-//W3C//DTD HTML 4.01 Transitional//EN\" \"http://www.=',\n",
       "  b'w3.org/TR/html4/loose.dtd\"><html><head><meta',\n",
       "  b'http-equiv=3D\"Content-Type\" content=3D\"text/html; charset=3Dutf-8\"/><meta',\n",
       "  b'http-equiv=3D\"X-UA-Compatible\" content=3D\"IE=3Dedge\"/><title></title></head=',\n",
       "  b'><body',\n",
       "  b'style=3D\"background-color: #ffffff;\"><table',\n",
       "  b'width=3D\"100%\" cellspacing=3D\"0\" cellpadding=3D\"0\" border=3D\"0\" bgcolor=3D\"=',\n",
       "  b'#ffffff\" style=3D\"width: 100% !important;\"><tr><td><table',\n",
       "  b'width=3D\"590\" cellspacing=3D\"0\" cellpadding=3D\"0\" border=3D\"0\" align=3D\"cen=',\n",
       "  b'ter\" style=3D\"width: 590px\"><tr><td><table',\n",
       "  b'width=3D\"100%\" cellspacing=3D\"0\" cellpadding=3D\"0\" border=3D\"0\" style=3D\"wi=',\n",
       "  b'dth: 100% !important; border: 1px solid #eaeaea; background: #f7f7f4; \"><tr',\n",
       "  b'style=3D\"font-size: 1px; line-height: 0; mso-margin-top-alt: 1px;\"><td',\n",
       "  b'width=3D\"100%\" valign=3D\"middle\" height=3D\"7\" style=3D\"font-size: 1px; heig=',\n",
       "  b'ht: 1px;\">&nbsp;</td></tr><tr><td',\n",
       "  b'valign=3D\"top\"><table',\n",
       "  b'width=3D\"100%\" cellspacing=3D\"0\" cellpadding=3D\"0\" border=3D\"0\" style=3D\"fo=',\n",
       "  b'nt-family: Helvetica, Arial, sans-serif !important; width: 100% !important;=',\n",
       "  b'\"><tr><td',\n",
       "  b'height=3D\"48\" align=3D\"center\" class=3D\"img-header-sm\"> <img',\n",
       "  b'style=3D\"border: 0; outline: 0; margin: 0 0 2px 0; padding: 0;\" width=3D\"12=',\n",
       "  b'6\" height=3D\"17\" title=3D\"ResearchGate\" alt=3D\"ResearchGate\" src=3D\"https:/=',\n",
       "  b'/www.researchgate.net/mail/rg_logo_mail.png?uid=3DOj0MW13gaD76pj660zHsVuZKU=',\n",
       "  b'Xpp9CV8VYS0&cn=3DzEbQO81ECYh6P-81guQ1G0OQKeQa6N5IcsrKqN53gLFpK-4tfNQOAVjYnb=',\n",
       "  b'mLlAYJ5kblsEi4HMybr49nzG29xTmcx8qdEwRbzLDLOOgJg9K_&loginT=3DiFmrZh_A8gh86sr=',\n",
       "  b'NCIHG-_VU-DN1RMZLbQh8eqzkaZExhbaGdwbE7wLjrmwBNN5Cms-h_IxxPslWF04vzAToBg&cpc=',\n",
       "  b'=3Dre41_x_\"/></td></tr></table></td></tr><tr',\n",
       "  b'style=3D\"font-size: 1px; line-height: 0; mso-margin-top-alt: 1px;\"><td',\n",
       "  b'width=3D\"100%\" valign=3D\"middle\" height=3D\"5\" style=3D\"font-size: 1px; heig=',\n",
       "  b'ht: 1px;\">&nbsp;</td></tr></table><table',\n",
       "  b'cellspacing=3D\"0\" border=3D\"0\" cellpadding=3D\"0\" width=3D\"100%\" bgcolor=3D\"=',\n",
       "  b'#ffffff\" style=3D\"width:100%!important;border-left: 1px solid #eaeaea; bord=',\n",
       "  b'er-right: 1px solid #eaeaea;\"><tr><td><table',\n",
       "  b'align=3D\"center\" cellspacing=3D\"0\" border=3D\"0\" cellpadding=3D\"0\" width=3D\"=',\n",
       "  b'100%\" style=3D\"width:100%!important;padding:0; background-color:#f7f7f4\"><t=',\n",
       "  b'r',\n",
       "  b'style=3D\"font-size:1px; line-height:0; mso-margin-top-alt:1px;\"><td',\n",
       "  b'width=3D\"30\"></td><td',\n",
       "  b'height=3D\"30\"></td><td',\n",
       "  b'width=3D\"30\"></td></tr><tr><td></td><td><table',\n",
       "  b'cellpadding=3D\"0\" cellspacing=3D\"0\" width=3D\"100%\" style=3D\"width:100%!impo=',\n",
       "  b'rtant;\"><tr><td',\n",
       "  b'style=3D\"font-size: 14px; color: #666666; font-family: helvetica neue, helv=',\n",
       "  b'etica, arial, sans-serif;  line-height: 21px;text-align: left;\"><table',\n",
       "  b'width=3D\"100%\" cellspacing=3D\"0\" cellpadding=3D\"0\" border=3D\"0\"><tr><td',\n",
       "  b'style=3D\"font-size: 14px; color: #666666; font-family: helvetica neue, helv=',\n",
       "  b'etica, arial, sans-serif;  line-height: 21px;text-align: left;\"> <b>Welcome=',\n",
       "  b' to ResearchGate</b>, the professional network for scientists and researche=',\n",
       "  b'rs.</td></tr></table></td></tr><tr><td',\n",
       "  b'height=3D\"15\"><div></div></td></tr><tr><td',\n",
       "  b'style=3D\"font-size: 14px; color: #666666; font-family: helvetica neue, helv=',\n",
       "  b'etica, arial, sans-serif;  line-height: 21px;text-align: left;\"><table',\n",
       "  b'width=3D\"100%\" cellspacing=3D\"0\" cellpadding=3D\"0\" border=3D\"0\"><tr><td',\n",
       "  b'style=3D\"font-size: 14px; color: #666666; font-family: helvetica neue, helv=',\n",
       "  b'etica, arial, sans-serif;  line-height: 21px;text-align: left;\"> Get starte=',\n",
       "  b'd by adding your publications to your profile to make your work visible.</t=',\n",
       "  b'd></tr></table></td></tr><tr><td',\n",
       "  b'height=3D\"15\"><div></div></td></tr><tr><td ><table',\n",
       "  b'width=3D\"100%\" cellspacing=3D\"0\" cellpadding=3D\"0\" border=3D\"0\" style=3D\"wi=',\n",
       "  b'dth:100%!important;padding:0; background-color: #ffffff; border: 1px solid =',\n",
       "  b'#cccccc;\"><tbody><tr',\n",
       "  b'style=3D\"font-size:1px; line-height:0; mso-margin-top-alt:1px;\"><td',\n",
       "  b'width=3D\"20\"></td><td',\n",
       "  b'height=3D\"20\"></td><td',\n",
       "  b'width=3D\"20\"></td></tr><tr><td></td><td><table',\n",
       "  b'cellpadding=3D\"0\" cellspacing=3D\"0\" width=3D\"100%\" style=3D\"width:100%!impo=',\n",
       "  b'rtant;\"><tr><td><table',\n",
       "  b'width=3D\"100%\" cellspacing=3D\"0\" cellpadding=3D\"0\" border=3D\"0\" style=3D\"wi=',\n",
       "  b'dth: 100%!important;\"><tr><td><table',\n",
       "  b'cellpadding=3D\"0\" cellspacing=3D\"0\" width=3D\"100%\"><tr><td',\n",
       "  b'width=3D\"30\"> <img',\n",
       "  b'src=3D\"https://www.researchgate.net/images/mailing/icons/stats-pub.png\" bor=',\n",
       "  b'der=3D\"0\" style=3D\"display: block;\"></td><td',\n",
       "  b'style=3D\"color: #333333; font-size: 12px; font-family: helvetica neue, helv=',\n",
       "  b'etica, arial, sans-serif; line-height: 15px; \"> <a',\n",
       "  b'href=3D\"https://www.researchgate.net/profile/Shin_Nyum_Park/unconfirmed?pli=',\n",
       "  b'=3D1&loginT=3DiFmrZh_A8gh86srNCIHG-_VU-DN1RMZLbQh8eqzkaZExhbaGdwbE7wLjrmwBN=',\n",
       "  b'N5Cms-h_IxxPslWF04vzAToBg&uid=3DOj0MW13gaD76pj660zHsVuZKUXpp9CV8VYS0&cp=3Dr=',\n",
       "  b'e41_x_p3&ch=3Dreg&utm_medium=3Demail&utm_source=3Dresearchgate&utm_campaign=',\n",
       "  b'=3Dre41&utm_term=3Dre41_x&utm_content=3Dre41_x_p3\" style=3D\"color:#36A493; =',\n",
       "  b'text-decoration: none; font-weight: bold\"> 67 publications in our database =',\n",
       "  b'match your name </a></td><td',\n",
       "  b'width=3D\"20\"></td><td',\n",
       "  b'rowspan=3D\"3\" align=3D\"right\" width=3D\"50\"><table',\n",
       "  b'align=3D\"left\" width=3D\"170\" cellspacing=3D\"0\" cellpadding=3D\"0\" style=3D\"w=',\n",
       "  b'idth: 170px;\"><tbody><tr><td',\n",
       "  b'bgcolor=3D\"#55b1f5\" height=3D\"32\" align=3D\"center\" style=3D\"padding: 0; -we=',\n",
       "  b'bkit-border-radius: 3px; -moz-border-radius: 3px; border-radius: 3px; -webk=',\n",
       "  b'it-box-shadow: 0 2px 0 0 #027dca; -moz-box-shadow: 0 2px 0 0 #027dca; box-s=',\n",
       "  b'hadow: 0 2px 0 0 #027dca; background-color: #55b1f5; background-repeat: rep=',\n",
       "  b\"eat-x; background-image: url('https://www.researchgate.net/images/mailing/b=\",\n",
       "  b'utton-background.jpg\\');\"> <a',\n",
       "  b'style=3D\"text-align: center; display: block; text-decoration: none; height:=',\n",
       "  b' 95%; line-height: 32px; color: #ffffff; margin: 0; font-family: helvetica,=',\n",
       "  b' arial, sans-serif; width: 100%; font-size: 14px; font-weight: bold;\" href=',\n",
       "  b'=3D\"   https://www.researchgate.net/profile/Shin_Nyum_Park/unconfirmed?pli=',\n",
       "  b'=3D1&loginT=3DiFmrZh_A8gh86srNCIHG-_VU-DN1RMZLbQh8eqzkaZExhbaGdwbE7wLjrmwBN=',\n",
       "  b'N5Cms-h_IxxPslWF04vzAToBg&uid=3DOj0MW13gaD76pj660zHsVuZKUXpp9CV8VYS0&cp=3Dr=',\n",
       "  b'e41_x_p3&ch=3Dreg&utm_medium=3Demail&utm_source=3Dresearchgate&utm_campaign=',\n",
       "  b'=3Dre41&utm_term=3Dre41_x&utm_content=3Dre41_x_p3  \">View publications</a><=',\n",
       "  b'/td></tr></tbody></table></td></tr></table></td></tr></table></td></tr><tr>=',\n",
       "  b'<td',\n",
       "  b'height=3D\"20\"></td></tr></table></td><td></td></tr><tr',\n",
       "  b'style=3D\"font-size:1px; line-height:0; mso-margin-top-alt:1px;\"><td',\n",
       "  b'width=3D\"20\"></td><td',\n",
       "  b'height=3D\"0\"></td><td',\n",
       "  b'width=3D\"20\"></td></tr></tbody></table></td></tr><tr><td',\n",
       "  b'height=3D\"15\"><div></div></td></tr></table></td><td></td></tr><tr',\n",
       "  b'style=3D\"font-size:1px; line-height:0; mso-margin-top-alt:1px;\"><td',\n",
       "  b'height=3D\"20\"></td><td></td><td></td></tr></table></td></tr></table><table',\n",
       "  b'class=3D\"mail-footer\" width=3D\"100%\" cellspacing=3D\"0\" cellpadding=3D\"0\" bo=',\n",
       "  b'rder=3D\"0\" style=3D\"width: 100% !important; background-color: #f7f7f4; bord=',\n",
       "  b'er-left: 1px solid #eaeaea; border-right: 1px solid #eaeaea; border-bottom:=',\n",
       "  b' 1px solid #eaeaea;\"><tbody><tr><td><table',\n",
       "  b'cellspacing=3D\"0\" cellpadding=3D\"0\" borderspacing=3D\"0\" width=3D\"100%\" styl=',\n",
       "  b'e=3D\"width: 100% !important;\"><tr><td',\n",
       "  b'width=3D\"10\" style=3D\"width: 10px\"></td><td',\n",
       "  b'width=3D\"20\" style=3D\"width: 20px\" class=3D\"hidden-sm\"></td><td><table',\n",
       "  b'width=3D\"100%\" cellspacing=3D\"0\" cellpadding=3D\"0\" border=3D\"0\" style=3D\"wi=',\n",
       "  b'dth: 100% !important;\"><tbody><tr',\n",
       "  b'style=3D\"font-size: 1px; line-height: 0; mso-margin-top-alt: 1px;\"><td',\n",
       "  b'width=3D\"100%\" valign=3D\"middle\" height=3D\"1\" style=3D\"background-color: #e=',\n",
       "  b'aeaea; font-size: 1px; height: 1px;\">&nbsp;</td></tr><tr',\n",
       "  b'style=3D\"font-size: 1px; line-height: 0; mso-margin-top-alt: 1px;\"><td',\n",
       "  b'width=3D\"100%\" valign=3D\"middle\" height=3D\"1\" style=3D\"background-color: #f=',\n",
       "  b'fffff; font-size: 1px; height: 1px;\">&nbsp;</td></tr><tr',\n",
       "  b'style=3D\"font-size: 1px; line-height: 0; mso-margin-top-alt: 1px;\"><td',\n",
       "  b'height=3D\"20\">&nbsp;</td></tr><tr><td><p',\n",
       "  b'style=3D\"font-size: 11px; line-height: 15px; font-family: Helvetica,Arial,s=',\n",
       "  b'ans-serif; color: #888888; margin: 0 0 20px 0;\"> This message was sent to b=',\n",
       "  b'elief.park705@gmail.com by ResearchGate. To make sure you receive our updat=',\n",
       "  b'es, add ResearchGate to your address book or safe list. <a',\n",
       "  b'style=3D\"color: #888888; text-decoration: underline;\" href=3D\"https://www.r=',\n",
       "  b'esearchgate.net/help/whitelist-email?cp=3Dre41_x_we&mfl=3D1&ch=3Dreg&uid=3D=',\n",
       "  b'Oj0MW13gaD76pj660zHsVuZKUXpp9CV8VYS0\">See instructions</a><br/><br/> If you=',\n",
       "  b' don&#39;t want to receive these emails from ResearchGate in the future, pl=',\n",
       "  b'ease <a',\n",
       "  b'style=3D\"color: #888888; text-decoration: underline;\" href=3D\"https://www.r=',\n",
       "  b'esearchgate.net/go.Out.newsletter.html?loginT=3DiFmrZh_A8gh86srNCIHG-_VU-DN=',\n",
       "  b'1RMZLbQh8eqzkaZExhbaGdwbE7wLjrmwBNN5Cms-h_IxxPslWF04vzAToBg&cp=3Dre41_x_u1&=',\n",
       "  b'mfl=3D1&ch=3Dreg&uid=3DOj0MW13gaD76pj660zHsVuZKUXpp9CV8VYS0\">unsubscribe</a=',\n",
       "  b'>.<br/> <br/>ResearchGate GmbH, Invalidenstr. 115, 10115 Berlin, Germany. <=',\n",
       "  b'a',\n",
       "  b'style=3D\"color: #888888; text-decoration: underline;\" href=3D\"https://www.r=',\n",
       "  b'esearchgate.net/imprint?cp=3Dre41_x_im\">Imprint.</a><br/> See our <a',\n",
       "  b'style=3D\"color: #888888; text-decoration: underline;\" href=3D\"https://www.r=',\n",
       "  b'esearchgate.net/privacy-policy?cp=3Dre41_x_pp&mfl=3D1&ch=3Dreg&uid=3DOj0MW1=',\n",
       "  b'3gaD76pj660zHsVuZKUXpp9CV8VYS0\">Privacy Policy</a> and <a',\n",
       "  b'style=3D\"color: #888888; text-decoration: underline;\" href=3D\"https://www.r=',\n",
       "  b'esearchgate.net/terms-of-service?cp=3Dre41_x_tos&mfl=3D1&ch=3Dreg&uid=3DOj0=',\n",
       "  b'MW13gaD76pj660zHsVuZKUXpp9CV8VYS0\">Terms of Service</a>.</p></td></tr></tbo=',\n",
       "  b'dy></table></td><td',\n",
       "  b'width=3D\"20\" style=3D\"width: 20px\" class=3D\"hidden-sm\"></td><td',\n",
       "  b'width=3D\"10\" style=3D\"width: 10px\"></td></tr></table></td></tr></tbody></ta=',\n",
       "  b'ble></td></tr></table></td></tr></table></body></html>',\n",
       "  b'--=_3f4641cda0d0576af5dd0f48dce1d85a--',\n",
       "  b''],\n",
       " 16445)"
      ]
     },
     "execution_count": 8,
     "metadata": {},
     "output_type": "execute_result"
    }
   ],
   "source": [
    "# 메세지 가져오기 (바이트 문자열, 두번째 요소가 메세지 내용)\n",
    "server.retr(recent_no)"
   ]
  },
  {
   "cell_type": "code",
   "execution_count": 9,
   "metadata": {
    "pycharm": {
     "name": "#%%\n"
    }
   },
   "outputs": [],
   "source": [
    "# 줄바꿈으로 메세지 내용 조인\n",
    "raw_email = b'\\n'.join(server.retr(recent_no)[1])"
   ]
  },
  {
   "cell_type": "code",
   "execution_count": 10,
   "metadata": {
    "pycharm": {
     "name": "#%%\n"
    }
   },
   "outputs": [
    {
     "data": {
      "text/plain": [
       "b'Delivered-To: belief.park705@gmail.com\\nReceived: by 2002:a1c:da8a:0:0:0:0:0 with SMTP id r132csp72522wmg;\\n        Tue, 18 Dec 2018 06:36:58 -0800 (PST)\\nX-Google-Smtp-Source: AFSGD/UVOqDOwNfLtsciiZv1phDRaS8i54nXvQhOpiDiuABOeXDOm6k8jenMtWjS+Sohcrf1izNA\\nX-Received: by 2002:a24:2104:: with SMTP id e4mr2933905ita.59.1545143818413;\\n        Tue, 18 Dec 2018 06:36:58 -0800 (PST)\\nARC-Seal: i=1; a=rsa-sha256; t=1545143818; cv=none;\\n        d=google.com; s=arc-20160816;\\n        b=Yv32Qbi3alQSiKeuUkpvx+93G+A3pwG/OUvaq0q0rsYyXdWB0IfsjbEYRssNzrY4x5\\n         Tn8i8PpzdgLeADiOGXbzdS2oBZ1s6DfV+HewYk+NSnNvnyFwP0kOQGTsQenwUU2EotXr\\n         AieWXXLZIf9rY8GSJohB/u1Eij3vbaYpCdq+QIo9inJZtrlzyBk5y3isHOScZBh2XnSe\\n         u2pVT+w1xppHeHGY5f6/I6b5WHneRuPp8cKsudPONoj92exMBDVzPtD3I3Dk+yB8LbSv\\n         a27AHT9MqUcGKSMHwFsWDoixrFvvggyS9Iu/4Ao6r1+yycgnhT1glyEoXm9z2HcsGDFd\\n         dYrA==\\nARC-Message-Signature: i=1; a=rsa-sha256; c=relaxed/relaxed; d=google.com; s=arc-20160816;\\n        h=date:message-id:subject:from:feedback-id:list-unsubscribe:to\\n         :mime-version:domainkey-signature:dkim-signature;\\n        bh=YFg2/RS1HS6FnsYXtZRi+qiXMZobix7ixUwj2geDjnk=;\\n        b=MxzzwF5LKdXX5C4z1Qt5MSrC85T8FPhRtXZhClvVnR7JM7lEw/Nu2B3LRDIYTpB7uf\\n         G7hTwDj9F44851jlryRPEAdYIvgHOVN0MEAfmaskRKlX3ISWyx/UYPfTZPEG+ZjDk52a\\n         wujl3sc4dbjDsNTTZdo4NWl1hqoOCW6A4upt0JosGfKfLv6OaQZkxLnwMMF2d3PpiBFQ\\n         iLCCxhY6Ss+IpM6IsIT1J/sd/H5L8y11WC3BmJF1U316OwGfq1WAgPkvTSy4TP73+6iS\\n         yv12QaCQkIYeXHjDLzsk06dNXyjaJKno05SHl77+Htoi96KyRaw5+wbQsCR2nr9xMguE\\n         9XmQ==\\nARC-Authentication-Results: i=1; mx.google.com;\\n       dkim=pass header.i=@researchgatemail.net header.s=rg header.b=SGy1+XKi;\\n       spf=pass (google.com: domain of oj0mw13gad76pj660zhsvuzkuxpp9cv8vys0@bounce.researchgate.net designates 209.15.247.231 as permitted sender) smtp.mailfrom=Oj0MW13gaD76pj660zHsVuZKUXpp9CV8VYS0@bounce.researchgate.net;\\n       dmarc=pass (p=NONE sp=NONE dis=NONE) header.from=researchgatemail.net\\nReturn-Path: <Oj0MW13gaD76pj660zHsVuZKUXpp9CV8VYS0@bounce.researchgate.net>\\nReceived: from mr81.researchgate.net (mr81.researchgate.net. [209.15.247.231])\\n        by mx.google.com with ESMTPS id c1si7805851iot.18.2018.12.18.06.36.57\\n        for <belief.park705@gmail.com>\\n        (version=TLS1_2 cipher=ECDHE-RSA-AES128-GCM-SHA256 bits=128/128);\\n        Tue, 18 Dec 2018 06:36:58 -0800 (PST)\\nReceived-SPF: pass (google.com: domain of oj0mw13gad76pj660zhsvuzkuxpp9cv8vys0@bounce.researchgate.net designates 209.15.247.231 as permitted sender) client-ip=209.15.247.231;\\nAuthentication-Results: mx.google.com;\\n       dkim=pass header.i=@researchgatemail.net header.s=rg header.b=SGy1+XKi;\\n       spf=pass (google.com: domain of oj0mw13gad76pj660zhsvuzkuxpp9cv8vys0@bounce.researchgate.net designates 209.15.247.231 as permitted sender) smtp.mailfrom=Oj0MW13gaD76pj660zHsVuZKUXpp9CV8VYS0@bounce.researchgate.net;\\n       dmarc=pass (p=NONE sp=NONE dis=NONE) header.from=researchgatemail.net\\nReceived: from mr81.researchgate.net (localhost [127.0.0.1])\\n\\tby mr81.researchgate.net (Postfix) with ESMTP id 725BE2C000252\\n\\tfor <belief.park705@gmail.com>; Tue, 18 Dec 2018 14:36:57 +0000 (UTC)\\nDKIM-Signature: v=1; a=rsa-sha1; c=relaxed; d=researchgatemail.net; h=\\n\\tmime-version:to:list-unsubscribe:from:subject:content-type\\n\\t:message-id:date; s=rg; bh=PV9iHasZHDCLR69JRY122M1Wd6o=; b=SGy1+\\n\\tXKiZHe7sn2pVtQSXldPjSUoy1WgFJodAmwxvrJP7Aw3PwICB5TQ4XjQnllKt4SrR\\n\\tjWLKkbDAZIXx/cuA9tWFqTxpgqoIg3Jj2AIKcbl6uBIGHXsRFS2MKOh5QR+VERn1\\n\\tZIyOcHNxwMTXyA5WJ7fzkBUCIMi3JNICuaNZx4=\\nDomainKey-Signature: a=rsa-sha1; c=nofws; d=researchgatemail.net; h=\\n\\tmime-version:to:list-unsubscribe:from:subject:content-type\\n\\t:message-id:date; q=dns; s=rg; b=K9b0aoUKAn7pV7i4au7qt/2B+mTXAnI\\n\\tifABSJWqOu5i7b/UFrt3Ll5R4P21eTZAMa6mC1yEY5OYBRCVdTuOPQBUf38FwrL2\\n\\tG7tLMqTUXmqo8Fxwp9iPbrjiFL7JJnpiCyyODsATqJex5Olk58J3rv7ftg/FX3nD\\n\\tRyBj7vTj0i7I=\\nMIME-Version: 1.0\\nTo: belief.park705@gmail.com\\nList-Unsubscribe: <https://www.researchgate.net/go.Out.newsletter.html?ch=reg&loginT=iFmrZh_A8gh86srNCIHG-_VU-DN1RMZLbQh8eqzkaZExhbaGdwbE7wLjrmwBNN5Cms-h_IxxPslWF04vzAToBg&cp=re41_x_u3&ev=list-usub>\\nFeedback-ID: re41:re41|x:rgESP\\nFrom: ResearchGate <no-reply@researchgatemail.net>\\nSubject: Welcome to ResearchGate, Shin-Nyum\\nContent-Type: multipart/alternative;\\n\\tboundary=\"=_3f4641cda0d0576af5dd0f48dce1d85a\"\\nx-rg-mail-id: J5VDATKXGEZWOYKEG43HA2RWGYYHUSDTKZ2VUS2VLBYHAOKDKY4FMWKTGA5WEZLMNFSWMLTQMFZGWNZQGVAGO3LBNFWC4Y3PNU======\\nx-correlation-id: rgcid-wDrTD0rAGQD7E3DZbVTPrfSwGUObyUS70wLk\\nMessage-Id: <20181218143657.70FA72C0000FB@mr81.researchgate.net>\\nDate: Tue, 18 Dec 2018 14:36:57 +0000 (UTC)\\n\\n--=_3f4641cda0d0576af5dd0f48dce1d85a\\nContent-Type: text/plain; charset=\"UTF-8\"\\nContent-Transfer-Encoding: quoted-printable\\n\\nWelcome to ResearchGate, the professional network for scientists and rese=\\narchers.\\nGet started by adding your publications to your profile to make your work=\\n visible.\\n67 publications in our database match your name\\nView publications:\\nhttps://www.researchgate.net/profile/Shin_Nyum_Park/unconfirmed?pli=3D1&l=\\noginT=3DiFmrZh_A8gh86srNCIHG-_VU-DN1RMZLbQh8eqzkaZExhbaGdwbE7wLjrmwBNN5Cm=\\ns-h_IxxPslWF04vzAToBg&uid=3DOj0MW13gaD76pj660zHsVuZKUXpp9CV8VYS0&cp=3Dre4=\\n1_x_p3&ch=3Dreg&utm_medium=3Demail&utm_source=3Dresearchgate&utm_campaign=\\n=3Dre41&utm_term=3Dre41_x&utm_content=3Dre41_x_p3\\n-------------------------------------------------------------------------=\\n------\\nThis message was sent to belief.park705@gmail.com by ResearchGate. To mak=\\ne sure you receive our updates, add ResearchGate to your address book or =\\nsafe list.\\nSee instructions: https://www.researchgate.net/help/whitelist-email?cp=3D=\\nre41_x_we&mfl=3D1&ch=3Dreg&uid=3DOj0MW13gaD76pj660zHsVuZKUXpp9CV8VYS0\\n\\nIf you don\\'t want to receive these emails from ResearchGate in the future=\\n, please unsubscribe:\\nhttps://www.researchgate.net/go.Out.newsletter.html?loginT=3DiFmrZh_A8gh8=\\n6srNCIHG-_VU-DN1RMZLbQh8eqzkaZExhbaGdwbE7wLjrmwBNN5Cms-h_IxxPslWF04vzAToB=\\ng&cp=3Dre41_x_u2&mfl=3D1&ch=3Dreg&uid=3DOj0MW13gaD76pj660zHsVuZKUXpp9CV8V=\\nYS0\\n\\nResearchGate GmbH, Invalidenstr. 115, 10115 Berlin, Germany. Imprint: htt=\\nps://www.researchgate.net/imprint?cp=3Dre41_x_im\\nSee our Privacy Policy: https://www.researchgate.net/privacy-policy?cp=3D=\\nre41_x_pp&mfl=3D1&ch=3Dreg&uid=3DOj0MW13gaD76pj660zHsVuZKUXpp9CV8VYS0 and=\\n Terms of Service: https://www.researchgate.net/terms-of-service?cp=3Dre4=\\n1_x_tos&mfl=3D1&ch=3Dreg&uid=3DOj0MW13gaD76pj660zHsVuZKUXpp9CV8VYS0\\n--=_3f4641cda0d0576af5dd0f48dce1d85a\\nContent-Transfer-Encoding: quoted-printable\\nContent-Type: text/html; charset=\"UTF-8\"\\n\\n<!DOCTYPE HTML PUBLIC \"-//W3C//DTD HTML 4.01 Transitional//EN\" \"http://www.=\\nw3.org/TR/html4/loose.dtd\"><html><head><meta\\nhttp-equiv=3D\"Content-Type\" content=3D\"text/html; charset=3Dutf-8\"/><meta\\nhttp-equiv=3D\"X-UA-Compatible\" content=3D\"IE=3Dedge\"/><title></title></head=\\n><body\\nstyle=3D\"background-color: #ffffff;\"><table\\nwidth=3D\"100%\" cellspacing=3D\"0\" cellpadding=3D\"0\" border=3D\"0\" bgcolor=3D\"=\\n#ffffff\" style=3D\"width: 100% !important;\"><tr><td><table\\nwidth=3D\"590\" cellspacing=3D\"0\" cellpadding=3D\"0\" border=3D\"0\" align=3D\"cen=\\nter\" style=3D\"width: 590px\"><tr><td><table\\nwidth=3D\"100%\" cellspacing=3D\"0\" cellpadding=3D\"0\" border=3D\"0\" style=3D\"wi=\\ndth: 100% !important; border: 1px solid #eaeaea; background: #f7f7f4; \"><tr\\nstyle=3D\"font-size: 1px; line-height: 0; mso-margin-top-alt: 1px;\"><td\\nwidth=3D\"100%\" valign=3D\"middle\" height=3D\"7\" style=3D\"font-size: 1px; heig=\\nht: 1px;\">&nbsp;</td></tr><tr><td\\nvalign=3D\"top\"><table\\nwidth=3D\"100%\" cellspacing=3D\"0\" cellpadding=3D\"0\" border=3D\"0\" style=3D\"fo=\\nnt-family: Helvetica, Arial, sans-serif !important; width: 100% !important;=\\n\"><tr><td\\nheight=3D\"48\" align=3D\"center\" class=3D\"img-header-sm\"> <img\\nstyle=3D\"border: 0; outline: 0; margin: 0 0 2px 0; padding: 0;\" width=3D\"12=\\n6\" height=3D\"17\" title=3D\"ResearchGate\" alt=3D\"ResearchGate\" src=3D\"https:/=\\n/www.researchgate.net/mail/rg_logo_mail.png?uid=3DOj0MW13gaD76pj660zHsVuZKU=\\nXpp9CV8VYS0&cn=3DzEbQO81ECYh6P-81guQ1G0OQKeQa6N5IcsrKqN53gLFpK-4tfNQOAVjYnb=\\nmLlAYJ5kblsEi4HMybr49nzG29xTmcx8qdEwRbzLDLOOgJg9K_&loginT=3DiFmrZh_A8gh86sr=\\nNCIHG-_VU-DN1RMZLbQh8eqzkaZExhbaGdwbE7wLjrmwBNN5Cms-h_IxxPslWF04vzAToBg&cpc=\\n=3Dre41_x_\"/></td></tr></table></td></tr><tr\\nstyle=3D\"font-size: 1px; line-height: 0; mso-margin-top-alt: 1px;\"><td\\nwidth=3D\"100%\" valign=3D\"middle\" height=3D\"5\" style=3D\"font-size: 1px; heig=\\nht: 1px;\">&nbsp;</td></tr></table><table\\ncellspacing=3D\"0\" border=3D\"0\" cellpadding=3D\"0\" width=3D\"100%\" bgcolor=3D\"=\\n#ffffff\" style=3D\"width:100%!important;border-left: 1px solid #eaeaea; bord=\\ner-right: 1px solid #eaeaea;\"><tr><td><table\\nalign=3D\"center\" cellspacing=3D\"0\" border=3D\"0\" cellpadding=3D\"0\" width=3D\"=\\n100%\" style=3D\"width:100%!important;padding:0; background-color:#f7f7f4\"><t=\\nr\\nstyle=3D\"font-size:1px; line-height:0; mso-margin-top-alt:1px;\"><td\\nwidth=3D\"30\"></td><td\\nheight=3D\"30\"></td><td\\nwidth=3D\"30\"></td></tr><tr><td></td><td><table\\ncellpadding=3D\"0\" cellspacing=3D\"0\" width=3D\"100%\" style=3D\"width:100%!impo=\\nrtant;\"><tr><td\\nstyle=3D\"font-size: 14px; color: #666666; font-family: helvetica neue, helv=\\netica, arial, sans-serif;  line-height: 21px;text-align: left;\"><table\\nwidth=3D\"100%\" cellspacing=3D\"0\" cellpadding=3D\"0\" border=3D\"0\"><tr><td\\nstyle=3D\"font-size: 14px; color: #666666; font-family: helvetica neue, helv=\\netica, arial, sans-serif;  line-height: 21px;text-align: left;\"> <b>Welcome=\\n to ResearchGate</b>, the professional network for scientists and researche=\\nrs.</td></tr></table></td></tr><tr><td\\nheight=3D\"15\"><div></div></td></tr><tr><td\\nstyle=3D\"font-size: 14px; color: #666666; font-family: helvetica neue, helv=\\netica, arial, sans-serif;  line-height: 21px;text-align: left;\"><table\\nwidth=3D\"100%\" cellspacing=3D\"0\" cellpadding=3D\"0\" border=3D\"0\"><tr><td\\nstyle=3D\"font-size: 14px; color: #666666; font-family: helvetica neue, helv=\\netica, arial, sans-serif;  line-height: 21px;text-align: left;\"> Get starte=\\nd by adding your publications to your profile to make your work visible.</t=\\nd></tr></table></td></tr><tr><td\\nheight=3D\"15\"><div></div></td></tr><tr><td ><table\\nwidth=3D\"100%\" cellspacing=3D\"0\" cellpadding=3D\"0\" border=3D\"0\" style=3D\"wi=\\ndth:100%!important;padding:0; background-color: #ffffff; border: 1px solid =\\n#cccccc;\"><tbody><tr\\nstyle=3D\"font-size:1px; line-height:0; mso-margin-top-alt:1px;\"><td\\nwidth=3D\"20\"></td><td\\nheight=3D\"20\"></td><td\\nwidth=3D\"20\"></td></tr><tr><td></td><td><table\\ncellpadding=3D\"0\" cellspacing=3D\"0\" width=3D\"100%\" style=3D\"width:100%!impo=\\nrtant;\"><tr><td><table\\nwidth=3D\"100%\" cellspacing=3D\"0\" cellpadding=3D\"0\" border=3D\"0\" style=3D\"wi=\\ndth: 100%!important;\"><tr><td><table\\ncellpadding=3D\"0\" cellspacing=3D\"0\" width=3D\"100%\"><tr><td\\nwidth=3D\"30\"> <img\\nsrc=3D\"https://www.researchgate.net/images/mailing/icons/stats-pub.png\" bor=\\nder=3D\"0\" style=3D\"display: block;\"></td><td\\nstyle=3D\"color: #333333; font-size: 12px; font-family: helvetica neue, helv=\\netica, arial, sans-serif; line-height: 15px; \"> <a\\nhref=3D\"https://www.researchgate.net/profile/Shin_Nyum_Park/unconfirmed?pli=\\n=3D1&loginT=3DiFmrZh_A8gh86srNCIHG-_VU-DN1RMZLbQh8eqzkaZExhbaGdwbE7wLjrmwBN=\\nN5Cms-h_IxxPslWF04vzAToBg&uid=3DOj0MW13gaD76pj660zHsVuZKUXpp9CV8VYS0&cp=3Dr=\\ne41_x_p3&ch=3Dreg&utm_medium=3Demail&utm_source=3Dresearchgate&utm_campaign=\\n=3Dre41&utm_term=3Dre41_x&utm_content=3Dre41_x_p3\" style=3D\"color:#36A493; =\\ntext-decoration: none; font-weight: bold\"> 67 publications in our database =\\nmatch your name </a></td><td\\nwidth=3D\"20\"></td><td\\nrowspan=3D\"3\" align=3D\"right\" width=3D\"50\"><table\\nalign=3D\"left\" width=3D\"170\" cellspacing=3D\"0\" cellpadding=3D\"0\" style=3D\"w=\\nidth: 170px;\"><tbody><tr><td\\nbgcolor=3D\"#55b1f5\" height=3D\"32\" align=3D\"center\" style=3D\"padding: 0; -we=\\nbkit-border-radius: 3px; -moz-border-radius: 3px; border-radius: 3px; -webk=\\nit-box-shadow: 0 2px 0 0 #027dca; -moz-box-shadow: 0 2px 0 0 #027dca; box-s=\\nhadow: 0 2px 0 0 #027dca; background-color: #55b1f5; background-repeat: rep=\\neat-x; background-image: url(\\'https://www.researchgate.net/images/mailing/b=\\nutton-background.jpg\\');\"> <a\\nstyle=3D\"text-align: center; display: block; text-decoration: none; height:=\\n 95%; line-height: 32px; color: #ffffff; margin: 0; font-family: helvetica,=\\n arial, sans-serif; width: 100%; font-size: 14px; font-weight: bold;\" href=\\n=3D\"   https://www.researchgate.net/profile/Shin_Nyum_Park/unconfirmed?pli=\\n=3D1&loginT=3DiFmrZh_A8gh86srNCIHG-_VU-DN1RMZLbQh8eqzkaZExhbaGdwbE7wLjrmwBN=\\nN5Cms-h_IxxPslWF04vzAToBg&uid=3DOj0MW13gaD76pj660zHsVuZKUXpp9CV8VYS0&cp=3Dr=\\ne41_x_p3&ch=3Dreg&utm_medium=3Demail&utm_source=3Dresearchgate&utm_campaign=\\n=3Dre41&utm_term=3Dre41_x&utm_content=3Dre41_x_p3  \">View publications</a><=\\n/td></tr></tbody></table></td></tr></table></td></tr></table></td></tr><tr>=\\n<td\\nheight=3D\"20\"></td></tr></table></td><td></td></tr><tr\\nstyle=3D\"font-size:1px; line-height:0; mso-margin-top-alt:1px;\"><td\\nwidth=3D\"20\"></td><td\\nheight=3D\"0\"></td><td\\nwidth=3D\"20\"></td></tr></tbody></table></td></tr><tr><td\\nheight=3D\"15\"><div></div></td></tr></table></td><td></td></tr><tr\\nstyle=3D\"font-size:1px; line-height:0; mso-margin-top-alt:1px;\"><td\\nheight=3D\"20\"></td><td></td><td></td></tr></table></td></tr></table><table\\nclass=3D\"mail-footer\" width=3D\"100%\" cellspacing=3D\"0\" cellpadding=3D\"0\" bo=\\nrder=3D\"0\" style=3D\"width: 100% !important; background-color: #f7f7f4; bord=\\ner-left: 1px solid #eaeaea; border-right: 1px solid #eaeaea; border-bottom:=\\n 1px solid #eaeaea;\"><tbody><tr><td><table\\ncellspacing=3D\"0\" cellpadding=3D\"0\" borderspacing=3D\"0\" width=3D\"100%\" styl=\\ne=3D\"width: 100% !important;\"><tr><td\\nwidth=3D\"10\" style=3D\"width: 10px\"></td><td\\nwidth=3D\"20\" style=3D\"width: 20px\" class=3D\"hidden-sm\"></td><td><table\\nwidth=3D\"100%\" cellspacing=3D\"0\" cellpadding=3D\"0\" border=3D\"0\" style=3D\"wi=\\ndth: 100% !important;\"><tbody><tr\\nstyle=3D\"font-size: 1px; line-height: 0; mso-margin-top-alt: 1px;\"><td\\nwidth=3D\"100%\" valign=3D\"middle\" height=3D\"1\" style=3D\"background-color: #e=\\naeaea; font-size: 1px; height: 1px;\">&nbsp;</td></tr><tr\\nstyle=3D\"font-size: 1px; line-height: 0; mso-margin-top-alt: 1px;\"><td\\nwidth=3D\"100%\" valign=3D\"middle\" height=3D\"1\" style=3D\"background-color: #f=\\nfffff; font-size: 1px; height: 1px;\">&nbsp;</td></tr><tr\\nstyle=3D\"font-size: 1px; line-height: 0; mso-margin-top-alt: 1px;\"><td\\nheight=3D\"20\">&nbsp;</td></tr><tr><td><p\\nstyle=3D\"font-size: 11px; line-height: 15px; font-family: Helvetica,Arial,s=\\nans-serif; color: #888888; margin: 0 0 20px 0;\"> This message was sent to b=\\nelief.park705@gmail.com by ResearchGate. To make sure you receive our updat=\\nes, add ResearchGate to your address book or safe list. <a\\nstyle=3D\"color: #888888; text-decoration: underline;\" href=3D\"https://www.r=\\nesearchgate.net/help/whitelist-email?cp=3Dre41_x_we&mfl=3D1&ch=3Dreg&uid=3D=\\nOj0MW13gaD76pj660zHsVuZKUXpp9CV8VYS0\">See instructions</a><br/><br/> If you=\\n don&#39;t want to receive these emails from ResearchGate in the future, pl=\\nease <a\\nstyle=3D\"color: #888888; text-decoration: underline;\" href=3D\"https://www.r=\\nesearchgate.net/go.Out.newsletter.html?loginT=3DiFmrZh_A8gh86srNCIHG-_VU-DN=\\n1RMZLbQh8eqzkaZExhbaGdwbE7wLjrmwBNN5Cms-h_IxxPslWF04vzAToBg&cp=3Dre41_x_u1&=\\nmfl=3D1&ch=3Dreg&uid=3DOj0MW13gaD76pj660zHsVuZKUXpp9CV8VYS0\">unsubscribe</a=\\n>.<br/> <br/>ResearchGate GmbH, Invalidenstr. 115, 10115 Berlin, Germany. <=\\na\\nstyle=3D\"color: #888888; text-decoration: underline;\" href=3D\"https://www.r=\\nesearchgate.net/imprint?cp=3Dre41_x_im\">Imprint.</a><br/> See our <a\\nstyle=3D\"color: #888888; text-decoration: underline;\" href=3D\"https://www.r=\\nesearchgate.net/privacy-policy?cp=3Dre41_x_pp&mfl=3D1&ch=3Dreg&uid=3DOj0MW1=\\n3gaD76pj660zHsVuZKUXpp9CV8VYS0\">Privacy Policy</a> and <a\\nstyle=3D\"color: #888888; text-decoration: underline;\" href=3D\"https://www.r=\\nesearchgate.net/terms-of-service?cp=3Dre41_x_tos&mfl=3D1&ch=3Dreg&uid=3DOj0=\\nMW13gaD76pj660zHsVuZKUXpp9CV8VYS0\">Terms of Service</a>.</p></td></tr></tbo=\\ndy></table></td><td\\nwidth=3D\"20\" style=3D\"width: 20px\" class=3D\"hidden-sm\"></td><td\\nwidth=3D\"10\" style=3D\"width: 10px\"></td></tr></table></td></tr></tbody></ta=\\nble></td></tr></table></td></tr></table></body></html>\\n--=_3f4641cda0d0576af5dd0f48dce1d85a--\\n'"
      ]
     },
     "execution_count": 10,
     "metadata": {},
     "output_type": "execute_result"
    }
   ],
   "source": [
    "raw_email"
   ]
  },
  {
   "cell_type": "markdown",
   "metadata": {
    "pycharm": {
     "name": "#%% md\n"
    }
   },
   "source": [
    "> ### email\n",
    ">  - `email` 는 **바이트 문자열 형식의 이메일 메세지**를 사람이 알아 볼 수 있는 문자열 형태로 **파싱 및 디코딩**할 때 사용되는 모듈"
   ]
  },
  {
   "cell_type": "code",
   "execution_count": 11,
   "metadata": {
    "pycharm": {
     "name": "#%%\n"
    }
   },
   "outputs": [],
   "source": [
    "import email\n",
    "from email.header import decode_header, make_header"
   ]
  },
  {
   "cell_type": "code",
   "execution_count": 12,
   "metadata": {
    "pycharm": {
     "name": "#%%\n"
    }
   },
   "outputs": [],
   "source": [
    "# 메세지 객체 생성\n",
    "message = email.message_from_bytes(raw_email)"
   ]
  },
  {
   "cell_type": "code",
   "execution_count": 13,
   "metadata": {
    "pycharm": {
     "name": "#%%\n"
    }
   },
   "outputs": [
    {
     "data": {
      "text/plain": [
       "<email.message.Message at 0x24912f2e5b0>"
      ]
     },
     "execution_count": 13,
     "metadata": {},
     "output_type": "execute_result"
    }
   ],
   "source": [
    "message"
   ]
  },
  {
   "cell_type": "markdown",
   "metadata": {
    "pycharm": {
     "name": "#%% md\n"
    }
   },
   "source": [
    "#### 이메일 정보 확인"
   ]
  },
  {
   "cell_type": "code",
   "execution_count": 14,
   "metadata": {
    "pycharm": {
     "name": "#%%\n"
    }
   },
   "outputs": [
    {
     "data": {
      "text/plain": [
       "'ResearchGate <no-reply@researchgatemail.net>'"
      ]
     },
     "execution_count": 14,
     "metadata": {},
     "output_type": "execute_result"
    }
   ],
   "source": [
    "# 송신자 확인\n",
    "message.get('From')"
   ]
  },
  {
   "cell_type": "code",
   "execution_count": 15,
   "metadata": {
    "pycharm": {
     "name": "#%%\n"
    }
   },
   "outputs": [
    {
     "name": "stdout",
     "output_type": "stream",
     "text": [
      "ResearchGate <no-reply@researchgatemail.net>\n"
     ]
    }
   ],
   "source": [
    "# email 모듈 디코더 활용\n",
    "fr = make_header(decode_header(message.get('From')))\n",
    "print(fr)"
   ]
  },
  {
   "cell_type": "code",
   "execution_count": 16,
   "metadata": {
    "pycharm": {
     "name": "#%%\n"
    }
   },
   "outputs": [
    {
     "name": "stdout",
     "output_type": "stream",
     "text": [
      "Welcome to ResearchGate, Shin-Nyum\n"
     ]
    }
   ],
   "source": [
    "# 제목 확인\n",
    "subject = make_header(decode_header(message.get('Subject')))\n",
    "print(subject)"
   ]
  },
  {
   "cell_type": "markdown",
   "metadata": {
    "pycharm": {
     "name": "#%% md\n"
    }
   },
   "source": [
    "#### 이메일 본문 확인\n",
    "이메일 본문을 읽어오는 것은 조금 복잡할 수 있습니다. <br>\n",
    "이메일의 메시지는 **멀티파트(multipart)**로 구성될 수도 있고 아닐 수도 있기 때문인데요, 이메일에 첨부 파일이 있거나 `text/plain` 또는 `text/html` 형식의 내용을 동시에 보낸다면 **멀티파트 형식** 으로 구성됩니다. 따라서 멀티파트인지 아닌지 분기해서 확인합니다."
   ]
  },
  {
   "cell_type": "code",
   "execution_count": 17,
   "metadata": {
    "pycharm": {
     "name": "#%%\n"
    }
   },
   "outputs": [],
   "source": [
    "if message.is_multipart():\n",
    "    # 멀티 파트라면 여러개로 나누어진 메세지를 하니씩 처리\n",
    "    for part in message.walk():\n",
    "        ctype = part.get_content_type()\n",
    "        cdispo = str(part.get('Content-Disposition'))\n",
    "        \n",
    "        # 컨텐츠가 text/plain 이고, 첨부파일이 없다면\n",
    "        if ctype == 'text/plain' and 'attachment' not in cdispo:\n",
    "            body = part.get_payload(decode=True)  # 메세지 내용 추출\n",
    "            break\n",
    "else:\n",
    "    # 싱글 파트라면\n",
    "    body = message.get_payload(decode=True) # 메세지 내용 추출"
   ]
  },
  {
   "cell_type": "code",
   "execution_count": 18,
   "metadata": {
    "pycharm": {
     "name": "#%%\n"
    }
   },
   "outputs": [
    {
     "name": "stdout",
     "output_type": "stream",
     "text": [
      "보낸사람:ResearchGate <no-reply@researchgatemail.net>\n",
      "제목:Welcome to ResearchGate, Shin-Nyum\n",
      "내용:Welcome to ResearchGate, the professional network for scientists and researchers.\n",
      "Get started by adding your publications to your profile to make your work visible.\n",
      "67 publications in our database match your name\n",
      "View publications:\n",
      "https://www.researchgate.net/profile/Shin_Nyum_Park/unconfirmed?pli=1&loginT=iFmrZh_A8gh86srNCIHG-_VU-DN1RMZLbQh8eqzkaZExhbaGdwbE7wLjrmwBNN5Cms-h_IxxPslWF04vzAToBg&uid=Oj0MW13gaD76pj660zHsVuZKUXpp9CV8VYS0&cp=re41_x_p3&ch=reg&utm_medium=email&utm_source=researchgate&utm_campaign=re41&utm_term=re41_x&utm_content=re41_x_p3\n",
      "-------------------------------------------------------------------------------\n",
      "This message was sent to belief.park705@gmail.com by ResearchGate. To make sure you receive our updates, add ResearchGate to your address book or safe list.\n",
      "See instructions: https://www.researchgate.net/help/whitelist-email?cp=re41_x_we&mfl=1&ch=reg&uid=Oj0MW13gaD76pj660zHsVuZKUXpp9CV8VYS0\n",
      "\n",
      "If you don't want to receive these emails from ResearchGate in the future, please unsubscribe:\n",
      "https://www.researchgate.net/go.Out.newsletter.html?loginT=iFmrZh_A8gh86srNCIHG-_VU-DN1RMZLbQh8eqzkaZExhbaGdwbE7wLjrmwBNN5Cms-h_IxxPslWF04vzAToBg&cp=re41_x_u2&mfl=1&ch=reg&uid=Oj0MW13gaD76pj660zHsVuZKUXpp9CV8VYS0\n",
      "\n",
      "ResearchGate GmbH, Invalidenstr. 115, 10115 Berlin, Germany. Imprint: https://www.researchgate.net/imprint?cp=re41_x_im\n",
      "See our Privacy Policy: https://www.researchgate.net/privacy-policy?cp=re41_x_pp&mfl=1&ch=reg&uid=Oj0MW13gaD76pj660zHsVuZKUXpp9CV8VYS0 and Terms of Service: https://www.researchgate.net/terms-of-service?cp=re41_x_tos&mfl=1&ch=reg&uid=Oj0MW13gaD76pj660zHsVuZKUXpp9CV8VYS0\n"
     ]
    }
   ],
   "source": [
    "body = body.decode('utf-8')\n",
    "\n",
    "print(f\"보낸사람:{fr}\")\n",
    "print(f\"제목:{subject}\")\n",
    "print(f\"내용:{body}\")"
   ]
  },
  {
   "cell_type": "code",
   "execution_count": null,
   "metadata": {
    "pycharm": {
     "name": "#%%\n"
    }
   },
   "outputs": [],
   "source": []
  }
 ],
 "metadata": {
  "kernelspec": {
   "display_name": "fastcampus",
   "language": "python",
   "name": "fastcampus"
  },
  "language_info": {
   "codemirror_mode": {
    "name": "ipython",
    "version": 3
   },
   "file_extension": ".py",
   "mimetype": "text/x-python",
   "name": "python",
   "nbconvert_exporter": "python",
   "pygments_lexer": "ipython3",
   "version": "3.9.13"
  }
 },
 "nbformat": 4,
 "nbformat_minor": 4
}
