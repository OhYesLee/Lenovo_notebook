{
 "cells": [
  {
   "cell_type": "markdown",
   "metadata": {
    "pycharm": {
     "name": "#%% md\n"
    }
   },
   "source": [
    "# **Chapter 9. [인터넷/웹] 최신 뉴스 이메일로 받아보기**\n",
    "\n",
    "\n",
    "---\n",
    "### 📝 **학습 목차**\n",
    "> 9-1. 프로젝트 개요 <br>\n",
    "> 9-2. 웹브라우저 실행 및 저장 - webbrowser, urllib <br>\n",
    "> 9-3. 웹페이지에서 원하는 텍스트만 추출- html.parser <br>\n",
    "> 9-4. 이메일 확인하기 - poplib <br>\n",
    "> 9-5. 이메일 보내기 - smtplib** <br>\n",
    "> **9-6. 최신 뉴스 확인하기 - BeautifulSoup** <br>\n",
    "> 9-7. 프로젝트 실습"
   ]
  },
  {
   "cell_type": "markdown",
   "metadata": {
    "pycharm": {
     "name": "#%% md\n"
    }
   },
   "source": [
    "## 9-6. 최신 뉴스 확인하기"
   ]
  },
  {
   "cell_type": "markdown",
   "metadata": {
    "pycharm": {
     "name": "#%% md\n"
    }
   },
   "source": [
    "> <img src='img/beautifulsoup.png' align='left' width='200' height='200'/> <br> <br> <br>\n",
    ">  - `BeautifulSoup` 는 `Selenium`, `Scrapy` 등과 같이 대표적인 파이썬 웹 크롤링 라이브러리 \n",
    ">  - **HTML정보**로 부터 원하는 데이터를 가져오기 쉽게, 비슷한 분류의 **데이터별로 나누어주는(parsing)** 기능 제공 (보통 html정보를 가져오는 urllib.request.urlopen() 모듈과 함께 사용)\n",
    ">  - `find()` 함수를 통해서 원하는 HTML 태그 추출"
   ]
  },
  {
   "cell_type": "code",
   "execution_count": 1,
   "metadata": {},
   "outputs": [],
   "source": [
    "# BeautifulSoup 설치\n",
    "from bs4 import BeautifulSoup"
   ]
  },
  {
   "cell_type": "markdown",
   "metadata": {},
   "source": [
    "#### 9-6-1. 크롤링 웹 페이지 확인"
   ]
  },
  {
   "cell_type": "markdown",
   "metadata": {},
   "source": [
    "[네이버 연합뉴스 속보 페이지](https://news.naver.com/main/list.naver?mode=LPOD&mid=sec&sid1=001&sid2=140&oid=001&isYeonhapFlash=Y)\n",
    "- `F12` - 개발자 도구 활성화\n",
    "- HTML 태그 확인"
   ]
  },
  {
   "cell_type": "code",
   "execution_count": 5,
   "metadata": {},
   "outputs": [],
   "source": [
    "url = 'https://news.naver.com/main/list.naver?mode=LPOD&mid=sec&sid1=001&sid2=140&oid=001&isYeonhapFlash=Y'"
   ]
  },
  {
   "cell_type": "markdown",
   "metadata": {},
   "source": [
    "#### 9-6-2. html 헤더 설정\n",
    "- http 헤더는 **클라이언트와 서버가 통신할 때 함께 전달하는 부가 정보**로 날짜, 인코딩 정보, 유저 정보 등 다양한 내용을 담고 있습니다.\n",
    "- User-Agent에는 운영체제, 소프트웨어 버전, 소프트웨어 유형 등 여러 내용이 포함되어 있습니다.\n",
    "- [html 헤더 정보 일람 사이트](https://www.useragentstring.com/pages/useragentstring.php)"
   ]
  },
  {
   "cell_type": "code",
   "execution_count": 10,
   "metadata": {},
   "outputs": [],
   "source": [
    "# 헤더 추가\n",
    "headers = {\"User-Agent\":\"Mozilla/5.0 (Windows NT 10.0) AppleWebKit/537.36 (KHTML, like Gecko) Chrome/104.0.0.0 Safari/537.36\"}"
   ]
  },
  {
   "cell_type": "code",
   "execution_count": 13,
   "metadata": {},
   "outputs": [
    {
     "data": {
      "text/plain": [
       "<Response [200]>"
      ]
     },
     "execution_count": 13,
     "metadata": {},
     "output_type": "execute_result"
    }
   ],
   "source": [
    "# 서버 응답 확인\n",
    "import requests\n",
    "response = requests.get(url, headers=headers)\n",
    "response"
   ]
  },
  {
   "cell_type": "markdown",
   "metadata": {},
   "source": [
    "#### 9-6-3. 뉴스 정보 크롤링"
   ]
  },
  {
   "cell_type": "code",
   "execution_count": 14,
   "metadata": {},
   "outputs": [],
   "source": [
    "# BeautifulSoup 객체 생성\n",
    "beautifulSoup = BeautifulSoup(response.content, \"html.parser\")"
   ]
  },
  {
   "cell_type": "code",
   "execution_count": 17,
   "metadata": {},
   "outputs": [
    {
     "name": "stdout",
     "output_type": "stream",
     "text": [
      "연합뉴스\r\n",
      "\t\t\t 속보 홈 : 네이버 뉴스\t\n"
     ]
    }
   ],
   "source": [
    "# 페이지 제목 크롤링\n",
    "print(beautifulSoup.title.string)"
   ]
  },
  {
   "cell_type": "code",
   "execution_count": 16,
   "metadata": {},
   "outputs": [
    {
     "name": "stdout",
     "output_type": "stream",
     "text": [
      "\n",
      "\n",
      "\n",
      "감사원 '서해피살 은폐·왜곡' 서훈 박지원 서욱 등 檢수사의뢰\n",
      "5개 기관 20명에 직무유기 등 혐의…文정부 안보라인 대거 포함\"컨트롤타워 부재·자진 월북 단정·北 통지문에 시신 소각 번복\"\"첩보보고...\n",
      "            연합뉴스2022.10.13\n",
      "\n",
      "\n",
      "\"자진월북 속단\"…감사원이 밝힌 文정부 '서해피격' 발표정황은연합뉴스2022.10.13\n",
      "\n",
      "\n",
      "검찰, 서욱 前국방장관 소환…'서해 피격' 첫 윗선 조사연합뉴스2022.10.13\n",
      "\n",
      "\n",
      "野 \"대통령실 주파수 맞춘 청부감사…타락한 감사원에 참담\"연합뉴스2022.10.13\n",
      "\n",
      "\n",
      "서해피격에 與 \"증거없어 월북 아냐\" 野 \"결론 바뀌는게 말되나\"연합뉴스2022.10.13\n",
      "\n",
      "\n",
      "여야 \"서해 피살 공무원 월북이냐 아니냐\"…해경청장 진땀연합뉴스2022.10.13\n",
      "\n",
      "\n",
      "\n",
      "\n"
     ]
    }
   ],
   "source": [
    "# 페이지 상단 텍스트 크롤링\n",
    "print(beautifulSoup.find(\"dl\", attrs={\"class\":\"type04\"}).get_text())"
   ]
  },
  {
   "cell_type": "code",
   "execution_count": 19,
   "metadata": {},
   "outputs": [
    {
     "name": "stdout",
     "output_type": "stream",
     "text": [
      "\n",
      "\n",
      "미국 9월 소비자물가 8.2% 상승…근원 물가도 6.6% 올라\n",
      "연합뉴스\n",
      "2022.10.13. 오후 9:38\n",
      "\n",
      "\n",
      "경찰 '성상납 의혹' 이준석 무고 혐의 송치\n",
      "연합뉴스\n",
      "2022.10.13. 오후 9:18\n",
      "\n",
      "\n",
      "대통령실 \"확장억제 획기적 강화, 모든 방안 협의하고 논의\"\n",
      "연합뉴스\n",
      "2022.10.13. 오후 4:24\n",
      "\n",
      "\n",
      "與 \"막장방송 박성제 사퇴\" vs 野 \"2008년 MBC 도륙 악몽\"\n",
      "연합뉴스\n",
      "2022.10.13. 오후 7:47\n",
      "\n",
      "\n",
      "野, 정진석·권성동 국회 차원 징계 추진…김문수는 고발 논의\n",
      "연합뉴스\n",
      "2022.10.13. 오후 7:51\n",
      "\n",
      "\n",
      "출소 D-4 김근식, 경기 지역 갱생시설 거주 유력\n",
      "연합뉴스\n",
      "2022.10.13. 오후 6:50\n",
      "\n",
      "\n",
      "기아차 노사, 단협안 잠정합의…퇴직자 전기차 구매시 할인 혜택\n",
      "연합뉴스\n",
      "2022.10.13. 오후 7:24\n",
      "\n",
      "\n",
      "러, 자국 남부도시 주거지역에 우크라가 포격 주장\n",
      "연합뉴스\n",
      "2022.10.13. 오후 9:17\n",
      "\n",
      "\n",
      "kt, 6-2로 KIA 꺾고 준PO 진출…16일 키움과 1차전\n",
      "연합뉴스\n",
      "2022.10.13. 오후 9:48\n",
      "\n",
      "\n"
     ]
    }
   ],
   "source": [
    "# 페이지 하단 텍스트 크롤링\n",
    "print(beautifulSoup.find(\"ul\", attrs={\"class\":\"type02\"}).get_text())"
   ]
  },
  {
   "cell_type": "code",
   "execution_count": null,
   "metadata": {},
   "outputs": [],
   "source": []
  }
 ],
 "metadata": {
  "kernelspec": {
   "display_name": "fastcampus",
   "language": "python",
   "name": "fastcampus"
  },
  "language_info": {
   "codemirror_mode": {
    "name": "ipython",
    "version": 3
   },
   "file_extension": ".py",
   "mimetype": "text/x-python",
   "name": "python",
   "nbconvert_exporter": "python",
   "pygments_lexer": "ipython3",
   "version": "3.9.13"
  }
 },
 "nbformat": 4,
 "nbformat_minor": 4
}
