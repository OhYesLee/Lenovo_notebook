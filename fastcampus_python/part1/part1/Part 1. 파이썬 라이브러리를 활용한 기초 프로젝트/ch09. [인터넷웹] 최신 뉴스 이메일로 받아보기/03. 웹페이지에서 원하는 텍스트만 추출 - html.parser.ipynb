{
 "cells": [
  {
   "cell_type": "markdown",
   "metadata": {
    "pycharm": {
     "name": "#%% md\n"
    }
   },
   "source": [
    "# **Chapter 9. [인터넷/웹] 최신 뉴스 이메일로 받아보기**\n",
    "\n",
    "\n",
    "---\n",
    "### 📝 **학습 목차**\n",
    "> 9-1. 프로젝트 개요 <br>\n",
    "> 9-2. 웹브라우저 실행 및 저장 - webbrowser, urllib <br>\n",
    "> **9-3. 웹페이지에서 원하는 텍스트만 추출- html.parser** <br>\n",
    "> 9-4. 이메일 확인하기 - poplib <br>\n",
    "> 9-5. 이메일 보내기 - smtplib <br>\n",
    "> 9-6. 최신 뉴스 확인하기 - BeautifulSoup <br>\n",
    "> 9-7. 프로젝트 실습"
   ]
  },
  {
   "cell_type": "markdown",
   "metadata": {
    "pycharm": {
     "name": "#%% md\n"
    }
   },
   "source": [
    "## 9-3. 웹페이지에서 원하는 텍스트만 추출"
   ]
  },
  {
   "cell_type": "markdown",
   "metadata": {
    "pycharm": {
     "name": "#%% md\n"
    }
   },
   "source": [
    "> ### html.parser\n",
    ">  - `html.parser` 는 HTML 문서를 파싱할 때 사용하는 모듈"
   ]
  },
  {
   "cell_type": "markdown",
   "metadata": {},
   "source": [
    "#### 예제 1\n",
    "HTML 파일에서 내용을 굵은 글씨로 표시하는 <strong> 태그와 </strong> 태그 사이의 문자열을 모두 찾아서 출력하는 프로그램"
   ]
  },
  {
   "cell_type": "code",
   "execution_count": null,
   "metadata": {},
   "outputs": [],
   "source": [
    "# html_sample_1.html"
   ]
  },
  {
   "cell_type": "markdown",
   "metadata": {},
   "source": [
    "<html>\n",
    "<head>\n",
    "<title>Python Zen</title>\n",
    "</head>\n",
    "<body>\n",
    "<h2>The Zen of Python, by Tim Peters</h2>\n",
    "<ul>\n",
    "  <li>Beautiful is better than ugly.</li>\n",
    "  <li>Explicit is better than implicit.</li>\n",
    "  <li>Simple is better than complex.</li>\n",
    "  <li>Complex is better than complicated.</li>\n",
    "  <li>Flat is better than nested.</li>\n",
    "  <li>Sparse is better than dense.</li>\n",
    "  <li>Readability counts.</li>\n",
    "  <li>Special cases aren't special enough to break the rules.</li>\n",
    "  <li>Although <strong>practicality</strong> beats purity.</li>\n",
    "  <li>Errors should <strong>never</strong> pass silently.</li>\n",
    "  <li>Unless explicitly silenced.</li>\n",
    "  <li>In the face of ambiguity, refuse the temptation to guess.</li>\n",
    "  <li>There should be one-- and preferably only one --obvious way to do it.</li>\n",
    "  <li>Although that way may not be obvious at first unless you're Dutch.</li>\n",
    "  <li><strong>Now</strong> is better than never.</li>\n",
    "  <li>Although never is often better than <strong>right</strong> now.</li>\n",
    "  <li>If the implementation is hard to explain, it's a bad idea.</li>\n",
    "  <li>If the implementation is easy to explain, it may be a good idea.</li>\n",
    "  <li>Namespaces are one honking great idea -- let's do more of those!</li>\n",
    "</ul>\n",
    "</body>\n",
    "</html>"
   ]
  },
  {
   "cell_type": "code",
   "execution_count": null,
   "metadata": {},
   "outputs": [],
   "source": [
    "from html.parser import HTMLParser\n",
    "\n",
    "class MyHTMLParser(HTMLParser):   # HTMLParser 클래스 상속\n",
    "    def __init__(self):\n",
    "        HTMLParser.__init__(self)\n",
    "        self.is_strong = False\n",
    "\n",
    "    def handle_starttag(self, tag, attrs):   # 태그가 열릴 때 호출\n",
    "        if tag == 'strong':                  # <strong> 태그 시작\n",
    "            self.is_strong = True\n",
    "\n",
    "    def handle_endtag(self, tag):            # 태그가 닫힐 때 호출\n",
    "        if tag == 'strong':                  # </strong> 태그 닫힘\n",
    "            self.is_strong = False\n",
    "\n",
    "    def handle_data(self, data):             # 해당 태그 사이의 문자열을 data 변수로 전달\n",
    "        if self.is_strong:                   # <strong>~</strong> 구간인 경우\n",
    "            print(data)                      # 데이터를 출력"
   ]
  },
  {
   "cell_type": "code",
   "execution_count": 1,
   "metadata": {},
   "outputs": [
    {
     "name": "stdout",
     "output_type": "stream",
     "text": [
      "practicality\n",
      "never\n",
      "Now\n",
      "right\n"
     ]
    }
   ],
   "source": [
    "with open('html_sample_1.html') as f:\n",
    "    parser = MyHTMLParser()\n",
    "    parser.feed(f.read())"
   ]
  },
  {
   "cell_type": "markdown",
   "metadata": {},
   "source": [
    "#### 예제 2\n",
    "HTML 파일에서 문서를 연결하는 \\<a> 태그와 \\</a> 태그 사이의 하이퍼링크를 모두 찾아서 출력하는 프로그램"
   ]
  },
  {
   "cell_type": "code",
   "execution_count": null,
   "metadata": {},
   "outputs": [],
   "source": [
    "# html_sample_2.html"
   ]
  },
  {
   "cell_type": "markdown",
   "metadata": {},
   "source": [
    "<a href=\"https://www.google.com\"> Google </a>\n",
    "\n",
    "<A Href=\"https://www.youtube.com\"> YouTube </a>\n",
    "\n",
    "<A HREF=\"https://www.fastcampus.co.kr\"> FastCampus </a>"
   ]
  },
  {
   "cell_type": "code",
   "execution_count": 3,
   "metadata": {},
   "outputs": [],
   "source": [
    "from html.parser import HTMLParser\n",
    "\n",
    "class MyHTMLParser(HTMLParser):   # HTMLParser 클래스 상속\n",
    "    def __init__(self):\n",
    "        HTMLParser.__init__(self)\n",
    "        self.links = []\n",
    "\n",
    "    def handle_starttag(self, tag, attrs):    # 태그가 열릴 때 호출\n",
    "        if tag == \"a\":                        # <a> 태그 시작\n",
    "            if len(attrs) == 0:               # <a> 태그 속성이 없을 경우\n",
    "                pass          \n",
    "            else:                             # <a> 태그 속성이 있을 경우\n",
    "                for (variable, value) in attrs:\n",
    "                    if variable == \"href\":    # 속성 변수가 하이퍼링크일 경우\n",
    "                        self.links.append(value)\n",
    "                        print(value)"
   ]
  },
  {
   "cell_type": "code",
   "execution_count": 4,
   "metadata": {},
   "outputs": [
    {
     "name": "stdout",
     "output_type": "stream",
     "text": [
      "https://www.google.com\n",
      "https://www.youtube.com\n",
      "https://www.fastcampus.co.kr\n"
     ]
    }
   ],
   "source": [
    "with open('html_sample_2.html') as f:\n",
    "    parser = MyHTMLParser()\n",
    "    parser.feed(f.read())"
   ]
  },
  {
   "cell_type": "code",
   "execution_count": 5,
   "metadata": {},
   "outputs": [
    {
     "data": {
      "text/plain": [
       "['https://www.google.com',\n",
       " 'https://www.youtube.com',\n",
       " 'https://www.fastcampus.co.kr']"
      ]
     },
     "execution_count": 5,
     "metadata": {},
     "output_type": "execute_result"
    }
   ],
   "source": [
    "parser.links"
   ]
  },
  {
   "cell_type": "code",
   "execution_count": null,
   "metadata": {},
   "outputs": [],
   "source": []
  }
 ],
 "metadata": {
  "kernelspec": {
   "display_name": "fastcampus",
   "language": "python",
   "name": "fastcampus"
  },
  "language_info": {
   "codemirror_mode": {
    "name": "ipython",
    "version": 3
   },
   "file_extension": ".py",
   "mimetype": "text/x-python",
   "name": "python",
   "nbconvert_exporter": "python",
   "pygments_lexer": "ipython3",
   "version": "3.9.13"
  }
 },
 "nbformat": 4,
 "nbformat_minor": 4
}
