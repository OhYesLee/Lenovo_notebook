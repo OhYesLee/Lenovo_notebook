{
 "cells": [
  {
   "cell_type": "markdown",
   "metadata": {
    "pycharm": {
     "name": "#%% md\n"
    }
   },
   "source": [
    "# **Chapter 9. [인터넷/웹] 최신 뉴스 이메일로 받아보기**\n",
    "\n",
    "\n",
    "---\n",
    "### 📝 **학습 목차**\n",
    "> 9-1. 프로젝트 개요 <br>\n",
    "> 9-2. 웹브라우저 실행 및 저장 - webbrowser, urllib <br>\n",
    "> 9-3. 웹페이지에서 원하는 텍스트만 추출- html.parser <br>\n",
    "> 9-4. 이메일 확인하기 - poplib <br>\n",
    "> 9-5. 이메일 보내기 - smtplib <br>\n",
    "> 9-6. 최신 뉴스 확인하기 - BeautifulSoup <br>\n",
    "> **9-7. 프로젝트 실습**"
   ]
  },
  {
   "attachments": {},
   "cell_type": "markdown",
   "metadata": {
    "pycharm": {
     "name": "#%% md\n"
    }
   },
   "source": [
    "## 9-7. 최신 뉴스 이메일로 받아보기 📰"
   ]
  },
  {
   "cell_type": "markdown",
   "metadata": {
    "pycharm": {
     "name": "#%% md\n"
    }
   },
   "source": [
    "> ### 진행 순서\n",
    ">  1. 뉴스 홈페이지 접속\n",
    ">  2. 웹페이지 저장\n",
    ">  3. 뉴스 속보 크롤링\n",
    ">  4. 이메일 보내기\n",
    ">  5. 이메일 수신 확인"
   ]
  },
  {
   "cell_type": "markdown",
   "metadata": {},
   "source": [
    "#### 9-7-1. 뉴스 홈페이지 접속"
   ]
  },
  {
   "cell_type": "code",
   "execution_count": 1,
   "metadata": {},
   "outputs": [],
   "source": [
    "import webbrowser\n",
    "\n",
    "# 네이버 뉴스 속보 홈 (연합뉴스)\n",
    "url = 'https://news.naver.com/main/list.naver?mode=LPOD&mid=sec&sid1=001&sid2=140&oid=001&isYeonhapFlash=Y'"
   ]
  },
  {
   "cell_type": "code",
   "execution_count": 2,
   "metadata": {},
   "outputs": [
    {
     "data": {
      "text/plain": [
       "True"
      ]
     },
     "execution_count": 2,
     "metadata": {},
     "output_type": "execute_result"
    }
   ],
   "source": [
    "# 브라우저 실행\n",
    "webbrowser.open(url)"
   ]
  },
  {
   "cell_type": "markdown",
   "metadata": {},
   "source": [
    "#### 9-7-2. 웹페이지 저장"
   ]
  },
  {
   "cell_type": "code",
   "execution_count": 4,
   "metadata": {},
   "outputs": [],
   "source": [
    "import urllib"
   ]
  },
  {
   "cell_type": "code",
   "execution_count": 7,
   "metadata": {},
   "outputs": [],
   "source": [
    "# 뉴스 속보 페이지를 html 파일로 저장\n",
    "def save_to_html(url):   \n",
    "    with urllib.request.urlopen(url) as s:           # 웹 페이지 리소스 객체 생성\n",
    "        with open('breaking_news.html', 'wb') as f:\n",
    "            f.write(s.read())                        # 리소스 내용을 읽어서 html 파일로 저장"
   ]
  },
  {
   "cell_type": "code",
   "execution_count": 8,
   "metadata": {},
   "outputs": [],
   "source": [
    "save_to_html(url)"
   ]
  },
  {
   "cell_type": "markdown",
   "metadata": {},
   "source": [
    "#### 9-7-3. 뉴스 속보 크롤링"
   ]
  },
  {
   "cell_type": "code",
   "execution_count": 9,
   "metadata": {},
   "outputs": [],
   "source": [
    "from bs4 import BeautifulSoup\n",
    "import requests\n",
    "\n",
    "# 헤더 추가\n",
    "headers = {\"User-Agent\":\"Mozilla/5.0 (Windows NT 10.0) AppleWebKit/537.36 (KHTML, like Gecko) Chrome/104.0.0.0 Safari/537.36\"}\n",
    "\n",
    "# 서버 응답 확인\n",
    "response = requests.get(url, headers=headers)"
   ]
  },
  {
   "cell_type": "code",
   "execution_count": 10,
   "metadata": {},
   "outputs": [],
   "source": [
    "# BeautifulSoup 객체 생성\n",
    "beautifulSoup = BeautifulSoup(response.content, \"html.parser\")"
   ]
  },
  {
   "cell_type": "code",
   "execution_count": 16,
   "metadata": {},
   "outputs": [
    {
     "name": "stdout",
     "output_type": "stream",
     "text": [
      "연합뉴스\r\n",
      "\t\t\t 속보 홈 : 네이버 뉴스\t\n"
     ]
    }
   ],
   "source": [
    "# 페이지 제목 크롤링\n",
    "page_title = beautifulSoup.title.string\n",
    "print(page_title)"
   ]
  },
  {
   "cell_type": "code",
   "execution_count": 26,
   "metadata": {},
   "outputs": [],
   "source": [
    "# 공백 제거\n",
    "import re\n",
    "regex = re.compile(r'[\\n\\r\\t]')\n",
    "page_title = regex.sub(' ', page_title)"
   ]
  },
  {
   "cell_type": "code",
   "execution_count": 27,
   "metadata": {},
   "outputs": [
    {
     "data": {
      "text/plain": [
       "'연합뉴스      속보 홈 : 네이버 뉴스 '"
      ]
     },
     "execution_count": 27,
     "metadata": {},
     "output_type": "execute_result"
    }
   ],
   "source": [
    "page_title"
   ]
  },
  {
   "cell_type": "code",
   "execution_count": 14,
   "metadata": {},
   "outputs": [
    {
     "name": "stdout",
     "output_type": "stream",
     "text": [
      "\n",
      "\n",
      "\n",
      "'적반하장' 북한군 총참모부 \"남측은 무모한 도발 중단하라\"\n",
      "\"도발 묵과 안 하고 철저하고 압도적 군사적 대응\"남측의 정상적 훈련 트집 잡으며 9·19 군사합의 어겼으면서 되레 큰 소리북한, 오후...\n",
      "            연합뉴스2022.10.15\n",
      "\n",
      "\n",
      "北, 새벽 이어 오후에도 동·서해 포격도발…9·19합의 내팽개쳐연합뉴스2022.10.14\n",
      "\n",
      "\n",
      "北, 역대급 도발 배경은…핵보유 자신감 바탕 의도적 긴장 고조연합뉴스2022.10.14\n",
      "\n",
      "\n",
      "대통령실 \"9·19군사합의 유지 여부, 北태도에 달렸다\"연합뉴스2022.10.14\n",
      "\n",
      "\n",
      "美 \"北, 도발중단해야…美, 비핵화 위한 대화·외교에 열려있어\"연합뉴스2022.10.15\n",
      "\n",
      "\n",
      "\n",
      "\n"
     ]
    }
   ],
   "source": [
    "# 페이지 상단 텍스트 크롤링\n",
    "main_contents = beautifulSoup.find(\"dl\", attrs={\"class\":\"type04\"}).get_text()\n",
    "print(main_contents)"
   ]
  },
  {
   "cell_type": "code",
   "execution_count": 15,
   "metadata": {},
   "outputs": [
    {
     "name": "stdout",
     "output_type": "stream",
     "text": [
      "\n",
      "\n",
      "'이스타 채용 부정' 이상직 전 의원 구속…법원 \"도주 우려\"\n",
      "연합뉴스\n",
      "2022.10.15. 오전 12:34\n",
      "\n",
      "\n",
      "인천서 성 소수자 퀴어축제 열려…인근서 반대 집회도\n",
      "연합뉴스\n",
      "2022.10.15. 오후 1:42\n",
      "\n",
      "\n",
      "의정부시장 \"모든 행정 수단 동원, 김근식 의정부 이송 막겠다\"\n",
      "연합뉴스\n",
      "2022.10.15. 오전 10:29\n",
      "\n",
      "\n",
      "이재명, 바이든에 IRA 개정 요청 서한 \"한미, 미래산업 파트너\"\n",
      "연합뉴스\n",
      "2022.10.15. 오후 1:25\n",
      "\n",
      "\n",
      "옐런 美재무 \"물가잡기 할 일 더 있다\"…강달러 지속 재확인\n",
      "연합뉴스\n",
      "2022.10.15. 오전 5:00\n",
      "\n",
      "\n",
      "편의점 비닐봉지 한달후엔 못쓴다…시행초기 혼란 우려도\n",
      "연합뉴스\n",
      "2022.10.15. 오전 7:27\n",
      "\n",
      "\n",
      "나토 전폭기 띄우고 러시아 ICBM 훈련…맞불 무력시위 재점화\n",
      "연합뉴스\n",
      "2022.10.15. 오전 10:49\n",
      "\n",
      "\n",
      "평택 제빵공장서 20대 여성 소스 배합 기계에 껴 숨져\n",
      "연합뉴스\n",
      "2022.10.15. 오후 12:37\n",
      "\n",
      "\n",
      "BTS 따라 아미도 부산행…\"팬 된 이유? '나 자신 사랑하라' 알려줘\"\n",
      "연합뉴스\n",
      "2022.10.15. 오후 1:43\n",
      "\n",
      "\n"
     ]
    }
   ],
   "source": [
    "# 페이지 하단 텍스트 크롤링\n",
    "sub_contents = beautifulSoup.find(\"ul\", attrs={\"class\":\"type02\"}).get_text()\n",
    "print(sub_contents)"
   ]
  },
  {
   "cell_type": "markdown",
   "metadata": {},
   "source": [
    "#### 9-7-4. 이메일 보내기"
   ]
  },
  {
   "cell_type": "code",
   "execution_count": 38,
   "metadata": {},
   "outputs": [],
   "source": [
    "#  멀티파트 객체 생성\n",
    "import smtplib\n",
    "from email.mime.multipart import MIMEMultipart\n",
    "msg = MIMEMultipart() "
   ]
  },
  {
   "cell_type": "code",
   "execution_count": 39,
   "metadata": {},
   "outputs": [],
   "source": [
    "# 이메일 송수신자 설정\n",
    "msg['From'] = 'belief.park705@gmail.com'\n",
    "msg['To'] = 'belief@postech.ac.kr'"
   ]
  },
  {
   "cell_type": "code",
   "execution_count": 40,
   "metadata": {},
   "outputs": [
    {
     "data": {
      "text/plain": [
       "'Sat, 15 Oct 2022 15:21:50 +0900'"
      ]
     },
     "execution_count": 40,
     "metadata": {},
     "output_type": "execute_result"
    }
   ],
   "source": [
    "# 날짜 설정\n",
    "from email.utils import formatdate\n",
    "msg['Date'] = formatdate(localtime=True)  # 현재 지역에 맞는 날짜\n",
    "msg['Date']"
   ]
  },
  {
   "cell_type": "code",
   "execution_count": 41,
   "metadata": {},
   "outputs": [],
   "source": [
    "# 이메일 제목/본문 작성\n",
    "from email.header import Header\n",
    "from email.mime.text import MIMEText\n",
    "msg['Subject'] = Header(s = page_title, charset='utf-8')\n",
    "body = MIMEText(main_contents + sub_contents, _charset='utf-8')"
   ]
  },
  {
   "cell_type": "code",
   "execution_count": 42,
   "metadata": {},
   "outputs": [],
   "source": [
    "# 메일 본문 추가\n",
    "msg.attach(body)"
   ]
  },
  {
   "cell_type": "code",
   "execution_count": 43,
   "metadata": {},
   "outputs": [],
   "source": [
    "# 파일 첨부\n",
    "import os\n",
    "from email.mime.base import MIMEBase\n",
    "from email.encoders import encode_base64\n",
    "\n",
    "files = list()\n",
    "files.append('breaking_news.html')\n",
    "\n",
    "for f in files:\n",
    "    part = MIMEBase('application', \"octet-stream\")\n",
    "    part.set_payload(open(f, \"rb\").read())\n",
    "    encode_base64(part)                           # 바이너리 파일 base64 인코딩\n",
    "    part.add_header('Content-Disposition', 'attachment; filename=\"%s\"' % os.path.basename(f))\n",
    "    msg.attach(part)                              # 파일 첨부"
   ]
  },
  {
   "cell_type": "code",
   "execution_count": 44,
   "metadata": {},
   "outputs": [
    {
     "name": "stdout",
     "output_type": "stream",
     "text": [
      "········\n"
     ]
    },
    {
     "data": {
      "text/plain": [
       "(221,\n",
       " b'2.0.0 closing connection s21-20020a056a00195500b00562ef28aac6sm2835609pfk.185 - gsmtp')"
      ]
     },
     "execution_count": 44,
     "metadata": {},
     "output_type": "execute_result"
    }
   ],
   "source": [
    "# 메일 발송\n",
    "import getpass\n",
    "\n",
    "mailServer = smtplib.SMTP_SSL('smtp.gmail.com')                  # SMTP 서버를 사용한 메세지 발송\n",
    "mailServer.login('belief.park705@gmail.com', getpass.getpass())  # 본인 계정과 비밀번호 사용 (Gmail : 앱 비밀번호)\n",
    "mailServer.send_message(msg)\n",
    "mailServer.quit()"
   ]
  },
  {
   "cell_type": "markdown",
   "metadata": {},
   "source": [
    "#### 9-7-5. 이메일 수신 확인"
   ]
  },
  {
   "cell_type": "code",
   "execution_count": 46,
   "metadata": {},
   "outputs": [],
   "source": [
    "import poplib\n",
    "\n",
    "# 암호화된 소켓 연결 (기본 995 포트)\n",
    "server = poplib.POP3_SSL('outlook.office365.com', port=995)"
   ]
  },
  {
   "cell_type": "code",
   "execution_count": 47,
   "metadata": {},
   "outputs": [
    {
     "data": {
      "text/plain": [
       "b'+OK'"
      ]
     },
     "execution_count": 47,
     "metadata": {},
     "output_type": "execute_result"
    }
   ],
   "source": [
    "# ID 입력\n",
    "server.user('belief@postech.ac.kr')"
   ]
  },
  {
   "cell_type": "code",
   "execution_count": 48,
   "metadata": {},
   "outputs": [
    {
     "name": "stdout",
     "output_type": "stream",
     "text": [
      "········\n"
     ]
    },
    {
     "data": {
      "text/plain": [
       "b'+OK User successfully logged on.'"
      ]
     },
     "execution_count": 48,
     "metadata": {},
     "output_type": "execute_result"
    }
   ],
   "source": [
    "# Password 입력\n",
    "import getpass\n",
    "server.pass_(getpass.getpass())"
   ]
  },
  {
   "cell_type": "code",
   "execution_count": 50,
   "metadata": {},
   "outputs": [],
   "source": [
    "import email\n",
    "from email.header import decode_header, make_header\n",
    "\n",
    "# 가장 최근 메세지 확인\n",
    "recent_no = server.stat()[0]\n",
    "\n",
    "# 메세지 가져오기 (바이트 문자열, 두번째 요소가 메세지 내용)\n",
    "server.retr(recent_no)\n",
    "\n",
    "# 줄바꿈으로 메세지 내용 조인\n",
    "raw_email = b'\\n'.join(server.retr(recent_no)[1])\n",
    "\n",
    "# 메세지 객체 생성\n",
    "message = email.message_from_bytes(raw_email)"
   ]
  },
  {
   "cell_type": "code",
   "execution_count": 51,
   "metadata": {},
   "outputs": [
    {
     "name": "stdout",
     "output_type": "stream",
     "text": [
      "beliefpark705@gmail.com\n"
     ]
    }
   ],
   "source": [
    "# 송신자 확인\n",
    "fr = message.get('From')\n",
    "print(fr)"
   ]
  },
  {
   "cell_type": "code",
   "execution_count": 52,
   "metadata": {},
   "outputs": [
    {
     "name": "stdout",
     "output_type": "stream",
     "text": [
      "연합뉴스      속보 홈 : 네이버 뉴스 \n"
     ]
    }
   ],
   "source": [
    "# 제목 확인\n",
    "subject = make_header(decode_header(message.get('Subject')))\n",
    "print(subject)"
   ]
  },
  {
   "cell_type": "code",
   "execution_count": 71,
   "metadata": {},
   "outputs": [
    {
     "name": "stdout",
     "output_type": "stream",
     "text": [
      "multipart/mixed\n",
      "text/plain\n",
      "application/octet-stream\n"
     ]
    }
   ],
   "source": [
    "# 본문 확인\n",
    "attachments = []\n",
    "\n",
    "if message.is_multipart():\n",
    "    # 멀티 파트라면 여러개로 나누어진 메세지를 하니씩 처리\n",
    "    for part in message.walk():\n",
    "        ctype = part.get_content_type()\n",
    "        cdispo = str(part.get('Content-Disposition'))\n",
    "        print(ctype)\n",
    "        \n",
    "        # 컨텐츠에 첨부파일이 있다면\n",
    "        if 'attachment' in cdispo:\n",
    "            name = part.get_filename()\n",
    "            data = part.get_payload(decode=True)\n",
    "            f = open(name,'wb')\n",
    "            f.write(data)\n",
    "            f.close()\n",
    "            attachments.append(name)    \n",
    "        \n",
    "        # 컨텐츠가 text/plain 이고, 첨부파일이 없다면\n",
    "        if ctype == 'text/plain' and 'attachment' not in cdispo:\n",
    "            body = part.get_payload(decode=True)  # 메세지 내용 추출\n",
    "        \n",
    "else:\n",
    "    # 싱글 파트라면\n",
    "    body = message.get_payload(decode=True)       # 메세지 내용 추출"
   ]
  },
  {
   "cell_type": "code",
   "execution_count": 72,
   "metadata": {},
   "outputs": [
    {
     "name": "stdout",
     "output_type": "stream",
     "text": [
      "보낸사람:beliefpark705@gmail.com\n",
      "제목:연합뉴스      속보 홈 : 네이버 뉴스 \n",
      "내용:\n",
      "\n",
      "\n",
      "'적반하장' 북한군 총참모부 \"남측은 무모한 도발 중단하라\"\n",
      "\"도발 묵과 안 하고 철저하고 압도적 군사적 대응\"남측의 정상적 훈련 트집 잡으며 9·19 군사합의 어겼으면서 되레 큰 소리북한, 오후...\n",
      "            연합뉴스2022.10.15\n",
      "\n",
      "\n",
      "北, 새벽 이어 오후에도 동·서해 포격도발…9·19합의 내팽개쳐연합뉴스2022.10.14\n",
      "\n",
      "\n",
      "北, 역대급 도발 배경은…핵보유 자신감 바탕 의도적 긴장 고조연합뉴스2022.10.14\n",
      "\n",
      "\n",
      "대통령실 \"9·19군사합의 유지 여부, 北태도에 달렸다\"연합뉴스2022.10.14\n",
      "\n",
      "\n",
      "美 \"北, 도발중단해야…美, 비핵화 위한 대화·외교에 열려있어\"연합뉴스2022.10.15\n",
      "\n",
      "\n",
      "\n",
      "\n",
      "\n",
      "'이스타 채용 부정' 이상직 전 의원 구속…법원 \"도주 우려\"\n",
      "연합뉴스\n",
      "2022.10.15. 오전 12:34\n",
      "\n",
      "\n",
      "인천서 성 소수자 퀴어축제 열려…인근서 반대 집회도\n",
      "연합뉴스\n",
      "2022.10.15. 오후 1:42\n",
      "\n",
      "\n",
      "의정부시장 \"모든 행정 수단 동원, 김근식 의정부 이송 막겠다\"\n",
      "연합뉴스\n",
      "2022.10.15. 오전 10:29\n",
      "\n",
      "\n",
      "이재명, 바이든에 IRA 개정 요청 서한 \"한미, 미래산업 파트너\"\n",
      "연합뉴스\n",
      "2022.10.15. 오후 1:25\n",
      "\n",
      "\n",
      "옐런 美재무 \"물가잡기 할 일 더 있다\"…강달러 지속 재확인\n",
      "연합뉴스\n",
      "2022.10.15. 오전 5:00\n",
      "\n",
      "\n",
      "편의점 비닐봉지 한달후엔 못쓴다…시행초기 혼란 우려도\n",
      "연합뉴스\n",
      "2022.10.15. 오전 7:27\n",
      "\n",
      "\n",
      "나토 전폭기 띄우고 러시아 ICBM 훈련…맞불 무력시위 재점화\n",
      "연합뉴스\n",
      "2022.10.15. 오전 10:49\n",
      "\n",
      "\n",
      "평택 제빵공장서 20대 여성 소스 배합 기계에 껴 숨져\n",
      "연합뉴스\n",
      "2022.10.15. 오후 12:37\n",
      "\n",
      "\n",
      "BTS 따라 아미도 부산행…\"팬 된 이유? '나 자신 사랑하라' 알려줘\"\n",
      "연합뉴스\n",
      "2022.10.15. 오후 1:43\n",
      "\n",
      "\n",
      "첨부파일:['breaking_news.html']\n"
     ]
    }
   ],
   "source": [
    "body = body.decode('utf-8')\n",
    "\n",
    "print(f\"보낸사람:{fr}\")\n",
    "print(f\"제목:{subject}\")\n",
    "print(f\"내용:{body}\")\n",
    "print(f\"첨부파일:{attachments}\")"
   ]
  },
  {
   "cell_type": "code",
   "execution_count": 76,
   "metadata": {},
   "outputs": [
    {
     "data": {
      "text/plain": [
       "True"
      ]
     },
     "execution_count": 76,
     "metadata": {},
     "output_type": "execute_result"
    }
   ],
   "source": [
    "# 첨부파일 열기\n",
    "webbrowser.open('file://' + os.path.realpath(attachments[0]))"
   ]
  },
  {
   "cell_type": "code",
   "execution_count": null,
   "metadata": {},
   "outputs": [],
   "source": []
  }
 ],
 "metadata": {
  "kernelspec": {
   "display_name": "fastcampus",
   "language": "python",
   "name": "fastcampus"
  },
  "language_info": {
   "codemirror_mode": {
    "name": "ipython",
    "version": 3
   },
   "file_extension": ".py",
   "mimetype": "text/x-python",
   "name": "python",
   "nbconvert_exporter": "python",
   "pygments_lexer": "ipython3",
   "version": "3.9.13"
  }
 },
 "nbformat": 4,
 "nbformat_minor": 4
}
