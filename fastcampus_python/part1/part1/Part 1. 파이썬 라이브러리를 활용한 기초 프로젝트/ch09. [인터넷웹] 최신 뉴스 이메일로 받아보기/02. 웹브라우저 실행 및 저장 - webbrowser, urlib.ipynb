{
 "cells": [
  {
   "cell_type": "markdown",
   "metadata": {
    "pycharm": {
     "name": "#%% md\n"
    }
   },
   "source": [
    "# **Chapter 9. [인터넷/웹] 최신 뉴스 이메일로 받아보기**\n",
    "\n",
    "\n",
    "---\n",
    "### 📝 **학습 목차**\n",
    "> 9-1. 프로젝트 개요 <br>\n",
    "> **9-2. 웹브라우저 실행 및 저장 - webbrowser, urllib** <br>\n",
    "> 9-3. 웹페이지에서 원하는 텍스트만 추출- html.parser <br>\n",
    "> 9-4. 이메일 확인하기 - poplib <br>\n",
    "> 9-5. 이메일 보내기 - smtplib <br>\n",
    "> 9-6. 최신 뉴스 확인하기 - BeautifulSoup <br>\n",
    "> 9-7. 프로젝트 실습"
   ]
  },
  {
   "cell_type": "markdown",
   "metadata": {
    "pycharm": {
     "name": "#%% md\n"
    }
   },
   "source": [
    "## 9-2. 웹브라우저 실행 및 저장"
   ]
  },
  {
   "cell_type": "markdown",
   "metadata": {
    "pycharm": {
     "name": "#%% md\n"
    }
   },
   "source": [
    "> ### webbrowser\n",
    ">  - `webbrowser` 는 파이썬 프로그램에서 시스템 브라우저를 호출할 때 사용하는 모듈"
   ]
  },
  {
   "cell_type": "code",
   "execution_count": 4,
   "metadata": {},
   "outputs": [],
   "source": [
    "import webbrowser"
   ]
  },
  {
   "cell_type": "code",
   "execution_count": null,
   "metadata": {},
   "outputs": [],
   "source": [
    "url = \"www.google.com\""
   ]
  },
  {
   "cell_type": "code",
   "execution_count": 5,
   "metadata": {},
   "outputs": [
    {
     "data": {
      "text/plain": [
       "True"
      ]
     },
     "execution_count": 5,
     "metadata": {},
     "output_type": "execute_result"
    }
   ],
   "source": [
    "# 브라우저 실행\n",
    "webbrowser.open(url)"
   ]
  },
  {
   "cell_type": "markdown",
   "metadata": {},
   "source": [
    "#### 어떤 브라우저가 호출되는지 확인"
   ]
  },
  {
   "cell_type": "code",
   "execution_count": 6,
   "metadata": {},
   "outputs": [
    {
     "data": {
      "text/plain": [
       "<webbrowser.WindowsDefault at 0x1d490fac250>"
      ]
     },
     "execution_count": 6,
     "metadata": {},
     "output_type": "execute_result"
    }
   ],
   "source": [
    "webbrowser.get()"
   ]
  },
  {
   "cell_type": "markdown",
   "metadata": {},
   "source": [
    "#### 호출 브라우저 변경"
   ]
  },
  {
   "cell_type": "code",
   "execution_count": 20,
   "metadata": {},
   "outputs": [],
   "source": [
    "# 브라우저 실행파일 경로\n",
    "chrome_path = \"C:/Program Files (x86)/Google/Chrome/Application/chrome.exe %s\"\n",
    "edge_path = \"C:/Program Files (x86)/Microsoft/Edge/Application/msedge.exe %s\""
   ]
  },
  {
   "cell_type": "code",
   "execution_count": 23,
   "metadata": {},
   "outputs": [
    {
     "data": {
      "text/plain": [
       "True"
      ]
     },
     "execution_count": 23,
     "metadata": {},
     "output_type": "execute_result"
    }
   ],
   "source": [
    "# 브라우저 실행\n",
    "webbrowser.get(edge_path).open(url)"
   ]
  },
  {
   "cell_type": "markdown",
   "metadata": {
    "pycharm": {
     "name": "#%% md\n"
    }
   },
   "source": [
    "> ### urllib\n",
    ">  - `urllib` 은 URL을 읽고 분석할 때 사용하는 모듈\n",
    ">  - 특정 웹 페이지를 .html 확장자로 저장해서 **오프라인에서도 읽을 수 있게 활용** 가능 "
   ]
  },
  {
   "cell_type": "markdown",
   "metadata": {},
   "source": [
    "#### 웹페이지 저장 예제"
   ]
  },
  {
   "cell_type": "markdown",
   "metadata": {},
   "source": [
    "위키독스 특정 페이지를 **오프라인으로도 읽을 수 있도록** 페이지 번호를 입력받아 <br>\n",
    "_wikidocs_페이지번호.html_ 파일로 저장하기"
   ]
  },
  {
   "cell_type": "code",
   "execution_count": 31,
   "metadata": {},
   "outputs": [],
   "source": [
    "import urllib"
   ]
  },
  {
   "cell_type": "code",
   "execution_count": 33,
   "metadata": {},
   "outputs": [
    {
     "data": {
      "text/plain": [
       "True"
      ]
     },
     "execution_count": 33,
     "metadata": {},
     "output_type": "execute_result"
    }
   ],
   "source": [
    "# 위키독스 페이지 \n",
    "webbrowser.open('https://wikidocs.net/1')"
   ]
  },
  {
   "cell_type": "code",
   "execution_count": 36,
   "metadata": {},
   "outputs": [
    {
     "data": {
      "text/plain": [
       "<http.client.HTTPResponse at 0x1d492fb7940>"
      ]
     },
     "execution_count": 36,
     "metadata": {},
     "output_type": "execute_result"
    }
   ],
   "source": [
    "# 페이지 리소스 객체\n",
    "urllib.request.urlopen('https://wikidocs.net/1')"
   ]
  },
  {
   "cell_type": "code",
   "execution_count": 37,
   "metadata": {},
   "outputs": [],
   "source": [
    "# 위키독스의 페이지 번호를 입력받아 해당 페이지의 리소스 내용을 파일로 저장하는 함수\n",
    "def get_wikidocs(page):\n",
    "    print(\"wikidocs page:{}\".format(page))           # 페이지 호출시 출력\n",
    "    resource = 'https://wikidocs.net/{}'.format(page)\n",
    "    \n",
    "    with urllib.request.urlopen(resource) as s:      # 페이지 리소스 객체 생성\n",
    "        with open('wikidocs_%s.html' % page, 'wb') as f:\n",
    "            f.write(s.read())                        # 리소스 내용을 읽어서 html 파일로 저장"
   ]
  },
  {
   "cell_type": "code",
   "execution_count": 38,
   "metadata": {},
   "outputs": [
    {
     "name": "stdout",
     "output_type": "stream",
     "text": [
      "wikidocs page:1\n"
     ]
    }
   ],
   "source": [
    "get_wikidocs(1)"
   ]
  },
  {
   "cell_type": "code",
   "execution_count": null,
   "metadata": {},
   "outputs": [],
   "source": []
  }
 ],
 "metadata": {
  "kernelspec": {
   "display_name": "fastcampus",
   "language": "python",
   "name": "fastcampus"
  },
  "language_info": {
   "codemirror_mode": {
    "name": "ipython",
    "version": 3
   },
   "file_extension": ".py",
   "mimetype": "text/x-python",
   "name": "python",
   "nbconvert_exporter": "python",
   "pygments_lexer": "ipython3",
   "version": "3.9.13"
  }
 },
 "nbformat": 4,
 "nbformat_minor": 4
}
