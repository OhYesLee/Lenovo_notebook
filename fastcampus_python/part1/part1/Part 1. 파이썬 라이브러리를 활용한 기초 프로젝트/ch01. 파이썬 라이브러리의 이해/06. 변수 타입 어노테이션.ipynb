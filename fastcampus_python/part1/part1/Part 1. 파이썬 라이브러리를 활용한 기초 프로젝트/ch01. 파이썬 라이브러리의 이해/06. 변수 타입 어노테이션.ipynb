{
 "cells": [
  {
   "cell_type": "markdown",
   "metadata": {
    "pycharm": {
     "name": "#%% md\n"
    }
   },
   "source": [
    "# **Chapter 1. 파이썬 라이브러리의 이해**\n",
    "\n",
    "\n",
    "---\n",
    "### 📝 **학습 목차**\n",
    "> 1-1. 인코딩과 디코딩 <br>\n",
    "> 1-2. 클로저와 데코레이터 <br>\n",
    "> 1-3. 이터레이터와 제네레이터 <br>\n",
    "> **1-4. 변수 타입 어노테이션** <br>\n",
    "> 1-5. 문자열 처리 <br>\n",
    "> 1-6. 외부 라이브러리 다루기"
   ]
  },
  {
   "cell_type": "markdown",
   "metadata": {
    "pycharm": {
     "name": "#%% md\n"
    }
   },
   "source": [
    "## 1-4. 변수 타입 어노테이션"
   ]
  },
  {
   "cell_type": "markdown",
   "metadata": {
    "pycharm": {
     "name": "#%% md\n"
    }
   },
   "source": [
    "> ### **타입 어노테이션 (Type Annotation)**\n",
    "> - 변수나 상수를 선언할 때 그 타입을 명시적으로 선언해 줌으로써 **어떤 타입의 값이 저장될 것인지**를 직접 알려주는 방법\n",
    "> - 프로그램은 수많은 함수, 클래스 등으로 복잡하게 얽혀있는 경우가 많은데, **변수 타입이 맞지 않으면 에러나 버그의 발생 가능성**이 높아짐\n",
    "> - 사용 시, **코드 가독성**과 **협업 효율성**이 높아짐\n",
    "> - Python 3.5 부터 기능이 지원되어 많은 라이브러리, 프로젝트에서 사용이 확산되는 추세\n",
    "> - 파이썬은 프로그램 실행 도중 변수 타입을 동적으로 바꿀 수 있는 **`동적 프로그래밍 언어(dynamic programming language)`**\n",
    "> - Java, C, C++ 등은 컴파일 시 변수 타입이 결정되는 **`정적 프로그래밍 언어(statically typed language)`**"
   ]
  },
  {
   "cell_type": "markdown",
   "metadata": {
    "pycharm": {
     "name": "#%% md\n"
    }
   },
   "source": [
    "> #### 💡 **동적 프로그래밍 언어의 장단점**\n",
    "> - 장점\n",
    ">    - 타입에 자유로워 유연한 코딩이 가능하므로 쉽고 빠르게 프로그램을 만들 수 있음\n",
    ">    - 타입 체크를 위한 코드가 없으므로 비교적 깔끔한 소스 코드\n",
    "> - 단점\n",
    ">    - 프로젝트의 규모가 커질수록 잘못된 타입 사용으로 말미암은 버그가 생길 확률 높아짐\n",
    ">    - 타입 어노테이션이 없을 시, 정적 프로그래밍 언어와 타입 버그 발생 시 원인 찾기 어려움\n",
    ">    - 실행속도가 느림"
   ]
  },
  {
   "cell_type": "code",
   "execution_count": null,
   "metadata": {
    "pycharm": {
     "name": "#%%\n"
    }
   },
   "outputs": [],
   "source": [
    "# Java\n",
    "int a = 1;\n",
    "a = \"1\";   # 에러 발생"
   ]
  },
  {
   "cell_type": "code",
   "execution_count": 1,
   "metadata": {
    "pycharm": {
     "name": "#%%\n"
    }
   },
   "outputs": [
    {
     "data": {
      "text/plain": [
       "int"
      ]
     },
     "execution_count": 1,
     "metadata": {},
     "output_type": "execute_result"
    }
   ],
   "source": [
    "# Python\n",
    "a = int(1)\n",
    "type(a)"
   ]
  },
  {
   "cell_type": "code",
   "execution_count": 2,
   "metadata": {
    "pycharm": {
     "name": "#%%\n"
    }
   },
   "outputs": [
    {
     "data": {
      "text/plain": [
       "str"
      ]
     },
     "execution_count": 2,
     "metadata": {},
     "output_type": "execute_result"
    }
   ],
   "source": [
    "a = str(\"1\")\n",
    "type(a)"
   ]
  },
  {
   "cell_type": "code",
   "execution_count": 3,
   "metadata": {
    "pycharm": {
     "name": "#%%\n"
    }
   },
   "outputs": [],
   "source": [
    "# 파이썬 타입 어노테이션\n",
    "a: int = 10"
   ]
  },
  {
   "cell_type": "code",
   "execution_count": 4,
   "metadata": {},
   "outputs": [
    {
     "data": {
      "text/plain": [
       "10"
      ]
     },
     "execution_count": 4,
     "metadata": {},
     "output_type": "execute_result"
    }
   ],
   "source": [
    "a"
   ]
  },
  {
   "cell_type": "code",
   "execution_count": 5,
   "metadata": {
    "pycharm": {
     "name": "#%%\n"
    }
   },
   "outputs": [],
   "source": [
    "def add(a: int, b: int) -> int: \n",
    "    return a + b"
   ]
  },
  {
   "cell_type": "code",
   "execution_count": null,
   "metadata": {
    "pycharm": {
     "name": "#%%\n"
    }
   },
   "outputs": [],
   "source": [
    "add(1, 2)"
   ]
  },
  {
   "cell_type": "code",
   "execution_count": null,
   "metadata": {
    "pycharm": {
     "name": "#%%\n"
    }
   },
   "outputs": [],
   "source": [
    "add(\"1\", \"2\")   # 에러가 발생하지는 않음"
   ]
  },
  {
   "cell_type": "code",
   "execution_count": null,
   "metadata": {
    "pycharm": {
     "name": "#%%\n"
    }
   },
   "outputs": [],
   "source": [
    "# 타입 어노테이션 확인\n",
    "add.__annotations__"
   ]
  },
  {
   "cell_type": "code",
   "execution_count": null,
   "metadata": {
    "pycharm": {
     "name": "#%%\n"
    }
   },
   "outputs": [],
   "source": []
  }
 ],
 "metadata": {
  "kernelspec": {
   "display_name": "fastcampus",
   "language": "python",
   "name": "fastcampus"
  },
  "language_info": {
   "codemirror_mode": {
    "name": "ipython",
    "version": 3
   },
   "file_extension": ".py",
   "mimetype": "text/x-python",
   "name": "python",
   "nbconvert_exporter": "python",
   "pygments_lexer": "ipython3",
   "version": "3.9.13"
  }
 },
 "nbformat": 4,
 "nbformat_minor": 4
}
