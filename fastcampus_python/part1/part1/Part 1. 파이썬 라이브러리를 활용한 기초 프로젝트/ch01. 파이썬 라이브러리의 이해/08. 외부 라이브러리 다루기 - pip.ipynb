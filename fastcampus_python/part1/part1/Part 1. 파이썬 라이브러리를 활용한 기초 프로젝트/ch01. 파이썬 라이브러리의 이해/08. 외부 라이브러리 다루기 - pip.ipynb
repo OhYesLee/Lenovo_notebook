{
 "cells": [
  {
   "cell_type": "markdown",
   "metadata": {
    "pycharm": {
     "name": "#%% md\n"
    }
   },
   "source": [
    "# **Chapter 1. 파이썬 라이브러리의 이해**\n",
    "\n",
    "\n",
    "---\n",
    "### 📝 **학습 목차**\n",
    "> 1-1. 인코딩과 디코딩 <br>\n",
    "> 1-2. 클로저와 데코레이터 <br>\n",
    "> 1-3. 이터레이터와 제네레이터 <br>\n",
    "> 1-4. 변수 타입 어노테이션 <br>\n",
    "> 1-5. 문자열 처리 <br>\n",
    "> **1-6. 외부 라이브러리 다루기**"
   ]
  },
  {
   "cell_type": "markdown",
   "metadata": {
    "pycharm": {
     "name": "#%% md\n"
    }
   },
   "source": [
    "## 1-6. 외부 라이브러리 다루기"
   ]
  },
  {
   "cell_type": "markdown",
   "metadata": {
    "pycharm": {
     "name": "#%% md\n"
    }
   },
   "source": [
    "> ### **방법 1. Pycharm 패키지 매니저 사용**"
   ]
  },
  {
   "cell_type": "markdown",
   "metadata": {
    "pycharm": {
     "name": "#%% md\n"
    }
   },
   "source": [
    "> ### **방법 2. pip 사용**\n",
    "> - 설치 \n",
    ">    - `pip install 패키지명`\n",
    "> - 삭제\n",
    ">    - `pip uninstall 패키지명`\n",
    "> - 특정 버전으로 설치\n",
    ">    - `pip install 패키지명==버전`\n",
    "> - 패키지 버전 업그레이드\n",
    ">    - `pip install --upgrade 패키지명`\n",
    "> - 설치된 패키지 확인\n",
    ">    - `pip list`\n",
    "> - 패키지 리스트 파일로 저장\n",
    ">    - `pip list --format=freeze > requirements.txt`\n",
    "> - 패키지 리스트 설치\n",
    ">    - `pip install -r requirements.txt`"
   ]
  },
  {
   "cell_type": "code",
   "execution_count": null,
   "metadata": {
    "pycharm": {
     "name": "#%%\n"
    }
   },
   "outputs": [],
   "source": []
  }
 ],
 "metadata": {
  "kernelspec": {
   "display_name": "fastcampus",
   "language": "python",
   "name": "fastcampus"
  },
  "language_info": {
   "codemirror_mode": {
    "name": "ipython",
    "version": 3
   },
   "file_extension": ".py",
   "mimetype": "text/x-python",
   "name": "python",
   "nbconvert_exporter": "python",
   "pygments_lexer": "ipython3",
   "version": "3.9.13"
  }
 },
 "nbformat": 4,
 "nbformat_minor": 4
}
