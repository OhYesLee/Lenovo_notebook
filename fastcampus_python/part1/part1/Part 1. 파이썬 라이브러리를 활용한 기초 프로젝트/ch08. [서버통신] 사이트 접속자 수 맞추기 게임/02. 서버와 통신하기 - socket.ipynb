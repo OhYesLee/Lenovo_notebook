{
 "cells": [
  {
   "cell_type": "markdown",
   "metadata": {
    "pycharm": {
     "name": "#%% md\n"
    }
   },
   "source": [
    "# **Chapter 8. [서버/통신] 사이트 접속자 수 맞추기 게임**\n",
    "\n",
    "\n",
    "---\n",
    "### 📝 **학습 목차**\n",
    "> 8-1. 프로젝트 개요 <br>\n",
    "> **8-2. 서버와 통신하기 - socket** <br>\n",
    "> 8-3. 여러명이 동시에 접속하려면? - select <br>\n",
    "> 8-4. 플레이어 신호 수신하려면? - signal <br>\n",
    "> 8-5. 프로젝트 실습"
   ]
  },
  {
   "cell_type": "markdown",
   "metadata": {
    "pycharm": {
     "name": "#%% md\n"
    }
   },
   "source": [
    "## 8-2. 서버와 통신하기"
   ]
  },
  {
   "cell_type": "markdown",
   "metadata": {},
   "source": [
    "#### 💡 소켓(socket) 과 포트(port) 란?\n"
   ]
  },
  {
   "cell_type": "markdown",
   "metadata": {},
   "source": [
    "<img src='img/socket_port.png' align='left' width='500' height='500'/>"
   ]
  },
  {
   "cell_type": "markdown",
   "metadata": {},
   "source": [
    "**소켓(socket)** 이란 소켓이란 소프트웨어로 작성된 다른 컴퓨터와 네트워크를 통해 **데이터를 송수신하기 위한 창구** 역할을 하는 통신 접속점입니다. <br>\n",
    "(ex. 소켓을 구성한다는 것은 이웃과 연락할 수 있는 _**전화기**_ 를 설치하는 것과 비슷한 개념입니다.)"
   ]
  },
  {
   "cell_type": "markdown",
   "metadata": {},
   "source": [
    "**포트(port)** 란 네트워크 상에서 통신하기 위해서 호스트 내부적으로 프로세스가 할당받아야 하는 고유한 숫자입니다. <br>\n",
    "하나의 소켓은 여러개의 포트를 할당 받을 수 있습니다. <br>\n",
    "(ex. 포트는 설치된 전화기로 연락하기 위해 필요한 특정한 _**이웃에게 연결되어 있는 번호**_ 입니다.)  <br>\n",
    "\n"
   ]
  },
  {
   "cell_type": "markdown",
   "metadata": {
    "pycharm": {
     "name": "#%% md\n"
    }
   },
   "source": [
    "> ### socket\n",
    ">  - socket은 파이썬으로 **TCP(Transmission Control Protocol) 서버/클라이언트 프로그램**을 작성할 때 사용하는 표준 라이브러리\n",
    ">  - socket 의 TCP에 대한 소켓 API 호출 순서와 데이터 플로우\n",
    "\n",
    "<img src='img/socketpng.png' align='left' width='700' height='700'/>"
   ]
  },
  {
   "cell_type": "markdown",
   "metadata": {},
   "source": [
    "#### echo 서버/클라이언트 예제"
   ]
  },
  {
   "cell_type": "markdown",
   "metadata": {},
   "source": [
    "클라이언트가 보낸 메세지를 서버가 다시 전송하는 예제"
   ]
  },
  {
   "cell_type": "markdown",
   "metadata": {},
   "source": [
    "- ① 클라이언트가 접속하면 서버에서 접속한 클라이언트 정보를 출력\n",
    "- ② 클라이언트가 문자열을 전송하면 서버가 수신한 문자열을 출력하고 다시 echo 합니다.\n",
    "- ③ 클라이언트에서 수신받은 문자열을 출력합니다."
   ]
  },
  {
   "cell_type": "markdown",
   "metadata": {},
   "source": [
    "| 서버                                                                       | 클라이언트       |\n",
    "|----------------------------------------------------------------------------|------------------|\n",
    "| Connected by ('127.0.0.1', 10055) <br> Received from ('127.0.0.1', 10055) 안녕! | Received '안녕!' |"
   ]
  },
  {
   "cell_type": "markdown",
   "metadata": {},
   "source": [
    "#### echo 서버"
   ]
  },
  {
   "cell_type": "code",
   "execution_count": null,
   "metadata": {
    "pycharm": {
     "name": "#%%\n"
    }
   },
   "outputs": [],
   "source": [
    "# echo_server.py\n",
    "import socket\n",
    "\n",
    "\n",
    "# 접속할 서버 주소입니다. 여기에서는 localhost를 사용합니다.\n",
    "HOST = '127.0.0.1'\n",
    "# 클라이언트 접속을 대기하는 포트 번호입니다.\n",
    "PORT = 9999\n",
    "\n",
    "\n",
    "# 소켓 객체를 생성합니다.\n",
    "# 주소 체계(address family)로 IPv4, 소켓 타입으로 TCP 사용합니다.\n",
    "server_socket = socket.socket(socket.AF_INET, socket.SOCK_STREAM)\n",
    "\n",
    "\n",
    "# 포트 사용중이라 연결할 수 없다는\n",
    "# WinError 10048 에러 해결를 위해 필요합니다.\n",
    "server_socket.setsockopt(socket.SOL_SOCKET, socket.SO_REUSEADDR, 1)\n",
    "\n",
    "\n",
    "# bind 함수는 소켓을 특정 네트워크 인터페이스와 포트 번호에 연결하는데 사용됩니다.\n",
    "# HOST는 hostname, ip address, 빈 문자열 \"\"이 될 수 있습니다.\n",
    "# 빈 문자열이면 모든 네트워크 인터페이스로부터의 접속을 허용합니다.\n",
    "# PORT는 1-65535 사이의 숫자를 사용할 수 있습니다.\n",
    "server_socket.bind((HOST, PORT))\n",
    "\n",
    "# 서버가 클라이언트의 접속을 허용하도록 합니다.\n",
    "server_socket.listen()\n",
    "print('서버가 실행되었습니다.')\n",
    "\n",
    "# accept 함수에서 대기하다가 클라이언트가 접속하면 새로운 소켓을 리턴합니다.\n",
    "client_socket, addr = server_socket.accept()\n",
    "\n",
    "# 접속한 클라이언트의 주소입니다.\n",
    "print('접속한 클라이언트 주소입니다.')\n",
    "print('Connected by', addr)\n",
    "\n",
    "\n",
    "\n",
    "# 무한루프\n",
    "while True:\n",
    "\n",
    "    # 클라이언트가 보낸 메시지를 수신하기 위해 대기합니다.\n",
    "    data = client_socket.recv(1024)\n",
    "\n",
    "    # 빈 문자열을 수신하면 루프를 중지합니다.\n",
    "    if not data:\n",
    "        break\n",
    "\n",
    "\n",
    "    # 수신받은 문자열을 출력합니다.\n",
    "    print('Received from', addr, data.decode())\n",
    "\n",
    "    # 받은 문자열을 다시 클라이언트로 전송해줍니다.(에코)\n",
    "    client_socket.sendall(data)\n",
    "\n",
    "\n",
    "# 소켓을 닫습니다.\n",
    "client_socket.close()\n",
    "server_socket.close()"
   ]
  },
  {
   "cell_type": "markdown",
   "metadata": {},
   "source": [
    "#### echo 클라이언트"
   ]
  },
  {
   "cell_type": "code",
   "execution_count": null,
   "metadata": {},
   "outputs": [],
   "source": [
    "# echo_client.py\n",
    "import socket\n",
    "\n",
    "\n",
    "# 서버의 주소입니다. hostname 또는 ip address를 사용할 수 있습니다.\n",
    "HOST = '127.0.0.1'\n",
    "# 서버에서 지정해 놓은 포트 번호입니다. \n",
    "PORT = 9999\n",
    "\n",
    "\n",
    "# 소켓 객체를 생성합니다. \n",
    "# 주소 체계(address family)로 IPv4, 소켓 타입으로 TCP 사용합니다.  \n",
    "client_socket = socket.socket(socket.AF_INET, socket.SOCK_STREAM)\n",
    "\n",
    "\n",
    "# 지정한 HOST와 PORT를 사용하여 서버에 접속합니다. \n",
    "client_socket.connect((HOST, PORT))\n",
    "\n",
    "# 메시지를 전송합니다. \n",
    "client_socket.sendall('안녕!'.encode())\n",
    "\n",
    "# 메시지를 수신합니다. \n",
    "data = client_socket.recv(1024)\n",
    "print('Received', repr(data.decode()))\n",
    "\n",
    "# 소켓을 닫습니다.\n",
    "client_socket.close()"
   ]
  }
 ],
 "metadata": {
  "kernelspec": {
   "display_name": "fastcampus",
   "language": "python",
   "name": "fastcampus"
  },
  "language_info": {
   "codemirror_mode": {
    "name": "ipython",
    "version": 3
   },
   "file_extension": ".py",
   "mimetype": "text/x-python",
   "name": "python",
   "nbconvert_exporter": "python",
   "pygments_lexer": "ipython3",
   "version": "3.9.13"
  }
 },
 "nbformat": 4,
 "nbformat_minor": 4
}
