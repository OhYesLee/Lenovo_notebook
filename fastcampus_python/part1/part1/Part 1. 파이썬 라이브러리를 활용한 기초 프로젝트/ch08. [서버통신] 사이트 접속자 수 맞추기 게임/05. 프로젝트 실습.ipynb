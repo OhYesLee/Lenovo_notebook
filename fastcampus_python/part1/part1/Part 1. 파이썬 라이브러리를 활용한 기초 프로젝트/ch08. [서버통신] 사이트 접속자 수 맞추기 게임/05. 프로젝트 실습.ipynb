{
 "cells": [
  {
   "cell_type": "markdown",
   "metadata": {
    "pycharm": {
     "name": "#%% md\n"
    }
   },
   "source": [
    "# **Chapter 8. [서버/통신] 사이트 접속자 수 맞추기 게임**\n",
    "\n",
    "\n",
    "---\n",
    "### 📝 **학습 목차**\n",
    "> 8-1. 프로젝트 개요 <br>\n",
    "> 8-2. 서버와 통신하기 - socket <br>\n",
    "> 8-3. 여러명이 동시에 접속하려면? - select <br>\n",
    "> 8-4. 플레이어 신호 수신하려면? - signal <br>\n",
    "> **8-5. 프로젝트 실습**"
   ]
  },
  {
   "cell_type": "markdown",
   "metadata": {
    "pycharm": {
     "name": "#%% md\n"
    }
   },
   "source": [
    "## 8-5. 사이트 접속자 수 맞추기 게임 🎮"
   ]
  },
  {
   "cell_type": "markdown",
   "metadata": {
    "pycharm": {
     "name": "#%% md\n"
    }
   },
   "source": [
    "> ### 진행 순서\n",
    ">  1. 게임 서버 만들기\n",
    ">  2. 클라이언트 만들기"
   ]
  },
  {
   "cell_type": "markdown",
   "metadata": {},
   "source": [
    "**[게임 규칙]**\n",
    "- ① 서버에서 플레이어(클라이언트)의 접속을 기다린다.\n",
    "- ② 플레이어가 서버에 접속하면 서버는 **접속자 수(정답)을 업데이트** 한다.\n",
    "- ③ 접속한 플레이어는 예상되는 현재 사이트 접속자 수를 입력해서 서버로 보낸다.\n",
    "- ④ 서버는 플레이어가 입력한 숫자가 정답보다 높을 때는 \"너무 높아요\"라고, 낮을 때는 \"너무 낮아요\"라고 응답한다.\n",
    "- ⑤ 플레이어가 0을 입력하면 \"종료\"라고 응답하고 사이트 **접속자 수(정답)을 업데이트** 한다.\n",
    "- ⑥ 클라이언트가 정답을 입력하면 \"정답\"이라고 응답하고 서버를 종료한다."
   ]
  },
  {
   "cell_type": "markdown",
   "metadata": {},
   "source": [
    "#### 8-5-1. 게임 서버 만들기"
   ]
  },
  {
   "cell_type": "code",
   "execution_count": null,
   "metadata": {},
   "outputs": [],
   "source": [
    "# multi_play_game_server.py\n",
    "\n",
    "import socket\n",
    "import select\n",
    "import random\n",
    "\n",
    "HOST = 'localhost'   # 접속 서버 주소\n",
    "PORT = 50007         # 클라이언트 접속을 대기하는 포트번호\n",
    "\n",
    "with socket.socket(socket.AF_INET, socket.SOCK_STREAM) as s:    # 소켓 생성\n",
    "    s.bind((HOST, PORT))   # 소켓과 포트 연결\n",
    "    s.listen()             # 소켓 listening 시작\n",
    "    print('서버가 시작되었습니다.')\n",
    "\n",
    "    readsocks = [s]    # select 함수에서 관찰될 소켓 리스트 생성\n",
    "    answers = {}       # 정답 딕셔너리 생성 (플레이어 별 정답 저장)\n",
    "    num_clients = 0    # 현재 접속자 수\n",
    "\n",
    "    while True:\n",
    "        # select 함수로 소켓들의 상태를 확인\n",
    "        readables, writeables, exceptions = select.select(readsocks, [], [])\n",
    "        \n",
    "        for sock in readables:\n",
    "            if sock == s:  # 신규 클라이언트 접속\n",
    "                newsock, addr = s.accept()\n",
    "                num_clients += 1  # 접속자 수 증가\n",
    "                print(f'클라이언트가 접속했습니다:{addr}, 정답은 {num_clients} 입니다.')\n",
    "                readsocks.append(newsock)\n",
    "                answers[newsock] = num_clients  # 신규 클라이언트 정답 생성\n",
    "                for key in answers.keys():      # 기존 클라이언트 정답 업데이트\n",
    "                    answers[key] = num_clients\n",
    "                    \n",
    "            else:  # 이미 접속한 클라이언트의 요청 (게임진행을 위한 요청)\n",
    "                conn = sock\n",
    "                data = conn.recv(1024).decode('utf-8')\n",
    "                print(f'데이터:{data}')\n",
    "\n",
    "                try:  # 숫자를 입력하지 않을 경우 응답 메세지\n",
    "                    n = int(data)\n",
    "                except ValueError:\n",
    "                    conn.sendall(f'입력값이 올바르지 않습니다:{data}'.encode('utf-8'))\n",
    "                    continue\n",
    "                \n",
    "                # 정답 가져오기\n",
    "                answer = answers.get(conn)\n",
    "                \n",
    "                if n == 0:  # 클라이언트가 종료 0 를 입력할 경우\n",
    "                    conn.sendall(f\"종료\".encode('utf-8'))\n",
    "                    conn.close()\n",
    "                    num_clients -= 1  # 접속자 수 감소\n",
    "                    print(f'클라이언트가 게임을 종료했습니다:{addr}, 정답은 {num_clients} 입니다.')\n",
    "                    \n",
    "                    for key in answers.keys():  # 기존 클라이언트 정답 업데이트\n",
    "                        answers[key] = num_clients\n",
    "                    readsocks.remove(conn)  # 클라이언트 접속 해제시 readsocks에서 제거\n",
    "                \n",
    "                # 클라이언트의 입력값 채점\n",
    "                elif n > answer:\n",
    "                    conn.sendall(\"너무 높아요\".encode('utf-8'))\n",
    "                elif n < answer:\n",
    "                    conn.sendall(\"너무 낮아요\".encode('utf-8'))\n",
    "                else:\n",
    "                    conn.sendall(\"정답입니다 !\".encode('utf-8'))\n"
   ]
  },
  {
   "cell_type": "markdown",
   "metadata": {},
   "source": [
    "#### 8-5-2. 클라이언트 만들기"
   ]
  },
  {
   "cell_type": "code",
   "execution_count": null,
   "metadata": {},
   "outputs": [],
   "source": [
    "# multi_play_game_client.py\n",
    "\n",
    "import socket\n",
    "\n",
    "HOST = 'localhost'   # 접속 서버 주소\n",
    "PORT = 50007         # 클라이언트 접속을 대기하는 포트번호\n",
    "\n",
    "with socket.socket(socket.AF_INET, socket.SOCK_STREAM) as s:    # 소켓 생성\n",
    "    s.connect((HOST, PORT))  # 서버 연결\n",
    "\n",
    "    while True:\n",
    "        # 정답 입력\n",
    "        n = input(\"예상 플레이어 숫자를 입력하세요(0은 게임포기):\")\n",
    "        \n",
    "        # 입력값이 없을 경우\n",
    "        if not n.strip():\n",
    "            print(\"입력값이 잘못되었습니다.\")\n",
    "            continue\n",
    "        \n",
    "        # 서버 송신 (인코딩)\n",
    "        s.sendall(n.encode('utf-8'))\n",
    "        \n",
    "        # 서버 응답 수신 (디코딩)\n",
    "        data = s.recv(1024).decode('utf-8')\n",
    "        \n",
    "        # 서버 응답이 '정답'이거나 '종료' 이면 게임 종료\n",
    "        print(f'서버응답:{data}')\n",
    "        if data == \"정답\" or data == \"종료\":\n",
    "            break"
   ]
  },
  {
   "cell_type": "code",
   "execution_count": null,
   "metadata": {},
   "outputs": [],
   "source": []
  }
 ],
 "metadata": {
  "kernelspec": {
   "display_name": "fastcampus",
   "language": "python",
   "name": "fastcampus"
  },
  "language_info": {
   "codemirror_mode": {
    "name": "ipython",
    "version": 3
   },
   "file_extension": ".py",
   "mimetype": "text/x-python",
   "name": "python",
   "nbconvert_exporter": "python",
   "pygments_lexer": "ipython3",
   "version": "3.9.13"
  }
 },
 "nbformat": 4,
 "nbformat_minor": 4
}
