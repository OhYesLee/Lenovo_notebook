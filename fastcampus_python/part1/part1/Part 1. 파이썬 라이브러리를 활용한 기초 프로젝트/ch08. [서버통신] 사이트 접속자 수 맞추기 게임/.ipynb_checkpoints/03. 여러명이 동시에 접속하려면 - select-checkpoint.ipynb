{
 "cells": [
  {
   "cell_type": "markdown",
   "metadata": {
    "pycharm": {
     "name": "#%% md\n"
    }
   },
   "source": [
    "# **Chapter 8. [서버/통신] 사이트 접속자 수 맞추기 게임**\n",
    "\n",
    "\n",
    "---\n",
    "### 📝 **학습 목차**\n",
    "> 8-1. 프로젝트 개요 <br>\n",
    "> 8-2. 서버와 통신하기 - socket <br>\n",
    "> **8-3. 여러명이 동시에 접속하려면? - select** <br>\n",
    "> 8-4. 플레이어 신호 수신하려면? - signal <br>\n",
    "> 8-5. 프로젝트 실습"
   ]
  },
  {
   "cell_type": "markdown",
   "metadata": {
    "pycharm": {
     "name": "#%% md\n"
    }
   },
   "source": [
    "## 8-3. 여러명이 동시에 접속하기"
   ]
  },
  {
   "cell_type": "markdown",
   "metadata": {},
   "source": [
    "🔍 `socket` 만 사용한 서버 통신 예제의 문제점 \n",
    "- 클라이언트가 소켓 서버에 접속하여 접속을 종료하면 소켓 서버 역시 종료\n",
    "- 소켓 서버가 여러 클라이언트와 동시에 접속될 수 없다."
   ]
  },
  {
   "cell_type": "markdown",
   "metadata": {
    "pycharm": {
     "name": "#%% md\n"
    }
   },
   "source": [
    "> ### select\n",
    ">  - `select` 는 소켓 프로그래밍에서 **하나의 전송로로 여러 종류의 데이터를 송수신**하게 해주는 모듈입니다.\n",
    ">  - 한 개의 프로세스로 두 개 이상의 클라이언트 요청을 처리하는 것을 의미하는 **I/O 멀티 플렉싱** 을 가능하게 해줍니다.\n",
    ">  - `select` 는 소켓에서 출력된 `read`, `write`, `except` 리스트를 인수로 사용"
   ]
  },
  {
   "cell_type": "markdown",
   "metadata": {},
   "source": [
    "#### echo 서버 (멀티 플렉싱 적용)"
   ]
  },
  {
   "cell_type": "markdown",
   "metadata": {},
   "source": [
    "echo_server.py 코드 비교 (Pycharm)"
   ]
  },
  {
   "cell_type": "code",
   "execution_count": null,
   "metadata": {},
   "outputs": [],
   "source": [
    "# echo_server_multi.py\n",
    "import socket\n",
    "import select\n",
    "\n",
    "# 접속할 서버 주소입니다. 여기에서는 localhost를 사용합니다.\n",
    "HOST = '127.0.0.1'\n",
    "# 클라이언트 접속을 대기하는 포트 번호입니다.\n",
    "PORT = 9999\n",
    "\n",
    "\n",
    "# 소켓 객체를 생성합니다.\n",
    "# 주소 체계(address family)로 IPv4, 소켓 타입으로 TCP 사용합니다.\n",
    "server_socket = socket.socket(socket.AF_INET, socket.SOCK_STREAM)\n",
    "\n",
    "\n",
    "# 포트 사용중이라 연결할 수 없다는\n",
    "# WinError 10048 에러 해결를 위해 필요합니다.\n",
    "server_socket.setsockopt(socket.SOL_SOCKET, socket.SO_REUSEADDR, 1)\n",
    "\n",
    "\n",
    "# bind 함수는 소켓을 특정 네트워크 인터페이스와 포트 번호에 연결하는데 사용됩니다.\n",
    "# HOST는 hostname, ip address, 빈 문자열 \"\"이 될 수 있습니다.\n",
    "# 빈 문자열이면 모든 네트워크 인터페이스로부터의 접속을 허용합니다.\n",
    "# PORT는 1-65535 사이의 숫자를 사용할 수 있습니다.\n",
    "server_socket.bind((HOST, PORT))\n",
    "\n",
    "# 서버가 클라이언트의 접속을 허용하도록 합니다.\n",
    "server_socket.listen()\n",
    "print('서버가 실행되었습니다.')\n",
    "\n",
    "# select 함수에서 관찰될 소켓 리스트 생성\n",
    "readsocks = [server_socket]\n",
    "\n",
    "while True:\n",
    "    # select 함수로 소켓들의 상태를 확인합니다.\n",
    "    readables, writeables, exceptions = select.select(readsocks, [], [])\n",
    "    for sock in readables:\n",
    "\n",
    "        # 신규 클라이언트 접속\n",
    "        if sock == server_socket:\n",
    "            # accept 함수에서 대기하다가 클라이언트가 접속하면 새로운 소켓을 리턴합니다.\n",
    "            client_socket, addr = server_socket.accept()\n",
    "\n",
    "            # 접속한 클라이언트의 주소입니다.\n",
    "            print('접속한 클라이언트 주소입니다.')\n",
    "            print('Connected by', addr)\n",
    "\n",
    "            # 소켓 리스트에 추가\n",
    "            readsocks.append(client_socket)\n",
    "\n",
    "        # 기존 클라이언트 응답\n",
    "        else:\n",
    "            # 무한루프를 돌면서\n",
    "            while True:\n",
    "\n",
    "                # 클라이언트가 보낸 메시지를 수신하기 위해 대기합니다.\n",
    "                data = sock.recv(1024)\n",
    "\n",
    "                # 빈 문자열을 수신하면 루프를 중지합니다.\n",
    "                if not data:\n",
    "                    print(sock.getpeername(), '접속 종료', data.decode())\n",
    "\n",
    "                    # 소켓을 닫습니다.\n",
    "                    sock.close()\n",
    "                    readsocks.remove(sock)\n",
    "                    break\n",
    "\n",
    "                # 수신받은 문자열을 출력합니다.\n",
    "                print('Received from', sock.getpeername(), data.decode())\n",
    "\n",
    "                # 받은 문자열을 다시 클라이언트로 전송해줍니다.(에코)\n",
    "                sock.sendall(data)\n",
    "\n",
    "\n",
    "# 서버 종료\n",
    "server_socket.close()"
   ]
  },
  {
   "cell_type": "code",
   "execution_count": null,
   "metadata": {},
   "outputs": [],
   "source": []
  }
 ],
 "metadata": {
  "kernelspec": {
   "display_name": "fastcampus",
   "language": "python",
   "name": "fastcampus"
  },
  "language_info": {
   "codemirror_mode": {
    "name": "ipython",
    "version": 3
   },
   "file_extension": ".py",
   "mimetype": "text/x-python",
   "name": "python",
   "nbconvert_exporter": "python",
   "pygments_lexer": "ipython3",
   "version": "3.9.13"
  }
 },
 "nbformat": 4,
 "nbformat_minor": 4
}
