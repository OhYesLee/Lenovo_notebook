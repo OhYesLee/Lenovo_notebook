{
 "cells": [
  {
   "cell_type": "markdown",
   "metadata": {
    "pycharm": {
     "name": "#%% md\n"
    }
   },
   "source": [
    "# **Chapter 8. [서버/통신] 사이트 접속자 수 맞추기 게임**\n",
    "\n",
    "\n",
    "---\n",
    "### 📝 **학습 목차**\n",
    "> 8-1. 프로젝트 개요 <br>\n",
    "> 8-2. 서버와 통신하기 - socket <br>\n",
    "> 8-3. 여러명이 동시에 접속하려면? - select <br>\n",
    "> **8-4. 플레이어 신호 수신하려면? - signal** <br>\n",
    "> 8-5. 프로젝트 실습"
   ]
  },
  {
   "cell_type": "markdown",
   "metadata": {
    "pycharm": {
     "name": "#%% md\n"
    }
   },
   "source": [
    "## 8-4. 플레이어 신호를 수신하려면"
   ]
  },
  {
   "cell_type": "markdown",
   "metadata": {},
   "source": [
    "#### 💡시그널(signal) 이란?\n"
   ]
  },
  {
   "cell_type": "markdown",
   "metadata": {},
   "source": [
    "시그널은 프로세스 or 프로그램에 특정 **이벤트가 발생**했을 때 **전달하는 신호**를 의미 <br>\n",
    "시그널 종류와 각 시그널에 따른 기본 조치 동작이 미리 정해져 있습니다."
   ]
  },
  {
   "cell_type": "markdown",
   "metadata": {},
   "source": [
    "- **시그널 발생시 기본 조치**\n",
    "  - 1) 신호 무시\n",
    "  - 2) 특정 신호를 캐치해서 원하는 조치가 실행되도록 함 \n",
    "  - 3) 기본 조치 동작이 실행되도록 함 <br> <br>\n",
    "- **주요 시그널의 기본 조치 동작**\n",
    "  - SIGKILL : 프로세스를 강제 종료\n",
    "  - SIGALARM : 알람 발생\n",
    "  - SIGSTP : 프로세스를 중단 (`Ctrl` + `z`)\n",
    "  - SIGCONT : 멈춰진 프로세스를 재개 (Continue)\n",
    "  - SIGINT : 키보드 인터럽트를 보내서 프로세스를 중단 (`Ctrl` + `c`)\n",
    "  - SIGSEGV : 프로세스가 다른 메모리영역을 침범"
   ]
  },
  {
   "cell_type": "markdown",
   "metadata": {
    "pycharm": {
     "name": "#%% md\n"
    }
   },
   "source": [
    "> ### signal\n",
    ">  - `signal` 은 **특정한 신호**를 수신했을 때 **사용자가 정의한 함수를 호출**하는 모듈\n",
    ">  - [signal 공식문서](https://docs.python.org/ko/3/library/signal.html)"
   ]
  },
  {
   "cell_type": "markdown",
   "metadata": {},
   "source": [
    "#### signal 미적용"
   ]
  },
  {
   "cell_type": "markdown",
   "metadata": {},
   "source": [
    "CMD 에서 실행 확인"
   ]
  },
  {
   "cell_type": "markdown",
   "metadata": {},
   "source": [
    "`Ctrl` + `C` 를 입력할 경우, 키보드 인터럽트(SIGINT) 에러 발생 후 프로그램 중단"
   ]
  },
  {
   "cell_type": "code",
   "execution_count": null,
   "metadata": {},
   "outputs": [],
   "source": [
    "# signal_test.py\n",
    "import time\n",
    "\n",
    "while True:\n",
    "    print('대기중...')\n",
    "    time.sleep(10)"
   ]
  },
  {
   "cell_type": "markdown",
   "metadata": {},
   "source": [
    "#### signal 적용"
   ]
  },
  {
   "cell_type": "markdown",
   "metadata": {},
   "source": [
    "CMD 에서 실행 확인"
   ]
  },
  {
   "cell_type": "markdown",
   "metadata": {},
   "source": [
    "`Ctrl` + `C` 를 입력할 경우, 키보드 인터럽트(SIGINT) 신호를 감지하고 `handler` 함수 실행"
   ]
  },
  {
   "cell_type": "code",
   "execution_count": null,
   "metadata": {},
   "outputs": [],
   "source": [
    "# signal_test.py\n",
    "import time\n",
    "import signal\n",
    "\n",
    "\n",
    "def handler(signum, frame):  # signum : 발생한 신호의 숫자, frame : 프로그램 실행 스텍 프레임\n",
    "    print(\"Ctrl+C 신호를 수신했습니다.\")\n",
    "\n",
    "# 처리할 신호 유형, 실행할 함수\n",
    "signal.signal(signal.SIGINT, handler)\n",
    "\n",
    "while True:\n",
    "    print('대기중...')\n",
    "    time.sleep(10)"
   ]
  },
  {
   "cell_type": "code",
   "execution_count": null,
   "metadata": {},
   "outputs": [],
   "source": []
  }
 ],
 "metadata": {
  "kernelspec": {
   "display_name": "fastcampus",
   "language": "python",
   "name": "fastcampus"
  },
  "language_info": {
   "codemirror_mode": {
    "name": "ipython",
    "version": 3
   },
   "file_extension": ".py",
   "mimetype": "text/x-python",
   "name": "python",
   "nbconvert_exporter": "python",
   "pygments_lexer": "ipython3",
   "version": "3.9.13"
  }
 },
 "nbformat": 4,
 "nbformat_minor": 4
}
