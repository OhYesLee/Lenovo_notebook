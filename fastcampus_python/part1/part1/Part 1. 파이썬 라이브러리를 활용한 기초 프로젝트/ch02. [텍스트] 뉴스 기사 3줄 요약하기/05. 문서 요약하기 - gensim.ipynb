{
 "cells": [
  {
   "cell_type": "markdown",
   "metadata": {
    "pycharm": {
     "name": "#%% md\n"
    }
   },
   "source": [
    "# **Chapter 2. [텍스트] 뉴스기사 3줄 요약하기**\n",
    "\n",
    "\n",
    "---\n",
    "### 📝 **학습 목차**\n",
    "> 2-1. 프로젝트 개요 <br>\n",
    "> 2-2. 바이너리 파일을 문자열로 변경 - base64 <br>\n",
    "> 2-3. 문자열 다루기 - textwrap, re <br>\n",
    "> 2-4. 단어 개수 구하기 - collections.Counter** <br>\n",
    "> **2-5. 문서 요약하기 - gensim** <br>\n",
    "> 2-6. 텍스트 파일 저장 - open, close <br>\n",
    "> 2-7. 프로젝트 실습"
   ]
  },
  {
   "cell_type": "markdown",
   "metadata": {
    "pycharm": {
     "name": "#%% md\n"
    }
   },
   "source": [
    "## 2-5. 문서 요약하기"
   ]
  },
  {
   "cell_type": "markdown",
   "metadata": {
    "pycharm": {
     "name": "#%% md\n"
    }
   },
   "source": [
    "### 2-5-1. gensim"
   ]
  },
  {
   "cell_type": "markdown",
   "metadata": {
    "pycharm": {
     "name": "#%% md\n"
    }
   },
   "source": [
    "> <img align='left' src='img/gensim_logo.png' width='200' height='200'/> <br> <br> <br> <br>\n",
    ">\n",
    "> ### 자연어 처리, 토픽 모델링에 활발히 사용되는 파이썬 머신러닝 라이브러리\n",
    "> - **`Word2Vec`** 알고리즘을 통한 **자연어의 벡터화 (Word Embedding)** 이 대표적\n",
    ">  <img align='left' src='img/word2vec_exp.png' width='500' height='500'/>"
   ]
  },
  {
   "cell_type": "markdown",
   "metadata": {
    "pycharm": {
     "name": "#%% md\n"
    }
   },
   "source": [
    "> - **`summarization`** 내장 모듈로 **긴 문장을 요약**할 수 있음 ( _gensim 4.x 버전 부터는 요약기능이 지원되지 않음 !_ )\n",
    "> - **gensim 3.7.3 버전**을 사용"
   ]
  },
  {
   "cell_type": "markdown",
   "metadata": {
    "pycharm": {
     "name": "#%% md\n"
    }
   },
   "source": [
    "### Word2Vec 예제"
   ]
  },
  {
   "cell_type": "markdown",
   "metadata": {
    "pycharm": {
     "name": "#%% md\n"
    }
   },
   "source": [
    "- 30+ 개국어 단어 학습 프로젝트 (https://github.com/Kyubyong/wordvectors)\n",
    "- [사전 학습모델 다운로드](https://docs.google.com/uc?export=download&id=0B0ZXk88koS2KbDhXdWg1Q2RydlU)"
   ]
  },
  {
   "cell_type": "code",
   "execution_count": 1,
   "metadata": {
    "pycharm": {
     "name": "#%%\n"
    }
   },
   "outputs": [],
   "source": [
    "import gensim"
   ]
  },
  {
   "cell_type": "code",
   "execution_count": 2,
   "metadata": {
    "pycharm": {
     "name": "#%%\n"
    }
   },
   "outputs": [
    {
     "name": "stderr",
     "output_type": "stream",
     "text": [
      "C:\\Users\\Shin-Nyum\\anaconda3\\envs\\fastcampus\\lib\\site-packages\\gensim\\models\\base_any2vec.py:742: UserWarning: C extension not loaded, training will be slow. Install a C compiler and reinstall gensim for fast training.\n",
      "  warnings.warn(\n"
     ]
    }
   ],
   "source": [
    "# 모델 불러오기\n",
    "model = gensim.models.Word2Vec.load('ko/ko.bin')"
   ]
  },
  {
   "cell_type": "code",
   "execution_count": 3,
   "metadata": {},
   "outputs": [
    {
     "data": {
      "text/plain": [
       "<gensim.models.word2vec.Word2Vec at 0x243754f44c0>"
      ]
     },
     "execution_count": 3,
     "metadata": {},
     "output_type": "execute_result"
    }
   ],
   "source": [
    "model"
   ]
  },
  {
   "cell_type": "code",
   "execution_count": 4,
   "metadata": {
    "pycharm": {
     "name": "#%%\n"
    }
   },
   "outputs": [
    {
     "data": {
      "text/plain": [
       "[('리포트', 0.6553798317909241),\n",
       " ('언론사', 0.6399534940719604),\n",
       " ('앵커', 0.637794017791748),\n",
       " ('데일리', 0.6316319704055786),\n",
       " ('일간지', 0.6260204315185547),\n",
       " ('투데이', 0.623687744140625),\n",
       " ('토크쇼', 0.593853771686554),\n",
       " ('중앙일보', 0.5876286625862122),\n",
       " ('데스크', 0.5873064398765564),\n",
       " ('한겨레', 0.5844350457191467)]"
      ]
     },
     "execution_count": 4,
     "metadata": {},
     "output_type": "execute_result"
    }
   ],
   "source": [
    "# 유사한 단어 검색\n",
    "model.wv.most_similar(\"뉴스\")"
   ]
  },
  {
   "cell_type": "code",
   "execution_count": 5,
   "metadata": {
    "pycharm": {
     "name": "#%%\n"
    }
   },
   "outputs": [
    {
     "data": {
      "text/plain": [
       "-0.019872822"
      ]
     },
     "execution_count": 5,
     "metadata": {},
     "output_type": "execute_result"
    }
   ],
   "source": [
    "# 유사도 검색\n",
    "model.wv.similarity('자동차', '강아지')"
   ]
  },
  {
   "cell_type": "code",
   "execution_count": 6,
   "metadata": {
    "pycharm": {
     "name": "#%%\n"
    }
   },
   "outputs": [
    {
     "data": {
      "text/plain": [
       "0.42055488"
      ]
     },
     "execution_count": 6,
     "metadata": {},
     "output_type": "execute_result"
    }
   ],
   "source": [
    "# 유사도 검색\n",
    "model.wv.similarity('자동차', '버스')"
   ]
  },
  {
   "cell_type": "markdown",
   "metadata": {
    "pycharm": {
     "name": "#%% md\n"
    }
   },
   "source": [
    "### 문서 요약하기"
   ]
  },
  {
   "cell_type": "markdown",
   "metadata": {
    "pycharm": {
     "name": "#%% md\n"
    }
   },
   "source": [
    "- [AI 도서자료 요약 데이터](https://aihub.or.kr/aihubdata/data/view.do?currMenu=115&topMenu=100&aihubDataSe=realm&dataSetSn=93)\n",
    "- [데이터 다운로드 링크](https://docs.google.com/uc?export=download&id=1-FOX-Uo17eG5lV0qop9SWaTuzp7AIYtX)"
   ]
  },
  {
   "cell_type": "code",
   "execution_count": 7,
   "metadata": {
    "pycharm": {
     "name": "#%%\n"
    }
   },
   "outputs": [],
   "source": [
    "from gensim.summarization.summarizer import summarize\n",
    "import pandas as pd\n",
    "import numpy as np"
   ]
  },
  {
   "cell_type": "code",
   "execution_count": 8,
   "metadata": {
    "pycharm": {
     "name": "#%%\n"
    }
   },
   "outputs": [],
   "source": [
    "# 데이터 불러오기\n",
    "df = pd.read_csv('Book_test.csv')\n",
    "df = df.iloc[0:100]\n",
    "df.reset_index(inplace=True)"
   ]
  },
  {
   "cell_type": "code",
   "execution_count": 9,
   "metadata": {
    "pycharm": {
     "name": "#%%\n"
    }
   },
   "outputs": [
    {
     "data": {
      "text/html": [
       "<div>\n",
       "<style scoped>\n",
       "    .dataframe tbody tr th:only-of-type {\n",
       "        vertical-align: middle;\n",
       "    }\n",
       "\n",
       "    .dataframe tbody tr th {\n",
       "        vertical-align: top;\n",
       "    }\n",
       "\n",
       "    .dataframe thead th {\n",
       "        text-align: right;\n",
       "    }\n",
       "</style>\n",
       "<table border=\"1\" class=\"dataframe\">\n",
       "  <thead>\n",
       "    <tr style=\"text-align: right;\">\n",
       "      <th></th>\n",
       "      <th>index</th>\n",
       "      <th>Unnamed: 0</th>\n",
       "      <th>passage</th>\n",
       "      <th>summary</th>\n",
       "    </tr>\n",
       "  </thead>\n",
       "  <tbody>\n",
       "    <tr>\n",
       "      <th>0</th>\n",
       "      <td>0</td>\n",
       "      <td>0</td>\n",
       "      <td>이 장은 후진타오(호금도) 시대가 어떤 과정을 통해 등장했는가를 검토하는 것이다....</td>\n",
       "      <td>후진타오 시대는 제 3세대 지도자가 물러나며 제 4세대 지도자가 새로운 통치 집단...</td>\n",
       "    </tr>\n",
       "    <tr>\n",
       "      <th>1</th>\n",
       "      <td>1</td>\n",
       "      <td>1</td>\n",
       "      <td>한편 사영기업가의 입당허용이 단기간에 중국정치에 변화를 몰고 올 것 같지는 않다....</td>\n",
       "      <td>사영기업가 계층은 국가의 통제를 아직 벗어나지 못했다는 등의 이유로 단기간에 중국...</td>\n",
       "    </tr>\n",
       "    <tr>\n",
       "      <th>2</th>\n",
       "      <td>2</td>\n",
       "      <td>2</td>\n",
       "      <td>그런데 제 16차 당 대회에서는 민족주의를 강조하는 경향이 이전보다 더욱 두드러졌...</td>\n",
       "      <td>공산당이 국민정당에 대해 민족정당이 된 것, 정치보고에 민족정신 등에 대한 강조가...</td>\n",
       "    </tr>\n",
       "    <tr>\n",
       "      <th>3</th>\n",
       "      <td>3</td>\n",
       "      <td>3</td>\n",
       "      <td>2.3.2 제10기 전국인민대표대회 제 1차 회의(2003년)\\n 2003년 3월 ...</td>\n",
       "      <td>2003년의 10기 전국인대 1차 회의는 주요 국가지도자에 대한 인선이 있었고 공...</td>\n",
       "    </tr>\n",
       "    <tr>\n",
       "      <th>4</th>\n",
       "      <td>4</td>\n",
       "      <td>4</td>\n",
       "      <td>1) 인선에 대한 총괄평가\\n 제 10기 전국인대 제 1차 회의에서 선출(비준)된...</td>\n",
       "      <td>10기 전국인대 1차 회의는 완전하고 실질적인 권력이양이 이루어지지 않았다. 이에...</td>\n",
       "    </tr>\n",
       "  </tbody>\n",
       "</table>\n",
       "</div>"
      ],
      "text/plain": [
       "   index  Unnamed: 0                                            passage  \\\n",
       "0      0           0   이 장은 후진타오(호금도) 시대가 어떤 과정을 통해 등장했는가를 검토하는 것이다....   \n",
       "1      1           1   한편 사영기업가의 입당허용이 단기간에 중국정치에 변화를 몰고 올 것 같지는 않다....   \n",
       "2      2           2   그런데 제 16차 당 대회에서는 민족주의를 강조하는 경향이 이전보다 더욱 두드러졌...   \n",
       "3      3           3  2.3.2 제10기 전국인민대표대회 제 1차 회의(2003년)\\n 2003년 3월 ...   \n",
       "4      4           4   1) 인선에 대한 총괄평가\\n 제 10기 전국인대 제 1차 회의에서 선출(비준)된...   \n",
       "\n",
       "                                             summary  \n",
       "0   후진타오 시대는 제 3세대 지도자가 물러나며 제 4세대 지도자가 새로운 통치 집단...  \n",
       "1   사영기업가 계층은 국가의 통제를 아직 벗어나지 못했다는 등의 이유로 단기간에 중국...  \n",
       "2   공산당이 국민정당에 대해 민족정당이 된 것, 정치보고에 민족정신 등에 대한 강조가...  \n",
       "3   2003년의 10기 전국인대 1차 회의는 주요 국가지도자에 대한 인선이 있었고 공...  \n",
       "4   10기 전국인대 1차 회의는 완전하고 실질적인 권력이양이 이루어지지 않았다. 이에...  "
      ]
     },
     "execution_count": 9,
     "metadata": {},
     "output_type": "execute_result"
    }
   ],
   "source": [
    "df.head()"
   ]
  },
  {
   "cell_type": "code",
   "execution_count": 10,
   "metadata": {
    "pycharm": {
     "name": "#%%\n"
    },
    "scrolled": true
   },
   "outputs": [
    {
     "data": {
      "text/plain": [
       "' 이 장은 후진타오(호금도) 시대가 어떤 과정을 통해 등장했는가를 검토하는 것이다. 이를 위해 여기서는 2002년 11월 개최된 중국공산당 제 16차 전국대표대회(당 대회)와 2003년 3월 개최된 제 10기 전국인민대표대회(전국인대) 제 1차 회의를 분석할 것이다. 후진타오 시대는 이 두 대회를 시작으로 2004년 9월 공산당 제 16기 중앙위원회 4차 전체회의(4중전회)까지 약 2년의 긴 과정을 거쳐 형성되었다. 우선, 이 기간 동안 장쩌민(장택민), 리펑(이붕), 주룽지(주용기)로 대표되는 제 3세대 지도자가 물러나고, 후진타오, 원자바오(온가보), 쩡칭홍(증경홍)으로 대표되는 제 4세대 지도자가 새로운 통치 집단으로 등장했다. 또한, 이 기간 동안 후진타오 시대의 중국이 실시할 국가정책의 방침과 내용이 서서히 모습을 드러냈다. 따라서 후진타오 시대의 등장과정을 이해하기 위해서는 16차 당 대회와 10기 전국인대 1차 회의에 대한 분석이 필수적이다.\\n 그런데 제 3세대에서 제 4세대로의 권력이양은 결코 순탄하지 않았다. 장쩌민이 2002년 16차 당 대회에서 후진타오에게 총서기직을 물려준 다음에도 2004년 공산당 제 16기 4중전회까지 약 2년 동안 중앙군사위원회 주석직을 유지했다는 사실은 이를 상징적으로 보여준다. 따라서 이 기간은 장쩌민 시대와 후진타오 시대가 공존하는 일종의 과도기라고 할 수 있다. 또한 이 기간은 후진타오와 원자바오가 장쩌민 세력에 맞서 자신의 권력기반을 공고히 하는 한편 장쩌민 시대의 유산을 정리하면서 국민들에게 자신의 새로운 비전을 제시하는 탐색기였다고 말할 수 있다.'"
      ]
     },
     "execution_count": 10,
     "metadata": {},
     "output_type": "execute_result"
    }
   ],
   "source": [
    "df.loc[0,'passage']"
   ]
  },
  {
   "cell_type": "code",
   "execution_count": 11,
   "metadata": {},
   "outputs": [
    {
     "data": {
      "text/plain": [
       "' 후진타오 시대는 제 3세대 지도자가 물러나며 제 4세대 지도자가 새로운 통치 집단이 되었고 국가정책 방침과 내용이 모습을 드러냈다. 장쩌민이 후진타오에게 총서기직을 물려준 후에도 약 2년 동안 중앙군사위원회 주석직을 유지한 것은 제 3세대에서 제 4세대로의 순탄치 않은 권력이양을 보여준다. 이 시기는 장쩌민 시대와 후진타오 시대가 공존하는 과도기이며 후진타오와 원자바오가 자신의 새로운 비전을 제시하는 탐색기였다.'"
      ]
     },
     "execution_count": 11,
     "metadata": {},
     "output_type": "execute_result"
    }
   ],
   "source": [
    "df.loc[0,'summary']"
   ]
  },
  {
   "cell_type": "code",
   "execution_count": 12,
   "metadata": {
    "pycharm": {
     "name": "#%%\n"
    }
   },
   "outputs": [
    {
     "data": {
      "text/plain": [
       "'이 장은 후진타오(호금도) 시대가 어떤 과정을 통해 등장했는가를 검토하는 것이다.\\n따라서 이 기간은 장쩌민 시대와 후진타오 시대가 공존하는 일종의 과도기라고 할 수 있다.'"
      ]
     },
     "execution_count": 12,
     "metadata": {},
     "output_type": "execute_result"
    }
   ],
   "source": [
    "# 첫번째 데이터 요약\n",
    "summarize(df.loc[0,'passage'])"
   ]
  },
  {
   "cell_type": "code",
   "execution_count": 13,
   "metadata": {
    "pycharm": {
     "name": "#%%\n"
    }
   },
   "outputs": [
    {
     "data": {
      "text/plain": [
       "'이 장은 후진타오(호금도) 시대가 어떤 과정을 통해 등장했는가를 검토하는 것이다.\\n후진타오 시대는 이 두 대회를 시작으로 2004년 9월 공산당 제 16기 중앙위원회 4차 전체회의(4중전회)까지 약 2년의 긴 과정을 거쳐 형성되었다.\\n따라서 후진타오 시대의 등장과정을 이해하기 위해서는 16차 당 대회와 10기 전국인대 1차 회의에 대한 분석이 필수적이다.\\n따라서 이 기간은 장쩌민 시대와 후진타오 시대가 공존하는 일종의 과도기라고 할 수 있다.'"
      ]
     },
     "execution_count": 13,
     "metadata": {},
     "output_type": "execute_result"
    }
   ],
   "source": [
    "# 첫번째 데이터 요약\n",
    "summarize(df.loc[0,'passage'], ratio=0.4)"
   ]
  },
  {
   "cell_type": "code",
   "execution_count": 14,
   "metadata": {
    "pycharm": {
     "name": "#%%\n"
    }
   },
   "outputs": [],
   "source": [
    "# 전체 데이터 적용\n",
    "df['extract'] = df.passage.apply(lambda x : summarize(x, ratio=0.4))"
   ]
  },
  {
   "cell_type": "code",
   "execution_count": 15,
   "metadata": {
    "pycharm": {
     "name": "#%%\n"
    }
   },
   "outputs": [
    {
     "data": {
      "text/html": [
       "<div>\n",
       "<style scoped>\n",
       "    .dataframe tbody tr th:only-of-type {\n",
       "        vertical-align: middle;\n",
       "    }\n",
       "\n",
       "    .dataframe tbody tr th {\n",
       "        vertical-align: top;\n",
       "    }\n",
       "\n",
       "    .dataframe thead th {\n",
       "        text-align: right;\n",
       "    }\n",
       "</style>\n",
       "<table border=\"1\" class=\"dataframe\">\n",
       "  <thead>\n",
       "    <tr style=\"text-align: right;\">\n",
       "      <th></th>\n",
       "      <th>index</th>\n",
       "      <th>Unnamed: 0</th>\n",
       "      <th>passage</th>\n",
       "      <th>summary</th>\n",
       "      <th>extract</th>\n",
       "    </tr>\n",
       "  </thead>\n",
       "  <tbody>\n",
       "    <tr>\n",
       "      <th>0</th>\n",
       "      <td>0</td>\n",
       "      <td>0</td>\n",
       "      <td>이 장은 후진타오(호금도) 시대가 어떤 과정을 통해 등장했는가를 검토하는 것이다....</td>\n",
       "      <td>후진타오 시대는 제 3세대 지도자가 물러나며 제 4세대 지도자가 새로운 통치 집단...</td>\n",
       "      <td>이 장은 후진타오(호금도) 시대가 어떤 과정을 통해 등장했는가를 검토하는 것이다.\\...</td>\n",
       "    </tr>\n",
       "    <tr>\n",
       "      <th>1</th>\n",
       "      <td>1</td>\n",
       "      <td>1</td>\n",
       "      <td>한편 사영기업가의 입당허용이 단기간에 중국정치에 변화를 몰고 올 것 같지는 않다....</td>\n",
       "      <td>사영기업가 계층은 국가의 통제를 아직 벗어나지 못했다는 등의 이유로 단기간에 중국...</td>\n",
       "      <td>그러나 장기적으로 볼 때 사영기업가 계층의 정치적 복권은 정치변화와 관련해 큰 의미...</td>\n",
       "    </tr>\n",
       "    <tr>\n",
       "      <th>2</th>\n",
       "      <td>2</td>\n",
       "      <td>2</td>\n",
       "      <td>그런데 제 16차 당 대회에서는 민족주의를 강조하는 경향이 이전보다 더욱 두드러졌...</td>\n",
       "      <td>공산당이 국민정당에 대해 민족정당이 된 것, 정치보고에 민족정신 등에 대한 강조가...</td>\n",
       "      <td>예를 들어, 앞에서 보았듯이 “당헌” 개정에 의해 공산당이 ‘중화민족의 선봉대’로 ...</td>\n",
       "    </tr>\n",
       "    <tr>\n",
       "      <th>3</th>\n",
       "      <td>3</td>\n",
       "      <td>3</td>\n",
       "      <td>2.3.2 제10기 전국인민대표대회 제 1차 회의(2003년)\\n 2003년 3월 ...</td>\n",
       "      <td>2003년의 10기 전국인대 1차 회의는 주요 국가지도자에 대한 인선이 있었고 공...</td>\n",
       "      <td>또한 제 10기 전국인대 첫 번째 회의는 5년 임기의 제 10기 전국인대가 시작하는...</td>\n",
       "    </tr>\n",
       "    <tr>\n",
       "      <th>4</th>\n",
       "      <td>4</td>\n",
       "      <td>4</td>\n",
       "      <td>1) 인선에 대한 총괄평가\\n 제 10기 전국인대 제 1차 회의에서 선출(비준)된...</td>\n",
       "      <td>10기 전국인대 1차 회의는 완전하고 실질적인 권력이양이 이루어지지 않았다. 이에...</td>\n",
       "      <td>우선, 제 10기 전국인대 제 1차 회의에서는 장쩌민으로부터 후진타오로의 실질적이고...</td>\n",
       "    </tr>\n",
       "  </tbody>\n",
       "</table>\n",
       "</div>"
      ],
      "text/plain": [
       "   index  Unnamed: 0                                            passage  \\\n",
       "0      0           0   이 장은 후진타오(호금도) 시대가 어떤 과정을 통해 등장했는가를 검토하는 것이다....   \n",
       "1      1           1   한편 사영기업가의 입당허용이 단기간에 중국정치에 변화를 몰고 올 것 같지는 않다....   \n",
       "2      2           2   그런데 제 16차 당 대회에서는 민족주의를 강조하는 경향이 이전보다 더욱 두드러졌...   \n",
       "3      3           3  2.3.2 제10기 전국인민대표대회 제 1차 회의(2003년)\\n 2003년 3월 ...   \n",
       "4      4           4   1) 인선에 대한 총괄평가\\n 제 10기 전국인대 제 1차 회의에서 선출(비준)된...   \n",
       "\n",
       "                                             summary  \\\n",
       "0   후진타오 시대는 제 3세대 지도자가 물러나며 제 4세대 지도자가 새로운 통치 집단...   \n",
       "1   사영기업가 계층은 국가의 통제를 아직 벗어나지 못했다는 등의 이유로 단기간에 중국...   \n",
       "2   공산당이 국민정당에 대해 민족정당이 된 것, 정치보고에 민족정신 등에 대한 강조가...   \n",
       "3   2003년의 10기 전국인대 1차 회의는 주요 국가지도자에 대한 인선이 있었고 공...   \n",
       "4   10기 전국인대 1차 회의는 완전하고 실질적인 권력이양이 이루어지지 않았다. 이에...   \n",
       "\n",
       "                                             extract  \n",
       "0  이 장은 후진타오(호금도) 시대가 어떤 과정을 통해 등장했는가를 검토하는 것이다.\\...  \n",
       "1  그러나 장기적으로 볼 때 사영기업가 계층의 정치적 복권은 정치변화와 관련해 큰 의미...  \n",
       "2  예를 들어, 앞에서 보았듯이 “당헌” 개정에 의해 공산당이 ‘중화민족의 선봉대’로 ...  \n",
       "3  또한 제 10기 전국인대 첫 번째 회의는 5년 임기의 제 10기 전국인대가 시작하는...  \n",
       "4  우선, 제 10기 전국인대 제 1차 회의에서는 장쩌민으로부터 후진타오로의 실질적이고...  "
      ]
     },
     "execution_count": 15,
     "metadata": {},
     "output_type": "execute_result"
    }
   ],
   "source": [
    "df.head()"
   ]
  },
  {
   "cell_type": "code",
   "execution_count": 17,
   "metadata": {
    "pycharm": {
     "name": "#%%\n"
    }
   },
   "outputs": [
    {
     "name": "stdout",
     "output_type": "stream",
     "text": [
      "========================================================================================================================\n",
      "38 번째 문장 \n",
      "\n",
      "원문: \n",
      "\n",
      " 불균등발전 문제를 해결하기 위해 중국 제 4세대 지도자들은 이전의 성장일변도 정책을 수정했다. 대신 ‘종합적이고 조화로우며 지속가능한 발전관’에 입각하여 ‘다섯 가지 균형’(오개통 주), 즉 ① 도시와 농촌, ② 연해지역과 내륙지역, ③ 경제와 사회, ④ 인간과 자연, ⑤ 국내와 대외개방의 균형발전을 이룩한다는 새로운 정책을 채택했다. 이점이 신지도부 정책의 중요한 특징이다. 신지도부는 사회보장제도의 완비에 더 많은 예산을 배정했고, 서부대개발에 이어 동북삼성 진흥정책을 새롭게 추진하고 있다. 환경보호와 자원절약에 더 많은 노력을 경주하는 것도 이런 정책의 일환이다.\n",
      " 또한 중국 신지도부는 3농 문제 해결을 사회/경제 분야의 최우선과제로 설정해 추진한다. 우선 농촌 과잉노동력 해결정책으로 농민의 도시진출 장벽을 완화하기 위해 2000년 무렵부터 일부지역에서 시험 실시하던 호구제도 개혁을 전면적으로 확대하였다. 그 결과 베이징, 상하이, 광저우(광주), 선전(심천) 등 일부 대도시에서는 농민의 도시이주가 여전히 제한되지만 다른 일반도시의 경우는 안정된 직업, 일정기간(보통 2-3년)의 거주 등 조건만 충족되면 농민도 도시의 호구를 얻을 수 있게 되었다. 농민의 과도한 부담을 해결하기 위해 2000년부터 안후이성(안휘성)에서 실시되던 조세 일괄부과제도(세비제)가 다른 지역으로 확대 실시되었고, 이를 위해 중앙정부는 2003년에만 300억 위안(한화 약 4조 5천억 원)의 특별예산을 편성했다. 또한 농업 기반시설의 확충과 농촌저발전 문제를 해결하기 위해 중앙정부는 2003년에만 270억 위안(한화 약 4조 500억 원)을 배정했다. 여기에 더해 2006년부터는 그동안 일부지역에서 실시했던 농업에 전면감면을 전국적으로 확대하기로 결정했다.\n",
      "\n",
      "\n",
      "AI 요약: \n",
      "\n",
      " 제 4세대 지도자들은 불균등발전 문제를 해결하기 위해 성장일변도 정책을 수정했다. 그리고 경제와 사회, 도시와 농촌 등의 균형발전을 이룩한다는 다섯 가지 균형 정책을 채택했다. 중국 신지도부는 3농 문제 해결을 최우선 과제로 설정해 추진했고, 2000년 무렵부터 호구제도 개혁을 전면적으로 확대해 조건만 충족된다면 농민도 도시 호구를 얻을 수 있게 됐다. 그리고 조세 일괄부과제도를 확대 실시하여 농민의 과도한 부담을 해결했다.\n",
      "\n",
      "\n",
      "Gensim 요약: \n",
      "\n",
      "불균등발전 문제를 해결하기 위해 중국 제 4세대 지도자들은 이전의 성장일변도 정책을 수정했다.\n",
      "우선 농촌 과잉노동력 해결정책으로 농민의 도시진출 장벽을 완화하기 위해 2000년 무렵부터 일부지역에서 시험 실시하던 호구제도 개혁을 전면적으로 확대하였다.\n",
      "농민의 과도한 부담을 해결하기 위해 2000년부터 안후이성(안휘성)에서 실시되던 조세 일괄부과제도(세비제)가 다른 지역으로 확대 실시되었고, 이를 위해 중앙정부는 2003년에만 300억 위안(한화 약 4조 5천억 원)의 특별예산을 편성했다.\n",
      "또한 농업 기반시설의 확충과 농촌저발전 문제를 해결하기 위해 중앙정부는 2003년에만 270억 위안(한화 약 4조 500억 원)을 배정했다.\n",
      "\n",
      "\n"
     ]
    }
   ],
   "source": [
    "# 시각화\n",
    "for i in range(0,1):\n",
    "    random_number = np.random.randint(0, 100, size=1)\n",
    "    print(\"=\"*120)\n",
    "    print(f'{random_number[0]}' + ' 번째 문장 \\n')\n",
    "    print('원문: \\n\\n' + df['passage'][random_number[0]] + '\\n\\n')\n",
    "    print('AI 요약: \\n\\n' + df['summary'][random_number[0]] + '\\n\\n')\n",
    "    print('Gensim 요약: \\n\\n'+ df['extract'][random_number[0]] + '\\n\\n')"
   ]
  },
  {
   "cell_type": "code",
   "execution_count": null,
   "metadata": {
    "pycharm": {
     "name": "#%%\n"
    }
   },
   "outputs": [],
   "source": []
  }
 ],
 "metadata": {
  "kernelspec": {
   "display_name": "fastcampus",
   "language": "python",
   "name": "fastcampus"
  },
  "language_info": {
   "codemirror_mode": {
    "name": "ipython",
    "version": 3
   },
   "file_extension": ".py",
   "mimetype": "text/x-python",
   "name": "python",
   "nbconvert_exporter": "python",
   "pygments_lexer": "ipython3",
   "version": "3.9.13"
  }
 },
 "nbformat": 4,
 "nbformat_minor": 4
}
