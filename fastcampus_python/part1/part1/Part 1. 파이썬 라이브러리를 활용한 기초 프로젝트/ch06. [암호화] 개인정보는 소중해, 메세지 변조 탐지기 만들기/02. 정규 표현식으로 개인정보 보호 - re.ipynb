{
 "cells": [
  {
   "cell_type": "markdown",
   "metadata": {
    "pycharm": {
     "name": "#%% md\n"
    }
   },
   "source": [
    "# **Chapter 6. [암호화] 메세지 변조 탐지기 만들기**\n",
    "\n",
    "\n",
    "---\n",
    "### 📝 **학습 목차**\n",
    "> 6-1. 프로젝트 개요 <br>\n",
    "> **6-2. 정규 표현식으로 개인정보 보호 - re** <br>\n",
    "> 6-3. 비밀번호 감추기 - getpass <br>\n",
    "> 6-4. 비밀번호 암호화 - hashlib <br>\n",
    "> 6-5. 메세지 변조 확인 - hmac <br>\n",
    "> 6-6. 안전한 난수 생성 - secrete <br>\n",
    "> 6-7. 프로젝트 실습"
   ]
  },
  {
   "cell_type": "markdown",
   "metadata": {
    "pycharm": {
     "name": "#%% md\n"
    }
   },
   "source": [
    "## 6-2. 정규 표현식으로 개인정보 보호"
   ]
  },
  {
   "cell_type": "markdown",
   "metadata": {
    "pycharm": {
     "name": "#%% md\n"
    }
   },
   "source": [
    "> ### 정규표현식 (Regular Expressions)\n",
    ">  - 정규표현식은 **복잡한 문자열을 처리**할 때 사용하는 기법으로, 파이썬뿐 아니라 C, 자바, 심지어 문서 작성 프로그램 등 문자열을 처리해야 하는 다양한 상황에서 활용됨\n",
    ">  - 파이썬 정규 표현식은 `re` 표준 라이브러리를 사용"
   ]
  },
  {
   "cell_type": "markdown",
   "metadata": {
    "pycharm": {
     "name": "#%% md\n"
    }
   },
   "source": [
    "### 💡 정규표현식 사용 예시\n",
    "개인정보가 포함된 문서에서 주민번호 뒷자리를 `*******` 로 마스킹하고자 할때"
   ]
  },
  {
   "cell_type": "code",
   "execution_count": 1,
   "metadata": {
    "pycharm": {
     "name": "#%%\n"
    }
   },
   "outputs": [],
   "source": [
    "# 개인 정보 목록\n",
    "personal_info = '''\n",
    "김미키 010-3344-5566 Mike@google.com 800905-1033451\n",
    "김소은 010-5032-1111 Soeun@naver.com 700905-2134567\n",
    "유한슬 010-2789-1476 Lyu@school.ac.com 931222-1234567\n",
    "박민철 010 4040 1313 Zoe@school.ac.com 830810-1234567\n",
    "이민아 010-7777-2222 Kate@google.com 960711-2434567'''"
   ]
  },
  {
   "cell_type": "markdown",
   "metadata": {
    "pycharm": {
     "name": "#%% md\n"
    }
   },
   "source": [
    "#### 방법 1. 정규 표현식을 사용하지 않을 경우\n",
    "- ① 공백 문자를 기준으로 전체 텍스트를 나눈다(split() 함수 사용).\n",
    "- ② 나눈 단어가 주민 등록 번호 형식인지 조사한다.\n",
    "- ③ 주민 등록 번호 형식이라면 뒷자리를 *******로 마스킹한다.\n",
    "- ④ 나눈 단어를 다시 조립한다."
   ]
  },
  {
   "cell_type": "code",
   "execution_count": 2,
   "metadata": {
    "pycharm": {
     "name": "#%%\n"
    }
   },
   "outputs": [
    {
     "name": "stdout",
     "output_type": "stream",
     "text": [
      "\n",
      "김미키 010-3344-5566 Mike@google.com 800905-*******\n",
      "김소은 010-5032-1111 Soeun@naver.com 700905-*******\n",
      "유한슬 010-2789-1476 Lyu@school.ac.com 931222-*******\n",
      "박민철 010 4040 1313 Zoe@school.ac.com 830810-*******\n",
      "이민아 010-7777-2222 Kate@google.com 960711-*******\n"
     ]
    }
   ],
   "source": [
    "result = []\n",
    "for line in personal_info.split(\"\\n\"):            # 텍스트 나누기 1\n",
    "    word_result = []\n",
    "    \n",
    "    for word in line.split(\" \"):                  # 텍스트 나누기 2\n",
    "        if len(word) == 14 and word[:6].isdigit() and word[7:].isdigit():   # 주민번호 형식인지 조사\n",
    "            word = word[:6] + \"-\" + \"*******\"     # 뒷자리 마스킹\n",
    "        word_result.append(word)\n",
    "    result.append(\" \".join(word_result))          # 단어 결합\n",
    "    \n",
    "print(\"\\n\".join(result))"
   ]
  },
  {
   "cell_type": "markdown",
   "metadata": {
    "pycharm": {
     "name": "#%% md\n"
    }
   },
   "source": [
    "#### 방법 2. 정규 표현식을 사용할 경우\n",
    "- `숫자6 + 붙임표(-) + 숫자7 (단, 숫자6은 괄호를 사용하여 그룹으로 지정)`"
   ]
  },
  {
   "cell_type": "code",
   "execution_count": 3,
   "metadata": {
    "pycharm": {
     "name": "#%%\n"
    }
   },
   "outputs": [],
   "source": [
    "import re"
   ]
  },
  {
   "cell_type": "code",
   "execution_count": 4,
   "metadata": {
    "pycharm": {
     "name": "#%%\n"
    }
   },
   "outputs": [
    {
     "name": "stdout",
     "output_type": "stream",
     "text": [
      "\n",
      "김미키 010-3344-5566 Mike@google.com 800905-*******\n",
      "김소은 010-5032-1111 Soeun@naver.com 700905-*******\n",
      "유한슬 010-2789-1476 Lyu@school.ac.com 931222-*******\n",
      "박민철 010 4040 1313 Zoe@school.ac.com 830810-*******\n",
      "이민아 010-7777-2222 Kate@google.com 960711-*******\n"
     ]
    }
   ],
   "source": [
    "pat = re.compile(\"(\\d{6})[-]\\d{7}\")\n",
    "print(pat.sub(\"\\g<1>-*******\", personal_info))   # g<1> : 주민번호 앞부분 그룹을 의미"
   ]
  },
  {
   "cell_type": "code",
   "execution_count": null,
   "metadata": {
    "pycharm": {
     "name": "#%%\n"
    }
   },
   "outputs": [],
   "source": []
  }
 ],
 "metadata": {
  "kernelspec": {
   "display_name": "fastcampus",
   "language": "python",
   "name": "fastcampus"
  },
  "language_info": {
   "codemirror_mode": {
    "name": "ipython",
    "version": 3
   },
   "file_extension": ".py",
   "mimetype": "text/x-python",
   "name": "python",
   "nbconvert_exporter": "python",
   "pygments_lexer": "ipython3",
   "version": "3.9.13"
  }
 },
 "nbformat": 4,
 "nbformat_minor": 4
}
