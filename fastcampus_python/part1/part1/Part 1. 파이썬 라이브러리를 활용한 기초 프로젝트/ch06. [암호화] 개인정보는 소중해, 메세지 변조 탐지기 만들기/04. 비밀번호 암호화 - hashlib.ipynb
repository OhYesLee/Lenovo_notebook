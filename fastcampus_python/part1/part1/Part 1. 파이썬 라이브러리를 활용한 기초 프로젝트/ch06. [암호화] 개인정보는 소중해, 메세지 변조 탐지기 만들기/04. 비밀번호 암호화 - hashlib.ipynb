{
 "cells": [
  {
   "cell_type": "markdown",
   "metadata": {
    "pycharm": {
     "name": "#%% md\n"
    }
   },
   "source": [
    "# **Chapter 6. [암호화] 메세지 변조 탐지기 만들기**\n",
    "\n",
    "\n",
    "---\n",
    "### 📝 **학습 목차**\n",
    "> 6-1. 프로젝트 개요 <br>\n",
    "> 6-2. 정규 표현식으로 개인정보 보호 - re <br>\n",
    "> 6-3. 비밀번호 감추기 - getpass <br>\n",
    "> **6-4. 비밀번호 암호화 - hashlib** <br>\n",
    "> 6-5. 메세지 변조 확인 - hmac <br>\n",
    "> 6-6. 안전한 난수 생성 - secrete <br>\n",
    "> 6-7. 프로젝트 실습"
   ]
  },
  {
   "cell_type": "markdown",
   "metadata": {
    "pycharm": {
     "name": "#%% md\n"
    }
   },
   "source": [
    "## 6-4. 비밀번호 암호화"
   ]
  },
  {
   "cell_type": "markdown",
   "metadata": {
    "pycharm": {
     "name": "#%% md\n"
    }
   },
   "source": [
    "> ### hashlib\n",
    "> - `hashlib` 은 **문자열을 해싱(hashing)**할 때 사용하는 모듈이다.\n",
    "> - 해싱(hashing)이란 **원본 문자열을 알아볼 수 없는 난해한 문자열로 정의**하는 방법으로, 해시값을 조사하여 데이터 변조 여부를 확인하는 것이 주된 목적\n",
    "> - 단방향 해시 함수는 수학적 연산에 의해 원본 데이터를 완전히 다른 암호화된 데이터 (Digest) 로 변환\n",
    "> - 변환된 데이터는 **다시 원본 데이터로 복호화가 불가능**\n",
    "> - 안전하게 관리되어야 하는 정보를 암호화 할 때 주로 사용"
   ]
  },
  {
   "cell_type": "markdown",
   "metadata": {
    "pycharm": {
     "name": "#%% md\n"
    }
   },
   "source": [
    "<img align='left' src='img/oneway_hash.png' width='1000' height='1000'/>"
   ]
  },
  {
   "cell_type": "markdown",
   "metadata": {
    "pycharm": {
     "name": "#%% md\n"
    }
   },
   "source": [
    "#### 비밀번호 해싱 예제"
   ]
  },
  {
   "cell_type": "code",
   "execution_count": 1,
   "metadata": {
    "pycharm": {
     "name": "#%%\n"
    }
   },
   "outputs": [],
   "source": [
    "import hashlib\n",
    "import getpass"
   ]
  },
  {
   "cell_type": "code",
   "execution_count": 2,
   "metadata": {
    "pycharm": {
     "name": "#%%\n"
    }
   },
   "outputs": [],
   "source": [
    "# 원본 비밀번호\n",
    "passwd = 'fastcampus123!'"
   ]
  },
  {
   "cell_type": "code",
   "execution_count": 3,
   "metadata": {
    "pycharm": {
     "name": "#%%\n"
    }
   },
   "outputs": [],
   "source": [
    "# 비밀번호 해싱\n",
    "h = hashlib.sha256()\n",
    "h.update(passwd.encode('utf-8'))"
   ]
  },
  {
   "cell_type": "code",
   "execution_count": 4,
   "metadata": {
    "pycharm": {
     "name": "#%%\n"
    }
   },
   "outputs": [
    {
     "name": "stdout",
     "output_type": "stream",
     "text": [
      "b'T\\xec\\x92\\x01P\\x7f\\xd6\\xd9\\xd0h\\x9a<]\\x83\\xc59\\xd2\\xdd\\x84\\x06\\x84\\xa6\\x11\\xd1\\x9b\\xb9\\x85\\xf7\\xc2:U\\x9e'\n"
     ]
    }
   ],
   "source": [
    "# 해싱된 비밀번호\n",
    "h_passwd = h.digest()\n",
    "print(h_passwd)"
   ]
  },
  {
   "cell_type": "markdown",
   "metadata": {
    "pycharm": {
     "name": "#%% md\n"
    }
   },
   "source": [
    "#### 방법 1. 해싱을 사용하지 않은 경우"
   ]
  },
  {
   "cell_type": "code",
   "execution_count": 5,
   "metadata": {
    "pycharm": {
     "name": "#%%\n"
    }
   },
   "outputs": [
    {
     "name": "stdout",
     "output_type": "stream",
     "text": [
      "비밀번호를 입력하세요 >>> ········\n",
      "잘못된 비밀번호입니다! 다시 입력해주세요 >>> ········\n",
      "방금 입력하신 비밀번호는 ... : fastcampus!\n",
      "잘못된 비밀번호입니다! 다시 입력해주세요 >>> ········\n",
      "방금 입력하신 비밀번호는 ... : fastcampus123!\n",
      "잠금이 해제되었습니다 !\n",
      "\n",
      "▒▒▒▒▒▒▒▒▒▒▒\n",
      "▒▒▒▒▓▒▒▓▒▒▒▒\n",
      "▒▒▒▒▓▒▒▓▒▒▒▒\n",
      "▒▒▒▒▒▒▒▒▒▒▒\n",
      "▒▓▒▒▒▒▒▒▒▒▓▒\n",
      "▒▒▓▓▓▓▓▓▓▓▓▓▓▓▓▓▒▒\n",
      "▒▒▒▒▒▒▒▒▒▒▒\n"
     ]
    }
   ],
   "source": [
    "# 사용자 입력 비밀번호\n",
    "user_input = getpass.getpass(\"비밀번호를 입력하세요 >>> \")\n",
    "\n",
    "while user_input != passwd:\n",
    "    # 비밀번호 불일치 메세지\n",
    "    user_input = getpass.getpass(\"잘못된 비밀번호입니다! 다시 입력해주세요 >>> \")\n",
    "    print('방금 입력하신 비밀번호는 ... : {}'.format(user_input))\n",
    "\n",
    "print('잠금이 해제되었습니다 !')\n",
    "print('''\n",
    "▒▒▒▒▒▒▒▒▒▒▒\n",
    "▒▒▒▒▓▒▒▓▒▒▒▒\n",
    "▒▒▒▒▓▒▒▓▒▒▒▒\n",
    "▒▒▒▒▒▒▒▒▒▒▒\n",
    "▒▓▒▒▒▒▒▒▒▒▓▒\n",
    "▒▒▓▓▓▓▓▓▓▓▓▓▓▓▓▓▒▒\n",
    "▒▒▒▒▒▒▒▒▒▒▒''')"
   ]
  },
  {
   "cell_type": "markdown",
   "metadata": {
    "pycharm": {
     "name": "#%% md\n"
    }
   },
   "source": [
    "#### 방법 2. 해싱을 사용한 경우"
   ]
  },
  {
   "cell_type": "code",
   "execution_count": 6,
   "metadata": {
    "pycharm": {
     "name": "#%%\n"
    }
   },
   "outputs": [],
   "source": [
    "# 비밀번호 해싱 함수\n",
    "def passwd_hash(original_passwd):\n",
    "    h = hashlib.sha256()\n",
    "    h.update(original_passwd.encode('utf-8')) \n",
    "    hashed_passwd = h.digest()\n",
    "    return hashed_passwd"
   ]
  },
  {
   "cell_type": "code",
   "execution_count": 7,
   "metadata": {
    "pycharm": {
     "name": "#%%\n"
    }
   },
   "outputs": [
    {
     "name": "stdout",
     "output_type": "stream",
     "text": [
      "비밀번호를 입력하세요 >>> ········\n",
      "잘못된 비밀번호입니다! 다시 입력해주세요 >>> ········\n",
      "방금 입력하신 비밀번호는 ... : b'?W\\x0b\\x16\\xed\\xfbFq,\\x00\\x7f\\xdc\\xbd\\xd9*\\x82iW?\\x8c\\xbc\\x88\\x1a\\xd3\\xdd\\xef\\x18\\xf4\\xd9\\xafe>'\n",
      "잘못된 비밀번호입니다! 다시 입력해주세요 >>> ········\n",
      "방금 입력하신 비밀번호는 ... : b'T\\xec\\x92\\x01P\\x7f\\xd6\\xd9\\xd0h\\x9a<]\\x83\\xc59\\xd2\\xdd\\x84\\x06\\x84\\xa6\\x11\\xd1\\x9b\\xb9\\x85\\xf7\\xc2:U\\x9e'\n",
      "잠금이 해제되었습니다 !\n",
      "\n",
      "▒▒▒▒▒▒▒▒▒▒▒\n",
      "▒▒▒▒▓▒▒▓▒▒▒▒\n",
      "▒▒▒▒▓▒▒▓▒▒▒▒\n",
      "▒▒▒▒▒▒▒▒▒▒▒\n",
      "▒▓▒▒▒▒▒▒▒▒▓▒\n",
      "▒▒▓▓▓▓▓▓▓▓▓▓▓▓▓▓▒▒\n",
      "▒▒▒▒▒▒▒▒▒▒▒\n"
     ]
    }
   ],
   "source": [
    "# 사용자 입력 비밀번호\n",
    "user_input = passwd_hash(getpass.getpass(\"비밀번호를 입력하세요 >>> \"))\n",
    "\n",
    "while user_input != h_passwd:\n",
    "    # 비밀번호 불일치 메세지\n",
    "    user_input = passwd_hash(getpass.getpass(\"잘못된 비밀번호입니다! 다시 입력해주세요 >>> \"))\n",
    "    print('방금 입력하신 비밀번호는 ... : {}'.format(user_input))\n",
    "\n",
    "print('잠금이 해제되었습니다 !')\n",
    "print('''\n",
    "▒▒▒▒▒▒▒▒▒▒▒\n",
    "▒▒▒▒▓▒▒▓▒▒▒▒\n",
    "▒▒▒▒▓▒▒▓▒▒▒▒\n",
    "▒▒▒▒▒▒▒▒▒▒▒\n",
    "▒▓▒▒▒▒▒▒▒▒▓▒\n",
    "▒▒▓▓▓▓▓▓▓▓▓▓▓▓▓▓▒▒\n",
    "▒▒▒▒▒▒▒▒▒▒▒''')"
   ]
  },
  {
   "cell_type": "code",
   "execution_count": null,
   "metadata": {
    "pycharm": {
     "name": "#%%\n"
    }
   },
   "outputs": [],
   "source": []
  }
 ],
 "metadata": {
  "kernelspec": {
   "display_name": "fastcampus",
   "language": "python",
   "name": "fastcampus"
  },
  "language_info": {
   "codemirror_mode": {
    "name": "ipython",
    "version": 3
   },
   "file_extension": ".py",
   "mimetype": "text/x-python",
   "name": "python",
   "nbconvert_exporter": "python",
   "pygments_lexer": "ipython3",
   "version": "3.9.13"
  }
 },
 "nbformat": 4,
 "nbformat_minor": 4
}
