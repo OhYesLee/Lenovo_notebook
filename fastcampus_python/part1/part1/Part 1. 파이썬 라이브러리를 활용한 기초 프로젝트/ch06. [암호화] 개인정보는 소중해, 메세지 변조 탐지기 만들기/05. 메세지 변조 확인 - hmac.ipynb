{
 "cells": [
  {
   "cell_type": "markdown",
   "metadata": {
    "pycharm": {
     "name": "#%% md\n"
    }
   },
   "source": [
    "# **Chapter 6. [암호화] 메세지 변조 탐지기 만들기**\n",
    "\n",
    "\n",
    "---\n",
    "### 📝 **학습 목차**\n",
    "> 6-1. 프로젝트 개요 <br>\n",
    "> 6-2. 정규 표현식으로 개인정보 보호 - re <br>\n",
    "> 6-3. 비밀번호 감추기 - getpass <br>\n",
    "> 6-4. 비밀번호 암호화 - hashlib <br>\n",
    "> **6-5. 메세지 변조 확인 - hmac** <br>\n",
    "> 6-6. 안전한 난수 생성 - secrete <br>\n",
    "> 6-7. 프로젝트 실습"
   ]
  },
  {
   "cell_type": "markdown",
   "metadata": {
    "pycharm": {
     "name": "#%% md\n"
    }
   },
   "source": [
    "## 6-5. 메세지 변조 확인"
   ]
  },
  {
   "cell_type": "markdown",
   "metadata": {
    "pycharm": {
     "name": "#%% md\n"
    }
   },
   "source": [
    "> ### hmac\n",
    "> - `hmac` 은 비밀 키와 해싱 기술을 사용하여 송수신자 간 메시지 변조를 확인할 수 있도록 하는 모듈\n",
    "> - 송수신자 간 약속한 `비밀키` 를 사용해서 **해싱된 데이터 내용이 같은지 대조**하는 원리\n",
    "> - 만약 해커 등 제 3자가 메세지를 변조했을 경우, `비밀키` 로 해싱한 결과가 달라짐"
   ]
  },
  {
   "cell_type": "code",
   "execution_count": 1,
   "metadata": {
    "pycharm": {
     "name": "#%%\n"
    }
   },
   "outputs": [],
   "source": [
    "# 비밀 키 설정\n",
    "SECRET_KEY = 'FASTCAMPUS'"
   ]
  },
  {
   "cell_type": "markdown",
   "metadata": {
    "pycharm": {
     "name": "#%% md\n"
    }
   },
   "source": [
    "#### [송신] 암호화(해싱) 파일 생성"
   ]
  },
  {
   "cell_type": "code",
   "execution_count": 2,
   "metadata": {
    "pycharm": {
     "name": "#%%\n"
    }
   },
   "outputs": [],
   "source": [
    "import hmac\n",
    "import hashlib"
   ]
  },
  {
   "cell_type": "code",
   "execution_count": 3,
   "metadata": {
    "pycharm": {
     "name": "#%%\n"
    }
   },
   "outputs": [],
   "source": [
    "# 송신 메세지 입력\n",
    "important_message = '아주 중요한 메세지'\n",
    "\n",
    "# 원본 파일\n",
    "with open('message.txt', 'w') as f:\n",
    "    f.write(important_message)"
   ]
  },
  {
   "cell_type": "code",
   "execution_count": 4,
   "metadata": {
    "pycharm": {
     "name": "#%%\n"
    }
   },
   "outputs": [],
   "source": [
    "# 비밀 키 암호화 파일\n",
    "with open('message_encrypted.txt', 'w') as f:\n",
    "    m = hmac.new(SECRET_KEY.encode('utf-8'), important_message.encode('utf-8'),\n",
    "                 hashlib.sha256)\n",
    "    f.write(m.hexdigest())"
   ]
  },
  {
   "cell_type": "markdown",
   "metadata": {
    "pycharm": {
     "name": "#%% md\n"
    }
   },
   "source": [
    "#### [수신] 복호화 및 변조 확인"
   ]
  },
  {
   "cell_type": "code",
   "execution_count": null,
   "metadata": {
    "pycharm": {
     "name": "#%%\n"
    }
   },
   "outputs": [],
   "source": [
    "with open('message_encrypted.txt') as f:\n",
    "    message_encrypted = f.read()\n",
    "\n",
    "with open('message.txt') as f:\n",
    "    message = f.read()\n",
    "    m = hmac.new(SECRET_KEY.encode('utf-8'), message.encode('utf-8'),\n",
    "                 hashlib.sha256)\n",
    "\n",
    "    if m.hexdigest() == message_encrypted:\n",
    "        print(\"메시지가 변조되지 않았습니다! 안전합니다.\")\n",
    "    else:\n",
    "        print(\"변조된 메세지 입니다! 위험합니다.\")"
   ]
  },
  {
   "cell_type": "code",
   "execution_count": null,
   "metadata": {
    "pycharm": {
     "name": "#%%\n"
    }
   },
   "outputs": [],
   "source": []
  }
 ],
 "metadata": {
  "kernelspec": {
   "display_name": "fastcampus",
   "language": "python",
   "name": "fastcampus"
  },
  "language_info": {
   "codemirror_mode": {
    "name": "ipython",
    "version": 3
   },
   "file_extension": ".py",
   "mimetype": "text/x-python",
   "name": "python",
   "nbconvert_exporter": "python",
   "pygments_lexer": "ipython3",
   "version": "3.9.13"
  }
 },
 "nbformat": 4,
 "nbformat_minor": 4
}
