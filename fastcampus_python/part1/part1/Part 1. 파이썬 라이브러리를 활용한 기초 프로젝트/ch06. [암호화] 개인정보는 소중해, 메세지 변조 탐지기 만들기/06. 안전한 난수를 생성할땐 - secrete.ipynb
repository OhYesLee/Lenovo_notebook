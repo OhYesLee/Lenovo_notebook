{
 "cells": [
  {
   "cell_type": "markdown",
   "metadata": {
    "pycharm": {
     "name": "#%% md\n"
    }
   },
   "source": [
    "# **Chapter 6. [암호화] 메세지 변조 탐지기 만들기**\n",
    "\n",
    "\n",
    "---\n",
    "### 📝 **학습 목차**\n",
    "> 6-1. 프로젝트 개요 <br>\n",
    "> 6-2. 정규 표현식으로 개인정보 보호 - re <br>\n",
    "> 6-3. 비밀번호 감추기 - getpass <br>\n",
    "> 6-4. 비밀번호 암호화 - hashlib <br>\n",
    "> 6-5. 메세지 변조 확인 - hmac <br>\n",
    "> **6-6. 안전한 난수 생성 - secrets** <br>\n",
    "> 6-7. 프로젝트 실습"
   ]
  },
  {
   "cell_type": "markdown",
   "metadata": {
    "pycharm": {
     "name": "#%% md\n"
    }
   },
   "source": [
    "## 5-6. 안전한 난수 생성"
   ]
  },
  {
   "cell_type": "markdown",
   "metadata": {
    "pycharm": {
     "name": "#%% md\n"
    }
   },
   "source": [
    "> ### secrets\n",
    "> - 난수란 **정의된 범위 내에서 무작위로 추출된 수**\n",
    "> - 파이썬 3.6 버전부터 추가된 난수 생성 모듈\n",
    "> - 가장 널리 사용되는 난수 생성 함수인 `random` 은 보안이나 암호를 목적으로 사용되기에 위험함 ([공식문서](https://docs.python.org/3/library/secrets.html))\n",
    "> - secrets.token_hex(nbytes) : nbytes 는 바이트 수"
   ]
  },
  {
   "cell_type": "code",
   "execution_count": 1,
   "metadata": {},
   "outputs": [],
   "source": [
    "import secrets"
   ]
  },
  {
   "cell_type": "code",
   "execution_count": 14,
   "metadata": {
    "pycharm": {
     "name": "#%%\n"
    }
   },
   "outputs": [
    {
     "name": "stdout",
     "output_type": "stream",
     "text": [
      "a791b1b20f1abe8b\n"
     ]
    }
   ],
   "source": [
    "# 8 바이트 난수 (16 자리)\n",
    "rand8 = secrets.token_hex(8)\n",
    "print(rand8)"
   ]
  },
  {
   "cell_type": "code",
   "execution_count": 22,
   "metadata": {
    "pycharm": {
     "name": "#%%\n"
    }
   },
   "outputs": [
    {
     "name": "stdout",
     "output_type": "stream",
     "text": [
      "65bd38c2c97e557a589a0ff15a82fea6\n"
     ]
    }
   ],
   "source": [
    "# 16 바이트 난수 (32 자리)\n",
    "rand16 = secrets.token_hex(16)\n",
    "print(rand16)"
   ]
  },
  {
   "cell_type": "markdown",
   "metadata": {
    "pycharm": {
     "name": "#%% md\n"
    }
   },
   "source": [
    "#### OTP 비밀번호 생성기"
   ]
  },
  {
   "cell_type": "code",
   "execution_count": 23,
   "metadata": {
    "pycharm": {
     "name": "#%%\n"
    }
   },
   "outputs": [],
   "source": [
    "import secrets\n",
    "import string"
   ]
  },
  {
   "cell_type": "code",
   "execution_count": 24,
   "metadata": {
    "pycharm": {
     "name": "#%%\n"
    }
   },
   "outputs": [
    {
     "data": {
      "text/plain": [
       "'0123456789'"
      ]
     },
     "execution_count": 24,
     "metadata": {},
     "output_type": "execute_result"
    }
   ],
   "source": [
    "string.digits"
   ]
  },
  {
   "cell_type": "code",
   "execution_count": 44,
   "metadata": {
    "pycharm": {
     "name": "#%%\n"
    }
   },
   "outputs": [
    {
     "name": "stdout",
     "output_type": "stream",
     "text": [
      "435266\n"
     ]
    }
   ],
   "source": [
    "OTP = ''\n",
    "digit = string.digits\n",
    "for i in range(6):\n",
    "    OTP +=str(''.join(secrets.choice(digit)))\n",
    "\n",
    "print(OTP)"
   ]
  },
  {
   "cell_type": "markdown",
   "metadata": {
    "pycharm": {
     "name": "#%% md\n"
    }
   },
   "source": [
    "#### 비밀번호 일치 여부 확인 (내부 해싱)\n",
    "- 타이밍 공격(timing attack) 을 방지할 수 있는 기능"
   ]
  },
  {
   "cell_type": "code",
   "execution_count": 45,
   "metadata": {
    "pycharm": {
     "name": "#%%\n"
    }
   },
   "outputs": [
    {
     "name": "stdout",
     "output_type": "stream",
     "text": [
      "True\n"
     ]
    }
   ],
   "source": [
    "print(secrets.compare_digest('password123','password123'))"
   ]
  },
  {
   "cell_type": "markdown",
   "metadata": {
    "pycharm": {
     "name": "#%% md\n"
    }
   },
   "source": [
    "#### 보안 URL 생성"
   ]
  },
  {
   "cell_type": "code",
   "execution_count": null,
   "metadata": {
    "pycharm": {
     "name": "#%%\n"
    }
   },
   "outputs": [],
   "source": [
    "url = 'https://mywebsite.com/reset=' + secrets.token_urlsafe(7)\n",
    "print(url)"
   ]
  },
  {
   "cell_type": "code",
   "execution_count": null,
   "metadata": {
    "pycharm": {
     "name": "#%%\n"
    }
   },
   "outputs": [],
   "source": []
  }
 ],
 "metadata": {
  "kernelspec": {
   "display_name": "fastcampus",
   "language": "python",
   "name": "fastcampus"
  },
  "language_info": {
   "codemirror_mode": {
    "name": "ipython",
    "version": 3
   },
   "file_extension": ".py",
   "mimetype": "text/x-python",
   "name": "python",
   "nbconvert_exporter": "python",
   "pygments_lexer": "ipython3",
   "version": "3.9.13"
  }
 },
 "nbformat": 4,
 "nbformat_minor": 4
}
