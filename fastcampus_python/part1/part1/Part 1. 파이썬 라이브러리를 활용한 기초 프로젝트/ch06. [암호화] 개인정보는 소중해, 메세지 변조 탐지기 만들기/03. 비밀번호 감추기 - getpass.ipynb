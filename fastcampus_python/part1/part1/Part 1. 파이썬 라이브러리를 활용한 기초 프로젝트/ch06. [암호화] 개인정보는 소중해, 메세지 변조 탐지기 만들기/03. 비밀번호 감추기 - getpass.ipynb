{
 "cells": [
  {
   "cell_type": "markdown",
   "metadata": {
    "pycharm": {
     "name": "#%% md\n"
    }
   },
   "source": [
    "# **Chapter 6. [암호화] 메세지 변조 탐지기 만들기**\n",
    "\n",
    "\n",
    "---\n",
    "### 📝 **학습 목차**\n",
    "> 6-1. 프로젝트 개요 <br>\n",
    "> 6-2. 정규 표현식으로 개인정보 보호 - re <br>\n",
    "> **6-3. 비밀번호 감추기 - getpass** <br>\n",
    "> 6-4. 비밀번호 암호화 - hashlib <br>\n",
    "> 6-5. 메세지 변조 확인 - hmac <br>\n",
    "> 6-6. 안전한 난수 생성 - secrete <br>\n",
    "> 6-7. 프로젝트 실습"
   ]
  },
  {
   "cell_type": "markdown",
   "metadata": {
    "pycharm": {
     "name": "#%% md\n"
    }
   },
   "source": [
    "## 6-3. 비밀번호 감추기"
   ]
  },
  {
   "cell_type": "markdown",
   "metadata": {
    "pycharm": {
     "name": "#%% md\n"
    }
   },
   "source": [
    "> ### getpass\n",
    ">  - `getpass` 는 사용자가 비밀번호를 입력할 때 이를 **화면에 노출하지 않도록** 해주는 모듈"
   ]
  },
  {
   "cell_type": "markdown",
   "metadata": {
    "pycharm": {
     "name": "#%% md\n"
    }
   },
   "source": [
    "#### 비밀번호 잠금 해제 예제"
   ]
  },
  {
   "cell_type": "code",
   "execution_count": 1,
   "metadata": {
    "pycharm": {
     "name": "#%%\n"
    }
   },
   "outputs": [],
   "source": [
    "# 원본 비밀번호\n",
    "passwd = 'fastcampus123!'"
   ]
  },
  {
   "cell_type": "code",
   "execution_count": 2,
   "metadata": {
    "pycharm": {
     "name": "#%%\n"
    }
   },
   "outputs": [
    {
     "name": "stdout",
     "output_type": "stream",
     "text": [
      "비밀번호를 입력하세요 >>> abc123!\n",
      "잘못된 비밀번호입니다! 다시 입력해주세요 >>> fastcampus123!\n",
      "잠금이 해제되었습니다 !\n",
      "\n",
      "▒▒▒▒▒▒▒▒▒▒▒\n",
      "▒▒▒▒▓▒▒▓▒▒▒▒\n",
      "▒▒▒▒▓▒▒▓▒▒▒▒\n",
      "▒▒▒▒▒▒▒▒▒▒▒\n",
      "▒▓▒▒▒▒▒▒▒▒▓▒\n",
      "▒▒▓▓▓▓▓▓▓▓▓▓▓▓▓▓▒▒\n",
      "▒▒▒▒▒▒▒▒▒▒▒\n"
     ]
    }
   ],
   "source": [
    "# 사용자 입력 비밀번호\n",
    "user_input = input(\"비밀번호를 입력하세요 >>> \")\n",
    "\n",
    "while user_input != passwd:\n",
    "    # 비밀번호 불일치 메세지\n",
    "    user_input = input(\"잘못된 비밀번호입니다! 다시 입력해주세요 >>> \")\n",
    "\n",
    "print('잠금이 해제되었습니다 !')\n",
    "print('''\n",
    "▒▒▒▒▒▒▒▒▒▒▒\n",
    "▒▒▒▒▓▒▒▓▒▒▒▒\n",
    "▒▒▒▒▓▒▒▓▒▒▒▒\n",
    "▒▒▒▒▒▒▒▒▒▒▒\n",
    "▒▓▒▒▒▒▒▒▒▒▓▒\n",
    "▒▒▓▓▓▓▓▓▓▓▓▓▓▓▓▓▒▒\n",
    "▒▒▒▒▒▒▒▒▒▒▒''')"
   ]
  },
  {
   "cell_type": "markdown",
   "metadata": {
    "pycharm": {
     "name": "#%% md\n"
    }
   },
   "source": [
    "#### 비밀번호 감추기"
   ]
  },
  {
   "cell_type": "code",
   "execution_count": 3,
   "metadata": {
    "pycharm": {
     "name": "#%%\n"
    }
   },
   "outputs": [],
   "source": [
    "import getpass"
   ]
  },
  {
   "cell_type": "code",
   "execution_count": 4,
   "metadata": {
    "pycharm": {
     "name": "#%%\n"
    }
   },
   "outputs": [
    {
     "name": "stdout",
     "output_type": "stream",
     "text": [
      "비밀번호를 입력하세요 >>> ········\n",
      "잘못된 비밀번호입니다! 다시 입력해주세요 >>> ········\n",
      "잘못된 비밀번호입니다! 다시 입력해주세요 >>> ········\n",
      "잘못된 비밀번호입니다! 다시 입력해주세요 >>> ········\n",
      "잠금이 해제되었습니다 !\n",
      "\n",
      "▒▒▒▒▒▒▒▒▒▒▒\n",
      "▒▒▒▒▓▒▒▓▒▒▒▒\n",
      "▒▒▒▒▓▒▒▓▒▒▒▒\n",
      "▒▒▒▒▒▒▒▒▒▒▒\n",
      "▒▓▒▒▒▒▒▒▒▒▓▒\n",
      "▒▒▓▓▓▓▓▓▓▓▓▓▓▓▓▓▒▒\n",
      "▒▒▒▒▒▒▒▒▒▒▒\n"
     ]
    }
   ],
   "source": [
    "# 사용자 입력 비밀번호\n",
    "user_input = getpass.getpass(\"비밀번호를 입력하세요 >>> \")\n",
    "\n",
    "while user_input != passwd:\n",
    "    # 비밀번호 불일치 메세지\n",
    "    user_input = getpass.getpass(\"잘못된 비밀번호입니다! 다시 입력해주세요 >>> \")\n",
    "\n",
    "print('잠금이 해제되었습니다 !')\n",
    "print('''\n",
    "▒▒▒▒▒▒▒▒▒▒▒\n",
    "▒▒▒▒▓▒▒▓▒▒▒▒\n",
    "▒▒▒▒▓▒▒▓▒▒▒▒\n",
    "▒▒▒▒▒▒▒▒▒▒▒\n",
    "▒▓▒▒▒▒▒▒▒▒▓▒\n",
    "▒▒▓▓▓▓▓▓▓▓▓▓▓▓▓▓▒▒\n",
    "▒▒▒▒▒▒▒▒▒▒▒''')"
   ]
  },
  {
   "cell_type": "code",
   "execution_count": null,
   "metadata": {
    "pycharm": {
     "name": "#%%\n"
    }
   },
   "outputs": [],
   "source": []
  }
 ],
 "metadata": {
  "kernelspec": {
   "display_name": "fastcampus",
   "language": "python",
   "name": "fastcampus"
  },
  "language_info": {
   "codemirror_mode": {
    "name": "ipython",
    "version": 3
   },
   "file_extension": ".py",
   "mimetype": "text/x-python",
   "name": "python",
   "nbconvert_exporter": "python",
   "pygments_lexer": "ipython3",
   "version": "3.9.13"
  }
 },
 "nbformat": 4,
 "nbformat_minor": 4
}
