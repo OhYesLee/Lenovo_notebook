{
 "cells": [
  {
   "cell_type": "markdown",
   "metadata": {
    "pycharm": {
     "name": "#%% md\n"
    }
   },
   "source": [
    "# **Chapter 6. [암호화] 메세지 변조 탐지기 만들기**\n",
    "\n",
    "\n",
    "---\n",
    "### 📝 **학습 목차**\n",
    "> 6-1. 프로젝트 개요 <br>\n",
    "> 6-2. 정규 표현식으로 개인정보 보호 - re <br>\n",
    "> 6-3. 비밀번호 감추기 - getpass <br>\n",
    "> 6-4. 비밀번호 암호화 - hashlib <br>\n",
    "> 6-5. 메세지 변조 확인 - hmac <br>\n",
    "> 6-6. 안전한 난수 생성 - secrete <br>\n",
    "> **6-7. 프로젝트 실습**"
   ]
  },
  {
   "cell_type": "markdown",
   "metadata": {
    "pycharm": {
     "name": "#%% md\n"
    }
   },
   "source": [
    "## 6-7. 메세지 변조 탐지기 만들기 🔑"
   ]
  },
  {
   "cell_type": "markdown",
   "metadata": {
    "pycharm": {
     "name": "#%% md\n"
    }
   },
   "source": [
    "> ### 진행 순서\n",
    ">  1. 계좌 정보 생성\n",
    ">  2. 비밀번호 입력\n",
    ">  3. 계좌 정보, 비밀번호 암호화\n",
    ">  4. 메세지 변조 탐지기 생성"
   ]
  },
  {
   "cell_type": "markdown",
   "metadata": {
    "pycharm": {
     "name": "#%% md\n"
    }
   },
   "source": [
    "### 6-7-1. 계좌 정보 생성 (개인정보 감추기)"
   ]
  },
  {
   "cell_type": "code",
   "execution_count": 1,
   "metadata": {
    "pycharm": {
     "name": "#%%\n"
    }
   },
   "outputs": [
    {
     "name": "stdout",
     "output_type": "stream",
     "text": [
      "이름을 입력해주세요 >>> 김패캠\n",
      "전화번호를 입력해주세요 (- 제외 11자리) >>> 01012346789\n"
     ]
    }
   ],
   "source": [
    "# 개인정보 입력\n",
    "client_name = input(\"이름을 입력해주세요 >>> \")\n",
    "phone_number = input(\"전화번호를 입력해주세요 (- 제외 11자리) >>> \")"
   ]
  },
  {
   "cell_type": "code",
   "execution_count": 2,
   "metadata": {
    "pycharm": {
     "name": "#%%\n"
    }
   },
   "outputs": [
    {
     "name": "stdout",
     "output_type": "stream",
     "text": [
      "주민번호를 입력해 주세요 (- 제외 13자리) >>>········\n"
     ]
    }
   ],
   "source": [
    "# 주민번호 입력\n",
    "import getpass\n",
    "id_number = getpass.getpass(\"주민번호를 입력해 주세요 (- 제외 13자리) >>>\")"
   ]
  },
  {
   "cell_type": "code",
   "execution_count": 3,
   "metadata": {
    "pycharm": {
     "name": "#%%\n"
    }
   },
   "outputs": [
    {
     "name": "stdout",
     "output_type": "stream",
     "text": [
      "계좌번호를 입력해주세요 (- 제외 15자리) >>> 123451234512345\n"
     ]
    }
   ],
   "source": [
    "# 계좌 번호 입력\n",
    "account_number = input(\"계좌번호를 입력해주세요 (- 제외 15자리) >>> \")"
   ]
  },
  {
   "cell_type": "code",
   "execution_count": 4,
   "metadata": {
    "pycharm": {
     "name": "#%%\n"
    }
   },
   "outputs": [
    {
     "name": "stdout",
     "output_type": "stream",
     "text": [
      "거래 금액을 만원 단위로 입력해 주세요 >>> 100\n"
     ]
    }
   ],
   "source": [
    "# 거래 금액 입력\n",
    "transfer_amount = input(\"거래 금액을 만원 단위로 입력해 주세요 >>> \")"
   ]
  },
  {
   "cell_type": "code",
   "execution_count": 5,
   "metadata": {
    "pycharm": {
     "name": "#%%\n"
    }
   },
   "outputs": [],
   "source": [
    "# 입력 번호 하이픈 추가 함수\n",
    "def number_parser(input_num, option='phone'):\n",
    "    output_num = ''\n",
    "    if option=='phone':\n",
    "        for i in range(0, len(input_num)):\n",
    "            if i == 2:\n",
    "                output_num = output_num + (input_num[2] + '-')\n",
    "            elif i == 6:\n",
    "                output_num = output_num + (input_num[6] + '-')\n",
    "            else:\n",
    "                output_num = output_num + input_num[i]\n",
    "    elif option=='account':\n",
    "        for i in range(0, len(input_num)):\n",
    "            if i == 4:\n",
    "                output_num = output_num + (input_num[2] + '-')\n",
    "            elif i == 9:\n",
    "                output_num = output_num + (input_num[9] + '-')\n",
    "            else:\n",
    "                output_num = output_num + input_num[i]\n",
    "    elif option=='id':\n",
    "        for i in range(0, len(input_num)):\n",
    "            if i == 5:\n",
    "                output_num = output_num + (input_num[5] + '-')\n",
    "            else:\n",
    "                output_num = output_num + input_num[i]\n",
    "    elif option=='transfer':\n",
    "        output_num = input_num + '0000 원'\n",
    "    return output_num"
   ]
  },
  {
   "cell_type": "code",
   "execution_count": 6,
   "metadata": {
    "pycharm": {
     "name": "#%%\n"
    }
   },
   "outputs": [],
   "source": [
    "# 계좌 파일 생성\n",
    "import datetime\n",
    "with open('계좌정보_원본.txt', 'w') as f:\n",
    "    f.write(f'등록일시 : {datetime.datetime.now().strftime(\"%Y-%m-%d %H:%M:%S\")}\\n')\n",
    "    f.write(f'고객명 : {client_name}\\n')\n",
    "    f.write(f'전화번호 : {number_parser(phone_number, \"phone\")}\\n')\n",
    "    \n",
    "    # 주민번호 뒷자리 숨기기\n",
    "    import re\n",
    "    pat = re.compile(\"(\\d{6})[-]\\d{7}\")\n",
    "    id_number=pat.sub(\"\\g<1>-*******\", number_parser(id_number, \"id\"))\n",
    "    f.write(f'주민번호 : {id_number}\\n')\n",
    "    \n",
    "    f.write(f'계좌번호 : {number_parser(account_number, \"account\")}\\n')\n",
    "    f.write(f'거래금액 : {number_parser(transfer_amount, \"transfer\")}\\n')"
   ]
  },
  {
   "cell_type": "markdown",
   "metadata": {
    "pycharm": {
     "name": "#%% md\n"
    }
   },
   "source": [
    "### 6-7-2. 비밀번호 입력"
   ]
  },
  {
   "cell_type": "code",
   "execution_count": 7,
   "metadata": {
    "pycharm": {
     "name": "#%%\n"
    }
   },
   "outputs": [
    {
     "name": "stdout",
     "output_type": "stream",
     "text": [
      "비밀번호를 입력해 주세요 >>> ········\n"
     ]
    }
   ],
   "source": [
    "import hashlib\n",
    "import os\n",
    "\n",
    "# 비밀번호(키)\n",
    "SECRET_KEY = getpass.getpass(\"비밀번호를 입력해 주세요 >>> \")\n",
    "with open('passwd.txt', 'w') as f:\n",
    "    m = hashlib.sha256()\n",
    "    m.update(SECRET_KEY.encode('utf-8'))\n",
    "    f.write(m.hexdigest())"
   ]
  },
  {
   "cell_type": "markdown",
   "metadata": {
    "pycharm": {
     "name": "#%% md\n"
    }
   },
   "source": [
    "### 6-7-3. 계좌 정보 암호화"
   ]
  },
  {
   "cell_type": "code",
   "execution_count": 8,
   "metadata": {
    "pycharm": {
     "name": "#%%\n"
    }
   },
   "outputs": [],
   "source": [
    "import hmac\n",
    "\n",
    "# 계좌 원본\n",
    "with open('계좌정보_원본.txt') as f:\n",
    "    message_origin = f.read()\n",
    "\n",
    "# 비밀 키를 활용한 계좌 정보 암호화\n",
    "with open('계좌정보_암호화.txt', 'w') as f:\n",
    "    m = hmac.new(SECRET_KEY.encode('utf-8'), message_origin.encode('utf-8'),\n",
    "                 hashlib.sha256)\n",
    "    f.write(m.hexdigest())"
   ]
  },
  {
   "cell_type": "markdown",
   "metadata": {
    "pycharm": {
     "name": "#%% md\n"
    }
   },
   "source": [
    "### 6-7-4. 메세지 변조 확인"
   ]
  },
  {
   "cell_type": "code",
   "execution_count": 11,
   "metadata": {
    "pycharm": {
     "name": "#%%\n"
    }
   },
   "outputs": [
    {
     "name": "stdout",
     "output_type": "stream",
     "text": [
      "☢☢ 변조된 계좌 정보 입니다! 위험합니다. ☢☢\n"
     ]
    }
   ],
   "source": [
    "import hmac\n",
    "import hashlib\n",
    "\n",
    "# 비밀번호 확인\n",
    "with open('passwd.txt', 'r') as f:\n",
    "    m = hashlib.sha256()\n",
    "\n",
    "# 암호화 계좌 정보\n",
    "with open('계좌정보_암호화.txt') as f:\n",
    "    message_encrypted = f.read()\n",
    "\n",
    "# 계좌 원본 메세지와 비교\n",
    "with open('계좌정보_원본.txt') as f:\n",
    "    message_origin = f.read()\n",
    "    m = hmac.new(SECRET_KEY.encode('utf-8'), message_origin.encode('utf-8'),\n",
    "                 hashlib.sha256)\n",
    "\n",
    "    if m.hexdigest() == message_encrypted:\n",
    "        print(\"계좌 정보가 변조되지 않았습니다. 안전합니다.👍\")\n",
    "    else:\n",
    "        print(\"☢☢ 변조된 계좌 정보 입니다! 위험합니다. ☢☢\")"
   ]
  },
  {
   "cell_type": "code",
   "execution_count": null,
   "metadata": {
    "pycharm": {
     "name": "#%%\n"
    }
   },
   "outputs": [],
   "source": []
  }
 ],
 "metadata": {
  "kernelspec": {
   "display_name": "fastcampus",
   "language": "python",
   "name": "fastcampus"
  },
  "language_info": {
   "codemirror_mode": {
    "name": "ipython",
    "version": 3
   },
   "file_extension": ".py",
   "mimetype": "text/x-python",
   "name": "python",
   "nbconvert_exporter": "python",
   "pygments_lexer": "ipython3",
   "version": "3.9.13"
  }
 },
 "nbformat": 4,
 "nbformat_minor": 4
}
