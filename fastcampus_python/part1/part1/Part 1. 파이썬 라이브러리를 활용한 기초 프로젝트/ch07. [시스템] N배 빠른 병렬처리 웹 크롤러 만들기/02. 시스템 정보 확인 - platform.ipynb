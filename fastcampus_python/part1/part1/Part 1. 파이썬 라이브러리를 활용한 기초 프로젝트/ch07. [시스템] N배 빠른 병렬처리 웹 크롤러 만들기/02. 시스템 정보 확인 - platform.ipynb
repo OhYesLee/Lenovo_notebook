{
 "cells": [
  {
   "cell_type": "markdown",
   "metadata": {
    "pycharm": {
     "name": "#%% md\n"
    }
   },
   "source": [
    "# **Chapter 7. [시스템] N배 빠른 병렬처리 웹 크롤러 만들기**\n",
    "\n",
    "\n",
    "---\n",
    "### 📝 **학습 목차**\n",
    "> 7-1. 프로젝트 개요 <br>\n",
    "> **7-2. 시스템 정보 확인 - platform** <br>\n",
    "> 7-3. 매개변수 입력 받기 - sys.argv, argparse <br>\n",
    "> 7-4. 디버깅의 기본! 로그 남기기 - logging <br>\n",
    "> 7-5. 원하는 시간에 작업 실행 - sched <br>\n",
    "> 7-6. 병렬 처리 1 - threading <br>\n",
    "> 7-7. 병렬 처리 2 - multiprocessing <br>\n",
    "> 7-8. 시스템 명령어 실행 <br>\n",
    "> 7-9. 프로젝트 실습"
   ]
  },
  {
   "cell_type": "markdown",
   "metadata": {
    "pycharm": {
     "name": "#%% md\n"
    }
   },
   "source": [
    "## 7-2. 시스템 정보 확인"
   ]
  },
  {
   "cell_type": "markdown",
   "metadata": {
    "pycharm": {
     "name": "#%% md\n"
    }
   },
   "source": [
    "> ### platform\n",
    ">  - 실행하고자하는 프로그램이 시스템 요구사항을 만족하는지 **사양 정보를 확인**할 때 사용하는 모듈"
   ]
  },
  {
   "cell_type": "code",
   "execution_count": 1,
   "metadata": {},
   "outputs": [],
   "source": [
    "import platform"
   ]
  },
  {
   "cell_type": "markdown",
   "metadata": {
    "pycharm": {
     "name": "#%% md\n"
    }
   },
   "source": [
    "#### 1. 운영 체제 확인"
   ]
  },
  {
   "cell_type": "code",
   "execution_count": 2,
   "metadata": {},
   "outputs": [],
   "source": [
    "def printOsInfo():\n",
    "    print('OS                   :\\t', platform.system())\n",
    "    print('OS Version           :\\t', platform.version())"
   ]
  },
  {
   "cell_type": "code",
   "execution_count": 3,
   "metadata": {},
   "outputs": [
    {
     "name": "stdout",
     "output_type": "stream",
     "text": [
      "OS                   :\t Windows\n",
      "OS Version           :\t 10.0.19043\n"
     ]
    }
   ],
   "source": [
    "printOsInfo()"
   ]
  },
  {
   "cell_type": "code",
   "execution_count": 4,
   "metadata": {},
   "outputs": [],
   "source": [
    "# 튜플 객체형으로 확인\n",
    "info = platform.uname()"
   ]
  },
  {
   "cell_type": "code",
   "execution_count": 5,
   "metadata": {},
   "outputs": [
    {
     "data": {
      "text/plain": [
       "uname_result(system='Windows', node='LAPTOP-803QVVAE', release='10', version='10.0.19043', machine='AMD64')"
      ]
     },
     "execution_count": 5,
     "metadata": {},
     "output_type": "execute_result"
    }
   ],
   "source": [
    "info"
   ]
  },
  {
   "cell_type": "markdown",
   "metadata": {
    "pycharm": {
     "name": "#%% md\n"
    }
   },
   "source": [
    "#### 2. CPU / 메모리(RAM) 확인"
   ]
  },
  {
   "cell_type": "code",
   "execution_count": 7,
   "metadata": {
    "pycharm": {
     "name": "#%%\n"
    }
   },
   "outputs": [
    {
     "data": {
      "text/plain": [
       "'Intel64 Family 6 Model 142 Stepping 10, GenuineIntel'"
      ]
     },
     "execution_count": 7,
     "metadata": {},
     "output_type": "execute_result"
    }
   ],
   "source": [
    "# CPU\n",
    "info.processor"
   ]
  },
  {
   "cell_type": "code",
   "execution_count": 11,
   "metadata": {},
   "outputs": [
    {
     "data": {
      "text/plain": [
       "8"
      ]
     },
     "execution_count": 11,
     "metadata": {},
     "output_type": "execute_result"
    }
   ],
   "source": [
    "# CPU 코어 개수 확인\n",
    "import os\n",
    "os.cpu_count()"
   ]
  },
  {
   "cell_type": "code",
   "execution_count": 16,
   "metadata": {},
   "outputs": [],
   "source": [
    "import platform ,psutil\n",
    " \n",
    "def printSystemInfor():\n",
    "    print('Process information  :\\t', platform.processor())\n",
    "    print('Process Architecture :\\t', platform.machine())\n",
    "    print('CPU Cores          :\\t', os.cpu_count())\n",
    "    print('RAM Size             :\\t',str(round(psutil.virtual_memory().total / (1024.0 **3)))+\"(GB)\")"
   ]
  },
  {
   "cell_type": "code",
   "execution_count": 17,
   "metadata": {},
   "outputs": [
    {
     "name": "stdout",
     "output_type": "stream",
     "text": [
      "Process information  :\t Intel64 Family 6 Model 142 Stepping 10, GenuineIntel\n",
      "Process Architecture :\t AMD64\n",
      "CPU Cores          :\t 8\n",
      "RAM Size             :\t 16(GB)\n"
     ]
    }
   ],
   "source": [
    "printSystemInfor()"
   ]
  },
  {
   "cell_type": "code",
   "execution_count": null,
   "metadata": {},
   "outputs": [],
   "source": []
  }
 ],
 "metadata": {
  "kernelspec": {
   "display_name": "fastcampus",
   "language": "python",
   "name": "fastcampus"
  },
  "language_info": {
   "codemirror_mode": {
    "name": "ipython",
    "version": 3
   },
   "file_extension": ".py",
   "mimetype": "text/x-python",
   "name": "python",
   "nbconvert_exporter": "python",
   "pygments_lexer": "ipython3",
   "version": "3.9.13"
  }
 },
 "nbformat": 4,
 "nbformat_minor": 4
}
