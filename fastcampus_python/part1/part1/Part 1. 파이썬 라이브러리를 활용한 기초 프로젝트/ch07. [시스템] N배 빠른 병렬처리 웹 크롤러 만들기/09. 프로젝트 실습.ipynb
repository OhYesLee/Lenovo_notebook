{
 "cells": [
  {
   "cell_type": "markdown",
   "metadata": {
    "pycharm": {
     "name": "#%% md\n"
    }
   },
   "source": [
    "# **Chapter 7. [시스템] N배 빠른 병렬처리 웹 크롤러 만들기**\n",
    "\n",
    "\n",
    "---\n",
    "### 📝 **학습 목차**\n",
    "> 7-1. 프로젝트 개요 <br>\n",
    "> 7-2. 시스템 정보 확인 - platform <br>\n",
    "> 7-3. 매개변수 입력 받기 - sys.argv, argparse <br>\n",
    "> 7-4. 디버깅의 기본! 로그 남기기 - logging <br>\n",
    "> 7-5. 원하는 시간에 작업 실행 - sched <br>\n",
    "> 7-6. 병렬 처리 1 - threading <br>\n",
    "> 7-7. 병렬 처리 2 - multiprocessing <br>\n",
    "> 7-8. 시스템 명령어 실행 <br>\n",
    "> **7-9. 프로젝트 실습**"
   ]
  },
  {
   "cell_type": "markdown",
   "metadata": {
    "pycharm": {
     "name": "#%% md\n"
    }
   },
   "source": [
    "## 7-9. 병렬처리 웹 크롤러 만들기 🚀 "
   ]
  },
  {
   "cell_type": "markdown",
   "metadata": {
    "pycharm": {
     "name": "#%% md\n"
    }
   },
   "source": [
    "> ### 진행 순서\n",
    ">  1. 로깅(logging) 설정\n",
    ">  2. 시스템 정보 확인\n",
    ">  3. 웹 크롤러 만들기\n",
    ">  4. 병렬처리 세팅\n",
    ">  5. 실행 스케줄러 설정\n",
    ">  6. 매개변수를 입력 받는 시스템 명령어 실행"
   ]
  },
  {
   "cell_type": "markdown",
   "metadata": {
    "pycharm": {
     "name": "#%% md\n"
    }
   },
   "source": [
    "#### 7-9-1. 로깅(logging) 설정"
   ]
  },
  {
   "cell_type": "code",
   "execution_count": 1,
   "metadata": {},
   "outputs": [],
   "source": [
    "import logging\n",
    "\n",
    "# 로거 생성\n",
    "logger = logging.getLogger()\n",
    "\n",
    "# 로그의 출력 기준 설정\n",
    "logger.setLevel(logging.INFO)\n",
    "\n",
    "# log 형식 지정\n",
    "formatter = logging.Formatter('%(asctime)s - %(name)s - %(levelname)s - %(message)s')\n",
    "\n",
    "# log 출력\n",
    "stream_handler = logging.StreamHandler()\n",
    "stream_handler.setFormatter(formatter)\n",
    "logger.addHandler(stream_handler)\n",
    "\n",
    "# log 파일 생성\n",
    "file_handler = logging.FileHandler('output.log')\n",
    "file_handler.setFormatter(formatter)\n",
    "logger.addHandler(file_handler)"
   ]
  },
  {
   "cell_type": "markdown",
   "metadata": {
    "pycharm": {
     "name": "#%% md\n"
    }
   },
   "source": [
    "#### 7-9-2. 시스템 정보 확인"
   ]
  },
  {
   "cell_type": "code",
   "execution_count": 2,
   "metadata": {},
   "outputs": [],
   "source": [
    "import platform, psutil\n",
    "import os\n",
    "\n",
    "def printSystemInfor():\n",
    "    logger.info(f''' \n",
    "        OS                   :\\t {platform.system()}\n",
    "        OS Version           :\\t {platform.version()}\n",
    "        OS                   :\\t {platform.system()}\n",
    "        OS Version           :\\t {platform.version()}\n",
    "        Process information  :\\t {platform.processor()}\n",
    "        Process Architecture :\\t {platform.machine()}\n",
    "        CPU Cores            :\\t {os.cpu_count()}   \n",
    "        RAM Size             :\\t {str(round(psutil.virtual_memory().total / (1024.0 **3)))+\"(GB)\"} \n",
    "    ''')\n"
   ]
  },
  {
   "cell_type": "code",
   "execution_count": 3,
   "metadata": {},
   "outputs": [
    {
     "name": "stderr",
     "output_type": "stream",
     "text": [
      "2022-10-18 20:17:19,574 - root - INFO -  \n",
      "        OS                   :\t Windows\n",
      "        OS Version           :\t 10.0.19043\n",
      "        OS                   :\t Windows\n",
      "        OS Version           :\t 10.0.19043\n",
      "        Process information  :\t Intel64 Family 6 Model 142 Stepping 10, GenuineIntel\n",
      "        Process Architecture :\t AMD64\n",
      "        CPU Cores            :\t 8   \n",
      "        RAM Size             :\t 16(GB) \n",
      "    \n"
     ]
    }
   ],
   "source": [
    "printSystemInfor()"
   ]
  },
  {
   "cell_type": "markdown",
   "metadata": {
    "pycharm": {
     "name": "#%% md\n"
    }
   },
   "source": [
    "#### 7-9-3. 웹 크롤러 만들기"
   ]
  },
  {
   "cell_type": "code",
   "execution_count": 4,
   "metadata": {},
   "outputs": [],
   "source": [
    "from bs4 import BeautifulSoup\n",
    "import requests"
   ]
  },
  {
   "cell_type": "code",
   "execution_count": 5,
   "metadata": {},
   "outputs": [],
   "source": [
    "# 네이버 연합뉴스 URL\n",
    "url1 = 'https://news.naver.com/main/list.naver?mode=LSD&mid=sec&sid1=100'\n",
    "url2 = 'https://news.naver.com/main/list.naver?mode=LSD&mid=sec&sid1=101'\n",
    "url3 = 'https://news.naver.com/main/list.naver?mode=LSD&mid=sec&sid1=102'\n",
    "url4 = 'https://news.naver.com/main/list.naver?mode=LSD&mid=sec&sid1=103'\n",
    "url5 = 'https://news.naver.com/main/list.naver?mode=LSD&mid=sec&sid1=104'\n",
    "url6 = 'https://news.naver.com/main/list.naver?mode=LSD&mid=sec&sid1=105'"
   ]
  },
  {
   "cell_type": "markdown",
   "metadata": {},
   "source": [
    "[html 헤더 정보 일람 사이트](https://www.useragentstring.com/pages/useragentstring.php)"
   ]
  },
  {
   "cell_type": "code",
   "execution_count": 6,
   "metadata": {},
   "outputs": [],
   "source": [
    "def web_crawler(url):\n",
    "    # 헤더 설정\n",
    "    headers = {\"User-Agent\":\"Mozilla/5.0 (Windows NT 10.0) AppleWebKit/537.36 (KHTML, like Gecko) Chrome/104.0.0.0 Safari/537.36\"}\n",
    "    \n",
    "    # 서버 응답 확인\n",
    "    response = requests.get(url, headers=headers)\n",
    "\n",
    "    # BeautifulSoup 객체 생성\n",
    "    beautifulSoup = BeautifulSoup(response.content, \"html.parser\")\n",
    "\n",
    "    # 페이지 제목 크롤링\n",
    "    print(beautifulSoup.title.string)\n",
    "\n",
    "    # 기사 제목 크롤링\n",
    "    print(beautifulSoup.find(\"ul\", attrs={\"class\":\"type06_headline\"}).get_text())"
   ]
  },
  {
   "cell_type": "code",
   "execution_count": 7,
   "metadata": {
    "scrolled": true
   },
   "outputs": [
    {
     "name": "stdout",
     "output_type": "stream",
     "text": [
      "정치 홈 : 네이버 뉴스\t\n",
      "\n",
      "\n",
      "\n",
      "\n",
      "\n",
      "\n",
      "\n",
      "\n",
      "\n",
      "\n",
      "\t\t\t\t\t\t\t\t 野 \"검찰, 유동규 회유 압박\"…국감 곳곳 '이재명·김건희 의혹' 충돌(종합3보)\n",
      "\t\t\t\t\t\t\t\t\n",
      "\n",
      "\n",
      "박상휘 정재민 이균진 전민 기자 = 윤석열 정부 첫 국정감사가 종반을 향해 치닫고 있는 가운데 여야는 18일에도 상임위원회에 곳 …\n",
      "뉴스1\n",
      "1분전\n",
      "\n",
      "\n",
      "\n",
      "\n",
      "\n",
      "\n",
      "\n",
      "\n",
      "\n",
      "\n",
      "\n",
      "\n",
      "\t\t\t\t\t\t\t\t 北 금강산관광지구 ‘고성항 횟집’ 건물 철거\n",
      "\t\t\t\t\t\t\t\t\n",
      "\n",
      "\n",
      "정부 “북한 내 우리 자산 철거 중단하라” 경협 기업인 “정부·국회 피해 보상해야” 남북 경제협력사업 중단과 함께 북한이 금강산 …\n",
      "세계일보\n",
      "신문A17면 \n",
      "4분전\n",
      "\n",
      "\n",
      "\n",
      "\n",
      "\n",
      "\n",
      "\n",
      "동영상기사\n",
      "\n",
      "\n",
      "\n",
      "\n",
      "\t\t\t\t\t\t\t\t [단독] 정부 데이터도 한 건물에 '밀집'…다른 층이면 괜찮다?\n",
      "\t\t\t\t\t\t\t\t\n",
      "\n",
      "\n",
      "이번 일을 통해서 회사 덩치만 키우고 재난 대비에는 허술했던 카카오의 민낯이 그대로 드러났습니다. 수백 년 전 조선왕조실록도 불 …\n",
      "SBS\n",
      "5분전\n",
      "\n",
      "\n",
      "\n",
      "\n",
      "\n",
      "\n",
      "\n",
      "\n",
      "\n",
      "\n",
      "\n",
      "\n",
      "\t\t\t\t\t\t\t\t 베트남 총리 예방하는 박진\n",
      "\t\t\t\t\t\t\t\t\n",
      "\n",
      "\n",
      "= 베트남을 방문 중인 박진 외교부 장관이 18일 오후 베트남에서 팜 밍 찡(Pham Minh Chinh) 베트남 총리를 예방하 …\n",
      "뉴스1\n",
      "6분전\n",
      "\n",
      "\n",
      "\n",
      "\n",
      "\n",
      "\n",
      "\n",
      "\n",
      "\n",
      "\n",
      "\n",
      "\n",
      "\t\t\t\t\t\t\t\t 베트남 총리와 악수하는 박진\n",
      "\t\t\t\t\t\t\t\t\n",
      "\n",
      "\n",
      "= 베트남을 방문 중인 박진 외교부 장관이 18일 오후 베트남에서 팜 밍 찡(Pham Minh Chinh) 베트남 총리를 예방하 …\n",
      "뉴스1\n",
      "6분전\n",
      "\n",
      "\n",
      "\n",
      "\n",
      "\n",
      "\n",
      "\n",
      "\n",
      "\n",
      "\n",
      "\n",
      "\n",
      "\t\t\t\t\t\t\t\t 정진석 \"대북굴종·친중사대 文정부 뿌리엔 40년前 좌파이념…현대판 위정척사\"\n",
      "\t\t\t\t\t\t\t\t\n",
      "\n",
      "\n",
      "\"민주당 주류 586세력 이념이 뭔가, 5년간 北 김정은 남매에 왜 고개한번 들지 못했나\" \"'北은 자주, 韓은 친일괴뢰' 민주 …\n",
      "디지털타임스\n",
      "7분전\n",
      "\n",
      "\n",
      "\n",
      "\n",
      "\n",
      "\n",
      "\n",
      "동영상기사\n",
      "\n",
      "\n",
      "\n",
      "\n",
      "\t\t\t\t\t\t\t\t 김건희 여사, 넉 달 만에 단독 일정 공개‥보폭 넓히나?\n",
      "\t\t\t\t\t\t\t\t\n",
      "\n",
      "\n",
      "윤석열 대통령의 부인 김건희 여사가 넉 달 만에 윤 대통령 없이 공개적인 일정을 소화했습니다. 나토 순방 당시 민간인 동행 논란 …\n",
      "MBC\n",
      "8분전\n",
      "\n",
      "\n",
      "\n",
      "\n",
      "\n",
      "\n",
      "\n",
      "\n",
      "\n",
      "\n",
      "\n",
      "\n",
      "\t\t\t\t\t\t\t\t 정세현 전 장관 \"도랑 걷는 소처럼 미중 관계 맺어야\"\n",
      "\t\t\t\t\t\t\t\t\n",
      "\n",
      "\n",
      "한·중수교 30주년 광주국제심포지엄서 기조 강연 정세현 전 통일부장관은 18일 \"중국과 미국 사이에서 적절한 균형을 통해 한국의 …\n",
      "연합뉴스\n",
      "9분전\n",
      "\n",
      "\n",
      "\n",
      "\n",
      "\n",
      "\n",
      "\n",
      "\n",
      "\n",
      "\n",
      "\n",
      "\n",
      "\t\t\t\t\t\t\t\t 野 \"서욱 구속영장으로 정치보복 시나리오 드러나…SI 공개하자\"\n",
      "\t\t\t\t\t\t\t\t\n",
      "\n",
      "\n",
      "더불어민주당은 18일 검찰이 서욱 전 국방부 장관과 김홍희 전 해경청장에 대해 구속영장을 청구한데 대해 \"정치보복 시나리오의 한 …\n",
      "뉴스1\n",
      "9분전\n",
      "\n",
      "\n",
      "\n",
      "\n",
      "\n",
      "\n",
      "\n",
      "\n",
      "\n",
      "\n",
      "\n",
      "\n",
      "\t\t\t\t\t\t\t\t 일한의원연맹 \"내달 초 서울서 한일의원연맹과 합동총회\"\n",
      "\t\t\t\t\t\t\t\t\n",
      "\n",
      "\n",
      "\"尹대통령과 기시다 총리에 의한 한일관계 개선으로 이어지길\" 김호준 특파원 = 일한의원연맹은 18일 일본 국회에서 열린 회의 후 …\n",
      "연합뉴스\n",
      "10분전\n",
      "\n",
      "\n",
      "\n",
      "\n"
     ]
    }
   ],
   "source": [
    "# 크롤러 실행 테스트\n",
    "web_crawler(url1)"
   ]
  },
  {
   "cell_type": "markdown",
   "metadata": {
    "pycharm": {
     "name": "#%% md\n"
    }
   },
   "source": [
    "#### 7-9-4. 병렬처리 세팅"
   ]
  },
  {
   "cell_type": "code",
   "execution_count": null,
   "metadata": {},
   "outputs": [
    {
     "name": "stderr",
     "output_type": "stream",
     "text": [
      "2022-10-18 20:17:22,572 - root - INFO -  멀티프로세스가 시작됩니다. \n"
     ]
    }
   ],
   "source": [
    "# Pycharm 에서 실행 확인\n",
    "if __name__=='__main__':\n",
    "    from multiprocessing import Pool\n",
    "    import time\n",
    "    \n",
    "    url_list = [url1, url2, url3, url4, url5, url6]\n",
    "    \n",
    "    logger.info(f''' 멀티프로세스가 시작됩니다. ''')\n",
    "    start_time = time.time()\n",
    "    \n",
    "    pool = Pool(processes=3)                          # 3개 CPU 코어를 사용합니다.\n",
    "    result = pool.map(web_crawler, url_list)          # 각 URL 에 웹 크롤러 할당\n",
    "    \n",
    "    pool.close()     # 풀링 종료\n",
    "    pool.join()      # 결과 합치기\n",
    "\n",
    "    \n",
    "    logger.info(f''' 멀티프로세스가 종료되었습니다. ''')\n",
    "    logger.info(\"--- %s seconds ---\" % (time.time() - start_time))"
   ]
  },
  {
   "cell_type": "markdown",
   "metadata": {
    "pycharm": {
     "name": "#%% md\n"
    }
   },
   "source": [
    "#### 7-9-4. 실행 스케줄러 설정"
   ]
  },
  {
   "cell_type": "code",
   "execution_count": 1,
   "metadata": {},
   "outputs": [],
   "source": [
    "def main():\n",
    "    from multiprocessing import Pool\n",
    "    import time\n",
    "    \n",
    "    url_list = [url1, url2, url3, url4, url5, url6]\n",
    "    \n",
    "    logger.info(f''' 멀티프로세스가 시작됩니다. ''')\n",
    "    start_time = time.time()\n",
    "    \n",
    "    pool = Pool(processes=3)                          # 3개 CPU 코어를 사용합니다.\n",
    "    result = pool.map(web_crawler, url_list)          # 각 URL 에 웹 크롤러 할당\n",
    "    \n",
    "    pool.close()     # 풀링 종료\n",
    "    pool.join()      # 결과 합치기\n",
    "    \n",
    "    logger.info(f''' 멀티프로세스가 종료되었습니다. ''')\n",
    "    logger.info(\"--- %s seconds ---\" % (time.time() - start_time))\n",
    "\n",
    "    \n",
    "# Pycharm 에서 실행 확인\n",
    "if __name__=='__main__':\n",
    "    import schedule \n",
    "    \n",
    "    # 3초에 한번씩 메인 함수 실행\n",
    "    schedule.every(3).seconds.do(main)  # 이벤트 등록\n",
    "    \n",
    "    # 스케줄러 실행\n",
    "    while True:\n",
    "        schedule.run_pending()\n",
    "    "
   ]
  },
  {
   "cell_type": "markdown",
   "metadata": {
    "pycharm": {
     "name": "#%% md\n"
    }
   },
   "source": [
    "#### 7-9-5. 매개변수를 입력받는 시스템 명령어 실행"
   ]
  },
  {
   "cell_type": "code",
   "execution_count": null,
   "metadata": {},
   "outputs": [],
   "source": [
    "def main(cpu=3):\n",
    "    from multiprocessing import Pool\n",
    "    import time\n",
    "    \n",
    "    url_list = [url1, url2, url3, url4, url5, url6]\n",
    "    \n",
    "    logger.info(f''' 멀티프로세스가 시작됩니다. ''')\n",
    "    start_time = time.time()\n",
    "    \n",
    "    pool = Pool(processes=cpu)                        # N개 CPU 코어를 사용합니다.\n",
    "    result = pool.map(web_crawler, url_list)          # 각 URL 에 웹 크롤러 할당\n",
    "    \n",
    "    pool.close()     # 풀링 종료\n",
    "    pool.join()      # 결과 합치기\n",
    "    \n",
    "    logger.info(f''' 멀티프로세스가 종료되었습니다. ''')\n",
    "    logger.info(\"--- %s seconds ---\" % (time.time() - start_time))\n",
    "\n",
    "    \n",
    "# Pycharm 에서 실행 확인\n",
    "if __name__=='__main__':\n",
    "    import argparse\n",
    "    import schedule \n",
    "    \n",
    "    ''' 입력 매개변수 설정 '''\n",
    "    parser = argparse.ArgumentParser()  \n",
    "    parser.add_argument('--cpu', type=int, default=3, help=\"멀티프로세스 CPU 수\")\n",
    "    parser.add_argument('--run_interval', type=int, default=5, help=\"웹 크롤러 실행 주기(초)\")\n",
    "    args = parser.parse_args()         # 매개변수 파싱\n",
    "    cpu = args.cpu\n",
    "    interval = args.run_interval\n",
    "    \n",
    "    logger.info(f''' \n",
    "        CPU 사용                :\\t {cpu} 코어\n",
    "        프로그램 실행주기        :\\t {interval} 초\n",
    "    ''')\n",
    "\n",
    "    # N초에 한번씩 메인 함수 실행\n",
    "    schedule.every(interval).seconds.do(main, cpu)  # 이벤트 등록\n",
    "    \n",
    "    # 스케줄러 실행\n",
    "    while True:\n",
    "        schedule.run_pending()\n",
    "    "
   ]
  },
  {
   "cell_type": "code",
   "execution_count": null,
   "metadata": {},
   "outputs": [],
   "source": []
  }
 ],
 "metadata": {
  "kernelspec": {
   "display_name": "fastcampus",
   "language": "python",
   "name": "fastcampus"
  },
  "language_info": {
   "codemirror_mode": {
    "name": "ipython",
    "version": 3
   },
   "file_extension": ".py",
   "mimetype": "text/x-python",
   "name": "python",
   "nbconvert_exporter": "python",
   "pygments_lexer": "ipython3",
   "version": "3.9.13"
  }
 },
 "nbformat": 4,
 "nbformat_minor": 4
}
