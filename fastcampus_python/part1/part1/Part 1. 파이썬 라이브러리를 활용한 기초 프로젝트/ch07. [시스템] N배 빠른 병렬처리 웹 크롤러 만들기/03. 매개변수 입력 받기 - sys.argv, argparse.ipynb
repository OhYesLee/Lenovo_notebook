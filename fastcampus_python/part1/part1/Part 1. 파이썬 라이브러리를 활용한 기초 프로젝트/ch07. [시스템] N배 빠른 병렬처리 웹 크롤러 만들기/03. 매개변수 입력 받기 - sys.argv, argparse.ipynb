{
 "cells": [
  {
   "cell_type": "markdown",
   "metadata": {
    "pycharm": {
     "name": "#%% md\n"
    }
   },
   "source": [
    "# **Chapter 7. [시스템] N배 빠른 병렬처리 웹 크롤러 만들기**\n",
    "\n",
    "\n",
    "---\n",
    "### 📝 **학습 목차**\n",
    "> 7-1. 프로젝트 개요 <br>\n",
    "> 7-2. 시스템 정보 확인 - platform <br>\n",
    "> **7-3. 매개변수 입력 받기 - sys.argv, argparse** <br>\n",
    "> 7-4. 디버깅의 기본! 로그 남기기 - logging <br>\n",
    "> 7-5. 원하는 시간에 작업 실행 - sched <br>\n",
    "> 7-6. 병렬 처리 1 - threading <br>\n",
    "> 7-7. 병렬 처리 2 - multiprocessing <br>\n",
    "> 7-8. 시스템 명령어 실행 <br>\n",
    "> 7-9. 프로젝트 실습"
   ]
  },
  {
   "cell_type": "markdown",
   "metadata": {
    "pycharm": {
     "name": "#%% md\n"
    }
   },
   "source": [
    "## 7-3. 매개변수 입력 받기"
   ]
  },
  {
   "cell_type": "markdown",
   "metadata": {},
   "source": [
    "#### 💡 매개변수란?\n"
   ]
  },
  {
   "cell_type": "markdown",
   "metadata": {},
   "source": [
    "프로그램 명령행에서 사용자로부터 입력 받는 값 (혹은 인자) <br>\n",
    "외부에서 입력 받는 값에 따라 프로그램 동작이 달라져야 할 경우 주로 사용"
   ]
  },
  {
   "cell_type": "markdown",
   "metadata": {
    "pycharm": {
     "name": "#%% md\n"
    }
   },
   "source": [
    "> ### sys.argv\n",
    ">  - 파이썬 스크립트로 전달한 명령행 매개변수를 처리할 때 사용하는 모듈\n",
    ">  - `list()` 형식의 반환값을 사용하기 때문에 여러개의 인자를 다룰 때 편하다!"
   ]
  },
  {
   "cell_type": "code",
   "execution_count": 3,
   "metadata": {},
   "outputs": [],
   "source": [
    "# Pycharm 에서 실행 결과 확인\n",
    "import sys\n",
    "print(sys.argv)"
   ]
  },
  {
   "cell_type": "code",
   "execution_count": null,
   "metadata": {},
   "outputs": [],
   "source": [
    "val1 = int(sys.argv[1])\n",
    "val2 = int(sys.argv[2])\n",
    "\n",
    "print(val1, ' 곱하기 ', val2, ' 은? ', (val1*val2))"
   ]
  },
  {
   "cell_type": "markdown",
   "metadata": {
    "pycharm": {
     "name": "#%% md\n"
    }
   },
   "source": [
    "> ### argparse\n",
    ">  - `sys.argv` 모듈과 마찬가지로 명령행 매개변수를 다룰 때 사용\n",
    ">  - `sys.argv` 는 인자를 파싱(parsing) 하는 과정이 필요하며, 이는 인자 별 예외처리가 필요함을 의미\n",
    ">  - 인자를 **입력받고, 파싱하고, 예외처리, 사용법 작성까지 자동으로 수행**해주는 편리한 모듈"
   ]
  },
  {
   "cell_type": "markdown",
   "metadata": {},
   "source": [
    "#### 예제 1"
   ]
  },
  {
   "cell_type": "code",
   "execution_count": null,
   "metadata": {},
   "outputs": [],
   "source": [
    "# Pycharm 에서 실행 결과 확인\n",
    "import argparse"
   ]
  },
  {
   "cell_type": "code",
   "execution_count": 7,
   "metadata": {},
   "outputs": [],
   "source": [
    "# 1. 객체 생성\n",
    "parser = argparse.ArgumentParser()"
   ]
  },
  {
   "cell_type": "code",
   "execution_count": 8,
   "metadata": {},
   "outputs": [
    {
     "data": {
      "text/plain": [
       "_StoreAction(option_strings=[], dest='Y', nargs=None, const=None, default=None, type=<class 'int'>, choices=None, required=True, help='두번쨰 숫자는 ?', metavar=None)"
      ]
     },
     "execution_count": 8,
     "metadata": {},
     "output_type": "execute_result"
    }
   ],
   "source": [
    "# 2. 매개변수 추가\n",
    "parser.add_argument('X', type=int, help=\"첫번째 숫자는 ?\")\n",
    "parser.add_argument('Y', type=int, help=\"두번쨰 숫자는 ?\")"
   ]
  },
  {
   "cell_type": "code",
   "execution_count": 10,
   "metadata": {},
   "outputs": [],
   "source": [
    "# 3. 매개변수 파싱\n",
    "args = parser.parse_args()\n",
    "X = args.X\n",
    "Y = args.Y"
   ]
  },
  {
   "cell_type": "code",
   "execution_count": null,
   "metadata": {},
   "outputs": [],
   "source": [
    "# 4. 사용법 확인\n",
    "python.py --help"
   ]
  },
  {
   "cell_type": "markdown",
   "metadata": {},
   "source": [
    "#### 예제 2"
   ]
  },
  {
   "cell_type": "code",
   "execution_count": null,
   "metadata": {},
   "outputs": [],
   "source": [
    "# Pycharm 에서 실행 결과 확인\n",
    "from __future__ import print_function\n",
    "import argparse\n",
    "\n",
    "\n",
    "def main():\n",
    "    parser = argparse.ArgumentParser(description='This code is written for practice about argparse')\n",
    "    parser.add_argument('X', type=float,\n",
    "                        metavar='First_number',\n",
    "                        help='첫번째 숫자는?')\n",
    "    parser.add_argument('Y', type=float,\n",
    "                        metavar='Second_number',\n",
    "                        help='두번째 숫자는?')\n",
    "    parser.add_argument('--op', type=str, default='덧셈',\n",
    "                        choices=['덧셈', '뺄셈', '곱하기', '나누기'],\n",
    "                        help='연산 방법을 선택해 주세요')\n",
    "    args = parser.parse_args()\n",
    "\n",
    "    X = args.X\n",
    "    Y = args.Y\n",
    "    op = args.op\n",
    "    print(calc(X, Y, op))\n",
    "\n",
    "\n",
    "def calc(x, y, op):\n",
    "    if op == '덧셈':\n",
    "        return x + y\n",
    "    elif op == '뺄셈':\n",
    "        return x - y\n",
    "    elif op == '곱하기':\n",
    "        return x * y\n",
    "    elif op == '나누기':\n",
    "        return x / y\n",
    "\n",
    "\n",
    "if __name__ == \"__main__\":\n",
    "    main()"
   ]
  }
 ],
 "metadata": {
  "kernelspec": {
   "display_name": "fastcampus",
   "language": "python",
   "name": "fastcampus"
  },
  "language_info": {
   "codemirror_mode": {
    "name": "ipython",
    "version": 3
   },
   "file_extension": ".py",
   "mimetype": "text/x-python",
   "name": "python",
   "nbconvert_exporter": "python",
   "pygments_lexer": "ipython3",
   "version": "3.9.13"
  }
 },
 "nbformat": 4,
 "nbformat_minor": 4
}
