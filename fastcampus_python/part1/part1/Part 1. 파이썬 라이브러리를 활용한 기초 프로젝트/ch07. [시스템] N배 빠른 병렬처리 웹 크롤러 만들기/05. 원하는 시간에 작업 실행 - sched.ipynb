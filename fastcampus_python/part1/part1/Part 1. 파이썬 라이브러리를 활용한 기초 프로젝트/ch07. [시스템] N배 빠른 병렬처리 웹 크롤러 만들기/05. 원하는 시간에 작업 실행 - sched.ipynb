{
 "cells": [
  {
   "cell_type": "markdown",
   "metadata": {
    "pycharm": {
     "name": "#%% md\n"
    }
   },
   "source": [
    "# **Chapter 7. [시스템] N배 빠른 병렬처리 웹 크롤러 만들기**\n",
    "\n",
    "\n",
    "---\n",
    "### 📝 **학습 목차**\n",
    "> 7-1. 프로젝트 개요 <br>\n",
    "> 7-2. 시스템 정보 확인 - platform <br>\n",
    "> 7-3. 매개변수 입력 받기 - sys.argv, argparse <br>\n",
    "> 7-4. 디버깅의 기본! 로그 남기기 - logging <br>\n",
    "> **7-5. 원하는 시간에 작업 실행 - sched** <br>\n",
    "> 7-6. 병렬 처리 1 - threading <br>\n",
    "> 7-7. 병렬 처리 2 - multiprocessing <br>\n",
    "> 7-8. 시스템 명령어 실행 <br>\n",
    "> 7-9. 프로젝트 실습"
   ]
  },
  {
   "cell_type": "markdown",
   "metadata": {
    "pycharm": {
     "name": "#%% md\n"
    }
   },
   "source": [
    "## 7-5. 원하는 시간에 작업 실행"
   ]
  },
  {
   "cell_type": "markdown",
   "metadata": {
    "pycharm": {
     "name": "#%% md\n"
    }
   },
   "source": [
    "> ### sched\n",
    ">  - `sched` 는 지정된 시간 간격으로 원하는 이벤트를 실행하게 하는 이벤트 스케줄러 **표준 라이브러리**\n",
    ">  - 사용 순서\n",
    ">    - 1. 스케줄러 객체 생성\n",
    ">    - 2. enter(`실행 간격(초)`, `우선순위`, `실행할 함수`, `함수에 전달할 인자`) 를 사용하여 실행할 이벤트 등록\n",
    ">    - 3. `run()` 스케줄러 실행"
   ]
  },
  {
   "cell_type": "markdown",
   "metadata": {},
   "source": [
    "#### 7.5.1. sched 예제\n",
    "① 프로그램 실행 후 5초 후에 print_a() 호출 <br>\n",
    "② 프로그램 실행 후 3초 후에 print_b() 호출 <br>\n",
    "③ 프로그램 실행 후 7초 후에 print_c() 호출"
   ]
  },
  {
   "cell_type": "code",
   "execution_count": 7,
   "metadata": {},
   "outputs": [
    {
     "name": "stdout",
     "output_type": "stream",
     "text": [
      "3.01  초 경과\n",
      "print_b 함수 실행됨\n",
      "5.02  초 경과\n",
      "print_a 함수 실행됨\n",
      "7.01  초 경과\n",
      "print_c 함수 실행됨\n"
     ]
    }
   ],
   "source": [
    "import sched\n",
    "import time\n",
    "\n",
    "start = time.time()\n",
    "\n",
    "def print_a(a):\n",
    "    print(round(time.time() - start, 2), ' 초 경과')\n",
    "    print(a)\n",
    "\n",
    "\n",
    "def print_b(b):\n",
    "    print(round(time.time() - start, 2), ' 초 경과')\n",
    "    print(b)\n",
    "\n",
    "\n",
    "def print_c(c):\n",
    "    print(round(time.time() - start, 2), ' 초 경과')\n",
    "    print(c)\n",
    "\n",
    "\n",
    "s = sched.scheduler()  # 스케줄러 객체 생성\n",
    "s.enter(5, 1, print_a, ('print_a 함수 실행됨',))  # 5초 후에 실행\n",
    "s.enter(3, 1, print_b, ('print_b 함수 실행됨',))  # 3초 후에 실행\n",
    "s.enter(7, 1, print_c, ('print_c 함수 실행됨',))  # 7초 후에 실행\n",
    "s.run()"
   ]
  },
  {
   "cell_type": "markdown",
   "metadata": {
    "pycharm": {
     "name": "#%% md\n"
    }
   },
   "source": [
    "> ### schedule\n",
    ">  - `sched` 과 마찬가지로 일정한 시간 간격으로 프로그램을 실행시켜주는 **외장 라이브러리**\n",
    ">  - 파이썬의 원하는 함수들을 원하는 실행 주기를 (초, 분, 시간, 요일, 특정 시각) 손쉽게 설정이 가능\n",
    ">  - 시간 관련 내장 라이브러리인 `time` 과 주로 함께 사용됨"
   ]
  },
  {
   "cell_type": "code",
   "execution_count": 1,
   "metadata": {},
   "outputs": [],
   "source": [
    "import schedule   # pip install scehdule\n",
    "import time"
   ]
  },
  {
   "cell_type": "code",
   "execution_count": 2,
   "metadata": {},
   "outputs": [],
   "source": [
    "def message(interval):\n",
    "    print(f\"{interval}간격 스케줄 실행중...\")"
   ]
  },
  {
   "cell_type": "markdown",
   "metadata": {},
   "source": [
    "#### 7.5.2. 시, 분, 초 단위 실행"
   ]
  },
  {
   "cell_type": "markdown",
   "metadata": {},
   "source": [
    "5초에 한번씩 함수 실행"
   ]
  },
  {
   "cell_type": "code",
   "execution_count": 3,
   "metadata": {},
   "outputs": [
    {
     "data": {
      "text/plain": [
       "Every 5 seconds do message('5초') (last run: [never], next run: 2022-10-03 12:51:56)"
      ]
     },
     "execution_count": 3,
     "metadata": {},
     "output_type": "execute_result"
    }
   ],
   "source": [
    "# 5초에 한번씩 함수 실행\n",
    "schedule.every(5).seconds.do(message, '5초')  # 이벤트 등록"
   ]
  },
  {
   "cell_type": "code",
   "execution_count": 11,
   "metadata": {
    "scrolled": true
   },
   "outputs": [],
   "source": [
    "# 스케줄러 실행\n",
    "while True:\n",
    "    schedule.run_pending()"
   ]
  },
  {
   "cell_type": "markdown",
   "metadata": {},
   "source": [
    "1분에 한번씩 함수 실행"
   ]
  },
  {
   "cell_type": "code",
   "execution_count": null,
   "metadata": {},
   "outputs": [],
   "source": [
    "# 스케줄러 초기화\n",
    "schedule.clear()"
   ]
  },
  {
   "cell_type": "code",
   "execution_count": 9,
   "metadata": {},
   "outputs": [
    {
     "data": {
      "text/plain": [
       "Every 1 minute do message('1분') (last run: [never], next run: 2022-10-03 12:54:52)"
      ]
     },
     "execution_count": 9,
     "metadata": {},
     "output_type": "execute_result"
    }
   ],
   "source": [
    "# 1분에 한번씩 함수 실행\n",
    "schedule.every(1).minutes.do(message, '1분')  # 이벤트 등록"
   ]
  },
  {
   "cell_type": "code",
   "execution_count": 12,
   "metadata": {},
   "outputs": [],
   "source": [
    "# 스케줄러 실행\n",
    "while True:\n",
    "    schedule.run_pending()"
   ]
  },
  {
   "cell_type": "markdown",
   "metadata": {},
   "source": [
    "1시간에 한번씩 함수 실행"
   ]
  },
  {
   "cell_type": "code",
   "execution_count": null,
   "metadata": {},
   "outputs": [],
   "source": [
    "# 스케줄러 초기화\n",
    "schedule.clear()"
   ]
  },
  {
   "cell_type": "code",
   "execution_count": null,
   "metadata": {},
   "outputs": [],
   "source": [
    "# 1시간에 한번씩 함수 실행\n",
    "schedule.every(1).hour.do(message, '1시간')"
   ]
  },
  {
   "cell_type": "code",
   "execution_count": null,
   "metadata": {},
   "outputs": [],
   "source": [
    "# 스케줄러 실행\n",
    "while True:\n",
    "    schedule.run_pending()"
   ]
  },
  {
   "cell_type": "markdown",
   "metadata": {},
   "source": [
    "#### 7.5.3. 일, 주 단위 실행"
   ]
  },
  {
   "cell_type": "code",
   "execution_count": null,
   "metadata": {},
   "outputs": [],
   "source": [
    "# 스케줄러 초기화\n",
    "schedule.clear()"
   ]
  },
  {
   "cell_type": "code",
   "execution_count": null,
   "metadata": {},
   "outputs": [],
   "source": [
    "# 1일에 한번씩 함수 실행\n",
    "schedule.every(1).days.do(message, '1일')\n",
    "\n",
    "# 1주에 한번씩 함수 실행\n",
    "schedule.every(1).weeks.do(message, '1주')"
   ]
  },
  {
   "cell_type": "code",
   "execution_count": null,
   "metadata": {},
   "outputs": [],
   "source": [
    "# 스케줄러 실행\n",
    "while True:\n",
    "    schedule.run_pending()"
   ]
  },
  {
   "cell_type": "markdown",
   "metadata": {},
   "source": [
    "#### 7.5.4. 매일 정해진 시각에 실행"
   ]
  },
  {
   "cell_type": "code",
   "execution_count": null,
   "metadata": {},
   "outputs": [],
   "source": [
    "# 스케줄러 초기화\n",
    "schedule.clear()"
   ]
  },
  {
   "cell_type": "code",
   "execution_count": null,
   "metadata": {},
   "outputs": [],
   "source": [
    "# 매일 13시 30분에 함수 실행\n",
    "schedule.every().day.at(\"13:30\").do(message, '1일')\n",
    "\n",
    "# 매일 \"11:11:11\"에 함수 실행\n",
    "schedule.every().day.at(\"11:11:11\").do(message, '1일')"
   ]
  },
  {
   "cell_type": "code",
   "execution_count": null,
   "metadata": {},
   "outputs": [],
   "source": [
    "# 스케줄러 실행\n",
    "while True:\n",
    "    schedule.run_pending()"
   ]
  },
  {
   "cell_type": "markdown",
   "metadata": {},
   "source": [
    "#### 7.5.5. 매주 정해진 시각에 실행"
   ]
  },
  {
   "cell_type": "code",
   "execution_count": null,
   "metadata": {},
   "outputs": [],
   "source": [
    "# 스케줄러 초기화\n",
    "schedule.clear()"
   ]
  },
  {
   "cell_type": "code",
   "execution_count": null,
   "metadata": {},
   "outputs": [],
   "source": [
    "# 매주 월요일 13시 30분에 함수 실행\n",
    "schedule.every().monday.at(\"13:30\").do(message, '1주')"
   ]
  },
  {
   "cell_type": "code",
   "execution_count": null,
   "metadata": {},
   "outputs": [],
   "source": [
    "# 스케줄러 실행\n",
    "while True:\n",
    "    schedule.run_pending()"
   ]
  },
  {
   "cell_type": "markdown",
   "metadata": {},
   "source": [
    "#### 7.5.6. 스케줄러 중지"
   ]
  },
  {
   "cell_type": "code",
   "execution_count": 22,
   "metadata": {},
   "outputs": [],
   "source": [
    "# 스케줄러 초기화\n",
    "schedule.clear()"
   ]
  },
  {
   "cell_type": "code",
   "execution_count": 23,
   "metadata": {},
   "outputs": [],
   "source": [
    "# job 설정\n",
    "job = schedule.every(1).seconds.do(message, '1초')  # 이벤트 등록"
   ]
  },
  {
   "cell_type": "code",
   "execution_count": 24,
   "metadata": {},
   "outputs": [
    {
     "name": "stdout",
     "output_type": "stream",
     "text": [
      "1초간격 스케줄 실행중...\n",
      "1초간격 스케줄 실행중...\n",
      "1초간격 스케줄 실행중...\n",
      "1초간격 스케줄 실행중...\n",
      "1초간격 스케줄 실행중...\n",
      "스케줄러가 종료되었습니다 !\n"
     ]
    }
   ],
   "source": [
    "# 스케줄러 실행\n",
    "count = 0\n",
    "\n",
    "while True:\n",
    "    schedule.run_pending()\n",
    "    time.sleep(1)\n",
    "    \n",
    "    count = count + 1\n",
    "    \n",
    "    if count > 5:  # 5회 실행 후 스케줄러 중지\n",
    "        schedule.cancel_job(job)\n",
    "        print('스케줄러가 종료되었습니다 !')\n",
    "        break"
   ]
  },
  {
   "cell_type": "code",
   "execution_count": null,
   "metadata": {},
   "outputs": [],
   "source": []
  }
 ],
 "metadata": {
  "kernelspec": {
   "display_name": "fastcampus",
   "language": "python",
   "name": "fastcampus"
  },
  "language_info": {
   "codemirror_mode": {
    "name": "ipython",
    "version": 3
   },
   "file_extension": ".py",
   "mimetype": "text/x-python",
   "name": "python",
   "nbconvert_exporter": "python",
   "pygments_lexer": "ipython3",
   "version": "3.9.13"
  }
 },
 "nbformat": 4,
 "nbformat_minor": 4
}
