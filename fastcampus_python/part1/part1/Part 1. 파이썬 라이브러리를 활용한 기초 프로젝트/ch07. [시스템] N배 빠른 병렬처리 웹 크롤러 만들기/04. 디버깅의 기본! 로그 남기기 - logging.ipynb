{
 "cells": [
  {
   "cell_type": "markdown",
   "metadata": {
    "pycharm": {
     "name": "#%% md\n"
    }
   },
   "source": [
    "# **Chapter 7. [시스템] N배 빠른 병렬처리 웹 크롤러 만들기**\n",
    "\n",
    "\n",
    "---\n",
    "### 📝 **학습 목차**\n",
    "> 7-1. 프로젝트 개요 <br>\n",
    "> 7-2. 시스템 정보 확인 - platform <br>\n",
    "> 7-3. 매개변수 입력 받기 - sys.argv, argparse <br>\n",
    "> **7-4. 디버깅의 기본! 로그 남기기 - logging** <br>\n",
    "> 7-5. 원하는 시간에 작업 실행 - sched <br>\n",
    "> 7-6. 병렬 처리 1 - threading <br>\n",
    "> 7-7. 병렬 처리 2 - multiprocessing <br>\n",
    "> 7-8. 시스템 명령어 실행 <br>\n",
    "> 7-9. 프로젝트 실습"
   ]
  },
  {
   "cell_type": "markdown",
   "metadata": {
    "pycharm": {
     "name": "#%% md\n"
    }
   },
   "source": [
    "## 7-4. 프로그램 실행 로그 남기기"
   ]
  },
  {
   "cell_type": "markdown",
   "metadata": {
    "pycharm": {
     "name": "#%% md\n"
    }
   },
   "source": [
    "> ### logging\n",
    ">  - 프로그램이 실행되는 동안 **일어나는 정보를 기록**하고 관리하는 로깅 모듈\n",
    ">  - 로그는 파일뿐만 아니라 소켓, 이메일, 콘솔 등 다양한 방법으로 출력이 가능\n",
    ">  - `print()` 와 차이점?\n",
    ">    - 콘솔창에 문자열을 출력하는 print 문을 사용해서 기록을 남기는 방법도 있지만, 실행 기록을 관리하거나 분석 시에는 활용이 어려움\n",
    ">    - `logging` 은 프로그램 진행 상황에 따라 로그를 레벨 별로 관리하거나 모듈 별 별도의 기록을 남기는 등의 작업이 가능 "
   ]
  },
  {
   "cell_type": "markdown",
   "metadata": {},
   "source": [
    "#### print 문 사용"
   ]
  },
  {
   "cell_type": "code",
   "execution_count": 10,
   "metadata": {},
   "outputs": [
    {
     "name": "stdout",
     "output_type": "stream",
     "text": [
      "함수가 시작되었습니다.\n"
     ]
    }
   ],
   "source": [
    "def myfunc():\n",
    "    print(\"함수가 시작되었습니다.\")\n",
    "\n",
    "myfunc()"
   ]
  },
  {
   "cell_type": "markdown",
   "metadata": {},
   "source": [
    "#### logging 사용"
   ]
  },
  {
   "cell_type": "code",
   "execution_count": 1,
   "metadata": {},
   "outputs": [
    {
     "name": "stderr",
     "output_type": "stream",
     "text": [
      "2022-10-01 15:31:01,596 - root - INFO - 함수가 시작되었습니다.\n"
     ]
    }
   ],
   "source": [
    "import logging\n",
    "\n",
    "# 로그 생성\n",
    "logger = logging.getLogger()\n",
    "\n",
    "# 로그의 출력 기준 설정\n",
    "logger.setLevel(logging.INFO)\n",
    "\n",
    "# log 형식 지정\n",
    "formatter = logging.Formatter('%(asctime)s - %(name)s - %(levelname)s - %(message)s')\n",
    "\n",
    "# log 출력\n",
    "stream_handler = logging.StreamHandler()\n",
    "stream_handler.setFormatter(formatter)\n",
    "logger.addHandler(stream_handler)\n",
    "\n",
    "# log 파일 생성\n",
    "file_handler = logging.FileHandler('sample1.log')\n",
    "file_handler.setFormatter(formatter)\n",
    "logger.addHandler(file_handler)\n",
    "\n",
    "def myfunc():\n",
    "    logger.info(\"함수가 시작되었습니다.\")\n",
    "\n",
    "myfunc()"
   ]
  },
  {
   "cell_type": "markdown",
   "metadata": {},
   "source": [
    "#### 로그 레벨 5단계\n",
    "로그는 설정한 레벨 이상만 출력됩니다. <br>\n",
    "예를 들어 핸들러나 로거의 로그 레벨을 'INFO'로 설정하면 DEBUG 로그는 출력되지 않고 INFO 이상의 로그만 출력합니다.\n",
    "\n",
    "`DEBUG < INFO < WARNING < ERROR < CRITICAL`\n",
    "- 1단계 DEBUG: 디버깅 목적으로 사용\n",
    "- 2단계 INFO: 일반 정보를 출력할 목적으로 사용\n",
    "- 3단계 WARNING: 경고 정보를 출력할 목적으로(작은 문제) 사용\n",
    "- 4단계 ERROR: 오류 정보를 출력할 목적으로(큰 문제) 사용\n",
    "- 5단계 CRITICAL: 아주 심각한 문제를 출력할 목적으로 사용"
   ]
  },
  {
   "cell_type": "code",
   "execution_count": 2,
   "metadata": {},
   "outputs": [
    {
     "name": "stderr",
     "output_type": "stream",
     "text": [
      "2022-10-01 15:32:20,017 - root - WARNING - WARNING 로그입니다.\n",
      "2022-10-01 15:32:20,017 - root - WARNING - WARNING 로그입니다.\n",
      "2022-10-01 15:32:20,020 - root - ERROR - ERROR 로그입니다.\n",
      "2022-10-01 15:32:20,020 - root - ERROR - ERROR 로그입니다.\n",
      "2022-10-01 15:32:20,023 - root - CRITICAL - CRITICAL 로그입니다.\n",
      "2022-10-01 15:32:20,023 - root - CRITICAL - CRITICAL 로그입니다.\n"
     ]
    }
   ],
   "source": [
    "import logging\n",
    "\n",
    "# 로그 생성\n",
    "logger = logging.getLogger()\n",
    "\n",
    "# 로그의 출력 기준 설정\n",
    "logger.setLevel(logging.WARNING)\n",
    "\n",
    "# log 형식 지정\n",
    "formatter = logging.Formatter('%(asctime)s - %(name)s - %(levelname)s - %(message)s')\n",
    "\n",
    "# log 출력\n",
    "stream_handler = logging.StreamHandler()\n",
    "stream_handler.setFormatter(formatter)\n",
    "logger.addHandler(stream_handler)\n",
    "\n",
    "# log 파일 생성\n",
    "file_handler = logging.FileHandler('sample2.log')\n",
    "file_handler.setFormatter(formatter)\n",
    "logger.addHandler(file_handler)\n",
    "\n",
    "def myfunc():\n",
    "    logger.debug(\"DEBUG 로그입니다.\")\n",
    "    logger.info(\"INFO 로그입니다.\")\n",
    "    logger.warning(\"WARNING 로그입니다.\")\n",
    "    logger.error(\"ERROR 로그입니다.\")\n",
    "    logger.critical(\"CRITICAL 로그입니다.\")\n",
    "\n",
    "myfunc()"
   ]
  },
  {
   "cell_type": "code",
   "execution_count": null,
   "metadata": {},
   "outputs": [],
   "source": []
  }
 ],
 "metadata": {
  "kernelspec": {
   "display_name": "fastcampus",
   "language": "python",
   "name": "fastcampus"
  },
  "language_info": {
   "codemirror_mode": {
    "name": "ipython",
    "version": 3
   },
   "file_extension": ".py",
   "mimetype": "text/x-python",
   "name": "python",
   "nbconvert_exporter": "python",
   "pygments_lexer": "ipython3",
   "version": "3.9.13"
  }
 },
 "nbformat": 4,
 "nbformat_minor": 4
}
