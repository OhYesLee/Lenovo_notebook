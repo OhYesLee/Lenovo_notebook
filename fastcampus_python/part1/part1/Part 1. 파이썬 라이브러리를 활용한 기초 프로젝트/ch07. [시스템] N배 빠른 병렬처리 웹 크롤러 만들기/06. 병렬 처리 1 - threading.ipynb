{
 "cells": [
  {
   "cell_type": "markdown",
   "metadata": {
    "pycharm": {
     "name": "#%% md\n"
    }
   },
   "source": [
    "# **Chapter 7. [시스템] N배 빠른 병렬처리 웹 크롤러 만들기**\n",
    "\n",
    "\n",
    "---\n",
    "### 📝 **학습 목차**\n",
    "> 7-1. 프로젝트 개요 <br>\n",
    "> 7-2. 시스템 정보 확인 - platform <br>\n",
    "> 7-3. 매개변수 입력 받기 - sys.argv, argparse <br>\n",
    "> 7-4. 디버깅의 기본! 로그 남기기 - logging <br>\n",
    "> 7-5. 원하는 시간에 작업 실행 - sched <br>\n",
    "> **7-6. 병렬 처리 1 - threading** <br>\n",
    "> 7-7. 병렬 처리 2 - multiprocessing <br>\n",
    "> 7-8. 시스템 명령어 실행 <br>\n",
    "> 7-9. 프로젝트 실습"
   ]
  },
  {
   "cell_type": "markdown",
   "metadata": {
    "pycharm": {
     "name": "#%% md\n"
    }
   },
   "source": [
    "## 7-6. 병렬 처리 1 - threading"
   ]
  },
  {
   "cell_type": "markdown",
   "metadata": {},
   "source": [
    "#### 💡 스레드(thread) 란?\n"
   ]
  },
  {
   "cell_type": "markdown",
   "metadata": {},
   "source": [
    "스레드란 **프로세스 내부에 있는 CPU 수행 단위**를 말합니다. <br>\n",
    "프로세스는 운영체제로부터 자원을 할당아 실행되는 작업(어플리케이션)의 단위입니다. <br>\n",
    "(예를들어, 크롬 브라우저를 두개 실행하면 두개의 프로세스가 실행됩니다.)\n",
    "\n",
    "스레드는 사전적 의미로 **한 가닥의 실**이란 의미로 <br>\n",
    "**한 프로세스 내에 스레드가 두 개라면 코드가 실행되는 흐름이 두 개** 생긴다는 의미\n",
    "<img src='img/프로세스_스레드.webp' align='left' width='500' height='500'/>"
   ]
  },
  {
   "cell_type": "markdown",
   "metadata": {
    "pycharm": {
     "name": "#%% md\n"
    }
   },
   "source": [
    "> ### threading\n",
    ">  - `threading` 은 스레드를 이용하여 한 프로세스에서 **2가지 이상의 일을 동시에 실행**할 수 있게 하는 표준 모듈\n",
    ">  - 파이썬은 기본적으로 싱글 스레드에서 순차적으로 동작함\n",
    ">  - 병렬 처리를 위해서는 별도 작업이 필요함\n",
    ">  - 활용 분야 \n",
    ">    - 대용량 데이터의 처리시간을 줄이기 위해 **데이터를 분할하여 병렬로 처리**\n",
    ">    - 애플리케이션에서 **다중 네트워크 통신**을 할 때\n",
    ">    - 여러 **클라이언트의 요청을 동시에 처리**하는 서버를 개발할 때"
   ]
  },
  {
   "cell_type": "code",
   "execution_count": 30,
   "metadata": {},
   "outputs": [],
   "source": [
    "from threading import Thread\n",
    "import time"
   ]
  },
  {
   "cell_type": "markdown",
   "metadata": {},
   "source": [
    "#### threading 을 사용하지 않을 경우"
   ]
  },
  {
   "cell_type": "code",
   "execution_count": 31,
   "metadata": {},
   "outputs": [],
   "source": [
    "# 0부터 10,000,000 까지의 합을 구하는 프로그램\n",
    "def work(id, start, end, result):\n",
    "    total = 0\n",
    "    for i in range(start, end):\n",
    "        total += i\n",
    "    result.append(total)\n",
    "    return"
   ]
  },
  {
   "cell_type": "code",
   "execution_count": 33,
   "metadata": {},
   "outputs": [
    {
     "name": "stdout",
     "output_type": "stream",
     "text": [
      "3.13  초 경과\n",
      "합계 결과: 49999995000000\n"
     ]
    }
   ],
   "source": [
    "if __name__ == \"__main__\":\n",
    "    start = time.time()\n",
    "    \n",
    "    START, END = 0, 10000000\n",
    "    result = list()\n",
    "    th1 = Thread(target=work, args=(1, START, END, result))   # 싱글 스레드\n",
    "    \n",
    "    th1.start()\n",
    "    th1.join()\n",
    "    \n",
    "    th1_elapsed = round(time.time() - start, 2)\n",
    "    print(th1_elapsed, ' 초 경과')\n",
    "    print(f\"합계 결과: {sum(result)}\")"
   ]
  },
  {
   "cell_type": "markdown",
   "metadata": {},
   "source": [
    "#### threading 을 사용할 경우"
   ]
  },
  {
   "cell_type": "code",
   "execution_count": 34,
   "metadata": {},
   "outputs": [
    {
     "name": "stdout",
     "output_type": "stream",
     "text": [
      "2.52  초 경과\n",
      "1.2  배 속도 향상\n",
      "합계 결과: 49999995000000\n"
     ]
    }
   ],
   "source": [
    "if __name__ == \"__main__\":\n",
    "    start = time.time()\n",
    "    \n",
    "    START, END = 0, 10000000\n",
    "    result = list()\n",
    "    th2 = Thread(target=work, args=(2, START, END, result))   # 멀티 스레드\n",
    "    \n",
    "    th2.start()\n",
    "    th2.join()\n",
    "    \n",
    "    th2_elapsed = round(time.time() - start, 2)\n",
    "    speed_up = round(th1_elapsed/th2_elapsed, 1)\n",
    "    print(th2_elapsed, ' 초 경과')\n",
    "    print(speed_up, ' 배 속도 향상')\n",
    "    print(f\"합계 결과: {sum(result)}\")"
   ]
  },
  {
   "cell_type": "code",
   "execution_count": null,
   "metadata": {},
   "outputs": [],
   "source": []
  }
 ],
 "metadata": {
  "kernelspec": {
   "display_name": "fastcampus",
   "language": "python",
   "name": "fastcampus"
  },
  "language_info": {
   "codemirror_mode": {
    "name": "ipython",
    "version": 3
   },
   "file_extension": ".py",
   "mimetype": "text/x-python",
   "name": "python",
   "nbconvert_exporter": "python",
   "pygments_lexer": "ipython3",
   "version": "3.9.13"
  }
 },
 "nbformat": 4,
 "nbformat_minor": 4
}
