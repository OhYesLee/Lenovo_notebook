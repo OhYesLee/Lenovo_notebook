{
 "cells": [
  {
   "cell_type": "markdown",
   "metadata": {
    "pycharm": {
     "name": "#%% md\n"
    }
   },
   "source": [
    "# **Chapter 7. [시스템] N배 빠른 병렬처리 웹 크롤러 만들기**\n",
    "\n",
    "\n",
    "---\n",
    "### 📝 **학습 목차**\n",
    "> 7-1. 프로젝트 개요 <br>\n",
    "> 7-2. 시스템 정보 확인 - platform <br>\n",
    "> 7-3. 매개변수 입력 받기 - sys.argv, argparse <br>\n",
    "> 7-4. 디버깅의 기본! 로그 남기기 - logging <br>\n",
    "> 7-5. 원하는 시간에 작업 실행 - sched <br>\n",
    "> 7-6. 병렬 처리 1 - threading <br>\n",
    "> **7-7. 병렬 처리 2 - multiprocessing** <br>\n",
    "> 7-8. 시스템 명령어 실행 <br>\n",
    "> 7-9. 프로젝트 실습"
   ]
  },
  {
   "cell_type": "markdown",
   "metadata": {
    "pycharm": {
     "name": "#%% md\n"
    }
   },
   "source": [
    "## 7-7. 병렬 처리 2 - multiprocessing"
   ]
  },
  {
   "cell_type": "markdown",
   "metadata": {},
   "source": [
    "#### 💡 스레드(thread) vs. 멀티프로세싱(multiprocessing)\n",
    "파이썬에서 병렬처리를 구현하는 방식은 멀티 쓰레드를 사용하거나 멀티 프로세스를 사용하는 두가지 방법이 있습니다.\n"
   ]
  },
  {
   "cell_type": "markdown",
   "metadata": {},
   "source": [
    "**_스레드(thread) 특징_**\n",
    "- 스레드는 가볍지만 cpu 계산 처리를 하는 작업에는 한번에 하나의 쓰레드에서만 작동함\n",
    "- cpu 작업이 적고 **네트워크 통신** 또는 **파일 읽고 쓰기와 같은 작업 (I/O)** 이 많은 병렬 처리 프로그램에서 효과적\n"
   ]
  },
  {
   "cell_type": "markdown",
   "metadata": {},
   "source": [
    "**_멀티프로세싱(multiprocedssing) 특징_**\n",
    "- 멀티 프로세서와 별개의 메모리를 사용하여 완전히 독립하여 병렬 프로그래밍이 가능\n",
    "- 여러 개의 CPU가 있는 **멀티코어 환경**에서 **CPU 수 만큼 작업을 나누어 실행** 가능\n",
    "- 프로세스는 각자가 고유한 메모리 영역을 가지기 때문에 **더 많은 메모리를 필요**로 하지만,\n",
    "- 각각 프로세스에서 병렬로 cpu 작업을 할 수 있고 이를 이용해 **여러 장비에서 동작**하는 분산 처리 프로그래밍도 구현이 가능"
   ]
  },
  {
   "cell_type": "markdown",
   "metadata": {
    "pycharm": {
     "name": "#%% md\n"
    }
   },
   "source": [
    "> ### multiprocessing\n",
    ">  - `multiprocessing` 멀티 프로세스를 활용하여 2가지 또는 그 이상의 일을 동시에 실행할 수 있게 하는 표준 모듈\n",
    ">  - multiprocessing 모듈은 쓰레드 대신 **다중 프로세스를 만들어** 병렬로 동작"
   ]
  },
  {
   "cell_type": "code",
   "execution_count": 56,
   "metadata": {},
   "outputs": [],
   "source": [
    "import multiprocessing\n",
    "import time"
   ]
  },
  {
   "cell_type": "markdown",
   "metadata": {},
   "source": [
    "#### multiprocessing 을 사용하지 않을 경우"
   ]
  },
  {
   "cell_type": "code",
   "execution_count": 57,
   "metadata": {},
   "outputs": [],
   "source": [
    "# 0부터 50,000,000 까지의 합을 구하는 프로그램\n",
    "def work(id, start, end, result):\n",
    "    total = 0\n",
    "    for i in range(start, end):\n",
    "        total += i\n",
    "    result.append(total)\n",
    "    return"
   ]
  },
  {
   "cell_type": "code",
   "execution_count": 58,
   "metadata": {},
   "outputs": [
    {
     "name": "stdout",
     "output_type": "stream",
     "text": [
      "1 번째 실행\n",
      "2 번째 실행\n",
      "19.41  초 경과\n",
      "합계 결과: 2499999950000000\n"
     ]
    }
   ],
   "source": [
    "if __name__ == \"__main__\":\n",
    "    start = time.time()\n",
    "    \n",
    "    START, END = 0, 50000000\n",
    "    result = list()\n",
    "    \n",
    "    # 싱글 프로세스 2번 실행\n",
    "    for i in range(2):\n",
    "        work(1, START, END, result)\n",
    "        print(f'{i+1} 번째 실행')\n",
    "        \n",
    "    \n",
    "    time_elapsed1 = round(time.time() - start, 2)\n",
    "    print(time_elapsed1, ' 초 경과')\n",
    "    print(f\"합계 결과: {sum(result)}\")"
   ]
  },
  {
   "cell_type": "markdown",
   "metadata": {},
   "source": [
    "#### multiprocessing 을 사용할 경우"
   ]
  },
  {
   "cell_type": "code",
   "execution_count": 59,
   "metadata": {},
   "outputs": [
    {
     "name": "stdout",
     "output_type": "stream",
     "text": [
      "1 번째 실행\n",
      "2 번째 실행\n",
      "6.69  초 경과\n",
      "2.9  배 속도 향상\n",
      "합계 결과: 0\n"
     ]
    }
   ],
   "source": [
    "if __name__ == \"__main__\":\n",
    "    start = time.time()\n",
    "    \n",
    "    START, END = 0, 50000000\n",
    "    result = list()\n",
    "    \n",
    "    procs = []\n",
    "    for i in range(2):\n",
    "        # 프로세스 수만큼 코어 할당\n",
    "        p = multiprocessing.Process(target=work, args=(i, START, END, result))\n",
    "        p.start()\n",
    "        procs.append(p)\n",
    "        print(f'{i+1} 번째 실행')\n",
    "\n",
    "    for p in procs:\n",
    "        p.join()  # 프로세스가 모두 종료될 때까지 대기\n",
    "        \n",
    "        \n",
    "    time_elapsed2 = round(time.time() - start, 2)\n",
    "    speed_up = round(time_elapsed1/time_elapsed2, 1)\n",
    "    print(time_elapsed2, ' 초 경과')\n",
    "    print(speed_up, ' 배 속도 향상')\n",
    "    print(f\"합계 결과: {sum(result)}\")"
   ]
  },
  {
   "cell_type": "code",
   "execution_count": null,
   "metadata": {},
   "outputs": [],
   "source": []
  }
 ],
 "metadata": {
  "kernelspec": {
   "display_name": "fastcampus",
   "language": "python",
   "name": "fastcampus"
  },
  "language_info": {
   "codemirror_mode": {
    "name": "ipython",
    "version": 3
   },
   "file_extension": ".py",
   "mimetype": "text/x-python",
   "name": "python",
   "nbconvert_exporter": "python",
   "pygments_lexer": "ipython3",
   "version": "3.9.13"
  }
 },
 "nbformat": 4,
 "nbformat_minor": 4
}
