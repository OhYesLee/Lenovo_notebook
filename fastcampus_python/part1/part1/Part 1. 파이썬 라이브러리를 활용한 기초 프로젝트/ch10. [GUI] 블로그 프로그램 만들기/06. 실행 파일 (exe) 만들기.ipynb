{
 "cells": [
  {
   "cell_type": "markdown",
   "metadata": {
    "pycharm": {
     "name": "#%% md\n"
    }
   },
   "source": [
    "# **Chapter 10. [GUI] 블로그 프로그램 만들기**\n",
    "\n",
    "\n",
    "---\n",
    "### 📝 **학습 목차**\n",
    "> 10-1. 프로젝트 개요 <br>\n",
    "> 10-2. 블로그 데이터 DB 연결 <br>\n",
    "> 10-3. 그래픽 사용자 인터페이스 (GUI) - tkinter <br>\n",
    "> 10-4. 기본 구성 요소 - ListBox, Entry, Text, Button <br>\n",
    "> 10-5. 컴포넌트 배치, 다이얼로그 창 <br>\n",
    "> **10-6. 실행 파일 (exe) 만들기** <br>\n",
    "> 10-7. 프로젝트 실습"
   ]
  },
  {
   "cell_type": "markdown",
   "metadata": {
    "pycharm": {
     "name": "#%% md\n"
    }
   },
   "source": [
    "## 10-6. 실행 파일 (exe) 만들기"
   ]
  },
  {
   "cell_type": "markdown",
   "metadata": {},
   "source": [
    "<img src='img/intro_exe.png' align='left' width='500' height='500'/>"
   ]
  },
  {
   "cell_type": "markdown",
   "metadata": {
    "pycharm": {
     "name": "#%% md\n"
    }
   },
   "source": [
    "> ### pyInstaller\n",
    "> - `pyInstaller` 는 **파이썬으로 개발한 프로그램을 실행 파일(exe)**로 만드는 외장 라이브러리\n",
    "> - 작성한 파이썬 프로그램을 다른 사용자가 사용하려면?\n",
    ">   - ① 파이썬 설치\n",
    ">   - ② 가상환경 세팅 및 관련 라이브러리 설치\n",
    ">   - ③ 작성한 프로그램 전달\n",
    ">   - ④ 프로그램 사용법 설명\n",
    "\n",
    "> - **실행파일 (exe) 형태로 프로그램을 전달할 경우, 바로 실행** 가능!\n",
    "\n",
    "> - 실행 절차\n",
    ">   - ① 터미널 접속 - 명령 프롬프트 (CMD)\n",
    ">   - ②`fastcampus` 가상 환경 활성화\n",
    ">   - ③ `pip install pyInstaller` 설치\n",
    ">   - ④ 파이썬 파일 위치로 이동\n",
    ">   - ⑤ `pyinstaller 변환하고자하는파이썬파일명.py` 입력\n",
    ">   - ⑥ 새롭게 만들어진 `dist` 폴더 안에 exe 파일 실행 확인"
   ]
  },
  {
   "cell_type": "code",
   "execution_count": null,
   "metadata": {},
   "outputs": [],
   "source": []
  }
 ],
 "metadata": {
  "kernelspec": {
   "display_name": "fastcampus",
   "language": "python",
   "name": "fastcampus"
  },
  "language_info": {
   "codemirror_mode": {
    "name": "ipython",
    "version": 3
   },
   "file_extension": ".py",
   "mimetype": "text/x-python",
   "name": "python",
   "nbconvert_exporter": "python",
   "pygments_lexer": "ipython3",
   "version": "3.9.13"
  }
 },
 "nbformat": 4,
 "nbformat_minor": 4
}
