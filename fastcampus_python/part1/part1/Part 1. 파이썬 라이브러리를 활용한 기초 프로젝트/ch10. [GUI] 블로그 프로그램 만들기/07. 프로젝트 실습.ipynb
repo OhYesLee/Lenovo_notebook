{
 "cells": [
  {
   "cell_type": "markdown",
   "metadata": {
    "pycharm": {
     "name": "#%% md\n"
    }
   },
   "source": [
    "# **Chapter 10. [GUI] 블로그 프로그램 만들기**\n",
    "\n",
    "\n",
    "---\n",
    "### 📝 **학습 목차**\n",
    "> 10-1. 프로젝트 개요 <br>\n",
    "> 10-2. 블로그 데이터 DB 연결 <br>\n",
    "> 10-3. 그래픽 사용자 인터페이스 (GUI) - tkinter <br>\n",
    "> 10-4. 기본 구성 요소 - ListBox, Entry, Text, Button <br>\n",
    "> 10-5. 컴포넌트 배치, 다이얼로그 창 <br>\n",
    "> 10-6. 실행 파일 (exe) 만들기 <br>\n",
    "> **10-7. 프로젝트 실습**"
   ]
  },
  {
   "cell_type": "markdown",
   "metadata": {
    "pycharm": {
     "name": "#%% md\n"
    }
   },
   "source": [
    "## 10-7. 블로그 프로그램 만들기 ✒️"
   ]
  },
  {
   "cell_type": "markdown",
   "metadata": {
    "pycharm": {
     "name": "#%% md\n"
    }
   },
   "source": [
    "> ### 진행 순서\n",
    ">  1. 블로그 데이터 관리 모델\n",
    ">  2. GUI 컴포넌트 생성\n",
    ">  3. GUI 컴포넌트 배치\n",
    ">  4. 블로그 관리 함수\n",
    ">  5. 프로그램 실행"
   ]
  },
  {
   "cell_type": "markdown",
   "metadata": {},
   "source": [
    "#### 10-7-1. 블로그 데이터 관리 모델"
   ]
  },
  {
   "cell_type": "markdown",
   "metadata": {},
   "source": [
    "나만의 블로그 프로그램을 만들기 위해서 블로그 **데이터를 저장하고, 읽고 쓰고 수정**하는 등 **관리 기능**이 필요합니다. <br>\n",
    "이때 `데이터베이스`를 연동해서 사용하면 블로그 데이터를 **효율적**이며 **체계적**으로 관리할 수 있습니다."
   ]
  },
  {
   "cell_type": "code",
   "execution_count": 2,
   "metadata": {},
   "outputs": [],
   "source": [
    "import sqlite3"
   ]
  },
  {
   "cell_type": "markdown",
   "metadata": {},
   "source": [
    "> 블로그 목록 조회 함수"
   ]
  },
  {
   "cell_type": "code",
   "execution_count": 3,
   "metadata": {},
   "outputs": [],
   "source": [
    "def get_blog_list():\n",
    "    conn = sqlite3.connect('blog.db')\n",
    "    c = conn.cursor()\n",
    "    c.execute(\"SELECT * FROM blog\")\n",
    "    result = c.fetchall()\n",
    "    conn.close()\n",
    "    return result"
   ]
  },
  {
   "cell_type": "code",
   "execution_count": 4,
   "metadata": {},
   "outputs": [
    {
     "data": {
      "text/plain": [
       "[(1, '첫 번째 블로그', '첫 번째 블로그입니다.', '20221022'),\n",
       " (2, '두 번째 블로그', '두 번째 작성글입니다.', '20190827'),\n",
       " (3, '세 번째 블로그', '세 번째 작성글입니다.', '20221022')]"
      ]
     },
     "execution_count": 4,
     "metadata": {},
     "output_type": "execute_result"
    }
   ],
   "source": [
    "get_blog_list()"
   ]
  },
  {
   "cell_type": "markdown",
   "metadata": {},
   "source": [
    "> 신규 블로그 작성 함수"
   ]
  },
  {
   "cell_type": "code",
   "execution_count": 5,
   "metadata": {},
   "outputs": [],
   "source": [
    "def add_blog(subject, content):         # 제목, 내용\n",
    "    conn = sqlite3.connect('blog.db')\n",
    "    conn.row_factory = sqlite3.Row\n",
    "    c = conn.cursor()\n",
    "    today = time.strftime('%Y%m%d')     # 현재 시간\n",
    "    c.execute(\"INSERT INTO blog (subject, content, date) VALUES (?, ?, ?)\", \n",
    "        (subject, content, today))\n",
    "    conn.commit()\n",
    "    conn.close()"
   ]
  },
  {
   "cell_type": "markdown",
   "metadata": {},
   "source": [
    "> 블로그 읽기 함수"
   ]
  },
  {
   "cell_type": "code",
   "execution_count": null,
   "metadata": {},
   "outputs": [],
   "source": [
    "def read_blog(_id):\n",
    "    conn = sqlite3.connect('blog.db')\n",
    "    conn.row_factory = sqlite3.Row\n",
    "    c = conn.cursor()\n",
    "    c.execute(\"SELECT * FROM blog WHERE id=?\", (_id,))\n",
    "    result = c.fetchone()\n",
    "    conn.close()\n",
    "    return result"
   ]
  },
  {
   "cell_type": "markdown",
   "metadata": {},
   "source": [
    "> 블로그 수정 함수"
   ]
  },
  {
   "cell_type": "code",
   "execution_count": null,
   "metadata": {},
   "outputs": [],
   "source": [
    "def modify_blog(_id, subject, content):\n",
    "    conn = sqlite3.connect('blog.db')\n",
    "    conn.row_factory = sqlite3.Row\n",
    "    c = conn.cursor()\n",
    "    c.execute(\"UPDATE blog SET subject=?, content=? WHERE id=?\", \n",
    "        (subject, content, _id))\n",
    "    conn.commit()\n",
    "    conn.close()"
   ]
  },
  {
   "cell_type": "markdown",
   "metadata": {},
   "source": [
    "> 블로그 삭제 함수"
   ]
  },
  {
   "cell_type": "code",
   "execution_count": null,
   "metadata": {},
   "outputs": [],
   "source": [
    "def remove_blog(_id):\n",
    "    conn = sqlite3.connect('blog.db')\n",
    "    conn.row_factory = sqlite3.Row\n",
    "    c = conn.cursor()\n",
    "    c.execute(\"DELETE FROM blog WHERE id=?\", (_id,))\n",
    "    conn.commit()\n",
    "    conn.close()"
   ]
  },
  {
   "cell_type": "markdown",
   "metadata": {},
   "source": [
    "#### 10-7-2. GUI 컴포넌트 생성"
   ]
  },
  {
   "cell_type": "code",
   "execution_count": 16,
   "metadata": {},
   "outputs": [
    {
     "data": {
      "text/plain": [
       "''"
      ]
     },
     "execution_count": 16,
     "metadata": {},
     "output_type": "execute_result"
    }
   ],
   "source": [
    "from tkinter import *\n",
    "from tkinter.messagebox import *\n",
    "\n",
    "root = Tk()                                   # tkinter 객체(창) 생성\n",
    "root.title('나만의 블로그')                   # 제목 입력"
   ]
  },
  {
   "cell_type": "code",
   "execution_count": 17,
   "metadata": {},
   "outputs": [],
   "source": [
    "# 컴포넌트 생성\n",
    "listbox = Listbox(root, exportselection=False)    # 블로그 목록을 표시할 리스트 박스\n",
    "label = Label(root, text='제목')                  # '제목' 문자열을 표시할 라벨\n",
    "entry = Entry(root)                               # 제목에 해당하는 내용을 표시할 엔트리\n",
    "text = Text(root)                                 # 블로그 내용을 표시할 텍스트\n",
    "b1 = Button(root, text='생성')\n",
    "b2 = Button(root, text='수정')\n",
    "b3 = Button(root, text='삭제')"
   ]
  },
  {
   "cell_type": "markdown",
   "metadata": {},
   "source": [
    "#### 10-7-3. GUI 컴포넌트 배치"
   ]
  },
  {
   "cell_type": "markdown",
   "metadata": {},
   "source": [
    "`grid()` 함수의 row는 행을 뜻하고 column은 열을 의미 <br>\n",
    "`columnspan`은 열을 병합하는 옵션 <br>\n",
    "`sticky` 는 할당된 공간에서 고정되는 위치"
   ]
  },
  {
   "cell_type": "code",
   "execution_count": 18,
   "metadata": {},
   "outputs": [],
   "source": [
    "# 컴포넌트 배치\n",
    "listbox.grid(row=0, column=0, columnspan=3, sticky='ew')\n",
    "label.grid(row=1, column=0)\n",
    "\n",
    "entry.grid(row=1, column=1, columnspan=2, sticky='ew')\n",
    "text.grid(row=2, column=0, columnspan=3)\n",
    "b1.grid(row=3, column=0, sticky='ew')\n",
    "b2.grid(row=3, column=1, sticky='ew')\n",
    "b3.grid(row=3, column=2, sticky='ew')"
   ]
  },
  {
   "cell_type": "code",
   "execution_count": 19,
   "metadata": {},
   "outputs": [],
   "source": [
    "# 컴포넌트 확인\n",
    "root.mainloop()"
   ]
  },
  {
   "cell_type": "markdown",
   "metadata": {},
   "source": [
    "#### 10-7-4. 블로그 관리 함수"
   ]
  },
  {
   "cell_type": "markdown",
   "metadata": {},
   "source": [
    "> 블로그 목록 불러오기"
   ]
  },
  {
   "cell_type": "code",
   "execution_count": 20,
   "metadata": {},
   "outputs": [],
   "source": [
    "# 블로그 데이터 관리 모델\n",
    "from blog_data_model import *"
   ]
  },
  {
   "cell_type": "code",
   "execution_count": 21,
   "metadata": {},
   "outputs": [],
   "source": [
    "# 블로그 행 인덱스 저장 리스트\n",
    "ROW_IDS = []"
   ]
  },
  {
   "cell_type": "code",
   "execution_count": 22,
   "metadata": {},
   "outputs": [],
   "source": [
    "def load_blog_list():\n",
    "    listbox.delete(0, END)                     # 리스트 박스 초기화\n",
    "    blog_list = get_blog_list()                # 블로그 리스트 가져오기\n",
    "    \n",
    "    for i, blog in enumerate(blog_list):\n",
    "        ROW_IDS.append(blog[0])             # 블로그 행 인덱스(ID) 저장\n",
    "        listbox.insert(i, '[%s/%s/%s] %s' % (\n",
    "            blog[3][:4], blog[3][4:6], blog[3][6:], blog[2])) # 리스트 박스에 추가"
   ]
  },
  {
   "cell_type": "markdown",
   "metadata": {},
   "source": [
    "> 블로그 가져오기"
   ]
  },
  {
   "cell_type": "code",
   "execution_count": 25,
   "metadata": {},
   "outputs": [],
   "source": [
    "def get_blog(event):\n",
    "    _id = ROW_IDS[listbox.curselection()[0]]   # 마우스 커서가 선택한 요소의 위치(인덱스) 반환\n",
    "    blog = read_blog(_id)                      # 해당 위치 블로그 읽기\n",
    "    entry.delete(0, END)                 \n",
    "    entry.insert(0, blog[2])           # 엔트리에 제목 추가\n",
    "    text.delete(1.0, END)\n",
    "    text.insert(1.0, blog[3])          # 텍스트에 내용 추가\n",
    "    \n",
    "listbox.bind('<<ListboxSelect>>', get_blog)    # 리스트 박스에 get_blog 함수 바인딩"
   ]
  },
  {
   "cell_type": "markdown",
   "metadata": {},
   "source": [
    "> `생성` 버튼 이벤트 함수"
   ]
  },
  {
   "cell_type": "code",
   "execution_count": null,
   "metadata": {},
   "outputs": [],
   "source": [
    "def btn_add(event):\n",
    "    subject = entry.get().strip()              # 엔트리(제목란)에 입력한 값\n",
    "    content = text.get(1.0, END).strip()       # 텍스트(내용란)에 입력한 값\n",
    "    \n",
    "    if not subject or not content:             # 제목 또는 내용이 없을 시 오류창 발생\n",
    "        showerror(\"오류\", \"제목 또는 내용을 입력해 주세요\")\n",
    "        return\n",
    "    add_blog(subject, content)                 # 블로그 추가\n",
    "\n",
    "b1.bind('<Button-1>', btn_add)                 # '생성' 버튼에 btn_add 함수 바인딩"
   ]
  },
  {
   "cell_type": "markdown",
   "metadata": {},
   "source": [
    "> `수정` 버튼 이벤트 함수"
   ]
  },
  {
   "cell_type": "code",
   "execution_count": null,
   "metadata": {},
   "outputs": [],
   "source": [
    "def btn_modify(event):\n",
    "    sel = listbox.curselection()              # 리스트 박스 선택 값 가져오기\n",
    "    if not sel:                               # 선택 값이 없을 경우\n",
    "        showerror(\"오류\", \"리스트를 먼저 선택해 주세요\")\n",
    "    else:                                     # 선택 값이 있을 경우      \n",
    "        _id = ROW_IDS[sel[0]]\n",
    "    subject = entry.get().strip()             # 엔트리(제목란)에 수정한 값\n",
    "    content = text.get(1.0, END).strip()      # 텍스트(내용란)에 수정한 값\n",
    "    \n",
    "    if not subject or not content:            # 제목 또는 내용이 없을 시 오류창 발생\n",
    "        showerror(\"오류\", \"제목 또는 내용을 입력해 주세요\")\n",
    "        return\n",
    "\n",
    "    modify_blog(_id, subject, content)        # 블로그 수정\n",
    "\n",
    "b2.bind('<Button-1>', btn_modify)             # '수정' 버튼에 btn_modify 함수 바인딩"
   ]
  },
  {
   "cell_type": "markdown",
   "metadata": {},
   "source": [
    "> `삭제` 버튼 이벤트 함수"
   ]
  },
  {
   "cell_type": "code",
   "execution_count": 26,
   "metadata": {},
   "outputs": [],
   "source": [
    "def btn_remove(event):\n",
    "    sel = listbox.curselection()                      # 리스트 박스 선택 값 가져오기\n",
    "    if not sel:\n",
    "        showerror(\"오류\", \"리스트를 먼저 선택해 주세요\")\n",
    "        return\n",
    "    else:\n",
    "        _id = ROW_IDS[sel[0]]\n",
    "    \n",
    "    if askyesno(\"확인\", \"정말로 삭제하시겠습니까?\"):  # 확인 창 발생\n",
    "        remove_blog(_id)                              # 블로그 삭제\n",
    "\n",
    "b3.bind('<Button-1>', btn_remove)                     # '삭제' 버튼에 btn_remove 함수 바인딩"
   ]
  },
  {
   "cell_type": "markdown",
   "metadata": {},
   "source": [
    "> 새로고침 함수"
   ]
  },
  {
   "cell_type": "code",
   "execution_count": null,
   "metadata": {},
   "outputs": [],
   "source": [
    "def refresh():\n",
    "    ROW_IDS.clear()        # 블로그 ID 리스트 삭제\n",
    "    entry.delete(0, END)   # 제목 삭제\n",
    "    text.delete(1.0, END)  # 내용 삭제\n",
    "    load_blog_list()       # 블로그 리스트 불러오기"
   ]
  },
  {
   "cell_type": "markdown",
   "metadata": {},
   "source": [
    "#### 10-7-5. 프로그램 실행"
   ]
  },
  {
   "cell_type": "code",
   "execution_count": null,
   "metadata": {},
   "outputs": [],
   "source": [
    "# Pycharm 에서 실행 확인\n",
    "load_blog_list()\n",
    "root.mainloop()"
   ]
  }
 ],
 "metadata": {
  "kernelspec": {
   "display_name": "fastcampus",
   "language": "python",
   "name": "fastcampus"
  },
  "language_info": {
   "codemirror_mode": {
    "name": "ipython",
    "version": 3
   },
   "file_extension": ".py",
   "mimetype": "text/x-python",
   "name": "python",
   "nbconvert_exporter": "python",
   "pygments_lexer": "ipython3",
   "version": "3.9.13"
  }
 },
 "nbformat": 4,
 "nbformat_minor": 4
}
