{
 "cells": [
  {
   "cell_type": "markdown",
   "metadata": {
    "pycharm": {
     "name": "#%% md\n"
    }
   },
   "source": [
    "# **Chapter 10. [GUI] 블로그 프로그램 만들기**\n",
    "\n",
    "\n",
    "---\n",
    "### 📝 **학습 목차**\n",
    "> 10-1. 프로젝트 개요 <br>\n",
    "> 10-2. 블로그 데이터 DB 연결 <br>\n",
    "> 10-3. 그래픽 사용자 인터페이스 (GUI) - tkinter <br>\n",
    "> 10-4. 기본 구성 요소 - ListBox, Entry, Text, Button <br>\n",
    "> **10-5. 컴포넌트 배치, 다이얼로그 창** <br>\n",
    "> 10-6. 실행 파일 (exe) 만들기 <br>\n",
    "> 10-7. 프로젝트 실습"
   ]
  },
  {
   "cell_type": "markdown",
   "metadata": {
    "pycharm": {
     "name": "#%% md\n"
    }
   },
   "source": [
    "## 10-5. 컴포넌트 배치, 다이얼로그 창"
   ]
  },
  {
   "cell_type": "markdown",
   "metadata": {},
   "source": [
    "### 10-5-1. 컴포넌트 배치"
   ]
  },
  {
   "cell_type": "markdown",
   "metadata": {
    "pycharm": {
     "name": "#%% md\n"
    }
   },
   "source": [
    "> ### Geometry Manager\n",
    "> - `tkinter` 에서 컴포넌트를 화면에 배치하는 방식에는 다음 3가지 방식이 있습니다.\n",
    ">   - **Pack** : 컴포넌트들을 부모 컴포넌트에 자동 패킹하여 **불필요한 공간을 자동으로 없앱니다.**\n",
    ">   - **Place** : 컴포넌트 위치를 **절대 좌표로 위치**시킵니다. (창 크기와 상관 없이 위치 고정)\n",
    ">   - **Grid** : 컴포넌트를 **테이블 레이아웃으로 배치 (엑셀처럼)**, 행(row), 열(column) 정보 사용"
   ]
  },
  {
   "cell_type": "markdown",
   "metadata": {},
   "source": [
    "#### 방법1. Pack (상대위치) 방식으로 컴포넌트 배치"
   ]
  },
  {
   "cell_type": "markdown",
   "metadata": {},
   "source": [
    "- 가장 처음 선언한 pack() 부터 배치\n",
    "- `side` 파라미터로 정렬 위치 지정 (left, right, top, bottom)\n",
    "- pack()은 grid() 와 사용 불가하지만 place() 와 병행 사용 가능"
   ]
  },
  {
   "cell_type": "code",
   "execution_count": 34,
   "metadata": {},
   "outputs": [],
   "source": [
    "from tkinter import *\n",
    "\n",
    "root = Tk()\n",
    "root.geometry('300x300')\n",
    "\n",
    "# 좌측 배치\n",
    "buttonLeft = Button(root, width=10, text='1')\n",
    "buttonLeft.pack(side='left')\n",
    "\n",
    "# 우측 배치\n",
    "buttonRight = Button(root, width=10, text='2')\n",
    "buttonRight.pack(side='right')\n",
    "\n",
    "# 상단 배치\n",
    "buttonTop = Button(root, width=10, text='3')\n",
    "buttonTop.pack(side='top')\n",
    "\n",
    "# 하단 배치\n",
    "buttonBottom = Button(root, width=10, text='4')\n",
    "buttonBottom.pack(side='bottom')\n",
    "\n",
    "# 중앙 배치\n",
    "buttonCenter = Button(root, width=10, text='5')\n",
    "buttonCenter.pack(expand=True)\n",
    "\n",
    "root.mainloop()"
   ]
  },
  {
   "cell_type": "markdown",
   "metadata": {},
   "source": [
    "#### 방법2. Place (절대위치) 방식으로 컴포넌트 배치"
   ]
  },
  {
   "cell_type": "code",
   "execution_count": 35,
   "metadata": {},
   "outputs": [],
   "source": [
    "from tkinter import *\n",
    "\n",
    "root = Tk()\n",
    "root.geometry('300x300')\n",
    "\n",
    "button1 = Button(root, width=10, text='1')\n",
    "button1.place(x=30, y=30)\n",
    "\n",
    "button2 = Button(root, width=10, text='2')\n",
    "button2.place(x=50, y=50)\n",
    "\n",
    "button3 = Button(root, width=10, text='3')\n",
    "button3.place(x=100, y=100)\n",
    "\n",
    "button4 = Button(root, width=10, text='4')\n",
    "button4.place(x=200, y=100)\n",
    "\n",
    "button5 = Button(root, width=10, text='5')\n",
    "button5.place(x=200, y=150)\n",
    "\n",
    "root.mainloop()"
   ]
  },
  {
   "cell_type": "markdown",
   "metadata": {},
   "source": [
    "#### 방법3. Grid 방식으로 컴포넌트 배치"
   ]
  },
  {
   "cell_type": "code",
   "execution_count": 38,
   "metadata": {},
   "outputs": [],
   "source": [
    "from tkinter import *\n",
    "\n",
    "root = Tk()\n",
    "root.geometry('300x300')\n",
    "\n",
    "button1 = Button(root, width=10, text='1')\n",
    "button1.grid(row=0,column=0)\n",
    "\n",
    "button2 = Button(root, width=10, text='2')\n",
    "button2.grid(row=0,column=1)\n",
    "\n",
    "button3 = Button(root, width=10, text='3')\n",
    "button3.grid(row=0,column=2)\n",
    "\n",
    "button4 = Button(root, width=10, text='4')\n",
    "button4.grid(row=1,column=0)\n",
    "\n",
    "button5 = Button(root, width=10, text='5')\n",
    "button5.grid(row=1,column=1)\n",
    "\n",
    "button6 = Button(root, width=10, text='6')\n",
    "button6.grid(row=1,column=2)\n",
    "\n",
    "root.mainloop()"
   ]
  },
  {
   "cell_type": "markdown",
   "metadata": {},
   "source": [
    "### 10-5-2. 다이얼로그 창"
   ]
  },
  {
   "cell_type": "markdown",
   "metadata": {
    "pycharm": {
     "name": "#%% md\n"
    }
   },
   "source": [
    "> 예를 들어 사용자가 버튼을 클릭해서 데이터를 삭제하려할 때 **\"정말로 삭제하시겠습니까?\"** 라는 메세지를 띄워 확인하거나 **특정 오류가 발생 했을 때 팝업되는 알림 창**이 필요할 수 있습니다. <br>\n",
    "> 이러한 확인 창, 오류 창을 `다이얼로그 창`이라 합니다."
   ]
  },
  {
   "cell_type": "markdown",
   "metadata": {},
   "source": [
    "#### 확인 창"
   ]
  },
  {
   "cell_type": "code",
   "execution_count": 42,
   "metadata": {},
   "outputs": [
    {
     "name": "stdout",
     "output_type": "stream",
     "text": [
      "삭제되었습니다.\n"
     ]
    }
   ],
   "source": [
    "from tkinter.messagebox import *\n",
    "\n",
    "if askyesno(\"확인\", \"정말 삭제하시겠습니까?\"):\n",
    "    # Yes : True 값 반환\n",
    "    print('삭제되었습니다.')\n",
    "else:\n",
    "    # No : False 값 반환\n",
    "    print('삭제되지 않았습니다.')"
   ]
  },
  {
   "cell_type": "markdown",
   "metadata": {},
   "source": [
    "#### 오류 창"
   ]
  },
  {
   "cell_type": "code",
   "execution_count": 43,
   "metadata": {},
   "outputs": [
    {
     "data": {
      "text/plain": [
       "'ok'"
      ]
     },
     "execution_count": 43,
     "metadata": {},
     "output_type": "execute_result"
    }
   ],
   "source": [
    "from tkinter.messagebox import *\n",
    "\n",
    "showerror(\"오류\", \"오류가 발생했습니다\")"
   ]
  },
  {
   "cell_type": "code",
   "execution_count": null,
   "metadata": {},
   "outputs": [],
   "source": []
  }
 ],
 "metadata": {
  "kernelspec": {
   "display_name": "fastcampus",
   "language": "python",
   "name": "fastcampus"
  },
  "language_info": {
   "codemirror_mode": {
    "name": "ipython",
    "version": 3
   },
   "file_extension": ".py",
   "mimetype": "text/x-python",
   "name": "python",
   "nbconvert_exporter": "python",
   "pygments_lexer": "ipython3",
   "version": "3.9.13"
  }
 },
 "nbformat": 4,
 "nbformat_minor": 4
}
