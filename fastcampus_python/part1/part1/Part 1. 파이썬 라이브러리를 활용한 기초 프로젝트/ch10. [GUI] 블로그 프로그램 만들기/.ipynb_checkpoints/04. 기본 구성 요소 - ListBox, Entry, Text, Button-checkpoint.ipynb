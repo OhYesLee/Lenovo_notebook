{
 "cells": [
  {
   "cell_type": "markdown",
   "metadata": {
    "pycharm": {
     "name": "#%% md\n"
    }
   },
   "source": [
    "# **Chapter 10. [GUI] 블로그 프로그램 만들기**\n",
    "\n",
    "\n",
    "---\n",
    "### 📝 **학습 목차**\n",
    "> 10-1. 프로젝트 개요 <br>\n",
    "> 10-2. 블로그 데이터 DB 연결 <br>\n",
    "> 10-3. 그래픽 사용자 인터페이스 (GUI) - tkinter <br>\n",
    "> **10-4. 기본 구성 요소 - ListBox, Entry, Text, Button** <br>\n",
    "> 10-5. 컴포넌트 배치, 다이얼로그 창 <br>\n",
    "> 10-6. 실행 파일 (exe) 만들기 <br>\n",
    "> 10-7. 프로젝트 실습"
   ]
  },
  {
   "cell_type": "markdown",
   "metadata": {
    "pycharm": {
     "name": "#%% md\n"
    }
   },
   "source": [
    "## 10-4. 기본 구성 요소 (컴포넌트)"
   ]
  },
  {
   "cell_type": "markdown",
   "metadata": {
    "pycharm": {
     "name": "#%% md\n"
    }
   },
   "source": [
    "> ### tkinter 에서 자주 사용되는 컴포넌트\n",
    "> - `리스트박스(ListBox)`: 선택 가능한 사용자 선택 목록\n",
    "> - `라벨(Label)`: 한 행짜리 문자열을 출력할 수 있는 컴포넌트\n",
    "> - `엔트리(Entry)`: 사용자 데이터를 받을 수 있는 한 행짜리 입력 창\n",
    "> - `텍스트(Text)`: 사용자 데이터를 받을 수 있는 여러 행짜리 입력 창\n",
    "> - `버튼(Button)`: 클릭할 수 있는 버튼\n",
    "\n",
    "> ### 컴포넌트 사용 튜토리얼\n",
    "> - [주요 컴포넌트(위젯)](https://tkdocs.com/tutorial/widgets.html)\n",
    "> - [그외 컴포넌트(위젯)](https://tkdocs.com/tutorial/morewidgets.html)"
   ]
  },
  {
   "cell_type": "markdown",
   "metadata": {},
   "source": [
    "#### 10-4-1. 리스트 박스 (ListBox)\n",
    "- 리스트박스는 **정해진 순서가 있는 여러 개의 데이터를 표시**하는 컴포넌트"
   ]
  },
  {
   "cell_type": "code",
   "execution_count": 3,
   "metadata": {},
   "outputs": [],
   "source": [
    "from tkinter import *\n",
    "\n",
    "root = Tk()                                # tkinter 객체(창) 생성\n",
    "root.geometry('200x200')\n",
    "listbox = Listbox(root)                    # root 창에 Listbox 컴포넌트(위젯) 추가\n",
    "listbox.pack()                             # Listbox 객체를 창에 표시\n",
    "\n",
    "for i in ['첫번째 요소', '두번째 요소', '세번째 요소', '네번째 요소']:\n",
    "    listbox.insert(END, i)                 # Listbox 마지막 위치에 새로운 데이터 추가\n",
    "\n",
    "root.mainloop()                            # root 창을 메인 루프에 태우기\n",
    "                                           # 종료되지 않고 이벤트 수신 등의 역할을 수행"
   ]
  },
  {
   "cell_type": "markdown",
   "metadata": {},
   "source": [
    "- 사용자 선택에 따른 이벤트 생성 버전"
   ]
  },
  {
   "cell_type": "code",
   "execution_count": 16,
   "metadata": {},
   "outputs": [
    {
     "name": "stdout",
     "output_type": "stream",
     "text": [
      "선택되었습니다 !\n",
      "선택되었습니다 !\n"
     ]
    }
   ],
   "source": [
    "from tkinter import *\n",
    "\n",
    "def event_for_listbox(event):\n",
    "    print(\"선택되었습니다 !\")\n",
    "\n",
    "root = Tk()                                # tkinter 객체(창) 생성\n",
    "root.geometry('200x200')\n",
    "listbox = Listbox(root)                    # root 창에 Listbox 컴포넌트(위젯) 추가\n",
    "listbox.pack()                             # Listbox 객체를 창에 표시\n",
    "\n",
    "for i in ['첫번째 요소', '두번째 요소', '세번째 요소', '네번째 요소']:\n",
    "    listbox.insert(END, i)                 # Listbox 마지막 위치에 새로운 데이터 추가\n",
    "\n",
    "listbox.bind('<<ListboxSelect>>', event_for_listbox) # 리스트 박스 선택 시 event_for_listbox 함수 호출\n",
    "    \n",
    "    \n",
    "root.mainloop()                            # root 창을 메인 루프에 태우기\n",
    "                                           # 종료되지 않고 이벤트 수신 등의 역할을 수행"
   ]
  },
  {
   "cell_type": "markdown",
   "metadata": {},
   "source": [
    "#### 10-4-2. 엔트리 (Entry)\n",
    "- 엔트리는 **사용자 데이터를 입력 받을 수 있는** 한 행짜리 입력 창"
   ]
  },
  {
   "cell_type": "code",
   "execution_count": 11,
   "metadata": {},
   "outputs": [],
   "source": [
    "from tkinter import *\n",
    "\n",
    "root = Tk()\n",
    "root.geometry('200x200')\n",
    "\n",
    "entry = Entry(root)                          # root 창에 Listbox 컴포넌트(위젯) 추가\n",
    "entry.insert(0, \"데이터를 입력해 주세요\")    # 첫번째 데이터에 엔트리 입력값 저장\n",
    "entry.pack()                                 # 엔트리 객체를 창에 표시\n",
    "\n",
    "root.mainloop()"
   ]
  },
  {
   "cell_type": "markdown",
   "metadata": {},
   "source": [
    "- 사용자 입력에 따른 이벤트 생성 버전"
   ]
  },
  {
   "cell_type": "code",
   "execution_count": 17,
   "metadata": {},
   "outputs": [
    {
     "name": "stdout",
     "output_type": "stream",
     "text": [
      "사용자 입력 값은 데이터! 입니다 !\n"
     ]
    }
   ],
   "source": [
    "from tkinter import *\n",
    "\n",
    "def event_for_entry(event):\n",
    "    print(f\"사용자 입력 값은 {entry.get()} 입니다 !\")  \n",
    "\n",
    "root = Tk()\n",
    "root.geometry('200x200')\n",
    "\n",
    "entry = Entry(root)                          # root 창에 Listbox 컴포넌트(위젯) 추가\n",
    "entry.insert(0, \"데이터를 입력해 주세요\")    # 첫번째 데이터에 엔트리 입력값 저장\n",
    "entry.bind(\"<Return>\",event_for_entry)       # 엔트리 값 Return 시 event_for_entry 함수 호출\n",
    "entry.pack()                                 # 엔트리 객체를 창에 표시\n",
    "\n",
    "root.mainloop()"
   ]
  },
  {
   "cell_type": "markdown",
   "metadata": {},
   "source": [
    "#### 10-4-3. 텍스트 (Text)\n",
    "- 사용자 데이터를 받을 수 있는 **여러 행짜리 입력 창**"
   ]
  },
  {
   "cell_type": "code",
   "execution_count": 20,
   "metadata": {},
   "outputs": [],
   "source": [
    "from tkinter import *\n",
    "\n",
    "data = '''첫번째 데이터\n",
    "두번째 데이터\n",
    "세번째 데이터'''\n",
    "\n",
    "root = Tk()\n",
    "root.geometry('200x200')\n",
    "\n",
    "text = Text(root)                          # root 창에 Text 컴포넌트(위젯) 추가\n",
    "text.insert(1.0, data)                     # 첫번째 데이터에 Text 입력값 저장\n",
    "text.pack()                                # Text 객체를 창에 표시\n",
    "\n",
    "root.mainloop()"
   ]
  },
  {
   "cell_type": "markdown",
   "metadata": {},
   "source": [
    "#### 10-4-4. 버튼 (Button)\n",
    "- 사용자의 **클릭 이벤트에 따라 동작**을 처리할 수 있는 버튼"
   ]
  },
  {
   "cell_type": "code",
   "execution_count": 27,
   "metadata": {},
   "outputs": [
    {
     "name": "stdout",
     "output_type": "stream",
     "text": [
      "버튼이 클릭되었습니다 !\n",
      "버튼이 클릭되었습니다 !\n"
     ]
    }
   ],
   "source": [
    "from tkinter import *\n",
    "\n",
    "def btn_click(event):\n",
    "    print(f\"버튼이 클릭되었습니다 !\")  \n",
    "\n",
    "root = Tk()\n",
    "root.geometry('200x100')\n",
    "\n",
    "b1 = Button(root, text='나의 첫번째 버튼')    # root 창에 Text 컴포넌트(위젯) 추가\n",
    "b1.bind('<Button-1>', btn_click)              # Button 클릭 시  btn_click 함수 호출\n",
    "b1.pack()                                     # Button 객체를 창에 표시\n",
    "\n",
    "root.mainloop()"
   ]
  },
  {
   "cell_type": "code",
   "execution_count": 40,
   "metadata": {},
   "outputs": [
    {
     "name": "stdout",
     "output_type": "stream",
     "text": [
      "사용자 입력 값은 : \n",
      "첫번째 데이터\n",
      "두번째 데이터\n",
      "세번째 데이터\n",
      " 입니다 !\n"
     ]
    }
   ],
   "source": [
    "from tkinter import *\n",
    "\n",
    "def btn_click(event):\n",
    "    print(f\"사용자 입력 값은 : \\n{text.get(1.0, END)} 입니다 !\")\n",
    "\n",
    "data = '''여러줄의 데이터를 입력하고 버튼을 클릭해주세요'''\n",
    "\n",
    "root = Tk()\n",
    "root.geometry('500x500')\n",
    "\n",
    "text = Text(root)                             # root 창에 Text 컴포넌트(위젯) 추가\n",
    "text.insert(1.0, data)                        # 첫번째 데이터에 Text 입력값 저장\n",
    "text.pack()                                   # Text 객체를 창에 표시\n",
    "\n",
    "b1 = Button(root, text='결과값 확인')         # root 창에 Text 컴포넌트(위젯) 추가\n",
    "b1.bind('<Button-1>', btn_click)              # Button 클릭 시  btn_click 함수 호출\n",
    "b1.pack()          \n",
    "\n",
    "root.mainloop()"
   ]
  },
  {
   "cell_type": "code",
   "execution_count": null,
   "metadata": {},
   "outputs": [],
   "source": []
  }
 ],
 "metadata": {
  "kernelspec": {
   "display_name": "fastcampus",
   "language": "python",
   "name": "fastcampus"
  },
  "language_info": {
   "codemirror_mode": {
    "name": "ipython",
    "version": 3
   },
   "file_extension": ".py",
   "mimetype": "text/x-python",
   "name": "python",
   "nbconvert_exporter": "python",
   "pygments_lexer": "ipython3",
   "version": "3.9.13"
  }
 },
 "nbformat": 4,
 "nbformat_minor": 4
}
