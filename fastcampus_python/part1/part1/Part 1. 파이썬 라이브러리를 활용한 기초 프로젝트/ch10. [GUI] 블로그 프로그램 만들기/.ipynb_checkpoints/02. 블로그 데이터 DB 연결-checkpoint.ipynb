{
 "cells": [
  {
   "cell_type": "markdown",
   "metadata": {
    "pycharm": {
     "name": "#%% md\n"
    }
   },
   "source": [
    "# **Chapter 10. [GUI] 블로그 프로그램 만들기**\n",
    "\n",
    "\n",
    "---\n",
    "### 📝 **학습 목차**\n",
    "> 10-1. 프로젝트 개요 <br>\n",
    "> **10-2. 블로그 데이터 DB 연결** <br>\n",
    "> 10-3. 그래픽 사용자 인터페이스 (GUI) - tkinter <br>\n",
    "> 10-4. 기본 구성 요소 - ListBox, Entry, Text, Button <br>\n",
    "> 10-5. 컴포넌트 배치, 다이얼로그 창 <br>\n",
    "> 10-6. 실행 파일 (exe) 만들기 <br>\n",
    "> 10-7. 프로젝트 실습"
   ]
  },
  {
   "cell_type": "markdown",
   "metadata": {
    "pycharm": {
     "name": "#%% md\n"
    }
   },
   "source": [
    "## 10-2. 블로그 데이터 DB 연결"
   ]
  },
  {
   "cell_type": "markdown",
   "metadata": {
    "pycharm": {
     "name": "#%% md\n"
    }
   },
   "source": [
    "> ### sqlite3\n",
    ">  - `sqlite3` 는 주로 개발용이나 소규모 프로젝트에서 사용하는 파일 기반의 가벼운 데이터베이스 모듈\n",
    ">  - **블로그 데이터를 관리(`저장`, `조회`, `수정`, `삭제`) 하기 위한 목적**으로 데이터베이스를 활용합니다.\n",
    ">  - 블로그 데이터 저장 형식\n",
    "| 항목    | 데이터 타입 | 설명      |\n",
    "|---------|-------------|-----------|\n",
    "| id      | 숫자        | 고유 번호 |\n",
    "| subject | 문자열      | 제목      |\n",
    "| content | 문자열      | 내용      |\n",
    "| date    | 문자열      | 작성 일자 |"
   ]
  },
  {
   "cell_type": "markdown",
   "metadata": {},
   "source": [
    "#### 데이터 베이스 생성"
   ]
  },
  {
   "cell_type": "markdown",
   "metadata": {},
   "source": [
    "'DB Browser for SQLite' 확인"
   ]
  },
  {
   "cell_type": "code",
   "execution_count": 1,
   "metadata": {},
   "outputs": [],
   "source": [
    "import sqlite3\n",
    "conn = sqlite3.connect('blog.db')"
   ]
  },
  {
   "cell_type": "markdown",
   "metadata": {},
   "source": [
    "#### 테이블 생성"
   ]
  },
  {
   "cell_type": "code",
   "execution_count": 2,
   "metadata": {},
   "outputs": [
    {
     "data": {
      "text/plain": [
       "<sqlite3.Cursor at 0x1843c4f5ab0>"
      ]
     },
     "execution_count": 2,
     "metadata": {},
     "output_type": "execute_result"
    }
   ],
   "source": [
    "c = conn.cursor()  # 커서 생성\n",
    "c.execute('''CREATE TABLE blog (id integer PRIMARY KEY, subject text, content text, date text)''')"
   ]
  },
  {
   "cell_type": "markdown",
   "metadata": {},
   "source": [
    "#### 데이터 입력"
   ]
  },
  {
   "cell_type": "code",
   "execution_count": 3,
   "metadata": {},
   "outputs": [],
   "source": [
    "c.execute(\"INSERT INTO blog VALUES (1, '첫 번째 블로그', '첫 번째 작성글입니다.', '20221022')\")\n",
    "conn.commit()"
   ]
  },
  {
   "cell_type": "code",
   "execution_count": 4,
   "metadata": {},
   "outputs": [],
   "source": [
    "c.execute(\"INSERT INTO blog VALUES (2, '두 번째 블로그', '두 번째 작성글입니다.', '20221022')\")\n",
    "conn.commit()"
   ]
  },
  {
   "cell_type": "code",
   "execution_count": 5,
   "metadata": {},
   "outputs": [],
   "source": [
    "c.execute(\"INSERT INTO blog VALUES (3, '세 번째 블로그', '세 번째 작성글입니다.', '20221022')\")\n",
    "conn.commit()"
   ]
  },
  {
   "cell_type": "markdown",
   "metadata": {},
   "source": [
    "#### 데이터 조회"
   ]
  },
  {
   "cell_type": "code",
   "execution_count": 6,
   "metadata": {},
   "outputs": [
    {
     "name": "stdout",
     "output_type": "stream",
     "text": [
      "[(1, '첫 번째 블로그', '첫 번째 블로그입니다.', '20221022'), (2, '두 번째 블로그', '두 번째 작성글입니다.', '20190827'), (3, '세 번째 블로그', '세 번째 작성글입니다.', '20221022')]\n"
     ]
    }
   ],
   "source": [
    "c.execute('SELECT * FROM blog')\n",
    "all = c.fetchall()\n",
    "print(all)"
   ]
  },
  {
   "cell_type": "markdown",
   "metadata": {},
   "source": [
    "#### 데이터베이스 접속 종료"
   ]
  },
  {
   "cell_type": "code",
   "execution_count": 7,
   "metadata": {},
   "outputs": [],
   "source": [
    "conn.close()"
   ]
  },
  {
   "cell_type": "code",
   "execution_count": null,
   "metadata": {},
   "outputs": [],
   "source": []
  }
 ],
 "metadata": {
  "kernelspec": {
   "display_name": "fastcampus",
   "language": "python",
   "name": "fastcampus"
  },
  "language_info": {
   "codemirror_mode": {
    "name": "ipython",
    "version": 3
   },
   "file_extension": ".py",
   "mimetype": "text/x-python",
   "name": "python",
   "nbconvert_exporter": "python",
   "pygments_lexer": "ipython3",
   "version": "3.9.13"
  }
 },
 "nbformat": 4,
 "nbformat_minor": 4
}
