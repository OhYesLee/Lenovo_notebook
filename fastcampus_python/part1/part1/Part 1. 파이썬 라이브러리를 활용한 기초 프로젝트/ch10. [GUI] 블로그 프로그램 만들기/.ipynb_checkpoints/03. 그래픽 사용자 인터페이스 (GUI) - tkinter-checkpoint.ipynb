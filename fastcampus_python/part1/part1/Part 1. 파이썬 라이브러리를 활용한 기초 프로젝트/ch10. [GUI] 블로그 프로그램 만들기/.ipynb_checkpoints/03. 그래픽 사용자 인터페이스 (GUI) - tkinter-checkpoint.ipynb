{
 "cells": [
  {
   "cell_type": "markdown",
   "metadata": {
    "pycharm": {
     "name": "#%% md\n"
    }
   },
   "source": [
    "# **Chapter 10. [GUI] 블로그 프로그램 만들기**\n",
    "\n",
    "\n",
    "---\n",
    "### 📝 **학습 목차**\n",
    "> 10-1. 프로젝트 개요 <br>\n",
    "> 10-2. 블로그 데이터 DB 연결 <br>\n",
    "> **10-3. 그래픽 사용자 인터페이스 (GUI) - tkinter** <br>\n",
    "> 10-4. 기본 구성 요소 - ListBox, Entry, Text, Button <br>\n",
    "> 10-5. 컴포넌트 배치, 다이얼로그 창 <br>\n",
    "> 10-6. 실행 파일 (exe) 만들기 <br>\n",
    "> 10-7. 프로젝트 실습"
   ]
  },
  {
   "cell_type": "markdown",
   "metadata": {
    "pycharm": {
     "name": "#%% md\n"
    }
   },
   "source": [
    "## 10-3. 그래픽 사용자 인터페이스 (GUI)"
   ]
  },
  {
   "cell_type": "markdown",
   "metadata": {
    "pycharm": {
     "name": "#%% md\n"
    }
   },
   "source": [
    "> ### tkinter\n",
    ">  - `tkinter` 는 파이썬으로 **GUI 프로그램 만들 때 사용**하는 대표적인 내장 라이브러리\n",
    ">  - `PyQt5` 와 같은 완성도 높은 외장 라이브러리도 있지만, **간단한 수준에서 기능 구현**을 위해 먼저 시도할 수 있는 라이브러리"
   ]
  },
  {
   "cell_type": "markdown",
   "metadata": {},
   "source": [
    "**tkinter 라이브러리 동작 구조** <br>\n",
    "<img src='img/tkinter.png' align='left' width='500' height='500'/>"
   ]
  },
  {
   "cell_type": "markdown",
   "metadata": {},
   "source": [
    "#### 창 띄우기"
   ]
  },
  {
   "cell_type": "code",
   "execution_count": 1,
   "metadata": {},
   "outputs": [],
   "source": [
    "from tkinter import *\n",
    "\n",
    "root = Tk()                                   # tkinter 객체(창) 생성\n",
    "label = Label(root, text='Hello World !')     # root 창에 Label 컴포넌트(위젯) 추가\n",
    "label.pack()                                  # label 객체를 창에 표시\n",
    "\n",
    "root.mainloop()                               # root 창을 메인 루프에 태우기\n",
    "                                              # 종료되지 않고 이벤트 수신 등의 역할을 수행"
   ]
  },
  {
   "cell_type": "markdown",
   "metadata": {},
   "source": [
    "#### 창 크기 조절"
   ]
  },
  {
   "cell_type": "code",
   "execution_count": 5,
   "metadata": {},
   "outputs": [],
   "source": [
    "from tkinter import *\n",
    "\n",
    "root = Tk()                                   # tkinter 객체(창) 생성\n",
    "root.geometry('300x200')\n",
    "label = Label(root, text='Hello World !')     # root 창에 Label 컴포넌트(위젯) 추가\n",
    "label.pack()                                  # label 객체를 창에 표시\n",
    "\n",
    "root.mainloop()                               # root 창을 메인 루프에 태우기\n",
    "                                              # 종료되지 않고 이벤트 수신 등의 역할을 수행"
   ]
  },
  {
   "cell_type": "code",
   "execution_count": null,
   "metadata": {},
   "outputs": [],
   "source": []
  }
 ],
 "metadata": {
  "kernelspec": {
   "display_name": "fastcampus",
   "language": "python",
   "name": "fastcampus"
  },
  "language_info": {
   "codemirror_mode": {
    "name": "ipython",
    "version": 3
   },
   "file_extension": ".py",
   "mimetype": "text/x-python",
   "name": "python",
   "nbconvert_exporter": "python",
   "pygments_lexer": "ipython3",
   "version": "3.9.13"
  }
 },
 "nbformat": 4,
 "nbformat_minor": 4
}
