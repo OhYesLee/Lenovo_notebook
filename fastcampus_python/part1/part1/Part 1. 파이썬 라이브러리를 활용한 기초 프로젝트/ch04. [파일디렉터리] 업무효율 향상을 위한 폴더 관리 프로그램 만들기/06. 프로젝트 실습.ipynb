{
 "cells": [
  {
   "cell_type": "markdown",
   "metadata": {
    "pycharm": {
     "name": "#%% md\n"
    }
   },
   "source": [
    "# **Chapter 4. [폴더/디렉토리] 폴더관리 프로그램 만들기**\n",
    "\n",
    "\n",
    "---\n",
    "### 📝 **학습 목차**\n",
    "> 4-1. 프로젝트 개요 <br>\n",
    "> 4-2. 디렉터리 다루기 - os.path, pathlib <br>\n",
    "> 4-3. 파일 읽기, 저장 - fileinput, pickle <br>\n",
    "> 4-4. 파일 찾기, 복사, 이동 - glob, fnmatch, shutil <br>\n",
    "> 4-5. 파일 압축 - zlib, gzip, zipfile, tarfile <br>\n",
    "> **4-6. 프로젝트 실습**"
   ]
  },
  {
   "cell_type": "markdown",
   "metadata": {
    "pycharm": {
     "name": "#%% md\n"
    }
   },
   "source": [
    "## 4-6. 폴더 관리 프로그램 만들기 실습 📁"
   ]
  },
  {
   "cell_type": "markdown",
   "metadata": {
    "pycharm": {
     "name": "#%% md\n"
    }
   },
   "source": [
    "> ### 진행 순서\n",
    ">  1. 압축 파일 정리\n",
    ">  2. 파일명 정리\n",
    ">  3. 폴더 생성\n",
    ">  4. 파일 분류 및 이동"
   ]
  },
  {
   "cell_type": "markdown",
   "metadata": {
    "pycharm": {
     "name": "#%% md\n"
    }
   },
   "source": [
    "### 4-6-1. 압축 파일 정리"
   ]
  },
  {
   "cell_type": "code",
   "execution_count": 1,
   "metadata": {},
   "outputs": [
    {
     "data": {
      "text/plain": [
       "'C:\\\\Users\\\\Shin-Nyum\\\\Desktop\\\\fastcampus\\\\Part 1. 파이썬 라이브러리를 활용한 기초 프로젝트 10개\\\\04. [파일디렉터리] 업무효율 향상을 위한 폴더 관리 프로그램 만들기'"
      ]
     },
     "execution_count": 1,
     "metadata": {},
     "output_type": "execute_result"
    }
   ],
   "source": [
    "import os\n",
    "os.getcwd()"
   ]
  },
  {
   "cell_type": "code",
   "execution_count": 2,
   "metadata": {
    "pycharm": {
     "name": "#%%\n"
    }
   },
   "outputs": [],
   "source": [
    "# 정리 대상 폴더 경로 지정\n",
    "trg_path = './fuzzy_folder'"
   ]
  },
  {
   "cell_type": "code",
   "execution_count": 3,
   "metadata": {
    "pycharm": {
     "name": "#%%\n"
    }
   },
   "outputs": [
    {
     "name": "stdout",
     "output_type": "stream",
     "text": [
      "['./fuzzy_folder\\\\센터가동현황_물류.zip']\n"
     ]
    }
   ],
   "source": [
    "# 압축 파일 확인\n",
    "import glob\n",
    "import os\n",
    "\n",
    "zipf_path = []\n",
    "for filename in glob.glob(os.path.join(trg_path, \"**/*.zip\"), recursive=True):\n",
    "    zipf_path.append(filename)\n",
    "    print(zipf_path)"
   ]
  },
  {
   "cell_type": "code",
   "execution_count": 4,
   "metadata": {
    "pycharm": {
     "name": "#%%\n"
    }
   },
   "outputs": [],
   "source": [
    "# 압축 파일 해제\n",
    "import zipfile\n",
    "\n",
    "for zipf in zipf_path:\n",
    "    with zipfile.ZipFile(zipf) as myzip:\n",
    "        zipinfo = myzip.infolist()\n",
    "        for info in zipinfo:\n",
    "            decode_name = info.filename.encode('cp437').decode('euc-kr')  # 한글 깨짐 방지\n",
    "            info.filename = os.path.join(trg_path, decode_name)\n",
    "            myzip.extract(info)"
   ]
  },
  {
   "cell_type": "markdown",
   "metadata": {
    "pycharm": {
     "name": "#%% md\n"
    }
   },
   "source": [
    "### 4-6-2. 파일명 정리"
   ]
  },
  {
   "cell_type": "code",
   "execution_count": 6,
   "metadata": {
    "pycharm": {
     "name": "#%%\n"
    }
   },
   "outputs": [],
   "source": [
    "import openpyxl as op"
   ]
  },
  {
   "cell_type": "markdown",
   "metadata": {
    "pycharm": {
     "name": "#%% md\n"
    }
   },
   "source": [
    "#### 파일명 수정 시트 만들기"
   ]
  },
  {
   "cell_type": "code",
   "execution_count": 7,
   "metadata": {
    "pycharm": {
     "name": "#%%\n"
    }
   },
   "outputs": [],
   "source": [
    "#폴더별 파일명 받아 엑셀파일에 작성하는 함수\n",
    "def getFileName(trg_path):\n",
    "    #여러 폴더가 있는 폴더경로를 입력받아 list화 한다.\n",
    "    folderlist = os.listdir(trg_path)\n",
    "\n",
    "    #openpyxl Workbook 생성\n",
    "    wb = op.Workbook()\n",
    "    \n",
    "    #새로 생성한 Workbook의 활성화 시트를 ws로 정의\n",
    "    ws = wb.active\n",
    "    \n",
    "    i=2\n",
    "    \n",
    "    current_folder = trg_path #현재 폴더 위치\n",
    "    filelist = os.listdir(current_folder) #현재 폴더 위치의 파일들을 리스트화\n",
    "\n",
    "    #현재 폴더 위치의 리스트화 된 파일을 다시 for문을 통해 접근\n",
    "    for fname in filelist:\n",
    "        ws.cell(row=i, column=1).value = current_folder + \"/\" #i행 1열에 현재 폴더 경로 입력\n",
    "        ws.cell(row=i, column=2).value = fname #i행 2열에 파일명(변경전) 입력\n",
    "        i=i+1\n",
    "\n",
    "    ws.cell(row=1,column=1).value = \"파일경로\"\n",
    "    ws.cell(row=1,column=2).value = \"파일명(변경전)\"\n",
    "    ws.cell(row=1,column=3).value = \"파일명(변경후)\"\n",
    "    \n",
    "    #위에서 작성 된 엑셀파일을 filelist.xlsx라는 이름으로 저장\n",
    "    wb.save(os.path.join(trg_path, \"filelist.xlsx\"))"
   ]
  },
  {
   "cell_type": "code",
   "execution_count": 8,
   "metadata": {
    "pycharm": {
     "name": "#%%\n"
    }
   },
   "outputs": [],
   "source": [
    "# 함수 실행\n",
    "getFileName(trg_path)"
   ]
  },
  {
   "cell_type": "markdown",
   "metadata": {
    "pycharm": {
     "name": "#%% md\n"
    }
   },
   "source": [
    "#### 파일명 변경하기"
   ]
  },
  {
   "cell_type": "code",
   "execution_count": 9,
   "metadata": {
    "pycharm": {
     "name": "#%%\n"
    }
   },
   "outputs": [],
   "source": [
    "def excelRead(filepath : str) -> tuple:\n",
    "    #filelist.xlsx 경로를 받아 workbook 객체 생성\n",
    "    wb = op.load_workbook(filepath)\n",
    "    \n",
    "    #활성화 된 시트 ws로 정의\n",
    "    ws = wb.active\n",
    "    \n",
    "    #리스트 컴프리헨션 구문을 통해 각 열의 데이터를 리스트화하기\n",
    "    folderpath = [r[0].value for r in ws] #폴더 경로 리스트화\n",
    "    file_before = [r[1].value for r in ws] #변경전 파일명 리스트화\n",
    "    file_after = [r[2].value for r in ws] #변경후 파일명 리스트화\n",
    "\n",
    "    len_num = len(folderpath) #for문을 위한 열 개수 구하기(folderpath 개수)\n",
    "    datalist = [] #빈 리스트 생성\n",
    "    for i in range(1, len_num):\n",
    "        temp_tuple = (folderpath[i], file_before[i], file_after[i]) #임시 튜플 생성(각 행 데이터)\n",
    "        datalist.append(temp_tuple) #위 튜플을 datalist에 추가\n",
    "     \n",
    "    return datalist # datalist 리턴"
   ]
  },
  {
   "cell_type": "code",
   "execution_count": 10,
   "metadata": {
    "pycharm": {
     "name": "#%%\n"
    },
    "scrolled": true
   },
   "outputs": [
    {
     "name": "stdout",
     "output_type": "stream",
     "text": [
      "[('./fuzzy_folder/', 'A_2022_01_13_부서현황_인사_001.pdf', 'A_2022_01_13_부서현황_인사_001.pdf'), ('./fuzzy_folder/', 'A_2022_01_13_부서현황_인사_002.pdf', 'A_2022_01_13_부서현황_인사_002.pdf'), ('./fuzzy_folder/', 'A_2022_01_13_부서현황_인사_003.pdf', 'A_2022_01_13_부서현황_인사_003.pdf'), ('./fuzzy_folder/', 'A_2022_04_10_생산일정_생산_001.pdf', 'A_2022_04_10_생산일정_생산_001.pdf'), ('./fuzzy_folder/', 'A_2022_04_10_생산일정_생산_002.pdf', 'A_2022_04_10_생산일정_생산_002.pdf'), ('./fuzzy_folder/', 'A_2022_04_10_생산일정_생산_003.pdf', 'A_2022_04_10_생산일정_생산_003.pdf'), ('./fuzzy_folder/', 'A_2022_04_10_생산일정_생산_004.pdf', 'A_2022_04_10_생산일정_생산_004.pdf'), ('./fuzzy_folder/', 'A_2022_06_30_생산일정_생산_001.pdf', 'A_2022_06_30_생산일정_생산_001.pdf'), ('./fuzzy_folder/', 'A_2022_06_30_생산일정_생산_002.pdf', 'A_2022_06_30_생산일정_생산_002.pdf'), ('./fuzzy_folder/', 'A_2022_07_20_부서현황_인사_001.pdf', 'A_2022_07_20_부서현황_인사_001.pdf'), ('./fuzzy_folder/', 'A_2022_07_20_부서현황_인사_002.pdf', 'A_2022_07_20_부서현황_인사_002.pdf'), ('./fuzzy_folder/', 'A_2022_07_20_부서현황_인사_003.pdf', 'A_2022_07_20_부서현황_인사_003.pdf'), ('./fuzzy_folder/', 'A_2022_07_20_부서현황_인사_004 (1).pdf', 'A_2022_07_20_부서현황_인사_004.pdf'), ('./fuzzy_folder/', 'B_2022_02_20_상반기_재무_001.xlsx', 'B_2022_02_20_상반기_재무_001.xlsx'), ('./fuzzy_folder/', 'B_2022_02_20_상반기_재무_002.xlsx', 'B_2022_02_20_상반기_재무_002.xlsx'), ('./fuzzy_folder/', 'B_2022_06_20_하반기_재무_001.xlsx', 'B_2022_06_20_하반기_재무_001.xlsx'), ('./fuzzy_folder/', 'B_2022_06_30_하반기_재무_002.xlsx', 'B_2022_06_30_하반기_재무_002.xlsx'), ('./fuzzy_folder/', 'C_2022_03_30_영업실적_마케팅_001.xlsx', 'C_2022_03_30_영업실적_마케팅_001.xlsx'), ('./fuzzy_folder/', 'C_2022_03_30_영업실적_마케팅_002.xlsx', 'C_2022_03_30_영업실적_마케팅_002.xlsx'), ('./fuzzy_folder/', 'C_2022_03_30_영업실적_마케팅_003.xlsx', 'C_2022_03_30_영업실적_마케팅_003.xlsx'), ('./fuzzy_folder/', 'C_2022_09_10_영업실적_마케팅_001 (1).xlsx', 'C_2022_09_10_영업실적_마케팅_001.xlsx'), ('./fuzzy_folder/', 'C_2022_09_10_영업실적_마케팅_002.xlsx', 'C_2022_09_10_영업실적_마케팅_002.xlsx'), ('./fuzzy_folder/', 'C_2022_09_10_영업실적_마케팅_003.xlsx', 'C_2022_09_10_영업실적_마케팅_003.xlsx'), ('./fuzzy_folder/', 'D_20220110_센터가동현황_물류_001.pdf', 'D_2022_01_10_센터가동현황_물류_001.pdf'), ('./fuzzy_folder/', 'D_20220110_센터가동현황_물류_002.pdf', 'D_2022_01_10_센터가동현황_물류_002.pdf'), ('./fuzzy_folder/', 'D_20220723_센터가동현황_물류_001.pdf', 'D_2022_07_23_센터가동현황_물류_001.pdf'), ('./fuzzy_folder/', 'D_20220723_센터가동현황_물류_002.pdf', 'D_2022_07_23_센터가동현황_물류_002.pdf'), ('./fuzzy_folder/', '단축키모음.txt', '단축키모음.txt'), ('./fuzzy_folder/', '부장님지시사항_220910.txt', '부장님지시사항_220910.txt'), ('./fuzzy_folder/', '센터가동현황_물류.zip', '센터가동현황_물류.zip'), ('./fuzzy_folder/', '증명사진.jfif', '증명사진.jfif')]\n"
     ]
    }
   ],
   "source": [
    "# 함수 실행\n",
    "rename_list = excelRead(os.path.join(trg_path, \"filelist.xlsx\"))\n",
    "print(rename_list)"
   ]
  },
  {
   "cell_type": "code",
   "execution_count": 11,
   "metadata": {
    "pycharm": {
     "name": "#%%\n"
    }
   },
   "outputs": [],
   "source": [
    "import shutil\n",
    "\n",
    "def fileRename(datalist : list):\n",
    "    for data in datalist:\n",
    "        print(data[1]+\"의 파일명을\"+data[2]+\"로 변경합니다.\")\n",
    "        #data[0] : 폴더경로, data[1] : 변경전 파일명, data[2] : 변경 후 파일명\n",
    "        shutil.move(data[0]+data[1], data[0]+data[2])"
   ]
  },
  {
   "cell_type": "code",
   "execution_count": 12,
   "metadata": {
    "pycharm": {
     "name": "#%%\n"
    },
    "scrolled": true
   },
   "outputs": [
    {
     "name": "stdout",
     "output_type": "stream",
     "text": [
      "A_2022_01_13_부서현황_인사_001.pdf의 파일명을A_2022_01_13_부서현황_인사_001.pdf로 변경합니다.\n",
      "A_2022_01_13_부서현황_인사_002.pdf의 파일명을A_2022_01_13_부서현황_인사_002.pdf로 변경합니다.\n",
      "A_2022_01_13_부서현황_인사_003.pdf의 파일명을A_2022_01_13_부서현황_인사_003.pdf로 변경합니다.\n",
      "A_2022_04_10_생산일정_생산_001.pdf의 파일명을A_2022_04_10_생산일정_생산_001.pdf로 변경합니다.\n",
      "A_2022_04_10_생산일정_생산_002.pdf의 파일명을A_2022_04_10_생산일정_생산_002.pdf로 변경합니다.\n",
      "A_2022_04_10_생산일정_생산_003.pdf의 파일명을A_2022_04_10_생산일정_생산_003.pdf로 변경합니다.\n",
      "A_2022_04_10_생산일정_생산_004.pdf의 파일명을A_2022_04_10_생산일정_생산_004.pdf로 변경합니다.\n",
      "A_2022_06_30_생산일정_생산_001.pdf의 파일명을A_2022_06_30_생산일정_생산_001.pdf로 변경합니다.\n",
      "A_2022_06_30_생산일정_생산_002.pdf의 파일명을A_2022_06_30_생산일정_생산_002.pdf로 변경합니다.\n",
      "A_2022_07_20_부서현황_인사_001.pdf의 파일명을A_2022_07_20_부서현황_인사_001.pdf로 변경합니다.\n",
      "A_2022_07_20_부서현황_인사_002.pdf의 파일명을A_2022_07_20_부서현황_인사_002.pdf로 변경합니다.\n",
      "A_2022_07_20_부서현황_인사_003.pdf의 파일명을A_2022_07_20_부서현황_인사_003.pdf로 변경합니다.\n",
      "A_2022_07_20_부서현황_인사_004 (1).pdf의 파일명을A_2022_07_20_부서현황_인사_004.pdf로 변경합니다.\n",
      "B_2022_02_20_상반기_재무_001.xlsx의 파일명을B_2022_02_20_상반기_재무_001.xlsx로 변경합니다.\n",
      "B_2022_02_20_상반기_재무_002.xlsx의 파일명을B_2022_02_20_상반기_재무_002.xlsx로 변경합니다.\n",
      "B_2022_06_20_하반기_재무_001.xlsx의 파일명을B_2022_06_20_하반기_재무_001.xlsx로 변경합니다.\n",
      "B_2022_06_30_하반기_재무_002.xlsx의 파일명을B_2022_06_30_하반기_재무_002.xlsx로 변경합니다.\n",
      "C_2022_03_30_영업실적_마케팅_001.xlsx의 파일명을C_2022_03_30_영업실적_마케팅_001.xlsx로 변경합니다.\n",
      "C_2022_03_30_영업실적_마케팅_002.xlsx의 파일명을C_2022_03_30_영업실적_마케팅_002.xlsx로 변경합니다.\n",
      "C_2022_03_30_영업실적_마케팅_003.xlsx의 파일명을C_2022_03_30_영업실적_마케팅_003.xlsx로 변경합니다.\n",
      "C_2022_09_10_영업실적_마케팅_001 (1).xlsx의 파일명을C_2022_09_10_영업실적_마케팅_001.xlsx로 변경합니다.\n",
      "C_2022_09_10_영업실적_마케팅_002.xlsx의 파일명을C_2022_09_10_영업실적_마케팅_002.xlsx로 변경합니다.\n",
      "C_2022_09_10_영업실적_마케팅_003.xlsx의 파일명을C_2022_09_10_영업실적_마케팅_003.xlsx로 변경합니다.\n",
      "D_20220110_센터가동현황_물류_001.pdf의 파일명을D_2022_01_10_센터가동현황_물류_001.pdf로 변경합니다.\n",
      "D_20220110_센터가동현황_물류_002.pdf의 파일명을D_2022_01_10_센터가동현황_물류_002.pdf로 변경합니다.\n",
      "D_20220723_센터가동현황_물류_001.pdf의 파일명을D_2022_07_23_센터가동현황_물류_001.pdf로 변경합니다.\n",
      "D_20220723_센터가동현황_물류_002.pdf의 파일명을D_2022_07_23_센터가동현황_물류_002.pdf로 변경합니다.\n",
      "단축키모음.txt의 파일명을단축키모음.txt로 변경합니다.\n",
      "부장님지시사항_220910.txt의 파일명을부장님지시사항_220910.txt로 변경합니다.\n",
      "센터가동현황_물류.zip의 파일명을센터가동현황_물류.zip로 변경합니다.\n",
      "증명사진.jfif의 파일명을증명사진.jfif로 변경합니다.\n"
     ]
    }
   ],
   "source": [
    "# 함수 실행\n",
    "fileRename(rename_list)"
   ]
  },
  {
   "cell_type": "markdown",
   "metadata": {
    "pycharm": {
     "name": "#%% md\n"
    }
   },
   "source": [
    "### 4-6-3. 폴더 생성"
   ]
  },
  {
   "cell_type": "code",
   "execution_count": 13,
   "metadata": {
    "pycharm": {
     "name": "#%%\n"
    }
   },
   "outputs": [],
   "source": [
    "import fnmatch"
   ]
  },
  {
   "cell_type": "code",
   "execution_count": 14,
   "metadata": {
    "pycharm": {
     "name": "#%%\n"
    }
   },
   "outputs": [],
   "source": [
    "# 파일명을 읽어와서 파일명의 분류 부분을 중복없이 리스트화\n",
    "def categoryList(trg_path : str)->list :\n",
    "    \n",
    "    # 파일명 끝자리가 _XXX (숫자 세자리) 로 끝나는 파일 탐색\n",
    "    file_list=[]\n",
    "    for filename in os.listdir(trg_path):\n",
    "        if fnmatch.fnmatch(filename, '*_[0-9][0-9][0-9].*'):\n",
    "            file_list.append(filename)\n",
    "       \n",
    "    category = [] #분류 데이터 저장을 위해 빈 리스트 생성\n",
    "\n",
    "    for file in file_list:\n",
    "        temp_list = file.split(\"_\") #파일명중 \"_\"로 분리하여 리스트화\n",
    "        category.append(temp_list[-2]) #리스트의 -2 인덱싱 데이터를 category에 추가\n",
    "\n",
    "    temp_set = set(category) #중복을 제거하기 위해 set 사용\n",
    "    result = list(temp_set) #중복 제거 후 다시 리스트화\n",
    "    return result #결과 리턴"
   ]
  },
  {
   "cell_type": "code",
   "execution_count": 15,
   "metadata": {},
   "outputs": [
    {
     "data": {
      "text/plain": [
       "['물류', '마케팅', '인사', '재무', '생산']"
      ]
     },
     "execution_count": 15,
     "metadata": {},
     "output_type": "execute_result"
    }
   ],
   "source": [
    "categoryList(trg_path)"
   ]
  },
  {
   "cell_type": "code",
   "execution_count": 16,
   "metadata": {
    "pycharm": {
     "name": "#%%\n"
    }
   },
   "outputs": [
    {
     "name": "stdout",
     "output_type": "stream",
     "text": [
      "['물류', '마케팅', '인사', '재무', '생산', '기타']\n"
     ]
    }
   ],
   "source": [
    "# 함수 실행\n",
    "categorylist = categoryList(trg_path) + ['기타']\n",
    "print(categorylist)"
   ]
  },
  {
   "cell_type": "code",
   "execution_count": 17,
   "metadata": {
    "pycharm": {
     "name": "#%%\n"
    }
   },
   "outputs": [],
   "source": [
    "import pathlib"
   ]
  },
  {
   "cell_type": "code",
   "execution_count": 18,
   "metadata": {
    "pycharm": {
     "name": "#%%\n"
    }
   },
   "outputs": [],
   "source": [
    "# 분류 리스트를 받아와서 정해진 위치에 폴더 생성\n",
    "clean_path = './clean_folder'\n",
    "def makeFolder(clean_path : str, categorylist : list):    \n",
    "    for category in categorylist:\n",
    "        new_folder = pathlib.Path(os.path.join(clean_path, category))\n",
    "        new_folder.mkdir(parents=True, exist_ok=True)"
   ]
  },
  {
   "cell_type": "code",
   "execution_count": 19,
   "metadata": {
    "pycharm": {
     "name": "#%%\n"
    }
   },
   "outputs": [],
   "source": [
    "# 함수 실행\n",
    "makeFolder(clean_path, categorylist)"
   ]
  },
  {
   "cell_type": "markdown",
   "metadata": {
    "pycharm": {
     "name": "#%% md\n"
    }
   },
   "source": [
    "### 4-6-4. 파일 분류 및 이동"
   ]
  },
  {
   "cell_type": "code",
   "execution_count": 20,
   "metadata": {
    "pycharm": {
     "name": "#%%\n"
    }
   },
   "outputs": [],
   "source": [
    "import shutil"
   ]
  },
  {
   "cell_type": "code",
   "execution_count": 21,
   "metadata": {
    "pycharm": {
     "name": "#%%\n"
    }
   },
   "outputs": [],
   "source": [
    "#파일을 폴더 분류에 맞게 이동\n",
    "def moveFile(clean_path, trg_path, categorylist):\n",
    "    folderlist = os.listdir(clean_path) #이동시킬 경로에 생성된 분류별 폴더 리스트화\n",
    "    filelist = os.listdir(trg_path) #이동시킬 파일명들을 리스트화\n",
    "    categorydict = {} #빈 딕셔너리 생성\n",
    "\n",
    "    #파일명에 대한 폴더명을 딕셔너리로 저장\n",
    "    for file in filelist:\n",
    "        \n",
    "        # 파일명 규칙에 맞지 않으면 '기타' 폴더로 분류\n",
    "        try:\n",
    "            temp_list = file.split(\"_\")\n",
    "            assert temp_list[-2] in categorylist  # 카테고리가 맞지 않으면 에러 발생\n",
    "            \n",
    "            categorydict[file]=temp_list[-2] # {'파일명' : '분류'} 형태의 딕셔너리 생성\n",
    "        except:\n",
    "            categorydict[file]='기타'\n",
    "            \n",
    "    \n",
    "    #딕셔너리 정보 활용하여 파일 이동\n",
    "    for key, value in categorydict.items():\n",
    "        shutil.copy(trg_path+\"/\"+key, clean_path+\"/\"+value)"
   ]
  },
  {
   "cell_type": "code",
   "execution_count": 22,
   "metadata": {
    "pycharm": {
     "name": "#%%\n"
    }
   },
   "outputs": [],
   "source": [
    "moveFile(clean_path, trg_path,categorylist)"
   ]
  },
  {
   "cell_type": "code",
   "execution_count": null,
   "metadata": {
    "pycharm": {
     "name": "#%%\n"
    }
   },
   "outputs": [],
   "source": []
  }
 ],
 "metadata": {
  "kernelspec": {
   "display_name": "fastcampus",
   "language": "python",
   "name": "fastcampus"
  },
  "language_info": {
   "codemirror_mode": {
    "name": "ipython",
    "version": 3
   },
   "file_extension": ".py",
   "mimetype": "text/x-python",
   "name": "python",
   "nbconvert_exporter": "python",
   "pygments_lexer": "ipython3",
   "version": "3.9.13"
  }
 },
 "nbformat": 4,
 "nbformat_minor": 4
}
