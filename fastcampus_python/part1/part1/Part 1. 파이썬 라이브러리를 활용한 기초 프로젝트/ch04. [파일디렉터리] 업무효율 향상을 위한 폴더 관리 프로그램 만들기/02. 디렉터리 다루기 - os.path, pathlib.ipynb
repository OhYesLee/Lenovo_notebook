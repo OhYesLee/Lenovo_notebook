{
 "cells": [
  {
   "cell_type": "markdown",
   "metadata": {
    "pycharm": {
     "name": "#%% md\n"
    }
   },
   "source": [
    "# **Chapter 4. [폴더/디렉토리] 폴더관리 프로그램 만들기**\n",
    "\n",
    "\n",
    "---\n",
    "### 📝 **학습 목차**\n",
    "> 4-1. 프로젝트 개요 <br>\n",
    "> **4-2. 디렉터리 다루기 - os.path, pathlib** <br>\n",
    "> 4-3. 파일 읽기, 저장 - fileinput, pickle <br>\n",
    "> 4-4. 파일 찾기, 복사, 이동 - glob, fnmatch, shutil <br>\n",
    "> 4-5. 파일 압축 - zlib, gzip, zipfile, tarfile <br>\n",
    "> 4-6. 프로젝트 실습"
   ]
  },
  {
   "cell_type": "markdown",
   "metadata": {
    "pycharm": {
     "name": "#%% md\n"
    }
   },
   "source": [
    "## 4-2. 디렉터리 다루기"
   ]
  },
  {
   "cell_type": "markdown",
   "metadata": {
    "pycharm": {
     "name": "#%% md\n"
    }
   },
   "source": [
    "> ### os.path, pathlib\n",
    "> - `os.path` 와 `pathlib` 모두 파이썬에서 경로와 디렉터리를 처리할 때 자주 사용되는 내장 라이브러리\n",
    "> - `os.path` 는 경로를 **문자열**로 다루고, `pathlib` 은 경로를 **객체**형으로 다루는 차이가 있음\n",
    "> - `pathlib` 은 파이썬 3.4 버전 이후부터 지원\n",
    "> - 파일 찾기, 시스템 경로 등의 기능이 유용 ([비교 전체 표](https://docs.python.org/3/library/pathlib.html))\n",
    ">\n",
    "> | 기능                   | os 모듈            | pathlib 모듈                  |\n",
    "|------------------------|--------------------|-------------------------------|\n",
    "| 현재 디렉토리 가져오기 | os.getcwd()        | pathlib.Path.cwd()            |\n",
    "| 경로 존재 확인         | os.path.exists()   | pathlib.Path.exists()         |\n",
    "| 파일명만 가져오기      | os.path.basename() | pathlib.PurePath().name       |\n",
    "| 디렉토리명 가져오기    | os.path.dirname()  | pathlib.PurePath().parent     |\n",
    "| 경로 연결              | os.path.join()     | pathlib.PurePath().joinpath() |\n",
    "| 디렉토리 여부          | os.path.isdir()    | pathlib.Path.is_dir()         |\n",
    "| 파일 여부              | os.path.isfile()   | pathlib.Path.is_file()        |\n",
    "| 확장자 분리            | os.path.splitext() | pathlib.PurePath().suffix     |"
   ]
  },
  {
   "cell_type": "code",
   "execution_count": null,
   "metadata": {
    "pycharm": {
     "name": "#%%\n"
    }
   },
   "outputs": [],
   "source": [
    "import os\n",
    "import pathlib"
   ]
  },
  {
   "cell_type": "markdown",
   "metadata": {
    "pycharm": {
     "name": "#%% md\n"
    }
   },
   "source": [
    "#### 현재 디렉토리 확인"
   ]
  },
  {
   "cell_type": "code",
   "execution_count": null,
   "metadata": {
    "pycharm": {
     "name": "#%%\n"
    }
   },
   "outputs": [],
   "source": [
    "print(os.getcwd())"
   ]
  },
  {
   "cell_type": "code",
   "execution_count": null,
   "metadata": {
    "pycharm": {
     "name": "#%%\n"
    }
   },
   "outputs": [],
   "source": [
    "print(pathlib.Path.cwd())"
   ]
  },
  {
   "cell_type": "markdown",
   "metadata": {
    "pycharm": {
     "name": "#%% md\n"
    }
   },
   "source": [
    "#### 경로 존재 확인"
   ]
  },
  {
   "cell_type": "code",
   "execution_count": null,
   "metadata": {
    "pycharm": {
     "name": "#%%\n"
    }
   },
   "outputs": [],
   "source": [
    "dir_file = r'C:\\Users\\Shin-Nyum\\Desktop\\fastcampus\\test'"
   ]
  },
  {
   "cell_type": "code",
   "execution_count": null,
   "metadata": {
    "pycharm": {
     "name": "#%%\n"
    }
   },
   "outputs": [],
   "source": [
    "print(os.path.exists(dir_file))"
   ]
  },
  {
   "cell_type": "code",
   "execution_count": null,
   "metadata": {
    "pycharm": {
     "name": "#%%\n"
    }
   },
   "outputs": [],
   "source": [
    "print(pathlib.Path.exists(pathlib.Path(dir_file)))"
   ]
  },
  {
   "cell_type": "markdown",
   "metadata": {
    "pycharm": {
     "name": "#%% md\n"
    }
   },
   "source": [
    "#### 디렉토리 만들기"
   ]
  },
  {
   "cell_type": "code",
   "execution_count": null,
   "metadata": {
    "pycharm": {
     "name": "#%%\n"
    }
   },
   "outputs": [],
   "source": [
    "dir_os = r'C:\\Users\\Shin-Nyum\\Desktop\\fastcampus\\os\\새폴더'\n",
    "dir_pathlib = pathlib.Path(r'C:\\Users\\Shin-Nyum\\Desktop\\fastcampus\\pathlib\\새폴더')"
   ]
  },
  {
   "cell_type": "code",
   "execution_count": null,
   "metadata": {
    "pycharm": {
     "name": "#%%\n"
    }
   },
   "outputs": [],
   "source": [
    "# os\n",
    "if not os.path.exists(dir_os):\n",
    "    os.makedirs(dir_os)"
   ]
  },
  {
   "cell_type": "code",
   "execution_count": null,
   "metadata": {
    "pycharm": {
     "name": "#%%\n"
    }
   },
   "outputs": [],
   "source": [
    "# pathlib\n",
    "dir_pathlib.mkdir(parents=True, exist_ok=True)"
   ]
  },
  {
   "cell_type": "markdown",
   "metadata": {
    "pycharm": {
     "name": "#%% md\n"
    }
   },
   "source": [
    "#### 파일명 확인"
   ]
  },
  {
   "cell_type": "code",
   "execution_count": 21,
   "metadata": {
    "pycharm": {
     "name": "#%%\n"
    }
   },
   "outputs": [],
   "source": [
    "dir_file = r'C:\\Users\\Shin-Nyum\\Desktop\\fastcampus\\Part 1. 파이썬 라이브러리를 활용한 기초 프로젝트 10개\\04. [파일디렉터리] 업무효율 향상을 위한 폴더 관리 프로그램 만들기\\sample'"
   ]
  },
  {
   "cell_type": "code",
   "execution_count": 22,
   "metadata": {
    "pycharm": {
     "name": "#%%\n"
    }
   },
   "outputs": [
    {
     "name": "stdout",
     "output_type": "stream",
     "text": [
      "['새파일1.txt', '새파일2.txt', '새파일3.txt']\n"
     ]
    }
   ],
   "source": [
    "# 전체 파일 리스트\n",
    "print(os.listdir(dir_file))"
   ]
  },
  {
   "cell_type": "code",
   "execution_count": 23,
   "metadata": {
    "pycharm": {
     "name": "#%%\n"
    }
   },
   "outputs": [
    {
     "name": "stdout",
     "output_type": "stream",
     "text": [
      "새파일1.txt\n"
     ]
    }
   ],
   "source": [
    "# os\n",
    "print(os.listdir(dir_file)[0])"
   ]
  },
  {
   "cell_type": "code",
   "execution_count": 24,
   "metadata": {
    "pycharm": {
     "name": "#%%\n"
    }
   },
   "outputs": [
    {
     "name": "stdout",
     "output_type": "stream",
     "text": [
      "새파일1.txt\n"
     ]
    }
   ],
   "source": [
    "# pathlib\n",
    "print(pathlib.PurePath(os.listdir(dir_file)[0]).name)"
   ]
  },
  {
   "cell_type": "markdown",
   "metadata": {
    "pycharm": {
     "name": "#%% md\n"
    }
   },
   "source": [
    "#### 상위 경로명 확인"
   ]
  },
  {
   "cell_type": "code",
   "execution_count": 25,
   "metadata": {},
   "outputs": [
    {
     "data": {
      "text/plain": [
       "'C:\\\\Users\\\\Shin-Nyum\\\\Desktop\\\\fastcampus\\\\Part 1. 파이썬 라이브러리를 활용한 기초 프로젝트 10개\\\\04. [파일디렉터리] 업무효율 향상을 위한 폴더 관리 프로그램 만들기\\\\sample'"
      ]
     },
     "execution_count": 25,
     "metadata": {},
     "output_type": "execute_result"
    }
   ],
   "source": [
    "dir_file"
   ]
  },
  {
   "cell_type": "code",
   "execution_count": 26,
   "metadata": {
    "pycharm": {
     "name": "#%%\n"
    }
   },
   "outputs": [
    {
     "name": "stdout",
     "output_type": "stream",
     "text": [
      "C:\\Users\\Shin-Nyum\\Desktop\\fastcampus\\Part 1. 파이썬 라이브러리를 활용한 기초 프로젝트 10개\\04. [파일디렉터리] 업무효율 향상을 위한 폴더 관리 프로그램 만들기\n"
     ]
    }
   ],
   "source": [
    "# os\n",
    "print(os.path.dirname(dir_file))"
   ]
  },
  {
   "cell_type": "code",
   "execution_count": 27,
   "metadata": {
    "pycharm": {
     "name": "#%%\n"
    }
   },
   "outputs": [
    {
     "name": "stdout",
     "output_type": "stream",
     "text": [
      "C:\\Users\\Shin-Nyum\\Desktop\\fastcampus\\Part 1. 파이썬 라이브러리를 활용한 기초 프로젝트 10개\\04. [파일디렉터리] 업무효율 향상을 위한 폴더 관리 프로그램 만들기\n"
     ]
    }
   ],
   "source": [
    "# pathlib\n",
    "print(pathlib.PurePath(dir_file).parent)"
   ]
  },
  {
   "cell_type": "markdown",
   "metadata": {
    "pycharm": {
     "name": "#%% md\n"
    }
   },
   "source": [
    "#### 경로 연결"
   ]
  },
  {
   "cell_type": "code",
   "execution_count": 28,
   "metadata": {
    "pycharm": {
     "name": "#%%\n"
    }
   },
   "outputs": [
    {
     "name": "stdout",
     "output_type": "stream",
     "text": [
      "C:\\Users\\Shin-Nyum\\Desktop\\fastcampus\\Part 1. 파이썬 라이브러리를 활용한 기초 프로젝트 10개\\04. [파일디렉터리] 업무효율 향상을 위한 폴더 관리 프로그램 만들기\\sample\\os\n"
     ]
    }
   ],
   "source": [
    "# os\n",
    "print(os.path.join(dir_file, 'os'))"
   ]
  },
  {
   "cell_type": "code",
   "execution_count": 29,
   "metadata": {
    "pycharm": {
     "name": "#%%\n"
    }
   },
   "outputs": [
    {
     "name": "stdout",
     "output_type": "stream",
     "text": [
      "C:\\Users\\Shin-Nyum\\Desktop\\fastcampus\\Part 1. 파이썬 라이브러리를 활용한 기초 프로젝트 10개\\04. [파일디렉터리] 업무효율 향상을 위한 폴더 관리 프로그램 만들기\\os\n"
     ]
    }
   ],
   "source": [
    "# os\n",
    "print(os.path.join(os.path.dirname(dir_file), 'os'))"
   ]
  },
  {
   "cell_type": "code",
   "execution_count": 30,
   "metadata": {
    "pycharm": {
     "name": "#%%\n"
    }
   },
   "outputs": [
    {
     "name": "stdout",
     "output_type": "stream",
     "text": [
      "C:\\Users\\Shin-Nyum\\Desktop\\fastcampus\\Part 1. 파이썬 라이브러리를 활용한 기초 프로젝트 10개\\04. [파일디렉터리] 업무효율 향상을 위한 폴더 관리 프로그램 만들기\\sample\\pathlib\n"
     ]
    }
   ],
   "source": [
    "# pathlib\n",
    "print(pathlib.PurePath(dir_file).joinpath('pathlib'))"
   ]
  },
  {
   "cell_type": "code",
   "execution_count": 33,
   "metadata": {
    "pycharm": {
     "name": "#%%\n"
    }
   },
   "outputs": [
    {
     "name": "stdout",
     "output_type": "stream",
     "text": [
      "C:\\Users\\Shin-Nyum\\Desktop\\fastcampus\\pathlib\n"
     ]
    }
   ],
   "source": [
    "# pathlib\n",
    "print(pathlib.PurePath(pathlib.PurePath(dir_file).parent).joinpath('pathlib'))"
   ]
  },
  {
   "cell_type": "markdown",
   "metadata": {
    "pycharm": {
     "name": "#%% md\n"
    }
   },
   "source": [
    "#### 확장자 분리"
   ]
  },
  {
   "cell_type": "code",
   "execution_count": 34,
   "metadata": {
    "pycharm": {
     "name": "#%%\n"
    }
   },
   "outputs": [
    {
     "name": "stdout",
     "output_type": "stream",
     "text": [
      "새파일1.txt\n"
     ]
    }
   ],
   "source": [
    "file_path = os.path.basename(os.listdir(dir_file)[0])\n",
    "print(file_path)"
   ]
  },
  {
   "cell_type": "code",
   "execution_count": 35,
   "metadata": {
    "pycharm": {
     "name": "#%%\n"
    }
   },
   "outputs": [
    {
     "name": "stdout",
     "output_type": "stream",
     "text": [
      "('새파일1', '.txt')\n"
     ]
    }
   ],
   "source": [
    "# os\n",
    "print(os.path.splitext(file_path))"
   ]
  },
  {
   "cell_type": "code",
   "execution_count": 36,
   "metadata": {
    "pycharm": {
     "name": "#%%\n"
    }
   },
   "outputs": [
    {
     "data": {
      "text/plain": [
       "'.txt'"
      ]
     },
     "execution_count": 36,
     "metadata": {},
     "output_type": "execute_result"
    }
   ],
   "source": [
    "# pathlib\n",
    "pathlib.PurePath(file_path).suffix"
   ]
  },
  {
   "cell_type": "code",
   "execution_count": null,
   "metadata": {
    "pycharm": {
     "name": "#%%\n"
    }
   },
   "outputs": [],
   "source": []
  }
 ],
 "metadata": {
  "kernelspec": {
   "display_name": "fastcampus",
   "language": "python",
   "name": "fastcampus"
  },
  "language_info": {
   "codemirror_mode": {
    "name": "ipython",
    "version": 3
   },
   "file_extension": ".py",
   "mimetype": "text/x-python",
   "name": "python",
   "nbconvert_exporter": "python",
   "pygments_lexer": "ipython3",
   "version": "3.9.13"
  }
 },
 "nbformat": 4,
 "nbformat_minor": 4
}
