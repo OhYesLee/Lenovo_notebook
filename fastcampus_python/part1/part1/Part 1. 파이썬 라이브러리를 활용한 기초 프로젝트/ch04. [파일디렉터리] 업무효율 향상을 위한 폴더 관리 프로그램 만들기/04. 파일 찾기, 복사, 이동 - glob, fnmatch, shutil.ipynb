{
 "cells": [
  {
   "cell_type": "markdown",
   "metadata": {
    "pycharm": {
     "name": "#%% md\n"
    }
   },
   "source": [
    "# **Chapter 4. [폴더/디렉토리] 폴더관리 프로그램 만들기**\n",
    "\n",
    "\n",
    "---\n",
    "### 📝 **학습 목차**\n",
    "> 4-1. 프로젝트 개요 <br>\n",
    "> 4-2. 디렉터리 다루기 - os.path, pathlib <br>\n",
    "> 4-3. 파일 읽기, 저장 - fileinput, pickle <br>\n",
    "> **4-4. 파일 찾기, 복사, 이동 - glob, fnmatch, shutil** <br>\n",
    "> 4-5. 파일 압축 - zlib, gzip, zipfile, tarfile <br>\n",
    "> 4-6. 프로젝트 실습"
   ]
  },
  {
   "cell_type": "markdown",
   "metadata": {
    "pycharm": {
     "name": "#%% md\n"
    }
   },
   "source": [
    "## 4-4. 파일 찾기, 복사, 이동"
   ]
  },
  {
   "cell_type": "markdown",
   "metadata": {
    "pycharm": {
     "name": "#%% md\n"
    }
   },
   "source": [
    "> ### glob\n",
    "> - `glob` 는 패턴을 이용하여 파일을 검색할 때 사용하는 모듈"
   ]
  },
  {
   "cell_type": "markdown",
   "metadata": {
    "pycharm": {
     "name": "#%% md\n"
    }
   },
   "source": [
    "### 파일 확장자로 찾기"
   ]
  },
  {
   "cell_type": "code",
   "execution_count": 1,
   "metadata": {
    "pycharm": {
     "name": "#%%\n"
    }
   },
   "outputs": [],
   "source": [
    "import glob\n",
    "import os"
   ]
  },
  {
   "cell_type": "code",
   "execution_count": 2,
   "metadata": {
    "pycharm": {
     "name": "#%%\n"
    }
   },
   "outputs": [
    {
     "data": {
      "text/plain": [
       "'C:\\\\Users\\\\Shin-Nyum\\\\Desktop\\\\fastcampus\\\\Part 1. 파이썬 라이브러리를 활용한 기초 프로젝트 10개\\\\04. [파일디렉터리] 업무효율 향상을 위한 폴더 관리 프로그램 만들기'"
      ]
     },
     "execution_count": 2,
     "metadata": {},
     "output_type": "execute_result"
    }
   ],
   "source": [
    "# 현재 디렉토리 확인\n",
    "os.getcwd()"
   ]
  },
  {
   "cell_type": "code",
   "execution_count": 5,
   "metadata": {
    "pycharm": {
     "name": "#%%\n"
    }
   },
   "outputs": [],
   "source": [
    "# txt 파일 찾기 - 현재 경로\n",
    "for filename in glob.glob(\"*.txt\"):\n",
    "    print(filename)"
   ]
  },
  {
   "cell_type": "code",
   "execution_count": 6,
   "metadata": {
    "pycharm": {
     "name": "#%%\n"
    }
   },
   "outputs": [
    {
     "name": "stdout",
     "output_type": "stream",
     "text": [
      "fuzzy_folder\\단축키모음.txt\n",
      "fuzzy_folder\\부장님지시사항_220910.txt\n",
      "sample\\새파일1.txt\n",
      "sample\\새파일2.txt\n",
      "sample\\새파일3.txt\n"
     ]
    }
   ],
   "source": [
    "# txt 파일 찾기 - 하위 경로\n",
    "for filename in glob.glob(\"**/*.txt\"):\n",
    "    print(filename)"
   ]
  },
  {
   "cell_type": "code",
   "execution_count": 8,
   "metadata": {
    "pycharm": {
     "name": "#%%\n"
    }
   },
   "outputs": [
    {
     "name": "stdout",
     "output_type": "stream",
     "text": [
      "새파일1.txt\n",
      "fuzzy_folder\\단축키모음.txt\n",
      "fuzzy_folder\\부장님지시사항_220910.txt\n",
      "sample\\새파일1.txt\n",
      "sample\\새파일2.txt\n",
      "sample\\새파일3.txt\n"
     ]
    }
   ],
   "source": [
    "# txt 파일 찾기 - 현재와 하위 경로 모두 포함\n",
    "for filename in glob.glob(\"**/*.txt\", recursive=True):\n",
    "    print(filename)"
   ]
  },
  {
   "cell_type": "markdown",
   "metadata": {
    "pycharm": {
     "name": "#%% md\n"
    }
   },
   "source": [
    "### 파일명 글자수로 찾기"
   ]
  },
  {
   "cell_type": "code",
   "execution_count": 9,
   "metadata": {
    "pycharm": {
     "name": "#%%\n"
    }
   },
   "outputs": [
    {
     "name": "stdout",
     "output_type": "stream",
     "text": [
      "list.pkl\n",
      "새파일1.txt\n"
     ]
    }
   ],
   "source": [
    "# 글자수 4\n",
    "for filename in glob.glob(\"????.*\", recursive=True):\n",
    "    print(filename)"
   ]
  },
  {
   "cell_type": "code",
   "execution_count": 10,
   "metadata": {},
   "outputs": [
    {
     "name": "stdout",
     "output_type": "stream",
     "text": [
      "dictionary.pkl\n"
     ]
    }
   ],
   "source": [
    "# 글자수 10\n",
    "for filename in glob.glob(\"??????????.*\", recursive=True):\n",
    "    print(filename)"
   ]
  },
  {
   "cell_type": "markdown",
   "metadata": {
    "pycharm": {
     "name": "#%% md\n"
    }
   },
   "source": [
    "### 문자열 포함 파일명 찾기"
   ]
  },
  {
   "cell_type": "code",
   "execution_count": 11,
   "metadata": {
    "pycharm": {
     "name": "#%%\n"
    }
   },
   "outputs": [
    {
     "name": "stdout",
     "output_type": "stream",
     "text": [
      "list.pkl\n"
     ]
    }
   ],
   "source": [
    "for filename in glob.glob(\"**/[a-z][a-z][a-z][a-z].*\", recursive=True):\n",
    "    print(filename)"
   ]
  },
  {
   "cell_type": "code",
   "execution_count": 12,
   "metadata": {
    "pycharm": {
     "name": "#%%\n"
    }
   },
   "outputs": [
    {
     "name": "stdout",
     "output_type": "stream",
     "text": [
      "새파일1.txt\n",
      "sample\\새파일1.txt\n",
      "sample\\새파일2.txt\n",
      "sample\\새파일3.txt\n"
     ]
    }
   ],
   "source": [
    "for filename in glob.glob(\"**/새파일*.*\", recursive=True):\n",
    "    print(filename)"
   ]
  },
  {
   "cell_type": "code",
   "execution_count": 13,
   "metadata": {
    "pycharm": {
     "name": "#%%\n"
    },
    "scrolled": true
   },
   "outputs": [
    {
     "name": "stdout",
     "output_type": "stream",
     "text": [
      "01. 프로젝트 개요.pptx\n",
      "06. 프로젝트 실습.ipynb\n",
      "06. 프로젝트 실습.py\n"
     ]
    }
   ],
   "source": [
    "for filename in glob.glob(\"**/*프로젝트*.*\", recursive=True):\n",
    "    print(filename)"
   ]
  },
  {
   "cell_type": "markdown",
   "metadata": {
    "pycharm": {
     "name": "#%% md\n"
    }
   },
   "source": [
    "> ### fnmatch\n",
    "> - `fnmatch` 는 `glob` 와 동일하게 특정한 패턴을 따르는 파일명을 찾아주는 모듈입니다.\n",
    "> - 파일명 매칭 여부를 `True`, `False` 형태로 반환하기 때문에 `os.listdir()` 함수와 함께 사용하는 것이 특징입니다"
   ]
  },
  {
   "cell_type": "code",
   "execution_count": 14,
   "metadata": {
    "pycharm": {
     "name": "#%%\n"
    }
   },
   "outputs": [],
   "source": [
    "import fnmatch\n",
    "import os"
   ]
  },
  {
   "cell_type": "markdown",
   "metadata": {
    "pycharm": {
     "name": "#%% md\n"
    }
   },
   "source": [
    "#### 탐색 조건\n",
    "- 파일명은 '새'로 시작한다.\n",
    "- 확장자는 텍스트 파일을 의미하는 .txt 이다.\n",
    "- 확장자를 제외한 파일명의 길이는 4이다.\n",
    "- 파일명의 마지막 문자는 숫자이다."
   ]
  },
  {
   "cell_type": "code",
   "execution_count": 15,
   "metadata": {
    "pycharm": {
     "name": "#%%\n"
    }
   },
   "outputs": [
    {
     "name": "stdout",
     "output_type": "stream",
     "text": [
      "새파일1.txt\n",
      "새파일2.txt\n",
      "새파일3.txt\n"
     ]
    }
   ],
   "source": [
    "for filename in os.listdir('./sample'):\n",
    "    if fnmatch.fnmatch(filename, '새??[0-9].txt'):\n",
    "        print(filename)"
   ]
  },
  {
   "cell_type": "markdown",
   "metadata": {
    "pycharm": {
     "name": "#%% md\n"
    }
   },
   "source": [
    "> ### shutil\n",
    "> - `shutil` 은 파일을 복사하거나 이동할때 사용하는 내장 모듈입니다.\n",
    "> - `copy`, `copy2` : 파일 복사\n",
    "> - `move` : 파일 이동, 확장자 변경"
   ]
  },
  {
   "cell_type": "code",
   "execution_count": 16,
   "metadata": {
    "pycharm": {
     "name": "#%%\n"
    }
   },
   "outputs": [],
   "source": [
    "import shutil"
   ]
  },
  {
   "cell_type": "code",
   "execution_count": 17,
   "metadata": {
    "pycharm": {
     "name": "#%%\n"
    }
   },
   "outputs": [
    {
     "data": {
      "text/plain": [
       "'./sample/새파일1_복사본.txt'"
      ]
     },
     "execution_count": 17,
     "metadata": {},
     "output_type": "execute_result"
    }
   ],
   "source": [
    "# 파일 복사하기\n",
    "shutil.copy(\"./sample/새파일1.txt\", \"./sample/새파일1_복사본.txt\")"
   ]
  },
  {
   "cell_type": "code",
   "execution_count": 18,
   "metadata": {
    "pycharm": {
     "name": "#%%\n"
    }
   },
   "outputs": [
    {
     "data": {
      "text/plain": [
       "'./sample/새파일1_복사본_메타.txt'"
      ]
     },
     "execution_count": 18,
     "metadata": {},
     "output_type": "execute_result"
    }
   ],
   "source": [
    "# 메타정보 복사\n",
    "shutil.copy2(\"./sample/새파일1.txt\", \"./sample/새파일1_복사본_메타.txt\")"
   ]
  },
  {
   "cell_type": "code",
   "execution_count": 19,
   "metadata": {
    "pycharm": {
     "name": "#%%\n"
    }
   },
   "outputs": [
    {
     "data": {
      "text/plain": [
       "'./sample/새파일1_복사본.py'"
      ]
     },
     "execution_count": 19,
     "metadata": {},
     "output_type": "execute_result"
    }
   ],
   "source": [
    "# 확장자 바꾸기\n",
    "shutil.move(\"./sample/새파일1_복사본.txt\", \"./sample/새파일1_복사본.py\")"
   ]
  },
  {
   "cell_type": "code",
   "execution_count": 20,
   "metadata": {
    "pycharm": {
     "name": "#%%\n"
    }
   },
   "outputs": [
    {
     "data": {
      "text/plain": [
       "'./sample/새파일1_복사본.txt'"
      ]
     },
     "execution_count": 20,
     "metadata": {},
     "output_type": "execute_result"
    }
   ],
   "source": [
    "# 확장자 바꾸기\n",
    "shutil.move(\"./sample/새파일1_복사본.py\", \"./sample/새파일1_복사본.txt\")"
   ]
  },
  {
   "cell_type": "code",
   "execution_count": null,
   "metadata": {
    "pycharm": {
     "name": "#%%\n"
    }
   },
   "outputs": [],
   "source": [
    "# 파일 이동하기\n",
    "shutil.move(\"./sample/새파일1_복사본.txt\", \"새파일1_복사본.txt\")\n",
    "shutil.move(\"./sample/새파일1_복사본_메타.txt\", \"새파일1_복사본_메타.txt\")"
   ]
  },
  {
   "cell_type": "code",
   "execution_count": null,
   "metadata": {
    "pycharm": {
     "name": "#%%\n"
    }
   },
   "outputs": [],
   "source": []
  }
 ],
 "metadata": {
  "kernelspec": {
   "display_name": "fastcampus",
   "language": "python",
   "name": "fastcampus"
  },
  "language_info": {
   "codemirror_mode": {
    "name": "ipython",
    "version": 3
   },
   "file_extension": ".py",
   "mimetype": "text/x-python",
   "name": "python",
   "nbconvert_exporter": "python",
   "pygments_lexer": "ipython3",
   "version": "3.9.13"
  }
 },
 "nbformat": 4,
 "nbformat_minor": 4
}
