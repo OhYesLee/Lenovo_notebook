{
 "cells": [
  {
   "cell_type": "markdown",
   "metadata": {
    "pycharm": {
     "name": "#%% md\n"
    }
   },
   "source": [
    "# **Chapter 5. [데이터베이스] 쇼핑몰 데이터베이스 만들기**\n",
    "\n",
    "\n",
    "---\n",
    "### 📝 **학습 목차**\n",
    "> 5-1. 프로젝트 개요 <br>\n",
    "> 5-2. csv 파일 다루기 - csv <br>\n",
    "> 5-3. 데이터 베이스 연결 - sqlite3 <br>\n",
    "> 5-4. 데이터 불러오기, 조회하기 - fetchone, fetchall <br>\n",
    "> 5-5. 데이터 삽입, 수정, 삭제 <br>\n",
    "> 5-6. 데이터 백업하기 - iterdump <br>\n",
    "> **5-7. 프로젝트 실습**"
   ]
  },
  {
   "cell_type": "markdown",
   "metadata": {
    "pycharm": {
     "name": "#%% md\n"
    }
   },
   "source": [
    "## 5-6. 쇼핑몰 데이터 베이스 만들기 🏪"
   ]
  },
  {
   "cell_type": "markdown",
   "metadata": {
    "pycharm": {
     "name": "#%% md\n"
    }
   },
   "source": [
    "> ### 진행 순서\n",
    ">  1. 데이터 베이스 생성\n",
    ">  2. 상품 리스트 테이블 생성\n",
    ">  3. 주문 목록 추가\n",
    ">  4. 총 구매 가격 산출"
   ]
  },
  {
   "cell_type": "markdown",
   "metadata": {
    "pycharm": {
     "name": "#%% md\n"
    }
   },
   "source": [
    "### 5-6-1. 데이터 베이스 생성"
   ]
  },
  {
   "cell_type": "code",
   "execution_count": null,
   "metadata": {
    "pycharm": {
     "name": "#%%\n"
    }
   },
   "outputs": [],
   "source": [
    "import sqlite3\n",
    "\n",
    "# 쇼핑몰 데이터 베이스\n",
    "conn = sqlite3.connect(\"shopping_mall.db\")\n",
    "\n",
    "# 커서 생성\n",
    "c = conn.cursor()"
   ]
  },
  {
   "cell_type": "markdown",
   "metadata": {
    "pycharm": {
     "name": "#%% md\n"
    }
   },
   "source": [
    "### 5-6-2. 상품 리스트 테이블 생성"
   ]
  },
  {
   "cell_type": "markdown",
   "metadata": {
    "pycharm": {
     "name": "#%% md\n"
    }
   },
   "source": [
    "#### csv 파일로 테이블 추가"
   ]
  },
  {
   "cell_type": "code",
   "execution_count": 2,
   "metadata": {
    "pycharm": {
     "name": "#%%\n"
    }
   },
   "outputs": [
    {
     "name": "stdout",
     "output_type": "stream",
     "text": [
      "   ID   상품명      가격\n",
      "0   1    모자   15000\n",
      "1   2    코트  200000\n",
      "2   3   티셔츠   20000\n",
      "3   4  블라우스   55000\n",
      "4   5   가디건   45000\n",
      "5   6   청바지   50000\n",
      "6   7    구두  150000\n",
      "7   8    가방  170000\n",
      "8   9    양말    5000\n"
     ]
    }
   ],
   "source": [
    "import pandas as pd\n",
    "\n",
    "product_list = pd.read_csv('product_list.csv', encoding='euc-kr')\n",
    "print(product_list)"
   ]
  },
  {
   "cell_type": "code",
   "execution_count": 3,
   "metadata": {
    "pycharm": {
     "name": "#%%\n"
    }
   },
   "outputs": [
    {
     "data": {
      "text/plain": [
       "9"
      ]
     },
     "execution_count": 3,
     "metadata": {},
     "output_type": "execute_result"
    }
   ],
   "source": [
    "# 상품 리스트 테이블 추가\n",
    "product_list.to_sql('productList', conn, if_exists='append', index = False)"
   ]
  },
  {
   "cell_type": "markdown",
   "metadata": {
    "pycharm": {
     "name": "#%% md\n"
    }
   },
   "source": [
    "#### 튜플(리스트)로 테이블 추가"
   ]
  },
  {
   "cell_type": "code",
   "execution_count": 4,
   "metadata": {
    "pycharm": {
     "name": "#%%\n"
    }
   },
   "outputs": [],
   "source": [
    "# 테이블 삭제\n",
    "c.execute(\"DROP TABLE productList\")\n",
    "conn.commit()"
   ]
  },
  {
   "cell_type": "code",
   "execution_count": 5,
   "metadata": {
    "pycharm": {
     "name": "#%%\n"
    }
   },
   "outputs": [],
   "source": [
    "product_list = [['모자',15000],\n",
    "               ['코트', 200000],\n",
    "               ['티셔츠',20000],\n",
    "               ['블라우스',55000],\n",
    "               ['가디건',45000],\n",
    "               ['청바지',50000],\n",
    "               ['구두',150000],\n",
    "               ['가방',170000],\n",
    "               ['양말',5000]]\n",
    "\n",
    "# 테이블 생성\n",
    "c.execute(\"CREATE TABLE IF NOT EXISTS productList(ID INTEGER PRIMARY KEY AUTOINCREMENT, 상품명 TEXT, 가격 INTEGER)\")\n",
    "\n",
    "# 레코드 추가\n",
    "c.executemany(\"INSERT INTO productList (상품명,가격) values (?,?)\", product_list)\n",
    "conn.commit()"
   ]
  },
  {
   "cell_type": "markdown",
   "metadata": {
    "pycharm": {
     "name": "#%% md\n"
    }
   },
   "source": [
    "### 5-6-3. 주문 목록 추가"
   ]
  },
  {
   "cell_type": "code",
   "execution_count": 6,
   "metadata": {
    "pycharm": {
     "name": "#%%\n"
    }
   },
   "outputs": [],
   "source": [
    "c.execute(\"CREATE TABLE IF NOT EXISTS orderList(ID INTEGER PRIMARY KEY AUTOINCREMENT, 상품명 TEXT, 개수 INTEGER, 가격 INTEGER, 총합 INTEGER)\")\n",
    "conn.commit()"
   ]
  },
  {
   "cell_type": "code",
   "execution_count": 7,
   "metadata": {
    "pycharm": {
     "name": "#%%\n"
    },
    "scrolled": true
   },
   "outputs": [
    {
     "name": "stdout",
     "output_type": "stream",
     "text": [
      "------------------상품목록------------------\n",
      "상품번호 : 1 , 상품명 : 모자 , 가격 : 15000\n",
      "상품번호 : 2 , 상품명 : 코트 , 가격 : 200000\n",
      "상품번호 : 3 , 상품명 : 티셔츠 , 가격 : 20000\n",
      "상품번호 : 4 , 상품명 : 블라우스 , 가격 : 55000\n",
      "상품번호 : 5 , 상품명 : 가디건 , 가격 : 45000\n",
      "상품번호 : 6 , 상품명 : 청바지 , 가격 : 50000\n",
      "상품번호 : 7 , 상품명 : 구두 , 가격 : 150000\n",
      "상품번호 : 8 , 상품명 : 가방 , 가격 : 170000\n",
      "상품번호 : 9 , 상품명 : 양말 , 가격 : 5000\n",
      "--------------------------------------------\n",
      "\n",
      "구매하실 상품의 번호를 입력해주세요: 3\n",
      "\n",
      "구매할 수량을 입력해주세요: 1\n",
      "\n",
      "현재까지 구매한 내역 보기\n",
      "--------------------주문목록--------------------\n",
      "상품명 : 티셔츠 , 주문수량 : 1 , 단가 : 20000 , 구매가격 : 20000\n",
      "------------------------------------------------\n",
      "\n",
      "상품을 추가 구매하시겠습니까?\n",
      "중단하려면 'x'을 눌러주세요.\n",
      "계속 하시려면 엔터키를 눌러주세요. \n",
      "\n",
      "------------------상품목록------------------\n",
      "상품번호 : 1 , 상품명 : 모자 , 가격 : 15000\n",
      "상품번호 : 2 , 상품명 : 코트 , 가격 : 200000\n",
      "상품번호 : 3 , 상품명 : 티셔츠 , 가격 : 20000\n",
      "상품번호 : 4 , 상품명 : 블라우스 , 가격 : 55000\n",
      "상품번호 : 5 , 상품명 : 가디건 , 가격 : 45000\n",
      "상품번호 : 6 , 상품명 : 청바지 , 가격 : 50000\n",
      "상품번호 : 7 , 상품명 : 구두 , 가격 : 150000\n",
      "상품번호 : 8 , 상품명 : 가방 , 가격 : 170000\n",
      "상품번호 : 9 , 상품명 : 양말 , 가격 : 5000\n",
      "--------------------------------------------\n",
      "\n",
      "구매하실 상품의 번호를 입력해주세요: 9\n",
      "\n",
      "구매할 수량을 입력해주세요: 10\n",
      "\n",
      "현재까지 구매한 내역 보기\n",
      "--------------------주문목록--------------------\n",
      "상품명 : 티셔츠 , 주문수량 : 1 , 단가 : 20000 , 구매가격 : 20000\n",
      "상품명 : 양말 , 주문수량 : 10 , 단가 : 5000 , 구매가격 : 50000\n",
      "------------------------------------------------\n",
      "\n",
      "상품을 추가 구매하시겠습니까?\n",
      "중단하려면 'x'을 눌러주세요.\n",
      "계속 하시려면 엔터키를 눌러주세요. \n",
      "x\n"
     ]
    }
   ],
   "source": [
    "while True:\n",
    "    \n",
    "    ## 상품 목록을 표시\n",
    "    print(\"------------------상품목록------------------\")\n",
    "    for row in c.execute('SELECT ID, 상품명, 가격 FROM productList'):\n",
    "        print('상품번호 :',row[0],', 상품명 :', row[1], ', 가격 :', row[2])\n",
    "    print(\"--------------------------------------------\")\n",
    "\n",
    "    \n",
    "    ## 사용자 상품 선택\n",
    "    print('')\n",
    "    num = input(\"구매하실 상품의 번호를 입력해주세요: \")\n",
    "    c.execute(\"SELECT 상품명, 가격 FROM productList WHERE id = ?\",(num,))\n",
    "    result = c.fetchone()\n",
    " \n",
    " \n",
    "    ## 상품 번호와 주문 수량을 입력\n",
    "    print('')\n",
    "    count = int(input(\"구매할 수량을 입력해주세요: \"))\n",
    "    total = count * int(result[1])\n",
    " \n",
    "\n",
    "    ## 주문 데이터를 db에 추가\n",
    "    c.execute(\"INSERT INTO orderList (상품명, 개수, 가격, 총합) VALUES (?,?,?,?)\", (result[0],count,result[1],total))\n",
    " \n",
    "    ## 현재까지 주문 내역을 출력\n",
    "    print('')\n",
    "    print(\"현재까지 구매한 내역 보기\")\n",
    "    print(\"--------------------주문목록--------------------\")\n",
    "    for row in c.execute('SELECT * FROM orderList'):\n",
    "        print('상품명 :',row[1],', 주문수량 :', row[2], ', 단가 :', row[3], ', 구매가격 :', row[4])\n",
    "    print(\"------------------------------------------------\")\n",
    " \n",
    "    ## 사용자 추가 구매 여부 \n",
    "    print('')\n",
    "    print(\"상품을 추가 구매하시겠습니까?\\n중단하려면 'x'을 눌러주세요.\\n계속 하시려면 엔터키를 눌러주세요. \")\n",
    "    if(input() == \"x\"): break\n",
    " "
   ]
  },
  {
   "cell_type": "markdown",
   "metadata": {
    "pycharm": {
     "name": "#%% md\n"
    }
   },
   "source": [
    "### 5-6-4. 총 구매 가격 산출"
   ]
  },
  {
   "cell_type": "code",
   "execution_count": 8,
   "metadata": {
    "pycharm": {
     "name": "#%%\n"
    }
   },
   "outputs": [
    {
     "name": "stdout",
     "output_type": "stream",
     "text": [
      "총 구매가격 :  70000 원\n",
      "\n"
     ]
    }
   ],
   "source": [
    "## 주문 내역에서 총 구매 가격 계산\n",
    "print(\"총 구매가격\", end='')\n",
    "\n",
    "for row in c.execute('SELECT sum(총합) FROM orderList'):\n",
    "    print(' : ',row[0],'원')\n",
    "print('')\n",
    "\n",
    "## 주문 내역 초기화\n",
    "c.execute(\"DELETE FROM orderList\")\n",
    "\n",
    "## 데이터 베이스 연결 해제\n",
    "conn.close()"
   ]
  },
  {
   "cell_type": "markdown",
   "metadata": {
    "pycharm": {
     "name": "#%% md\n"
    }
   },
   "source": [
    "### 5-6-5. 전체 실행"
   ]
  },
  {
   "cell_type": "code",
   "execution_count": 9,
   "metadata": {
    "pycharm": {
     "name": "#%%\n"
    }
   },
   "outputs": [
    {
     "name": "stdout",
     "output_type": "stream",
     "text": [
      "------------------상품목록------------------\n",
      "상품번호 : 1 , 상품명 : 모자 , 가격 : 15000\n",
      "상품번호 : 2 , 상품명 : 코트 , 가격 : 200000\n",
      "상품번호 : 3 , 상품명 : 티셔츠 , 가격 : 20000\n",
      "상품번호 : 4 , 상품명 : 블라우스 , 가격 : 55000\n",
      "상품번호 : 5 , 상품명 : 가디건 , 가격 : 45000\n",
      "상품번호 : 6 , 상품명 : 청바지 , 가격 : 50000\n",
      "상품번호 : 7 , 상품명 : 구두 , 가격 : 150000\n",
      "상품번호 : 8 , 상품명 : 가방 , 가격 : 170000\n",
      "상품번호 : 9 , 상품명 : 양말 , 가격 : 5000\n",
      "--------------------------------------------\n",
      "\n",
      "구매하실 상품의 번호를 입력해주세요: 5\n",
      "\n",
      "구매할 수량을 입력해주세요: 2\n",
      "\n",
      "현재까지 구매한 내역 보기\n",
      "--------------------주문목록--------------------\n",
      "상품명 : 가디건 , 주문수량 : 2 , 단가 : 45000 , 구매가격 : 90000\n",
      "------------------------------------------------\n",
      "\n",
      "상품을 추가 구매하시겠습니까?\n",
      "중단하려면 'x'을 눌러주세요.\n",
      "계속 하시려면 엔터키를 눌러주세요. \n",
      "\n",
      "------------------상품목록------------------\n",
      "상품번호 : 1 , 상품명 : 모자 , 가격 : 15000\n",
      "상품번호 : 2 , 상품명 : 코트 , 가격 : 200000\n",
      "상품번호 : 3 , 상품명 : 티셔츠 , 가격 : 20000\n",
      "상품번호 : 4 , 상품명 : 블라우스 , 가격 : 55000\n",
      "상품번호 : 5 , 상품명 : 가디건 , 가격 : 45000\n",
      "상품번호 : 6 , 상품명 : 청바지 , 가격 : 50000\n",
      "상품번호 : 7 , 상품명 : 구두 , 가격 : 150000\n",
      "상품번호 : 8 , 상품명 : 가방 , 가격 : 170000\n",
      "상품번호 : 9 , 상품명 : 양말 , 가격 : 5000\n",
      "--------------------------------------------\n",
      "\n",
      "구매하실 상품의 번호를 입력해주세요: 8\n",
      "\n",
      "구매할 수량을 입력해주세요: 3\n",
      "\n",
      "현재까지 구매한 내역 보기\n",
      "--------------------주문목록--------------------\n",
      "상품명 : 가디건 , 주문수량 : 2 , 단가 : 45000 , 구매가격 : 90000\n",
      "상품명 : 가방 , 주문수량 : 3 , 단가 : 170000 , 구매가격 : 510000\n",
      "------------------------------------------------\n",
      "\n",
      "상품을 추가 구매하시겠습니까?\n",
      "중단하려면 'x'을 눌러주세요.\n",
      "계속 하시려면 엔터키를 눌러주세요. \n",
      "\n",
      "------------------상품목록------------------\n",
      "상품번호 : 1 , 상품명 : 모자 , 가격 : 15000\n",
      "상품번호 : 2 , 상품명 : 코트 , 가격 : 200000\n",
      "상품번호 : 3 , 상품명 : 티셔츠 , 가격 : 20000\n",
      "상품번호 : 4 , 상품명 : 블라우스 , 가격 : 55000\n",
      "상품번호 : 5 , 상품명 : 가디건 , 가격 : 45000\n",
      "상품번호 : 6 , 상품명 : 청바지 , 가격 : 50000\n",
      "상품번호 : 7 , 상품명 : 구두 , 가격 : 150000\n",
      "상품번호 : 8 , 상품명 : 가방 , 가격 : 170000\n",
      "상품번호 : 9 , 상품명 : 양말 , 가격 : 5000\n",
      "--------------------------------------------\n",
      "\n",
      "구매하실 상품의 번호를 입력해주세요: 2\n",
      "\n",
      "구매할 수량을 입력해주세요: 1\n",
      "\n",
      "현재까지 구매한 내역 보기\n",
      "--------------------주문목록--------------------\n",
      "상품명 : 가디건 , 주문수량 : 2 , 단가 : 45000 , 구매가격 : 90000\n",
      "상품명 : 가방 , 주문수량 : 3 , 단가 : 170000 , 구매가격 : 510000\n",
      "상품명 : 코트 , 주문수량 : 1 , 단가 : 200000 , 구매가격 : 200000\n",
      "------------------------------------------------\n",
      "\n",
      "상품을 추가 구매하시겠습니까?\n",
      "중단하려면 'x'을 눌러주세요.\n",
      "계속 하시려면 엔터키를 눌러주세요. \n",
      "x\n",
      "총 구매가격 :  800000 원\n",
      "\n"
     ]
    }
   ],
   "source": [
    "import sqlite3\n",
    "\n",
    "# 쇼핑몰 데이터 베이스\n",
    "conn = sqlite3.connect(\"shopping_mall.db\", isolation_level=None)\n",
    "# 커서 생성\n",
    "c = conn.cursor()\n",
    "\n",
    "\n",
    "while True:\n",
    "    \n",
    "    ## 상품 목록을 표시\n",
    "    print(\"------------------상품목록------------------\")\n",
    "    for row in c.execute('SELECT ID, 상품명, 가격 FROM productList'):\n",
    "        print('상품번호 :',row[0],', 상품명 :', row[1], ', 가격 :', row[2])\n",
    "    print(\"--------------------------------------------\")\n",
    "\n",
    "    \n",
    "    ## 사용자 상품 선택\n",
    "    print('')\n",
    "    num = input(\"구매하실 상품의 번호를 입력해주세요: \")\n",
    "    c.execute(\"SELECT 상품명, 가격 FROM productList WHERE id = ?\",(num,))\n",
    "    result = c.fetchone()\n",
    " \n",
    " \n",
    "    ## 상품 번호와 주문 수량을 입력\n",
    "    print('')\n",
    "    count = int(input(\"구매할 수량을 입력해주세요: \"))\n",
    "    total = count * int(result[1])  # 주문 수량에 따른 가격\n",
    " \n",
    "\n",
    "    ## 주문 데이터를 db에 추가\n",
    "    c.execute(\"INSERT INTO orderList (상품명, 개수, 가격, 총합) VALUES (?,?,?,?)\", (result[0],count,result[1],total))\n",
    " \n",
    "    ## 현재까지 주문 내역을 출력\n",
    "    print('')\n",
    "    print(\"현재까지 구매한 내역 보기\")\n",
    "    print(\"--------------------주문목록--------------------\")\n",
    "    for row in c.execute('SELECT * FROM orderList'):\n",
    "        print('상품명 :',row[1],', 주문수량 :', row[2], ', 단가 :', row[3], ', 구매가격 :', row[4])\n",
    "    print(\"------------------------------------------------\")\n",
    " \n",
    "    ## 사용자 추가 구매 여부 \n",
    "    print('')\n",
    "    print(\"상품을 추가 구매하시겠습니까?\\n중단하려면 'x'을 눌러주세요.\\n계속 하시려면 엔터키를 눌러주세요. \")\n",
    "    if(input() == \"x\"): break\n",
    "\n",
    "## 주문 내역에서 총 구매 가격 계산\n",
    "print(\"총 구매가격\", end='')\n",
    "\n",
    "for row in c.execute('SELECT sum(총합) FROM orderList'):\n",
    "    print(' : ',row[0],'원')\n",
    "print('')\n",
    "\n",
    "## 주문 내역 초기화\n",
    "c.execute(\"DELETE FROM orderList\")\n",
    "\n",
    "## 데이터 베이스 연결 해제\n",
    "conn.close()"
   ]
  },
  {
   "cell_type": "code",
   "execution_count": null,
   "metadata": {
    "pycharm": {
     "name": "#%%\n"
    }
   },
   "outputs": [],
   "source": []
  }
 ],
 "metadata": {
  "kernelspec": {
   "display_name": "fastcampus",
   "language": "python",
   "name": "fastcampus"
  },
  "language_info": {
   "codemirror_mode": {
    "name": "ipython",
    "version": 3
   },
   "file_extension": ".py",
   "mimetype": "text/x-python",
   "name": "python",
   "nbconvert_exporter": "python",
   "pygments_lexer": "ipython3",
   "version": "3.9.13"
  }
 },
 "nbformat": 4,
 "nbformat_minor": 4
}
