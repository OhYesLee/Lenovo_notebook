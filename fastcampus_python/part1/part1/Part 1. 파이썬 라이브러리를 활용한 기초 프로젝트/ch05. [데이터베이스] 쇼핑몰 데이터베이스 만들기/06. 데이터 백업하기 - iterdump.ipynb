{
 "cells": [
  {
   "cell_type": "markdown",
   "metadata": {
    "pycharm": {
     "name": "#%% md\n"
    }
   },
   "source": [
    "# **Chapter 5. [데이터베이스] 쇼핑몰 데이터베이스 만들기**\n",
    "\n",
    "\n",
    "---\n",
    "### 📝 **학습 목차**\n",
    "> 5-1. 프로젝트 개요 <br>\n",
    "> 5-2. csv 파일 다루기 - csv <br>\n",
    "> 5-3. 데이터 베이스 연결 - sqlite3 <br>\n",
    "> 5-4. 데이터 불러오기, 조회하기 - fetchone, fetchall <br>\n",
    "> 5-5. 데이터 삽입, 수정, 삭제** <br>\n",
    "> **5-6. 데이터 백업하기 - iterdump** <br>\n",
    "> 5-7. 프로젝트 실습"
   ]
  },
  {
   "cell_type": "markdown",
   "metadata": {
    "pycharm": {
     "name": "#%% md\n"
    }
   },
   "source": [
    "## 5-6. 데이터 백업하기"
   ]
  },
  {
   "cell_type": "markdown",
   "metadata": {
    "pycharm": {
     "name": "#%% md\n"
    }
   },
   "source": [
    "> ### iterdump\n",
    "> - 데이터 베이스를 백업할 때 사용하는 모듈\n",
    "> - `.sql` 파일 확장자로 **테이블을 다시 복원**할 수 있는 쿼리문을 저장"
   ]
  },
  {
   "cell_type": "code",
   "execution_count": 1,
   "metadata": {
    "pycharm": {
     "name": "#%%\n"
    }
   },
   "outputs": [],
   "source": [
    "import sqlite3"
   ]
  },
  {
   "cell_type": "code",
   "execution_count": 2,
   "metadata": {
    "pycharm": {
     "name": "#%%\n"
    }
   },
   "outputs": [],
   "source": [
    "# 연습용 DB 연결\n",
    "conn = sqlite3.connect(\"test.db\")\n",
    "# 커서 생성\n",
    "c = conn.cursor()"
   ]
  },
  {
   "cell_type": "code",
   "execution_count": 3,
   "metadata": {
    "pycharm": {
     "name": "#%%\n"
    }
   },
   "outputs": [],
   "source": [
    "# 추가할 상품 리스트\n",
    "product_list = [[1, '모자', 15000],\n",
    "                [2, '코트', 200000],\n",
    "                [3, '티셔츠', 20000],\n",
    "                [4, '블라우스', 55000],\n",
    "                [5, '가디건', 45000],\n",
    "                [6, '청바지', 50000],\n",
    "                [7, '구두', 150000],\n",
    "                [8, '가방', 170000]]"
   ]
  },
  {
   "cell_type": "code",
   "execution_count": 4,
   "metadata": {
    "pycharm": {
     "name": "#%%\n"
    }
   },
   "outputs": [],
   "source": [
    "# 데이터 여러줄 삽입\n",
    "c.executemany(\"INSERT OR REPLACE INTO test(ID, PRODUCT_NAME, PRICE) VALUES(?,?,?)\", product_list)\n",
    "conn.commit()"
   ]
  },
  {
   "cell_type": "code",
   "execution_count": 5,
   "metadata": {
    "pycharm": {
     "name": "#%%\n"
    }
   },
   "outputs": [
    {
     "name": "stdout",
     "output_type": "stream",
     "text": [
      "BEGIN TRANSACTION;\n",
      "CREATE TABLE test (ID INTEGER PRIMARY KEY, PRODUCT_NAME TEXT, PRICE INTEGER);\n",
      "INSERT INTO \"test\" VALUES(1,'모자',15000);\n",
      "INSERT INTO \"test\" VALUES(2,'코트',200000);\n",
      "INSERT INTO \"test\" VALUES(3,'티셔츠',20000);\n",
      "INSERT INTO \"test\" VALUES(4,'블라우스',55000);\n",
      "INSERT INTO \"test\" VALUES(5,'가디건',45000);\n",
      "INSERT INTO \"test\" VALUES(6,'청바지',50000);\n",
      "INSERT INTO \"test\" VALUES(7,'구두',150000);\n",
      "INSERT INTO \"test\" VALUES(8,'가방',170000);\n",
      "COMMIT;\n"
     ]
    }
   ],
   "source": [
    "# iterdump 내용 확인\n",
    "for line in conn.iterdump():\n",
    "    print(line)"
   ]
  },
  {
   "cell_type": "code",
   "execution_count": 6,
   "metadata": {
    "pycharm": {
     "name": "#%%\n"
    }
   },
   "outputs": [
    {
     "name": "stdout",
     "output_type": "stream",
     "text": [
      "Completed.\n"
     ]
    }
   ],
   "source": [
    "# 데이터 베이스 백업 파일 생성\n",
    "with conn:\n",
    "    with open('backup.sql', 'w') as f:\n",
    "        for line in conn.iterdump():\n",
    "            f.write('%s\\n' % line)\n",
    "        print('Completed.')"
   ]
  },
  {
   "cell_type": "code",
   "execution_count": 7,
   "metadata": {
    "pycharm": {
     "name": "#%%\n"
    }
   },
   "outputs": [],
   "source": [
    "# 테이블 삭제\n",
    "c.execute(\"DROP TABLE test\")\n",
    "conn.commit()"
   ]
  },
  {
   "cell_type": "code",
   "execution_count": 8,
   "metadata": {
    "pycharm": {
     "name": "#%%\n"
    }
   },
   "outputs": [],
   "source": [
    "# 백업 SQL 파일 로딩\n",
    "with open('backup.sql', 'r') as sql_file:\n",
    "    sql_script = sql_file.read()"
   ]
  },
  {
   "cell_type": "code",
   "execution_count": 9,
   "metadata": {
    "pycharm": {
     "name": "#%%\n"
    }
   },
   "outputs": [
    {
     "data": {
      "text/plain": [
       "'BEGIN TRANSACTION;\\nCREATE TABLE test (ID INTEGER PRIMARY KEY, PRODUCT_NAME TEXT, PRICE INTEGER);\\nINSERT INTO \"test\" VALUES(1,\\'모자\\',15000);\\nINSERT INTO \"test\" VALUES(2,\\'코트\\',200000);\\nINSERT INTO \"test\" VALUES(3,\\'티셔츠\\',20000);\\nINSERT INTO \"test\" VALUES(4,\\'블라우스\\',55000);\\nINSERT INTO \"test\" VALUES(5,\\'가디건\\',45000);\\nINSERT INTO \"test\" VALUES(6,\\'청바지\\',50000);\\nINSERT INTO \"test\" VALUES(7,\\'구두\\',150000);\\nINSERT INTO \"test\" VALUES(8,\\'가방\\',170000);\\nCOMMIT;\\n'"
      ]
     },
     "execution_count": 9,
     "metadata": {},
     "output_type": "execute_result"
    }
   ],
   "source": [
    "sql_script"
   ]
  },
  {
   "cell_type": "code",
   "execution_count": 10,
   "metadata": {
    "pycharm": {
     "name": "#%%\n"
    }
   },
   "outputs": [],
   "source": [
    "# SQL 스크립트 실행\n",
    "c.executescript(sql_script)\n",
    "conn.commit()"
   ]
  },
  {
   "cell_type": "code",
   "execution_count": null,
   "metadata": {
    "pycharm": {
     "name": "#%%\n"
    }
   },
   "outputs": [],
   "source": [
    "# 데이터 복원 확인"
   ]
  }
 ],
 "metadata": {
  "kernelspec": {
   "display_name": "fastcampus",
   "language": "python",
   "name": "fastcampus"
  },
  "language_info": {
   "codemirror_mode": {
    "name": "ipython",
    "version": 3
   },
   "file_extension": ".py",
   "mimetype": "text/x-python",
   "name": "python",
   "nbconvert_exporter": "python",
   "pygments_lexer": "ipython3",
   "version": "3.9.13"
  }
 },
 "nbformat": 4,
 "nbformat_minor": 4
}
