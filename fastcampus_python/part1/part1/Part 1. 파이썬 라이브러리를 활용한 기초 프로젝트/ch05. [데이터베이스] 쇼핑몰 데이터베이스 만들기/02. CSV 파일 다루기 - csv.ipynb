{
 "cells": [
  {
   "cell_type": "markdown",
   "metadata": {
    "pycharm": {
     "name": "#%% md\n"
    }
   },
   "source": [
    "# **Chapter 5. [데이터베이스] 쇼핑몰 데이터베이스 만들기**\n",
    "\n",
    "\n",
    "---\n",
    "### 📝 **학습 목차**\n",
    "> 5-1. 프로젝트 개요 <br>\n",
    "> **5-2. csv 파일 다루기 - csv** <br>\n",
    "> 5-3. 데이터 베이스 연결 - sqlight3 <br>\n",
    "> 5-4. 데이터 불러오기, 조회하기 - fetchone, fetchall <br>\n",
    "> 5-5. 데이터 삽입, 수정, 삭제 <br>\n",
    "> 5-6. 데이터 백업하기 - iterdump <br>\n",
    "> 5-7. 프로젝트 실습"
   ]
  },
  {
   "cell_type": "markdown",
   "metadata": {
    "pycharm": {
     "name": "#%% md\n"
    }
   },
   "source": [
    "## 5-2. csv 파일 다루기"
   ]
  },
  {
   "cell_type": "markdown",
   "metadata": {
    "pycharm": {
     "name": "#%% md\n"
    }
   },
   "source": [
    "> ### csv 파일\n",
    "> - comma-separated values 의 줄임말로 몇 가지 필드를 **쉼표(,)로 구분한 텍스트 데이터 및 텍스트 파일**\n",
    "> - 열과 행 구조로 이루어져 있는 대표적인 `정형 데이터` 형태입니다.\n",
    "> - csv 파일을 **데이터 베이스 프로그램**에 바로 import 해서 **테이블로 사용**이 가능\n",
    "> - 실제 상품 수, 데이터 수가 매우 많을 때 csv 를 자주 활용"
   ]
  },
  {
   "cell_type": "markdown",
   "metadata": {
    "pycharm": {
     "name": "#%% md\n"
    }
   },
   "source": [
    "<img align='left' src='img/csv.png' width='700' height='700'/>"
   ]
  },
  {
   "cell_type": "markdown",
   "metadata": {
    "pycharm": {
     "name": "#%% md\n"
    }
   },
   "source": [
    "#### csv 파일 읽기"
   ]
  },
  {
   "cell_type": "code",
   "execution_count": 1,
   "metadata": {
    "pycharm": {
     "name": "#%%\n"
    }
   },
   "outputs": [],
   "source": [
    "import csv"
   ]
  },
  {
   "cell_type": "code",
   "execution_count": 2,
   "metadata": {
    "pycharm": {
     "name": "#%%\n"
    }
   },
   "outputs": [
    {
     "name": "stdout",
     "output_type": "stream",
     "text": [
      "['ID', '상품명', '가격']\n",
      "['1', '모자', '15000']\n",
      "['2', '코트', '200000']\n",
      "['3', '티셔츠', '20000']\n",
      "['4', '블라우스', '55000']\n",
      "['5', '가디건', '45000']\n",
      "['6', '청바지', '50000']\n",
      "['7', '구두', '150000']\n",
      "['8', '가방', '170000']\n"
     ]
    }
   ],
   "source": [
    "result = []\n",
    "with open('product_list.csv', 'r', encoding='euc-kr') as f:\n",
    "    reader = csv.reader(f)\n",
    "    for line in reader:\n",
    "        result.append(line)\n",
    "        print(line)"
   ]
  },
  {
   "cell_type": "markdown",
   "metadata": {
    "pycharm": {
     "name": "#%% md\n"
    }
   },
   "source": [
    "#### csv 파일 수정"
   ]
  },
  {
   "cell_type": "code",
   "execution_count": null,
   "metadata": {
    "pycharm": {
     "name": "#%%\n"
    }
   },
   "outputs": [],
   "source": [
    "# 방법 1\n",
    "with open('product_list.csv', 'w', newline='') as f:\n",
    "    writer = csv.writer(f)\n",
    "    writer.writerows(result)                # 이전 레코드\n",
    "    writer.writerow(['9', '양말', '5000'])  # 신규 레코드"
   ]
  },
  {
   "cell_type": "code",
   "execution_count": null,
   "metadata": {
    "pycharm": {
     "name": "#%%\n"
    }
   },
   "outputs": [],
   "source": [
    "# 방법 2\n",
    "result.append(['9', '양말', '5000'])\n",
    "\n",
    "with open('product_list.csv', 'w', newline='') as f:\n",
    "    writer = csv.writer(f)\n",
    "    writer.writerows(result)"
   ]
  },
  {
   "cell_type": "code",
   "execution_count": null,
   "metadata": {
    "pycharm": {
     "name": "#%%\n"
    }
   },
   "outputs": [],
   "source": []
  }
 ],
 "metadata": {
  "kernelspec": {
   "display_name": "fastcampus",
   "language": "python",
   "name": "fastcampus"
  },
  "language_info": {
   "codemirror_mode": {
    "name": "ipython",
    "version": 3
   },
   "file_extension": ".py",
   "mimetype": "text/x-python",
   "name": "python",
   "nbconvert_exporter": "python",
   "pygments_lexer": "ipython3",
   "version": "3.9.13"
  }
 },
 "nbformat": 4,
 "nbformat_minor": 4
}
