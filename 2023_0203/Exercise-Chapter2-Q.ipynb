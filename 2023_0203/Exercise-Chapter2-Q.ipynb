{
 "cells": [
  {
   "cell_type": "markdown",
   "metadata": {},
   "source": [
    "## Chapter 2."
   ]
  },
  {
   "cell_type": "markdown",
   "metadata": {},
   "source": [
    "### Q0 (https://www.acmicpc.net/problem/10871)\n",
    "\n",
    "### 정수 N개로 이루어진 수열 A와 정수 X가 주어진다. 이때, A에서 X보다 작은 수를 모두 출력하는 프로그램을 작성하시오.\n",
    "### 입력\n",
    "- 첫째 줄에 N과 X가 주어진다. (1 ≤ N, X ≤ 10,000)\n",
    "- 둘째 줄에 수열 A를 이루는 정수 N개가 주어진다. 주어지는 정수는 모두 1보다 크거나 같고, 10,000보다 작거나 같은 정수이다.\n",
    "### 출력\n",
    "- X보다 작은 수를 입력받은 순서대로 공백으로 구분해 출력한다. X보다 작은 수는 적어도 하나 존재한다.\n",
    "### 예제 입력 1\n",
    "- 10 5\n",
    "- 1 10 4 9 2 3 8 5 7 6\n",
    "### 예제 출력 1\n",
    "- 1 4 2 3"
   ]
  },
  {
   "cell_type": "code",
   "execution_count": null,
   "metadata": {},
   "outputs": [],
   "source": [
    "# Q0 Answer template\n",
    "\n",
    "N, X = map(int, input().split())  # N, X 를 입력받음\n",
    "\n",
    "data = list(map(int, input().split())) # 리스트를 입력받음\n",
    "\n",
    "answer = []\n",
    "print(answer)"
   ]
  },
  {
   "cell_type": "code",
   "execution_count": null,
   "metadata": {},
   "outputs": [],
   "source": []
  },
  {
   "cell_type": "markdown",
   "metadata": {},
   "source": [
    "### Q1 (https://programmers.co.kr/learn/courses/30/lessons/77484)\n",
    "### 로또 6/45(이하 '로또'로 표기)는 1부터 45까지의 숫자 중 6개를 찍어서 맞히는 대표적인 복권입니다. 아래는 로또의 순위를 정하는 방식입니다. \n",
    "\n",
    "|순위\t| 당첨  내용\n",
    "|----|---------\n",
    "| 1\t | 6개 번호가 모두 일치\n",
    "| 2\t | 5개 번호가 일치\n",
    "| 3\t | 4개 번호가 일치\n",
    "| 4\t | 3개 번호가 일치\n",
    "| 5\t | 2개 번호가 일치\n",
    "| 6  | (낙첨)\t그 외\n",
    "\n",
    "### 로또를 구매한 민우는 당첨 번호 발표일을 학수고대하고 있었습니다. 하지만, 민우의 동생이 로또에 낙서를 하여, 일부 번호를 알아볼 수 없게 되었습니다. 당첨 번호 발표 후, 민우는 자신이 구매했던 로또로 당첨이 가능했던 최고 순위와 최저 순위를 알아보고 싶어 졌습니다. 알아볼 수 없는 번호를 0으로 표기하기로 하고, 민우가 구매한 로또 번호 6개가 44, 1, 0, 0, 31 25라고 가정해보겠습니다. 당첨 번호 6개가 31, 10, 45, 1, 6, 19라면, 당첨 가능한 최고 순위와 최저 순위의 한 예는 아래와 같습니다.\n",
    "\n",
    "| 당첨 번호\t    | 31 10 45 1 6 19\t| 결과\n",
    "|-------------|-------------------|-----------------\n",
    "| 최고 순위 번호 | 31\t0→10 44\t1 0→6 25 | 4개 번호 일치, 3등\n",
    "| 최저 순위 번호 | 31\t0→11 44\t1 0→7 25 | 2개 번호 일치, 5등\n",
    "\n",
    "- 순서와 상관없이, 구매한 로또에 당첨 번호와 일치하는 번호가 있으면 맞힌 걸로 인정됩니다.\n",
    "- 알아볼 수 없는 두 개의 번호를 각각 10, 6이라고 가정하면 3등에 당첨될 수 있습니다.\n",
    "- 3등을 만드는 다른 방법들도 존재합니다. 하지만, 2등 이상으로 만드는 것은 불가능합니다.\n",
    "- 알아볼 수 없는 두 개의 번호를 각각 11, 7이라고 가정하면 5등에 당첨될 수 있습니다.\n",
    "- 5등을 만드는 다른 방법들도 존재합니다. 하지만, 6등(낙첨)으로 만드는 것은 불가능합니다.\n",
    "\n",
    "### 민우가 구매한 로또 번호를 담은 배열 lottos, 당첨 번호를 담은 배열 win_nums가 매개변수로 주어집니다. 이때, 당첨 가능한 최고 순위와 최저 순위를 차례대로 배열에 담아서 return 하도록 solution 함수를 완성해주세요.\n",
    "\n",
    "### 제한사항\n",
    "- lottos는 길이 6인 정수 배열입니다.\n",
    "- lottos의 모든 원소는 0 이상 45 이하인 정수입니다.\n",
    "- 0은 알아볼 수 없는 숫자를 의미합니다.\n",
    "- 0을 제외한 다른 숫자들은 lottos에 2개 이상 담겨있지 않습니다.\n",
    "- lottos의 원소들은 정렬되어 있지 않을 수도 있습니다.\n",
    "- win_nums은 길이 6인 정수 배열입니다.\n",
    "- win_nums의 모든 원소는 1 이상 45 이하인 정수입니다.\n",
    "- win_nums에는 같은 숫자가 2개 이상 담겨있지 않습니다.\n",
    "- win_nums의 원소들은 정렬되어 있지 않을 수도 있습니다.\n",
    "\n",
    "### 입출력 예\n",
    "| lottos\t| win_nums\t| result\n",
    "|-----------|-----------|--------------\n",
    "|[44, 1, 0, 0, 31, 25]|\t[31, 10, 45, 1, 6, 19]|\t[3, 5]\n",
    "|[0, 0, 0, 0, 0, 0]\t|[38, 19, 20, 40, 15, 25]\t|[1, 6]\n",
    "|[45, 4, 35, 20, 3, 9]\t|[20, 9, 3, 45, 4, 35]\t|[1, 1]\n",
    "\n"
   ]
  },
  {
   "cell_type": "code",
   "execution_count": 1,
   "metadata": {},
   "outputs": [
    {
     "name": "stdout",
     "output_type": "stream",
     "text": [
      "[]\n"
     ]
    }
   ],
   "source": [
    "# Q1 Answer template\n",
    "\n",
    "def solution(lottos, win_nums):\n",
    "    answer = []\n",
    "    return answer\n",
    "\n",
    "lottos = [44, 1, 0, 0, 31, 25]\n",
    "win_nums = [31, 10, 45, 1, 6, 19]\n",
    "answer = solution(lottos, win_nums)\n",
    "print(answer)"
   ]
  },
  {
   "cell_type": "code",
   "execution_count": null,
   "metadata": {},
   "outputs": [],
   "source": []
  },
  {
   "cell_type": "markdown",
   "metadata": {},
   "source": [
    "### Q2 (https://programmers.co.kr/learn/courses/30/lessons/86051)\n",
    "\n",
    "### 0부터 9까지의 숫자 중 일부가 들어있는 배열 numbers가 매개변수로 주어집니다. numbers에서 찾을 수 없는 0부터 9까지의 숫자를 모두 찾아 더한 수를 return 하도록 solution 함수를 완성해주세요.\n",
    "\n",
    "- 제한사항\n",
    "- 1 ≤ numbers의 길이 ≤ 9\n",
    "- 0 ≤ numbers의 모든 수 ≤ 9\n",
    "- numbers의 모든 수는 서로 다릅니다.\n",
    "\n",
    "### 입출력 예\n",
    "\n",
    "|numbers|result\n",
    "|-------|-------\n",
    "|[1,2,3,4,6,7,8,0]|14\n",
    "|[5,8,4,0,6,7,9]|6"
   ]
  },
  {
   "cell_type": "code",
   "execution_count": null,
   "metadata": {},
   "outputs": [],
   "source": [
    "# Q2 Answer template\n",
    "\n",
    "def solution(numbers):\n",
    "    answer = -1\n",
    "    return answer\n",
    "\n",
    "numbers = [1,2,3,4,6,7,8,0]\n",
    "answer = solution(numbers)\n",
    "print(answer)"
   ]
  },
  {
   "cell_type": "code",
   "execution_count": null,
   "metadata": {},
   "outputs": [],
   "source": []
  },
  {
   "cell_type": "markdown",
   "metadata": {},
   "source": [
    "### Q3 (programmers)\n",
    "\n",
    "### 컴퓨터 매장에는 n개의 부품이 있으며, 부품마다 정수 형태의 고유한 번호가 있다. 어느 날 손님이 m개 종류의 부품을 대량으로 구매하겠다며 부품의 재고유무를 문의하였다. 매장에 부품 재고가 있는지 확인하는 프로그램을 작성하라. \n",
    "\n",
    "### 매장이 가지고 있는 부품 리스트와 고객이 확인하고자 하는 부품 리스트를 입력받는다. 고객이 요청한 부품 번호의 순서대로 부품을 확인해 부품이 있으면 yes, 없으면 no를 출력한다. \n",
    "\n",
    "### 제한사항\n",
    "- 부품 재고의 갯수는 고려하지 않으며 부품이 있는지 여부만 체크한다\n",
    "- 부품 리스트 길이(n, m)는 1이상, 15이하입니다.\n",
    "- 매장 보유 부품 번호는 오름차순으로 정렬된 형태로 입력한다.\n",
    "- 부품 리스트의 원소는 100 이하인 자연수입니다.\n",
    "\n",
    "\n",
    "### 입출력 예\n",
    "|store | customer | answer\n",
    "|------|----------|-------\n",
    "|[2,3,7,8,9]|[7,5,9]|['yes', 'no', 'yes']\n",
    "|[1,2,3,7,8]|[1,5,8,4,6]|['yes', 'no', 'yes', 'no', 'no']\n"
   ]
  },
  {
   "cell_type": "code",
   "execution_count": null,
   "metadata": {},
   "outputs": [],
   "source": [
    "# Q3 answer template\n",
    "\n",
    "def solution(store, customer):\n",
    "    answer = []\n",
    "    return answer\n",
    "\n",
    "store = [2,3,7,8,9]\n",
    "customer = [7,5,9]\n",
    "answer = solution(store, customer)\n",
    "print(answer)"
   ]
  },
  {
   "cell_type": "code",
   "execution_count": null,
   "metadata": {},
   "outputs": [],
   "source": []
  },
  {
   "cell_type": "markdown",
   "metadata": {},
   "source": [
    "### Q4 \n",
    "\n",
    "### 두 수의 최소공배수(Least Common Multiple)란 입력된 두 수의 배수 중 공통이 되는 가장 작은 숫자를 의미합니다. 예를 들어 2와 7의 최소공배수는 14가 됩니다. 정의를 확장해서, n개의 수의 최소공배수는 n 개의 수들의 배수 중 공통이 되는 가장 작은 숫자가 됩니다. n개의 숫자를 담은 배열 arr이 입력되었을 때 이 수들의 최소공배수를 반환하는 함수, solution을 완성해 주세요.\n",
    "\n",
    "### 제한 사항\n",
    "- arr은 길이 1이상, 15이하인 리스트입니다.\n",
    "- arr의 원소는 100 이하인 자연수입니다.\n",
    "\n",
    "### 입출력 예\n",
    "|arr\t| result\n",
    "|-------|-------\n",
    "|[2,6,8,14]\t|168\n",
    "|[1,2,3]\t|6"
   ]
  },
  {
   "cell_type": "code",
   "execution_count": 14,
   "metadata": {},
   "outputs": [
    {
     "name": "stdout",
     "output_type": "stream",
     "text": [
      "0\n"
     ]
    }
   ],
   "source": [
    "# Q4 Answer Template\n",
    "\n",
    "def solution(arr):\n",
    "    answer = 0\n",
    "    return answer\n",
    "\n",
    "arr = [None]*15\n",
    "arr = [2,6,8,14]\n",
    "answer = solution(arr)\n",
    "print(answer)"
   ]
  },
  {
   "cell_type": "code",
   "execution_count": null,
   "metadata": {},
   "outputs": [],
   "source": []
  },
  {
   "cell_type": "markdown",
   "metadata": {},
   "source": [
    "### Q5 \n",
    "\n",
    "### 자연수 2 개로 이루어진 중복 집합(multi set, 편의상 이후에는 \"집합\"으로 통칭) 중에 다음 두 조건을 만족하는 집합을 최고의 집합이라고 합니다.\n",
    "\n",
    "- 각 원소의 합이 S가 되는 수의 집합\n",
    "- 위 조건을 만족하면서 각 원소의 곱 이 최대가 되는 집합\n",
    "\n",
    "### 예를 들어서 자연수 2개로 이루어진 집합 중 합이 9가 되는 집합은 다음과 같이 4개가 있습니다.\n",
    "- { 1, 8 }, { 2, 7 }, { 3, 6 }, { 4, 5 }\n",
    "### 그중 각 원소의 곱이 최대인 { 4, 5 }가 최고의 집합입니다.\n",
    "\n",
    "### 집합의 원소의 개수 n(=2)과 모든 원소들의 합 s가 매개변수로 주어질 때, 최고의 집합을 return 하는 solution 함수를 완성해주세요.\n",
    "\n",
    "### 제한사항\n",
    "- 최고의 집합은 오름차순으로 정렬된 1차원 배열(list, vector) 로 return 해주세요.\n",
    "- 만약 최고의 집합이 존재하지 않는 경우에 크기가 1인 1차원 배열(list, vector) 에 -1 을 채워서 return 해주세요.\n",
    "- 자연수의 개수 n은 2 입니다.\n",
    "- 모든 원소들의 합 s는 1 이상, 100,000,000 이하의 자연수입니다.\n",
    "\n",
    "### 입출력 예\n",
    "|n\t|s\t|result\n",
    "|---|---|---\n",
    "|2\t|9\t|[4, 5]\n",
    "|2\t|1\t|[-1]\n",
    "|2\t|8\t|[4, 4]"
   ]
  },
  {
   "cell_type": "code",
   "execution_count": 47,
   "metadata": {},
   "outputs": [
    {
     "name": "stdout",
     "output_type": "stream",
     "text": [
      "[]\n"
     ]
    }
   ],
   "source": [
    "# Q5 Answer template\n",
    "def solution(n, s):\n",
    "    answer = []\n",
    "    return answer\n",
    "\n",
    "n = 2\n",
    "s = 9\n",
    "answer = solution(n, s)\n",
    "print(answer)"
   ]
  },
  {
   "cell_type": "code",
   "execution_count": null,
   "metadata": {},
   "outputs": [],
   "source": []
  },
  {
   "cell_type": "markdown",
   "metadata": {},
   "source": [
    "### Q6 (https://programmers.co.kr/learn/courses/30/lessons/12935)\n",
    "\n",
    "### 정수를 저장한 배열, arr 에서 가장 작은 수를 제거한 배열을 리턴하는 함수, solution을 완성해주세요. 단, 리턴하려는 배열이 빈 배열인 경우엔 배열에 -1을 채워 리턴하세요. 예를들어 arr이 [4,3,2,1]인 경우는 [4,3,2]를 리턴 하고, [10]면 [-1]을 리턴 합니다.\n",
    "\n",
    "### 제한 조건\n",
    "- arr은 길이 1 이상인 배열입니다.\n",
    "- 인덱스 i, j에 대해 i ≠ j이면 arr[i] ≠ arr[j] 입니다.\n",
    "\n",
    "### 입출력 예\n",
    "|arr |return\n",
    "|----|----\n",
    "|[4,3,2,1] |[4,3,2]\n",
    "|[10] |[-1]\n",
    "\n",
    "\n",
    "### 리스트에서 원소 제거 함수\n",
    "- a.pop(0) : 0번 인덱스의 원소가 제거됨\n",
    "- a.remove(10) : 10 값을 가진 원소가 제거됨, 10이라는 값이 여러개라면 맨 처음에 있는 것만 제거됨"
   ]
  },
  {
   "cell_type": "code",
   "execution_count": null,
   "metadata": {},
   "outputs": [],
   "source": [
    "# Q6 Answer template\n",
    "\n",
    "def solution(arr):\n",
    "        \n",
    "    return arr\n",
    "\n",
    "arr = [4, 3, 2, 1]\n",
    "answer = solution(arr)\n",
    "print(answer)"
   ]
  },
  {
   "cell_type": "code",
   "execution_count": null,
   "metadata": {},
   "outputs": [],
   "source": []
  },
  {
   "cell_type": "markdown",
   "metadata": {},
   "source": [
    "### Q7 (https://programmers.co.kr/learn/courses/30/lessons/12906)\n",
    "\n",
    "### 배열 arr가 주어집니다. 배열 arr의 각 원소는 숫자 0부터 9까지로 이루어져 있습니다. 이때, 배열 arr에서 연속적으로 나타나는 숫자는 하나만 남기고 전부 제거하려고 합니다. 단, 제거된 후 남은 수들을 반환할 때는 배열 arr의 원소들의 순서를 유지해야 합니다. 예를 들면,\n",
    "\n",
    "- arr = [1, 1, 3, 3, 0, 1, 1] 이면 [1, 3, 0, 1] 을 return 합니다.\n",
    "- arr = [4, 4, 4, 3, 3] 이면 [4, 3] 을 return 합니다.\n",
    "\n",
    "### 배열 arr에서 연속적으로 나타나는 숫자는 제거하고 남은 수들을 return 하는 solution 함수를 완성해 주세요.\n",
    "\n",
    "### 제한사항\n",
    "- 배열 arr의 크기 : 1,000,000 이하의 자연수\n",
    "- 배열 arr의 원소의 크기 : 0보다 크거나 같고 9보다 작거나 같은 정수\n",
    "\n",
    "### 입출력 예\n",
    "|arr |answer\n",
    "|----|------\n",
    "|[1,1,3,3,0,1,1] |[1,3,0,1]\n",
    "|[4,4,4,3,3]     |[4,3]\n",
    "\n",
    "### 입출력 예 설명\n",
    "- 입출력 예 #1,2\n",
    "- 문제의 예시와 같습니다."
   ]
  },
  {
   "cell_type": "code",
   "execution_count": null,
   "metadata": {},
   "outputs": [],
   "source": [
    "# Q7 Answer Template\n",
    "\n",
    "def solution(arr):\n",
    "    answer = []\n",
    "\n",
    "    return answer\n",
    "\n",
    "arr = [1,1,3,3,0,1,1]\n",
    "#arr = [4,4,4,3,3]\n",
    "answer = solution(arr)\n",
    "print(answer)"
   ]
  },
  {
   "cell_type": "code",
   "execution_count": null,
   "metadata": {},
   "outputs": [],
   "source": [
    "def solution(arr):\n",
    "    answer = []\n",
    "\n",
    "    return answer\n",
    "\n",
    "arr = [1,1,3,3,0,1,1]\n",
    "#arr = [4,4,4,3,3]\n",
    "answer = solution(arr)\n",
    "print(answer)"
   ]
  }
 ],
 "metadata": {
  "kernelspec": {
   "display_name": "Python 3 (ipykernel)",
   "language": "python",
   "name": "python3"
  },
  "language_info": {
   "codemirror_mode": {
    "name": "ipython",
    "version": 3
   },
   "file_extension": ".py",
   "mimetype": "text/x-python",
   "name": "python",
   "nbconvert_exporter": "python",
   "pygments_lexer": "ipython3",
   "version": "3.9.12"
  }
 },
 "nbformat": 4,
 "nbformat_minor": 4
}
