{
 "cells": [
  {
   "cell_type": "markdown",
   "metadata": {
    "id": "5IoJ2vklaz_K"
   },
   "source": [
    "<img src='https://blog.kakaocdn.net/dn/zy1Or/btqM39h0uLB/fHnntePsHiwAIFStdqGsLk/img.png' width=300 align=\"left\"/>"
   ]
  },
  {
   "cell_type": "markdown",
   "metadata": {
    "id": "BFhIXgdYoYGp"
   },
   "source": [
    "# 02 - 판다스 데이터프레임 생성"
   ]
  },
  {
   "cell_type": "markdown",
   "metadata": {
    "id": "eYB1ZQpI7_sC"
   },
   "source": [
    "## 1.데이터프레임 생성"
   ]
  },
  {
   "cell_type": "markdown",
   "metadata": {
    "id": "qbRryf889VCF"
   },
   "source": [
    "### (1) 데이터프레임 이해"
   ]
  },
  {
   "cell_type": "markdown",
   "metadata": {
    "id": "gu7wwR069iwY"
   },
   "source": [
    "#### 1) 데이터프레임이란\n",
    "\n",
    "\n",
    "- Pandas 사용 목적이 데이터프레임을 사용하기 위한 목적으로 봐도 됩니다.\n",
    "- 데이터를 처리, 조회, 분석하는 가장 효율적인 방법이 데이터프레임을 사용하는 것입니다.\n",
    "- 일반적으로 접하게 되는 **테이블** 형태, **엑셀** 형태로 생각하시면 됩니다.\n",
    "- 직접 만들 수 있으나 보통은 **csv 파일**, **엑셀 파일** 또는 DB에서 읽어옵니다."
   ]
  },
  {
   "cell_type": "markdown",
   "metadata": {
    "id": "VNBn3rh_7_sH"
   },
   "source": [
    "<img src='https://raw.githubusercontent.com/Jangrae/img/master/dataframe_sample.png' width=800 align=\"left\"/>"
   ]
  },
  {
   "cell_type": "markdown",
   "metadata": {
    "id": "9l6NOVnS9rZW"
   },
   "source": [
    "#### 2) 데이터프레임 형태\n",
    "\n",
    "- 데이터프레임은 **인덱스(=행 이름)**와 **열 이름**이 있고 없고에 따라 다른 형태를 갖습니다.\n",
    "- 인덱스란 행을 지정할 때 사용하는 정보이고, 열 이름은 열을 지정할 때 사용하는 정보입니다."
   ]
  },
  {
   "cell_type": "markdown",
   "metadata": {
    "id": "zYkod1OZ-KDD"
   },
   "source": [
    "<img src='https://raw.githubusercontent.com/Jangrae/img/master/dataframe05.png' width=450 align=\"left\"/>"
   ]
  },
  {
   "cell_type": "markdown",
   "metadata": {
    "id": "o3tnJLJn_E0R"
   },
   "source": [
    "**① 인덱스와 열 이름이 없는 형태**\n",
    "\n",
    "- 우선 인덱스와 열 이름이 없는 데이터프레임 형태입니다.\n",
    "- 열 이름이 없는 데이터프레임은 실무에서는 자주 볼 수 없을 것입니다."
   ]
  },
  {
   "cell_type": "markdown",
   "metadata": {
    "id": "y0YXQ9HX-pQe"
   },
   "source": [
    "<img src='https://raw.githubusercontent.com/Jangrae/img/master/dataframe01.png' width=380 align=\"left\"/>"
   ]
  },
  {
   "cell_type": "markdown",
   "metadata": {
    "id": "IeTHxeOH_Lmy"
   },
   "source": [
    "**② 열 이름을 지정한 형태**\n",
    "\n",
    "- 열 이름만 지정한 데이터프레임 형태입니다.\n",
    "- 특별히 인덱스를 지정할 필요가 없는 경우가 많으므로 자주 보게 되는 형태입니다."
   ]
  },
  {
   "cell_type": "markdown",
   "metadata": {
    "id": "mgNuAxJT-wGE"
   },
   "source": [
    "<img src='https://raw.githubusercontent.com/Jangrae/img/master/dataframe02.png' width=380 align=\"left\"/>"
   ]
  },
  {
   "cell_type": "markdown",
   "metadata": {
    "id": "hOCC_U1w_Qnc"
   },
   "source": [
    "**③ 인덱스와 열 이름을 지정한 형태**\n",
    "\n",
    "- 인덱스와 열 이름 모두를 지정한 데이터프레임 형태입니다.\n",
    "- 대부분 주식 시세와 같은 날짜가 인덱스로 지정되는 경우입니다."
   ]
  },
  {
   "cell_type": "markdown",
   "metadata": {
    "id": "uq7TmduU-x5i"
   },
   "source": [
    "<img src='https://raw.githubusercontent.com/Jangrae/img/master/dataframe03.png' width=350 align=\"left\"/>"
   ]
  },
  {
   "cell_type": "markdown",
   "metadata": {
    "id": "ETVUejBgIJNL"
   },
   "source": [
    "### (2) 데이터프레임 직접 만들기\n",
    "\n",
    "- **pd.DataFrame()** 함수를 사용해 데이터프레임을 직접 만들 수 있습니다.\n",
    "- 대부분 리스트, 딕셔너리, Numpy 배열로부터 데이터프레임을 만듭니다.\n",
    "- 데이터프레임을 만들기 위해서는 다음 세 가지를 위한 데이터가 필요합니다.\n",
    "    - 데이터\n",
    "    - 열 이름\n",
    "    - 인덱스 이름\n",
    "- 열 이름을 지정하지 않으면 **열 번호**에 기반한 정수(0, 1, 2...)가 열 이름이 됩니다.\n",
    "- 인덱스 이름을 지정하지 않으면 **행 번호**에 기반한 정수(0, 1, 2...)가 인덱스 이름이 됩니다."
   ]
  },
  {
   "cell_type": "markdown",
   "metadata": {
    "id": "U9WxY1vaGooz"
   },
   "source": [
    "#### 1) 라이브러리 불러오기\n",
    "\n",
    "- 데이터프레임을 사용하기 위해서 pandas 라이브러리를 pd 별칭을 주어 불러옵니다."
   ]
  },
  {
   "cell_type": "code",
   "execution_count": null,
   "metadata": {
    "id": "iyOaNXcnOW6J"
   },
   "outputs": [],
   "source": [
    "# 라이브러리 불러오기\n",
    "import pandas as pd"
   ]
  },
  {
   "cell_type": "markdown",
   "metadata": {
    "id": "OAikNLPcIJNm"
   },
   "source": [
    "#### 2) 딕셔너리로 만들기\n",
    "\n",
    "- 딕셔너리로 데이터프레임을 만들면 딕셔너리의 **키**가 **열 이름**이 됩니다.\n",
    "- 인덱스를 지정하지 않으면 행 번호가 인덱스가 됩니다."
   ]
  },
  {
   "cell_type": "code",
   "execution_count": null,
   "metadata": {
    "id": "6LkPm72OYnVU"
   },
   "outputs": [],
   "source": [
    "# 딕셔너리 만들기\n",
    "dict = {'Name': ['Gildong', 'Sarang', 'Jiemae', 'Yeoin'],\n",
    "        'Level': ['Gold', 'Bronze', 'Silver', 'Gold'],\n",
    "        'Score': [56000, 23000, 44000, 52000]}\n",
    "\n",
    "# 확인\n",
    "print(dict)"
   ]
  },
  {
   "cell_type": "code",
   "execution_count": null,
   "metadata": {
    "id": "zxpku5yMOW6u",
    "scrolled": true
   },
   "outputs": [],
   "source": [
    "# 데이터프레임 만들기\n",
    "df = pd.DataFrame(dict)\n",
    "\n",
    "# 확인\n",
    "print(df.head())"
   ]
  },
  {
   "cell_type": "markdown",
   "metadata": {
    "id": "zGDF1AkjIJOX"
   },
   "source": [
    "### (3) CSV파일 읽어오기\n",
    "\n",
    "- 분석용 데이터는 대부분 파일에서 읽어 가져오니 잘 익혀야 할 기능입니다.\n",
    "- **read_csv()** 함수를 사용해서 CSV 파일에서 데이터를 읽어옵니다."
   ]
  },
  {
   "cell_type": "markdown",
   "metadata": {
    "id": "kLE39uPLNIEk"
   },
   "source": [
    "**[titanic_simple 데이터 셋 정보]**\n",
    "\n",
    "- PassengerId : 승객번호\n",
    "- Survived : 생존여부(1:생존, 0:사망)\n",
    "- Pclass : 객실등급(1:1등급, 2:2등급, 3:3등급)\n",
    "- Name : 승객이름\n",
    "- Sex : 성별(male, female)\n",
    "- Age : 나이\n",
    "- Fare : 운임($)\n",
    "- Embarked : 승선지역(Southhampton, Cherbourg, Queenstown)"
   ]
  },
  {
   "cell_type": "markdown",
   "metadata": {
    "id": "p7K2qenuv0At"
   },
   "source": [
    "#### 1) csv 파일로 부터 가져오기\n",
    "제공된 파일을 home 경로에 붙여 넣고 불러오기"
   ]
  },
  {
   "cell_type": "code",
   "execution_count": null,
   "metadata": {
    "id": "48SLi0nsv-rh"
   },
   "outputs": [],
   "source": [
    "# 데이터 읽어오기\n",
    "data = pd.read_csv('airquality_simple.csv')  \n",
    "\n",
    "# 상위 10행만 확인\n",
    "data.head(10)"
   ]
  },
  {
   "cell_type": "markdown",
   "metadata": {
    "id": "wLh-q5jHvwr5"
   },
   "source": [
    "#### 2) url로 가져오기"
   ]
  },
  {
   "cell_type": "code",
   "execution_count": null,
   "metadata": {
    "id": "DIY8NYXGIJOZ"
   },
   "outputs": [],
   "source": [
    "# 데이터 읽어오기\n",
    "path = 'https://raw.githubusercontent.com/DA4BAM/dataset/master/titanic_simple.csv'\n",
    "data = pd.read_csv(path)  \n",
    "\n",
    "# 상위 10행만 확인\n",
    "data.head(10)"
   ]
  },
  {
   "cell_type": "markdown",
   "metadata": {
    "id": "xSWBmU_Yeu5A"
   },
   "source": [
    "<img src='https://raw.githubusercontent.com/jangrae/img/master/practice_01.png' width=120 align=\"left\"/>"
   ]
  },
  {
   "cell_type": "markdown",
   "metadata": {
    "id": "5eXsOBxDqcoP"
   },
   "source": [
    "[문1] 아래 주어진 경로의 파일에서 데이터를 읽어와 데이터프레임 temp 만들어 보세요.\n",
    "\n",
    "- 파일 경로: 'https://raw.githubusercontent.com/DA4BAM/dataset/master/Attrition_simple2.CSV'"
   ]
  },
  {
   "cell_type": "markdown",
   "metadata": {
    "id": "B82nlgQ8qDOU"
   },
   "source": [
    "**[Attrition 데이터 셋 정보]**\n",
    "\n",
    "|\t구분\t|\t변수 명\t|\t내용\t|\ttype\t|\t비고\t|\n",
    "|\t----\t|\t----\t|\t----\t|\t----\t|\t----\t|\n",
    "|\t**Target**\t|\t**Attrition**\t|\t이직여부, Yes , No\t|\t범주\t| 1- 이직, 0- 잔류\t\t|\n",
    "|\tfeature\t|\tAge\t|\t나이\t|\t숫자\t|\t\t|\n",
    "|\tfeature\t|\tDistanceFromHome\t|\t집-직장 거리\t|\t숫자\t|\t마일\t|\n",
    "|\tfeature\t|\tEmployNumber\t|\t사번\t|\t숫자\t| \t|\n",
    "|\tfeature\t|\tGender\t|\t성별\t|\t범주\t| Male, Female\t\t|\n",
    "|\tfeature\t|\tJobSatisfaction\t|\t직무 만족도\t|\t범주\t|\t1 Low, 2 Medium, 3 High, 4 Very High\t|\n",
    "|\tfeature\t|\tMaritalStatus\t|\t결혼상태\t|\t범주\t| Single, Married, Divorced\t\t|\n",
    "|\tfeature\t|\tMonthlyIncome\t|\t월급\t|\t숫자\t| 달러\t|\n",
    "|\tfeature\t|\tOverTime\t|\t야근여부\t|\t범주\t|\tYes, No\t|\n",
    "|\tfeature\t|\tPercentSalaryHike\t|\t전년대비 급여인상율\t|\t숫자\t|\t%\t|\n",
    "|\tfeature\t|\tTotalWorkingYears\t|\t총 경력 연수\t|\t숫자\t|\t\t|"
   ]
  },
  {
   "cell_type": "code",
   "execution_count": null,
   "metadata": {
    "id": "Oa9sLGQ8IJOb"
   },
   "outputs": [],
   "source": [
    "# 데이터 읽어오기\n",
    "\n",
    "\n",
    "# 상위 5개 확인\n"
   ]
  },
  {
   "cell_type": "markdown",
   "metadata": {
    "id": "tOyrWxhgwrFj"
   },
   "source": [
    "[문2] csv file로부터 읽어옵시다.\n",
    "\n",
    "- 파일 이름 : 'airquality_simple.csv'\n",
    "- 파일을 home directory로 복사해 넣고 읽어 옵니다."
   ]
  },
  {
   "cell_type": "markdown",
   "metadata": {
    "id": "kGWU7XQbwrFn"
   },
   "source": [
    "**[airquality_simple 데이터 셋 정보]**\n",
    "\n",
    "- Ozone : 오존농도\n",
    "- Solar.R: 태양복사열\n",
    "- Wind: 풍속\n",
    "- Temp: 기온\n",
    "- Month: 월\n",
    "- Day: 일"
   ]
  },
  {
   "cell_type": "code",
   "execution_count": null,
   "metadata": {
    "id": "M0rLa9wSwrFo"
   },
   "outputs": [],
   "source": [
    "# 데이터 읽어오기\n",
    "\n",
    "\n",
    "# 상위 5개 확인\n"
   ]
  },
  {
   "cell_type": "code",
   "execution_count": null,
   "metadata": {
    "id": "JaGGlwdwaywI"
   },
   "outputs": [],
   "source": []
  },
  {
   "cell_type": "markdown",
   "metadata": {
    "id": "-sdzPN0Uwxi2"
   },
   "source": [
    "## 2.데이터프레임 탐색\n",
    "\n",
    "- 파일에서 불러온 데이터의 크기, 내용, 분포, 누락된 값 등을 확인할 수 있어야 합니다.\n",
    "- 확인된 내용을 통해 데이터 전처리 필요 여부를 결정합니다.\n",
    "- 데이터를 알아야 데이터를 분석할 수 있습니다."
   ]
  },
  {
   "cell_type": "code",
   "execution_count": null,
   "metadata": {
    "id": "siCMN2lzSelq"
   },
   "outputs": [],
   "source": [
    "# 라이브러리 불러오기\n",
    "import pandas as pd"
   ]
  },
  {
   "cell_type": "markdown",
   "metadata": {
    "id": "RMat6uwGn9Gj"
   },
   "source": [
    "* Attrition 데이터 불러오기"
   ]
  },
  {
   "cell_type": "markdown",
   "metadata": {
    "id": "155flcV-LNEC"
   },
   "source": [
    "**[Attrition 데이터 셋 정보]**\n",
    "\n",
    "|\t구분\t|\t변수 명\t|\t내용\t|\ttype\t|\t비고\t|\n",
    "|\t----\t|\t----\t|\t----\t|\t----\t|\t----\t|\n",
    "|\t**Target**\t|\t**Attrition**\t|\t이직여부, Yes , No\t|\t범주\t| 1- 이직, 0- 잔류\t\t|\n",
    "|\tfeature\t|\tAge\t|\t나이\t|\t숫자\t|\t\t|\n",
    "|\tfeature\t|\tDistanceFromHome\t|\t집-직장 거리\t|\t숫자\t|\t마일\t|\n",
    "|\tfeature\t|\tEmployNumber\t|\t사번\t|\t숫자\t| \t|\n",
    "|\tfeature\t|\tGender\t|\t성별\t|\t범주\t| Male, Female\t\t|\n",
    "|\tfeature\t|\tJobSatisfaction\t|\t직무 만족도\t|\t범주\t|\t1 Low, 2 Medium, 3 High, 4 Very High\t|\n",
    "|\tfeature\t|\tMaritalStatus\t|\t결혼상태\t|\t범주\t| Single, Married, Divorced\t\t|\n",
    "|\tfeature\t|\tMonthlyIncome\t|\t월급\t|\t숫자\t| 달러\t|\n",
    "|\tfeature\t|\tOverTime\t|\t야근여부\t|\t범주\t|\tYes, No\t|\n",
    "|\tfeature\t|\tPercentSalaryHike\t|\t전년대비 급여인상율\t|\t숫자\t|\t%\t|\n",
    "|\tfeature\t|\tTotalWorkingYears\t|\t총 경력 연수\t|\t숫자\t|\t\t|"
   ]
  },
  {
   "cell_type": "code",
   "execution_count": null,
   "metadata": {
    "id": "Xr2UtalJtGJv"
   },
   "outputs": [],
   "source": [
    "# 데이터 읽어오기\n",
    "path = 'https://raw.githubusercontent.com/DA4BAM/dataset/master/Attrition_simple2.CSV'\n",
    "data = pd.read_csv(path)  \n",
    "\n",
    "# 상위 5개 확인\n",
    "data.head(5)"
   ]
  },
  {
   "cell_type": "markdown",
   "metadata": {
    "id": "pYIMdO6BeBaH"
   },
   "source": [
    "**[참고] 자주 사용할 만한 메서드들**\n",
    "\n",
    "- head(): 상위 데이터 확인\n",
    "- tail(): 하위 데이터 확인\n",
    "- shape: 데이터프레임 크기\n",
    "- index: 인덱스 정보 확인\n",
    "- values: 값 정보 확인\n",
    "- columns: 열 정보 확인\n",
    "- dtypes: 열 자료형 확인\n",
    "- info(): 열에 대한 상세한 정보 확인\n",
    "- describe(): 기초통계정보 확인"
   ]
  },
  {
   "cell_type": "markdown",
   "metadata": {
    "id": "ut-2PJEa3ES4"
   },
   "source": [
    "### (1) 상위, 하위 일부 데이터, 크기 확인\n",
    "\n",
    "- **head(*n*), tail(*n*)** 메소드를 사용해 앞 뒤 데이터를 확인합니다.\n",
    "- 개수를 지정하지 않으면 기본적으로 5개 행이 조회됩니다."
   ]
  },
  {
   "cell_type": "markdown",
   "metadata": {
    "id": "xifu7T7TsCYu"
   },
   "source": [
    "**1) 상위 데이터 확인**"
   ]
  },
  {
   "cell_type": "code",
   "execution_count": null,
   "metadata": {
    "id": "TVoWootyIJPU",
    "scrolled": true
   },
   "outputs": [],
   "source": [
    "# 상위 10개 행 데이터\n",
    "data.head(10)"
   ]
  },
  {
   "cell_type": "markdown",
   "metadata": {
    "id": "-vHvSJQhsFht"
   },
   "source": [
    "**2) 하위 데이터 확인**"
   ]
  },
  {
   "cell_type": "code",
   "execution_count": null,
   "metadata": {
    "id": "-Qr9hq-SsV70"
   },
   "outputs": [],
   "source": [
    "# 하위 3개 행 데이터\n",
    "data.tail(3)"
   ]
  },
  {
   "cell_type": "markdown",
   "metadata": {
    "id": "6lBnFI3xsJRR"
   },
   "source": [
    "**3) 크기 확인 .shape**\n",
    "\n",
    "- **(rows, cols)** 값을 갖는 **튜플** 형태로 확인이 가능합니다.\n",
    "- 데이터를 분석할 때 처리할 **데이터 양을 확인**하는 목적으로 많이 사용 합니다."
   ]
  },
  {
   "cell_type": "code",
   "execution_count": null,
   "metadata": {
    "id": "EYh2NhMSYnVh"
   },
   "outputs": [],
   "source": [
    "# 행 수와 열 수 확인\n",
    "data.shape"
   ]
  },
  {
   "cell_type": "markdown",
   "metadata": {
    "id": "Lf1-5iz_wxkT"
   },
   "source": [
    "### (2) 열, 행 정보 보기"
   ]
  },
  {
   "cell_type": "markdown",
   "metadata": {
    "id": "moM8H3EnmtsP"
   },
   "source": [
    "**1) 열 확인**"
   ]
  },
  {
   "cell_type": "code",
   "execution_count": null,
   "metadata": {
    "id": "YZp-NPIQYnVl"
   },
   "outputs": [],
   "source": [
    "# 열 확인\n",
    "print(data.columns)\n",
    "print(data.columns.values) # np array 형태"
   ]
  },
  {
   "cell_type": "code",
   "execution_count": null,
   "metadata": {
    "id": "7bUzLu00dyg8"
   },
   "outputs": [],
   "source": [
    "# 데이터프레임을 리스트 함수에 넣으면 열 이름이 리스트로 반환됨.\n",
    "list(data)"
   ]
  },
  {
   "cell_type": "markdown",
   "metadata": {
    "id": "03NTnomXIJPc"
   },
   "source": [
    "**2) 자료형 확인**\n",
    "- int64: 정수형 데이터(int)\n",
    "- float64: 실수형 데이터(float)\n",
    "- object: 문자열 데이터(string)"
   ]
  },
  {
   "cell_type": "code",
   "execution_count": null,
   "metadata": {
    "id": "mJbpIbz2YnVn",
    "scrolled": true
   },
   "outputs": [],
   "source": [
    "# 열 자료형 확인\n",
    "data.dtypes"
   ]
  },
  {
   "cell_type": "code",
   "execution_count": null,
   "metadata": {
    "id": "zXmD-NqbURwP",
    "scrolled": true
   },
   "outputs": [],
   "source": [
    "# 열 자료형, 값 개수 확인\n",
    "data.info()"
   ]
  },
  {
   "cell_type": "markdown",
   "metadata": {
    "id": "ZdTxUS47IJPe"
   },
   "source": [
    "**3) 기초통계정보 확인**\n",
    "\n",
    "- describe() 메소드는 데이터에 대한 많은 정보를 제공하는 매우 중요한 메소드입니다.\n",
    "- 데이터분석과정에서 자세히 살펴볼 예정이므로 여기서는 **가볍게 실행만** 해봅니다.\n",
    "- 개수(count), 평균(mean), 표준편차(std), 최솟값(min), 사분위값(25%, 50%, 75%), 최댓값(max)을 표시합니다."
   ]
  },
  {
   "cell_type": "code",
   "execution_count": null,
   "metadata": {
    "id": "8Z8rhBNBYnVw",
    "scrolled": true
   },
   "outputs": [],
   "source": [
    "# 기초통계정보\n",
    "data.describe()"
   ]
  },
  {
   "cell_type": "markdown",
   "metadata": {
    "id": "aKbf5zyz9Kuc"
   },
   "source": [
    "- 일부 열에 대해서만 기초통계정보를 확인할 수 있습니다."
   ]
  },
  {
   "cell_type": "code",
   "execution_count": null,
   "metadata": {
    "id": "KP6zEKvC9Jxu"
   },
   "outputs": [],
   "source": [
    "# 기초 통계 정보\n",
    "print(data[['Age', 'MonthlyIncome']].describe())"
   ]
  },
  {
   "cell_type": "markdown",
   "metadata": {
    "id": "JhRnKC0L-wjG"
   },
   "source": [
    "<img src='https://raw.githubusercontent.com/jangrae/img/master/practice_01.png' width=120 align=\"left\"/>"
   ]
  },
  {
   "cell_type": "markdown",
   "metadata": {
    "id": "IOb6vqTbdtPC"
   },
   "source": [
    "[문1] 다음 경로의 파일을 읽어와 air 데이터프레임으로 저장하세요.\n",
    "\n",
    "- 파일 경로: 'https://raw.githubusercontent.com/DA4BAM/dataset/master/airquality_simple.csv'"
   ]
  },
  {
   "cell_type": "code",
   "execution_count": null,
   "metadata": {
    "id": "UmooiWmRdQUj"
   },
   "outputs": [],
   "source": [
    "# 데이터 읽어오기\n"
   ]
  },
  {
   "cell_type": "markdown",
   "metadata": {
    "id": "fdi1AhcMEqAn"
   },
   "source": [
    "[문2] 데이터프레임 관련 정보를 확인하세요."
   ]
  },
  {
   "cell_type": "code",
   "execution_count": null,
   "metadata": {
    "id": "2XqDG9RwtaXz"
   },
   "outputs": [],
   "source": [
    "# 상위 데이터 확인\n"
   ]
  },
  {
   "cell_type": "code",
   "execution_count": null,
   "metadata": {
    "id": "juWI1txLdtPE"
   },
   "outputs": [],
   "source": [
    "# 크기 확인\n"
   ]
  },
  {
   "cell_type": "code",
   "execution_count": null,
   "metadata": {
    "id": "orwZpYENdtPN"
   },
   "outputs": [],
   "source": [
    "# 열 이름 확인\n"
   ]
  },
  {
   "cell_type": "code",
   "execution_count": null,
   "metadata": {
    "id": "P1q5Hn6FdtPQ"
   },
   "outputs": [],
   "source": [
    "# 열 자료형, 값 개수 확인\n"
   ]
  },
  {
   "cell_type": "code",
   "execution_count": null,
   "metadata": {
    "id": "s7zaSvW4dtPT"
   },
   "outputs": [],
   "source": [
    "# 기초통계정보 확인\n"
   ]
  },
  {
   "cell_type": "markdown",
   "metadata": {
    "id": "7d32vCo6wxk0"
   },
   "source": [
    "### (3) 정렬해서 보기\n",
    "\n",
    "- 인덱스를 기준으로 정렬하는 방법과 특정 열을 기준으로 정렬하는 방법이 있습니다.\n",
    "- **sort_values()** 메소드로 **특정 열**을 기준으로 정렬합니다.\n",
    "- **ascending** 옵션을 설정해 오름차순, 내림차순을 설정할 수 있습니다.\n",
    "    - ascending=True: 오름차순 정렬(기본값)\n",
    "    - ascending=False: 내림차순 정렬"
   ]
  },
  {
   "cell_type": "code",
   "execution_count": null,
   "metadata": {
    "id": "b54Sod9nYnV2"
   },
   "outputs": [],
   "source": [
    "# 단일 열 정렬\n",
    "data.sort_values(by='MonthlyIncome', ascending=False)"
   ]
  },
  {
   "cell_type": "code",
   "execution_count": null,
   "metadata": {
    "id": "YSsGC3B8IJPv"
   },
   "outputs": [],
   "source": [
    "# 복합 열 정렬\n",
    "data.sort_values(by=['JobSatisfaction', 'MonthlyIncome'], ascending=[True, False])"
   ]
  },
  {
   "cell_type": "code",
   "execution_count": null,
   "metadata": {
    "id": "qWfqErFMSp1i"
   },
   "outputs": [],
   "source": [
    "# 복합 열 정렬 : 별도로 저장하고, 인덱스 reset\n",
    "temp = data.sort_values(by=['JobSatisfaction', 'MonthlyIncome'], ascending=[True, False])\n",
    "temp.reset_index(drop = True)"
   ]
  },
  {
   "cell_type": "markdown",
   "metadata": {
    "id": "mHrKYYWip4Es"
   },
   "source": [
    "<img src='https://raw.githubusercontent.com/jangrae/img/master/practice_01.png' width=120 align=\"left\"/>"
   ]
  },
  {
   "cell_type": "markdown",
   "metadata": {
    "id": "t1KA_SUBj1ke"
   },
   "source": [
    "[문1] 다음 경로의 파일을 읽어와 데이터프레임으로 저장하세요.\n",
    "\n",
    "- 파일 경로: 'https://raw.githubusercontent.com/DA4BAM/dataset/master/airquality_simple.csv'"
   ]
  },
  {
   "cell_type": "code",
   "execution_count": null,
   "metadata": {
    "id": "5MkuvtUNj1kg"
   },
   "outputs": [],
   "source": [
    "# 데이터 읽어오기\n",
    "path = 'https://raw.githubusercontent.com/DA4BAM/dataset/master/airquality_simple.csv'\n",
    "air = pd.read_csv(path)\n",
    "air.head()"
   ]
  },
  {
   "cell_type": "markdown",
   "metadata": {
    "id": "tCp5TKDdEj_J"
   },
   "source": [
    "[문2] Ozone 열을 기준으로 내림차순 정렬해서 조회하세요."
   ]
  },
  {
   "cell_type": "code",
   "execution_count": null,
   "metadata": {
    "id": "HUQb2W5DEj_K"
   },
   "outputs": [],
   "source": [
    "# 내림차순 정렬\n"
   ]
  },
  {
   "cell_type": "markdown",
   "metadata": {
    "id": "f-eJyDjygRQD"
   },
   "source": [
    "[문3] Wind 열을 기준으로 내름차순 정렬해서 상위 10개 행만 조회하세요."
   ]
  },
  {
   "cell_type": "code",
   "execution_count": null,
   "metadata": {
    "id": "07bXPrSNgRQE"
   },
   "outputs": [],
   "source": [
    "# 오름차순 정렬\n"
   ]
  },
  {
   "cell_type": "markdown",
   "metadata": {
    "id": "po7MS1EwXovc"
   },
   "source": [
    "### (4) 기본 집계\n",
    "\n",
    "- 데이터를 좀더 이해하기 위해 고유값, 합, 평균, 최댓값, 최솟값 등을 확인합니다."
   ]
  },
  {
   "cell_type": "markdown",
   "metadata": {
    "id": "DZwznq_YPFcP"
   },
   "source": [
    "#### 1) 고유값 확인\n",
    "\n",
    "- 범주형 열(열이 가진 값이 일정한 값인 경우, 성별, 등급 등)인지 확인할 때 사용합니다."
   ]
  },
  {
   "cell_type": "markdown",
   "metadata": {
    "id": "ZyrGVDBw0iwp"
   },
   "source": [
    "**① 고유값 확인**\n",
    "\n",
    "- unique() 메소드로 고유값을 확인하며, 결괏값은 배열 형태가 됩니다."
   ]
  },
  {
   "cell_type": "code",
   "execution_count": null,
   "metadata": {
    "id": "A0c6CMhbEpSX"
   },
   "outputs": [],
   "source": [
    "# MaritalStatus 열 고유값 확인\n",
    "print(data['MaritalStatus'].unique())"
   ]
  },
  {
   "cell_type": "markdown",
   "metadata": {
    "id": "EYT80NSO0H0v"
   },
   "source": [
    "**② 고유값과 개수 확인**\n",
    "\n",
    "- value_counts() 메소드로 고유값과 그 개수를 확인하며, 결괏값은 시리즈 형태가 됩니다."
   ]
  },
  {
   "cell_type": "code",
   "execution_count": null,
   "metadata": {
    "id": "-Q-y5ii8OnRp"
   },
   "outputs": [],
   "source": [
    "# MaritalStatus 열 고유값 개수 확인\n",
    "print(data['MaritalStatus'].value_counts())"
   ]
  },
  {
   "cell_type": "markdown",
   "metadata": {
    "id": "imj3o34pP5J3"
   },
   "source": [
    "#### 2) 기본 집계 메소드 사용\n",
    "\n",
    "- 데이터를 1차 집계 한 후 분석을 진행하는 경우가 많으므로 필히 알아두어야 할 내용입니다.\n",
    "- 이후에 배우는 Groupby 기능에서 같이 사용됩니다."
   ]
  },
  {
   "cell_type": "code",
   "execution_count": null,
   "metadata": {
    "id": "gCTaAoghOtFd"
   },
   "outputs": [],
   "source": [
    "# MonthlyIncome 열 합계 조회\n",
    "print(data['MonthlyIncome'].sum())"
   ]
  },
  {
   "cell_type": "code",
   "execution_count": null,
   "metadata": {
    "id": "uSatNX0BBNpe"
   },
   "outputs": [],
   "source": [
    "# MonthlyIncome 열 최댓값 조회\n",
    "print(data['MonthlyIncome'].max())"
   ]
  },
  {
   "cell_type": "code",
   "execution_count": null,
   "metadata": {
    "id": "EN1swYgLBDTI"
   },
   "outputs": [],
   "source": [
    "# 'Age', 'MonthlyIncome' 열 평균값 확인\n",
    "print(data[['Age', 'MonthlyIncome']].mean())"
   ]
  },
  {
   "cell_type": "code",
   "execution_count": null,
   "metadata": {
    "id": "7PQLVC7MIOSY"
   },
   "outputs": [],
   "source": [
    "# 'Age', 'MonthlyIncome' 열 중앙값 확인\n",
    "print(data[['Age', 'MonthlyIncome']].median())"
   ]
  },
  {
   "cell_type": "markdown",
   "metadata": {
    "id": "4-12_zGOGkYo"
   },
   "source": [
    "<img src='https://raw.githubusercontent.com/jangrae/img/master/practice_01.png' width=120 align=\"left\"/>"
   ]
  },
  {
   "cell_type": "markdown",
   "metadata": {
    "id": "cvgwoaJ3kgVl"
   },
   "source": [
    "[문1] 다음 경로의 파일을 읽어와 데이터프레임으로 저장하세요.\n",
    "\n",
    "- 파일 경로: 'https://raw.githubusercontent.com/DA4BAM/dataset/master/airquality_simple.csv'"
   ]
  },
  {
   "cell_type": "code",
   "execution_count": null,
   "metadata": {
    "id": "LIbLhK9RkgVu"
   },
   "outputs": [],
   "source": [
    "# 데이터 읽어오기\n",
    "path = 'https://raw.githubusercontent.com/DA4BAM/dataset/master/airquality_simple.csv'\n",
    "air = pd.read_csv(path)\n",
    "air.head()"
   ]
  },
  {
   "cell_type": "markdown",
   "metadata": {
    "id": "2hWEwIAJGkYv"
   },
   "source": [
    "[문2] Ozone 최댓값을 확인하세요."
   ]
  },
  {
   "cell_type": "code",
   "execution_count": null,
   "metadata": {
    "id": "sHmY3X1YGkYv"
   },
   "outputs": [],
   "source": []
  },
  {
   "cell_type": "markdown",
   "metadata": {
    "id": "4IA83NgPG4-o"
   },
   "source": [
    "[문3] Temp, Wind 최솟값을 확인하세요."
   ]
  },
  {
   "cell_type": "code",
   "execution_count": null,
   "metadata": {
    "id": "WZW4L_k3G4-p"
   },
   "outputs": [],
   "source": []
  },
  {
   "cell_type": "markdown",
   "metadata": {
    "id": "uu7-1P3RsWB8"
   },
   "source": [
    "### (5) 복습문제"
   ]
  },
  {
   "cell_type": "markdown",
   "metadata": {
    "id": "c6Xr2IPysWB9"
   },
   "source": [
    "1) pandas 라이브러리를 pd 별칭을 주어 불러오세요."
   ]
  },
  {
   "cell_type": "code",
   "execution_count": null,
   "metadata": {
    "id": "CzhifZdasWB9"
   },
   "outputs": [],
   "source": [
    "# 라이브러리 불러오기\n"
   ]
  },
  {
   "cell_type": "markdown",
   "metadata": {
    "id": "e329mGHNsWB9"
   },
   "source": [
    "2) read_csv() 함수를 사용해 다음 경로의 파일을 불러와 **titanic** 데이터프레임을 만드세요.\n",
    "\n",
    "- 파일 경로: https://raw.githubusercontent.com/DA4BAM/dataset/master/titanic_simple.csv"
   ]
  },
  {
   "cell_type": "markdown",
   "metadata": {
    "id": "klUNbob6tGKD"
   },
   "source": [
    "**[titanic_simple 데이터 셋 정보]**\n",
    "\n",
    "- PassengerId : 승객번호\n",
    "- Survived : 생존여부(1:생존, 0:사망)\n",
    "- Pclass : 객실등급(1:1등급, 2:2등급, 3:3등급)\n",
    "- Name : 승객이름\n",
    "- Sex : 성별(male, female)\n",
    "- Age : 나이\n",
    "- Fare : 운임($)\n",
    "- Embarked : 승선지역(Southhampton, Cherbourg, Queenstown)"
   ]
  },
  {
   "cell_type": "code",
   "execution_count": null,
   "metadata": {
    "id": "RWEM-ZUSsWB9"
   },
   "outputs": [],
   "source": [
    "# 파일 읽어오기\n"
   ]
  },
  {
   "cell_type": "markdown",
   "metadata": {
    "id": "CFI647PWsWB9"
   },
   "source": [
    "3) head() 메소드로 상위 10개 행 데이터를 확인하세요."
   ]
  },
  {
   "cell_type": "code",
   "execution_count": null,
   "metadata": {
    "id": "PBpQO6PzsWB-"
   },
   "outputs": [],
   "source": [
    "# 상위 10행 출력\n"
   ]
  },
  {
   "cell_type": "markdown",
   "metadata": {
    "id": "DrRIQlF7sWB-"
   },
   "source": [
    "4) shape 속성을 사용해 행과 열의 개수를 확인하세요."
   ]
  },
  {
   "cell_type": "code",
   "execution_count": null,
   "metadata": {
    "id": "Fn6x5LlHsWB-"
   },
   "outputs": [],
   "source": [
    "# 크기 확인\n"
   ]
  },
  {
   "cell_type": "markdown",
   "metadata": {
    "id": "wxxzs_HcsWB-"
   },
   "source": [
    "5) dtype 속성을 사용해 각 열의 데이터 형식을 확인하세요."
   ]
  },
  {
   "cell_type": "code",
   "execution_count": null,
   "metadata": {
    "id": "-fsQrG1TsWB-"
   },
   "outputs": [],
   "source": [
    "# 열 데이터 형식 확인\n"
   ]
  },
  {
   "cell_type": "markdown",
   "metadata": {
    "id": "Lkux-cTCsWB-"
   },
   "source": [
    "6) info() 메소드를 사용해 각 열의 값 개수와 데이터 형식 등을 한 번에 확인하세요."
   ]
  },
  {
   "cell_type": "code",
   "execution_count": null,
   "metadata": {
    "id": "yN8WykXEsWB-"
   },
   "outputs": [],
   "source": [
    "# 열 정보 확인\n"
   ]
  },
  {
   "cell_type": "markdown",
   "metadata": {
    "id": "rCoxnCtFsWB_"
   },
   "source": [
    "7) describe() 함수를 사용해 기초통계정보를 확인하세요."
   ]
  },
  {
   "cell_type": "code",
   "execution_count": null,
   "metadata": {
    "id": "sS67MQa-sWB_"
   },
   "outputs": [],
   "source": [
    "# 기초통계정보 확인\n"
   ]
  },
  {
   "cell_type": "markdown",
   "metadata": {
    "id": "o_rqR0fJsWB_"
   },
   "source": [
    "8) value_counts() 메소드를 사용해 다음 두 열의 고유값과 그 개수를 각각 \n",
    "확인하세요.\n",
    "\n",
    "- Embarked\n",
    "- Pclass"
   ]
  },
  {
   "cell_type": "code",
   "execution_count": null,
   "metadata": {
    "id": "apmaILHVsWB_"
   },
   "outputs": [],
   "source": [
    "# 고유값 개수 확인\n"
   ]
  },
  {
   "cell_type": "markdown",
   "metadata": {
    "id": "rK_BIlZKsWB_"
   },
   "source": [
    "9) Age, Fare 두 열의 최댓값을 한 번에 확인하세요."
   ]
  },
  {
   "cell_type": "code",
   "execution_count": null,
   "metadata": {
    "id": "39oOr-s3sWB_"
   },
   "outputs": [],
   "source": []
  },
  {
   "cell_type": "markdown",
   "metadata": {
    "id": "zQAnlvAwsWB_"
   },
   "source": [
    "10) Fare 열을 기준으로 내림차순 정렬해서 상위 10개를 조회하세요."
   ]
  },
  {
   "cell_type": "code",
   "execution_count": null,
   "metadata": {
    "id": "RECTWm1MsWB_"
   },
   "outputs": [],
   "source": []
  },
  {
   "cell_type": "code",
   "execution_count": null,
   "metadata": {
    "id": "aoRJdyOvtI8i"
   },
   "outputs": [],
   "source": []
  }
 ],
 "metadata": {
  "colab": {
   "provenance": [],
   "toc_visible": true
  },
  "kernelspec": {
   "display_name": "Python 3 (ipykernel)",
   "language": "python",
   "name": "python3"
  },
  "language_info": {
   "codemirror_mode": {
    "name": "ipython",
    "version": 3
   },
   "file_extension": ".py",
   "mimetype": "text/x-python",
   "name": "python",
   "nbconvert_exporter": "python",
   "pygments_lexer": "ipython3",
   "version": "3.9.13"
  }
 },
 "nbformat": 4,
 "nbformat_minor": 4
}
